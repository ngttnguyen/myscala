{
 "cells": [
  {
   "cell_type": "markdown",
   "metadata": {},
   "source": [
    "## Tóm tắt thuật toán\n",
    "1. Đầu vào: Dữ liệu X và số lượng cluster cần tìm K\n",
    "\n",
    "2. Đầu ra: Các center M  và label vector cho từng điểm dữ liệu Y\n",
    "\n",
    "3. Thuật toán\n",
    "* Bước 1: Chọn K điểm bất kỳ làm các center ban đầu.\n",
    "* Bước 2: Phân mỗi điểm dữ liệu vào cluster có center gần nó nhất.\n",
    "          Nếu việc gán dữ liệu vào từng cluster ở bước 2 không thay đổi so với vòng lặp trước nó thì ta dừng thuật toán.\n",
    "* Bước 3: Cập nhật center cho từng cluster bằng cách lấy trung bình cộng của tất các các điểm dữ liệu đã được gán vào cluster  đó sau bước 2.\n",
    "* Bước 4Quay lại bước 2.\n",
    "Chúng ta có thể đảm bảo rằng thuật toán sẽ dừng lại sau một số hữu hạn vòng lặp. Thật vậy, vì hàm mất mát là một số dương và sau mỗi bước 2 hoặc 3, giá trị của hàm mất mát bị giảm đi. Theo kiến thức về dãy số trong chương trình cấp 3: nếu một dãy số giảm và bị chặn dưới thì nó hội tụ! Hơn nữa, số lượng cách phân nhóm cho toàn bộ dữ liệu là hữu hạn nên đến một lúc nào đó, hàm mất mát sẽ không thể thay đổi, và chúng ta có thể dừng thuật toán tại đây"
   ]
  },
  {
   "cell_type": "code",
   "execution_count": 1,
   "metadata": {},
   "outputs": [],
   "source": [
    "import pandas as pd\n",
    "import numpy as np\n",
    "import matplotlib.pyplot as plt\n",
    "from IPython.display import display, HTML # dùng để hiển thị\n",
    "%matplotlib inline"
   ]
  },
  {
   "cell_type": "code",
   "execution_count": null,
   "metadata": {},
   "outputs": [],
   "source": [
    "from sklearn.datasets import make_blobs  #  dùng để tạo dữ liệu giả\n",
    "\n",
    "# (x,y)\n",
    "X,y=make_blobs(n_samples=150,         # tổng số điểm sample\n",
    "               n_features=2,          # số lượng feature(số chiều) default:2\n",
    "               centers=3,             # số lượng cluster\n",
    "               cluster_std=0.5,       # độ lệch chuẩn giữa các cluster\n",
    "               shuffle=True,          #  có trộn các sample với nhau không\n",
    "               random_state=0)  \n",
    "\n",
    "plt.scatter(X[:,0],X[:,1],c='black',marker='o',s=50)\n",
    "plt.grid()\n",
    "plt.show()"
   ]
  },
  {
   "cell_type": "code",
   "execution_count": null,
   "metadata": {},
   "outputs": [],
   "source": [
    "from sklearn.cluster import KMeans\n",
    "\n",
    "km = KMeans(n_clusters=3,            # số cluster\n",
    "            init='random',           # vị trí center của cluster  default: 'k-means++'\n",
    "            n_init=10,               # số lần chọn center của cluster default: '10'  trong số lần chọn  , sẽ chọn ra model có  SSE nhỏ nhất\n",
    "            max_iter=300,            # Tiến hành chạy k-means nhiều nhất bao nhiêu lần default: '300'\n",
    "            tol=1e-04,               # Khi tiến hành hội tụ các điểm, sai số cho phép là bao nhiêu, default: '1e-04'\n",
    "            random_state=0)\n",
    "\n",
    "y_km = km.fit_predict(X)"
   ]
  },
  {
   "cell_type": "code",
   "execution_count": null,
   "metadata": {},
   "outputs": [],
   "source": [
    "plt.scatter(X[y_km==0,0],         # hiển thị y_km（cluster）=0\n",
    "                    X[y_km==0,1],\n",
    "                    s=50,\n",
    "                    c='lightgreen',\n",
    "                    marker='s',\n",
    "                    label='cluster 1')\n",
    "plt.scatter(X[y_km==1,0], # hiển thị y_km（cluster）=1\n",
    "                    X[y_km==1,1],\n",
    "                    s=50,\n",
    "                    c='orange',\n",
    "                    marker='o',\n",
    "                    label='cluster 2')\n",
    "plt.scatter(X[y_km==2,0],# hiển thị y_km（cluster）=2\n",
    "                   X[y_km==2,1],\n",
    "                    s=50,\n",
    "                    c='lightblue',\n",
    "                    marker='v',\n",
    "                    label='cluster 3')\n",
    "plt.scatter(km.cluster_centers_[:,0],   # km.cluster_centers_ điểm trung tâm\n",
    "                    km.cluster_centers_[:,1],\n",
    "                    s=250,\n",
    "                    marker='*',\n",
    "                    c='red',\n",
    "                    label='centroids')\n",
    "plt.legend()\n",
    "plt.grid()\n",
    "plt.show()"
   ]
  },
  {
   "cell_type": "markdown",
   "metadata": {},
   "source": [
    "Có 1 lưu ý nhỏ là một model k-means được đánh giá là tốt khi giá trị SSE là nhỏ nhất. Với model trên ta có thể lấy giá trị SSE bằng cách sau:"
   ]
  },
  {
   "cell_type": "code",
   "execution_count": null,
   "metadata": {},
   "outputs": [],
   "source": [
    "print ('Distortion: %.2f'% km.inertia_)"
   ]
  },
  {
   "cell_type": "markdown",
   "metadata": {},
   "source": [
    "## Hạn chế\n",
    "\n",
    "1. Chúng ta cần biết số lượng cluster cần clustering --> Elbow method\n",
    "Để ý thấy rằng trong thuật toán nêu trên, chúng ta cần biết đại lượng K\n",
    " là số lượng clusters. Trong thực tế, nhiều trường hợp chúng ta không xác định được giá trị này. Có một số phương pháp giúp xác định số lượng clusters, tôi sẽ dành thời gian nói về chúng sau nếu có dịp. Bạn đọc có thể tham khảo Elbow method - Determining the number of clusters in a data set.\n",
    "\n",
    "2. Nghiệm cuối cùng phụ thuộc vào các centers được khởi tạo ban đầu\n",
    "Tùy vào các center ban đầu mà thuật toán có thể có tốc độ hội tụ rất chậm. Có một vài cách khắc phục đó là:\n",
    "\n",
    "    * Chạy K-means clustering nhiều lần với các center ban đầu khác nhau rồi chọn cách có hàm mất mát cuối cùng đạt giá trị nhỏ nhất.\n",
    "\n",
    "    * K-means++ -Improve initialization algorithm - wiki.\n",
    "\n",
    "3. Các cluster cần có só lượng điểm gần bằng nhau\n",
    "\n",
    "4. Các cluster cần có dạng hình tròn\n",
    "Tức các cluster tuân theo phân phối chuẩn và ma trận hiệp phương sai là ma trận đường chéo có các điểm trên đường chéo giống nhau.\n",
    "\n",
    "5. Khi một cluster nằm phía trong 1 cluster khác\n",
    "Đây là ví dụ kinh điển về việc K-means clustering không thể phân cụm dữ liệu. Một cách tự nhiên, chúng ta sẽ phân ra thành 4 cụm: mắt trái, mắt phải, miệng, xunh quanh mặt. Nhưng vì mắt và miệng nằm trong khuôn mặt nên K-means clustering không thực hiện được:\n"
   ]
  },
  {
   "cell_type": "code",
   "execution_count": null,
   "metadata": {},
   "outputs": [],
   "source": []
  }
 ],
 "metadata": {
  "kernelspec": {
   "display_name": "Python 3",
   "language": "python",
   "name": "python3"
  },
  "language_info": {
   "codemirror_mode": {
    "name": "ipython",
    "version": 3
   },
   "file_extension": ".py",
   "mimetype": "text/x-python",
   "name": "python",
   "nbconvert_exporter": "python",
   "pygments_lexer": "ipython3",
   "version": "3.8.5"
  }
 },
 "nbformat": 4,
 "nbformat_minor": 4
}
