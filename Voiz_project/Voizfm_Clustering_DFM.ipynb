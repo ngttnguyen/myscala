{
 "cells": [
  {
   "cell_type": "code",
   "execution_count": 1,
   "metadata": {},
   "outputs": [],
   "source": [
    "import pandas as pd\n",
    "import numpy as np\n",
    "from matplotlib import pyplot as plt\n",
    "import seaborn as sns\n",
    "\n",
    "from datetime import date\n",
    "from datetime import time\n",
    "from sklearn.cluster import KMeans"
   ]
  },
  {
   "cell_type": "code",
   "execution_count": 2,
   "metadata": {},
   "outputs": [],
   "source": [
    "order_detail_df = pd.read_excel(\"data/order.xlsx\", parse_dates = ['Ngày phát sinh'])\n",
    "user_df = pd.read_excel(\"data/user.xlsx\")\n",
    "listening_detail_df = pd.read_excel(\"data/listening.xlsx\")\n",
    "usage_df = pd.read_excel(\"data/Usage.xlsx\") "
   ]
  },
  {
   "cell_type": "markdown",
   "metadata": {},
   "source": [
    "#### Chuyển kiểu dữ liệu"
   ]
  },
  {
   "cell_type": "code",
   "execution_count": 6,
   "metadata": {},
   "outputs": [],
   "source": [
    "# Chuyển User_ID và Order_ID, Playlist ID sang category\n",
    "order_detail_df['Order ID'] = order_detail_df['Order ID'].astype('category')\n",
    "order_detail_df['ID của user'] = order_detail_df['ID của user'].astype('category')\n",
    "\n",
    "user_df['User ID'] = user_df['User ID'].astype('category')\n",
    "\n",
    "listening_detail_df['Playlist ID']=listening_detail_df['Playlist ID'].astype('category')\n",
    "listening_detail_df['User ID']=listening_detail_df['User ID'].astype('category')\n",
    "\n",
    "# usage_df['User ID']=usage_df['User ID'].astype('category')\n"
   ]
  },
  {
   "cell_type": "code",
   "execution_count": 7,
   "metadata": {},
   "outputs": [
    {
     "ename": "AttributeError",
     "evalue": "'Timestamp' object has no attribute 'split'",
     "output_type": "error",
     "traceback": [
      "\u001b[1;31m---------------------------------------------------------------------------\u001b[0m",
      "\u001b[1;31mAttributeError\u001b[0m                            Traceback (most recent call last)",
      "\u001b[1;32m<ipython-input-7-22926da6f776>\u001b[0m in \u001b[0;36m<module>\u001b[1;34m\u001b[0m\n\u001b[0;32m      1\u001b[0m \u001b[1;31m# Chuyển Ngày phát sinh lượt nghe sang kiểu dữ liệu date\u001b[0m\u001b[1;33m\u001b[0m\u001b[1;33m\u001b[0m\u001b[1;33m\u001b[0m\u001b[0m\n\u001b[1;32m----> 2\u001b[1;33m listening_detail_df[\"Ngày phát sinh lượt nghe\"] = listening_detail_df[\"Ngày phát sinh lượt nghe\"].map(\n\u001b[0m\u001b[0;32m      3\u001b[0m                                         lambda x:date(int(x.split(\"-\")[2]),int(x.split(\"-\")[1]),int(x.split(\"-\")[0])))\n\u001b[0;32m      4\u001b[0m \u001b[0mlistening_detail_df\u001b[0m\u001b[1;33m[\u001b[0m\u001b[1;34m\"Ngày phát sinh lượt nghe\"\u001b[0m\u001b[1;33m]\u001b[0m \u001b[1;33m=\u001b[0m \u001b[0mlistening_detail_df\u001b[0m\u001b[1;33m[\u001b[0m\u001b[1;34m\"Ngày phát sinh lượt nghe\"\u001b[0m\u001b[1;33m]\u001b[0m\u001b[1;33m.\u001b[0m\u001b[0mastype\u001b[0m\u001b[1;33m(\u001b[0m\u001b[1;34m\"datetime64\"\u001b[0m\u001b[1;33m)\u001b[0m\u001b[1;33m\u001b[0m\u001b[1;33m\u001b[0m\u001b[0m\n",
      "\u001b[1;32mC:\\ProgramData\\Anaconda3\\lib\\site-packages\\pandas\\core\\series.py\u001b[0m in \u001b[0;36mmap\u001b[1;34m(self, arg, na_action)\u001b[0m\n\u001b[0;32m   3968\u001b[0m         \u001b[0mdtype\u001b[0m\u001b[1;33m:\u001b[0m \u001b[0mobject\u001b[0m\u001b[1;33m\u001b[0m\u001b[1;33m\u001b[0m\u001b[0m\n\u001b[0;32m   3969\u001b[0m         \"\"\"\n\u001b[1;32m-> 3970\u001b[1;33m         \u001b[0mnew_values\u001b[0m \u001b[1;33m=\u001b[0m \u001b[0msuper\u001b[0m\u001b[1;33m(\u001b[0m\u001b[1;33m)\u001b[0m\u001b[1;33m.\u001b[0m\u001b[0m_map_values\u001b[0m\u001b[1;33m(\u001b[0m\u001b[0marg\u001b[0m\u001b[1;33m,\u001b[0m \u001b[0mna_action\u001b[0m\u001b[1;33m=\u001b[0m\u001b[0mna_action\u001b[0m\u001b[1;33m)\u001b[0m\u001b[1;33m\u001b[0m\u001b[1;33m\u001b[0m\u001b[0m\n\u001b[0m\u001b[0;32m   3971\u001b[0m         return self._constructor(new_values, index=self.index).__finalize__(\n\u001b[0;32m   3972\u001b[0m             \u001b[0mself\u001b[0m\u001b[1;33m,\u001b[0m \u001b[0mmethod\u001b[0m\u001b[1;33m=\u001b[0m\u001b[1;34m\"map\"\u001b[0m\u001b[1;33m\u001b[0m\u001b[1;33m\u001b[0m\u001b[0m\n",
      "\u001b[1;32mC:\\ProgramData\\Anaconda3\\lib\\site-packages\\pandas\\core\\base.py\u001b[0m in \u001b[0;36m_map_values\u001b[1;34m(self, mapper, na_action)\u001b[0m\n\u001b[0;32m   1158\u001b[0m \u001b[1;33m\u001b[0m\u001b[0m\n\u001b[0;32m   1159\u001b[0m         \u001b[1;31m# mapper is a function\u001b[0m\u001b[1;33m\u001b[0m\u001b[1;33m\u001b[0m\u001b[1;33m\u001b[0m\u001b[0m\n\u001b[1;32m-> 1160\u001b[1;33m         \u001b[0mnew_values\u001b[0m \u001b[1;33m=\u001b[0m \u001b[0mmap_f\u001b[0m\u001b[1;33m(\u001b[0m\u001b[0mvalues\u001b[0m\u001b[1;33m,\u001b[0m \u001b[0mmapper\u001b[0m\u001b[1;33m)\u001b[0m\u001b[1;33m\u001b[0m\u001b[1;33m\u001b[0m\u001b[0m\n\u001b[0m\u001b[0;32m   1161\u001b[0m \u001b[1;33m\u001b[0m\u001b[0m\n\u001b[0;32m   1162\u001b[0m         \u001b[1;32mreturn\u001b[0m \u001b[0mnew_values\u001b[0m\u001b[1;33m\u001b[0m\u001b[1;33m\u001b[0m\u001b[0m\n",
      "\u001b[1;32mpandas\\_libs\\lib.pyx\u001b[0m in \u001b[0;36mpandas._libs.lib.map_infer\u001b[1;34m()\u001b[0m\n",
      "\u001b[1;32m<ipython-input-7-22926da6f776>\u001b[0m in \u001b[0;36m<lambda>\u001b[1;34m(x)\u001b[0m\n\u001b[0;32m      1\u001b[0m \u001b[1;31m# Chuyển Ngày phát sinh lượt nghe sang kiểu dữ liệu date\u001b[0m\u001b[1;33m\u001b[0m\u001b[1;33m\u001b[0m\u001b[1;33m\u001b[0m\u001b[0m\n\u001b[0;32m      2\u001b[0m listening_detail_df[\"Ngày phát sinh lượt nghe\"] = listening_detail_df[\"Ngày phát sinh lượt nghe\"].map(\n\u001b[1;32m----> 3\u001b[1;33m                                         lambda x:date(int(x.split(\"-\")[2]),int(x.split(\"-\")[1]),int(x.split(\"-\")[0])))\n\u001b[0m\u001b[0;32m      4\u001b[0m \u001b[0mlistening_detail_df\u001b[0m\u001b[1;33m[\u001b[0m\u001b[1;34m\"Ngày phát sinh lượt nghe\"\u001b[0m\u001b[1;33m]\u001b[0m \u001b[1;33m=\u001b[0m \u001b[0mlistening_detail_df\u001b[0m\u001b[1;33m[\u001b[0m\u001b[1;34m\"Ngày phát sinh lượt nghe\"\u001b[0m\u001b[1;33m]\u001b[0m\u001b[1;33m.\u001b[0m\u001b[0mastype\u001b[0m\u001b[1;33m(\u001b[0m\u001b[1;34m\"datetime64\"\u001b[0m\u001b[1;33m)\u001b[0m\u001b[1;33m\u001b[0m\u001b[1;33m\u001b[0m\u001b[0m\n",
      "\u001b[1;31mAttributeError\u001b[0m: 'Timestamp' object has no attribute 'split'"
     ]
    }
   ],
   "source": [
    "# Chuyển Ngày phát sinh lượt nghe sang kiểu dữ liệu date\n",
    "listening_detail_df[\"Ngày phát sinh lượt nghe\"] = listening_detail_df[\"Ngày phát sinh lượt nghe\"].map(\n",
    "                                        lambda x:date(int(x.split(\"-\")[2]),int(x.split(\"-\")[1]),int(x.split(\"-\")[0])))\n",
    "listening_detail_df[\"Ngày phát sinh lượt nghe\"] = listening_detail_df[\"Ngày phát sinh lượt nghe\"].astype(\"datetime64\")\n"
   ]
  },
  {
   "cell_type": "code",
   "execution_count": 68,
   "metadata": {},
   "outputs": [],
   "source": [
    "# listening_detail_df.to_csv(\"data/pre_listening.csv\")"
   ]
  },
  {
   "cell_type": "code",
   "execution_count": 9,
   "metadata": {},
   "outputs": [],
   "source": [
    "# listening_detail_df.describe(include = 'all')"
   ]
  },
  {
   "cell_type": "code",
   "execution_count": 10,
   "metadata": {},
   "outputs": [],
   "source": [
    "# order_detail_df.describe(include = 'all')"
   ]
  },
  {
   "cell_type": "code",
   "execution_count": 11,
   "metadata": {},
   "outputs": [],
   "source": [
    "# user_df.describe(include = 'all')"
   ]
  },
  {
   "cell_type": "markdown",
   "metadata": {},
   "source": [
    "#### Khảo sát về sự consistence của các USER_ID trong các file"
   ]
  },
  {
   "cell_type": "code",
   "execution_count": 151,
   "metadata": {},
   "outputs": [],
   "source": [
    "order_userID = order_detail_df['ID của user'].unique()\n",
    "userID = user_df['User ID'].unique()\n",
    "listen_userID = listening_detail_df['User ID'].unique()\n",
    "\n",
    "\n",
    "user_cnt = len(userID)\n",
    "order_user_cnt = len(order_userID)\n",
    "listen_user_cnt = len(listen_userID)\n",
    "\n",
    "order_nolisten_cnt = len([item for item in order_userID if item  not in listen_userID])\n",
    "listen_noorder_cnt = len([item for item in listen_userID if item  not in order_userID])\n",
    "order_listen_cnt = len([item for item in listen_userID if item  in order_userID])\n",
    "\n",
    "\n",
    "user_stat_dict = {\"user_cnt\":user_cnt,\n",
    "                \"order_user_cnt\": order_user_cnt,\n",
    "                \"listen_user_cnt\": listen_user_cnt      \n",
    "                }\n",
    "\n",
    "order_listen_stat_dict = {\"order_listen_cnt\":order_listen_cnt,\n",
    "                \"order_nolisten_cnt\": order_nolisten_cnt,\n",
    "                \"listen_noorder_cnt\": listen_noorder_cnt      \n",
    "                }"
   ]
  },
  {
   "cell_type": "code",
   "execution_count": 152,
   "metadata": {},
   "outputs": [
    {
     "data": {
      "text/plain": [
       "Text(0.5, 1.0, 'The percentage of users in orders')"
      ]
     },
     "execution_count": 152,
     "metadata": {},
     "output_type": "execute_result"
    },
    {
     "data": {
      "image/png": "[encoded data removed]",
      "text/plain": [
       "<Figure size 432x288 with 1 Axes>"
      ]
     },
     "metadata": {},
     "output_type": "display_data"
    }
   ],
   "source": [
    "data = [order_user_cnt,user_cnt - order_user_cnt]\n",
    "label = [\"order_user_cnt\",\"noorder_user_cnt\"]\n",
    "plt.pie(x= data , autopct=\"%.1f%%\", explode=[0.05]*len(data),labels=label);\n",
    "plt.title(\"The percentage of users in orders\")"
   ]
  },
  {
   "cell_type": "code",
   "execution_count": 153,
   "metadata": {},
   "outputs": [
    {
     "data": {
      "text/plain": [
       "Text(0.5, 1.0, 'The percentage of users in listening')"
      ]
     },
     "execution_count": 153,
     "metadata": {},
     "output_type": "execute_result"
    },
    {
     "data": {
      "image/png": "[encoded data removed]",
      "text/plain": [
       "<Figure size 432x288 with 1 Axes>"
      ]
     },
     "metadata": {},
     "output_type": "display_data"
    }
   ],
   "source": [
    "data = [listen_user_cnt,user_cnt - listen_user_cnt]\n",
    "label = [\"listen_user_cnt\",\"nolisten_user_cnt\"]\n",
    "plt.pie(x= data , autopct=\"%.1f%%\", explode=[0.05]*len(data),labels=label);\n",
    "plt.title(\"The percentage of users in listening\")"
   ]
  },
  {
   "cell_type": "code",
   "execution_count": 154,
   "metadata": {},
   "outputs": [
    {
     "data": {
      "text/plain": [
       "Text(0.5, 1.0, 'The percentage of users in orders and listening')"
      ]
     },
     "execution_count": 154,
     "metadata": {},
     "output_type": "execute_result"
    },
    {
     "data": {
      "image/png": "[encoded data removed]",
      "text/plain": [
       "<Figure size 432x288 with 1 Axes>"
      ]
     },
     "metadata": {},
     "output_type": "display_data"
    }
   ],
   "source": [
    "data = order_listen_stat_dict.values()\n",
    "label = order_listen_stat_dict.keys()\n",
    "plt.pie(x= data , autopct=\"%.1f%%\", explode=[0.05]*len(data),labels=label);\n",
    "plt.title(\"The percentage of users in orders and listening\")"
   ]
  },
  {
   "cell_type": "markdown",
   "metadata": {},
   "source": [
    "##### Xem những người có order mà ko listen hay mua gì"
   ]
  },
  {
   "cell_type": "code",
   "execution_count": 155,
   "metadata": {},
   "outputs": [
    {
     "data": {
      "text/plain": [
       "9K     118\n",
       "VIP    115\n",
       "XU      97\n",
       "Name: Loại hoá đơn (9k/Xu/VIP), dtype: int64"
      ]
     },
     "execution_count": 155,
     "metadata": {},
     "output_type": "execute_result"
    }
   ],
   "source": [
    "listen_not_in_order_user_df = order_detail_df[~order_detail_df['ID của user'].isin(listening_detail_df['User ID'])]\n",
    "listen_not_in_order_user_df[\"Loại hoá đơn (9k/Xu/VIP)\"].value_counts()"
   ]
  },
  {
   "cell_type": "markdown",
   "metadata": {},
   "source": [
    "## Xét ORDERs"
   ]
  },
  {
   "cell_type": "code",
   "execution_count": 156,
   "metadata": {},
   "outputs": [
    {
     "data": {
      "text/html": [
       "<div>\n",
       "<style scoped>\n",
       "    .dataframe tbody tr th:only-of-type {\n",
       "        vertical-align: middle;\n",
       "    }\n",
       "\n",
       "    .dataframe tbody tr th {\n",
       "        vertical-align: top;\n",
       "    }\n",
       "\n",
       "    .dataframe thead th {\n",
       "        text-align: right;\n",
       "    }\n",
       "</style>\n",
       "<table border=\"1\" class=\"dataframe\">\n",
       "  <thead>\n",
       "    <tr style=\"text-align: right;\">\n",
       "      <th></th>\n",
       "      <th>Order ID</th>\n",
       "      <th>Ngày phát sinh</th>\n",
       "      <th>ID của user</th>\n",
       "      <th>Loại hoá đơn (9k/Xu/VIP)</th>\n",
       "      <th>Giá trị hoá đơn</th>\n",
       "    </tr>\n",
       "  </thead>\n",
       "  <tbody>\n",
       "    <tr>\n",
       "      <th>0</th>\n",
       "      <td>6706</td>\n",
       "      <td>2020-08-16</td>\n",
       "      <td>44822</td>\n",
       "      <td>VIP</td>\n",
       "      <td>199000</td>\n",
       "    </tr>\n",
       "    <tr>\n",
       "      <th>1</th>\n",
       "      <td>6998</td>\n",
       "      <td>2020-08-23</td>\n",
       "      <td>47128</td>\n",
       "      <td>VIP</td>\n",
       "      <td>199000</td>\n",
       "    </tr>\n",
       "    <tr>\n",
       "      <th>2</th>\n",
       "      <td>6927</td>\n",
       "      <td>2020-08-21</td>\n",
       "      <td>47134</td>\n",
       "      <td>VIP</td>\n",
       "      <td>199000</td>\n",
       "    </tr>\n",
       "  </tbody>\n",
       "</table>\n",
       "</div>"
      ],
      "text/plain": [
       "  Order ID Ngày phát sinh ID của user Loại hoá đơn (9k/Xu/VIP)  \\\n",
       "0     6706     2020-08-16       44822                      VIP   \n",
       "1     6998     2020-08-23       47128                      VIP   \n",
       "2     6927     2020-08-21       47134                      VIP   \n",
       "\n",
       "   Giá trị hoá đơn  \n",
       "0           199000  \n",
       "1           199000  \n",
       "2           199000  "
      ]
     },
     "execution_count": 156,
     "metadata": {},
     "output_type": "execute_result"
    }
   ],
   "source": [
    "order_detail_df.head(3)"
   ]
  },
  {
   "cell_type": "code",
   "execution_count": 8,
   "metadata": {},
   "outputs": [
    {
     "data": {
      "text/html": [
       "<div>\n",
       "<style scoped>\n",
       "    .dataframe tbody tr th:only-of-type {\n",
       "        vertical-align: middle;\n",
       "    }\n",
       "\n",
       "    .dataframe tbody tr th {\n",
       "        vertical-align: top;\n",
       "    }\n",
       "\n",
       "    .dataframe thead th {\n",
       "        text-align: right;\n",
       "    }\n",
       "</style>\n",
       "<table border=\"1\" class=\"dataframe\">\n",
       "  <thead>\n",
       "    <tr style=\"text-align: right;\">\n",
       "      <th></th>\n",
       "      <th>Order ID</th>\n",
       "      <th>Ngày phát sinh</th>\n",
       "      <th>ID của user</th>\n",
       "      <th>Loại hoá đơn (9k/Xu/VIP)</th>\n",
       "      <th>Giá trị hoá đơn</th>\n",
       "      <th>order_year</th>\n",
       "      <th>order_month</th>\n",
       "      <th>order_day</th>\n",
       "      <th>order_weekday</th>\n",
       "    </tr>\n",
       "  </thead>\n",
       "  <tbody>\n",
       "    <tr>\n",
       "      <th>0</th>\n",
       "      <td>6706</td>\n",
       "      <td>2020-08-16</td>\n",
       "      <td>44822</td>\n",
       "      <td>VIP</td>\n",
       "      <td>199000</td>\n",
       "      <td>2020</td>\n",
       "      <td>08</td>\n",
       "      <td>16</td>\n",
       "      <td>Sunday</td>\n",
       "    </tr>\n",
       "    <tr>\n",
       "      <th>1</th>\n",
       "      <td>6998</td>\n",
       "      <td>2020-08-23</td>\n",
       "      <td>47128</td>\n",
       "      <td>VIP</td>\n",
       "      <td>199000</td>\n",
       "      <td>2020</td>\n",
       "      <td>08</td>\n",
       "      <td>23</td>\n",
       "      <td>Sunday</td>\n",
       "    </tr>\n",
       "    <tr>\n",
       "      <th>2</th>\n",
       "      <td>6927</td>\n",
       "      <td>2020-08-21</td>\n",
       "      <td>47134</td>\n",
       "      <td>VIP</td>\n",
       "      <td>199000</td>\n",
       "      <td>2020</td>\n",
       "      <td>08</td>\n",
       "      <td>21</td>\n",
       "      <td>Friday</td>\n",
       "    </tr>\n",
       "  </tbody>\n",
       "</table>\n",
       "</div>"
      ],
      "text/plain": [
       "  Order ID Ngày phát sinh ID của user Loại hoá đơn (9k/Xu/VIP)  \\\n",
       "0     6706     2020-08-16       44822                      VIP   \n",
       "1     6998     2020-08-23       47128                      VIP   \n",
       "2     6927     2020-08-21       47134                      VIP   \n",
       "\n",
       "   Giá trị hoá đơn order_year order_month order_day order_weekday  \n",
       "0           199000       2020          08        16        Sunday  \n",
       "1           199000       2020          08        23        Sunday  \n",
       "2           199000       2020          08        21        Friday  "
      ]
     },
     "execution_count": 8,
     "metadata": {},
     "output_type": "execute_result"
    }
   ],
   "source": [
    "##### Cắt nhỏ giá trị order_date\n",
    "\n",
    "order_detail_df['order_year'] = order_detail_df['Ngày phát sinh'].map(lambda x: x.strftime('%Y'))\n",
    "order_detail_df['order_month'] = order_detail_df['Ngày phát sinh'].map(lambda x: x.strftime('%m'))\n",
    "order_detail_df['order_day'] = order_detail_df['Ngày phát sinh'].map(lambda x: x.strftime('%d'))\n",
    "order_detail_df['order_weekday'] = order_detail_df['Ngày phát sinh'].map(lambda x: x.strftime('%A'))\n",
    "order_detail_df.head(3)"
   ]
  },
  {
   "cell_type": "markdown",
   "metadata": {},
   "source": [
    "## Xét Listenings"
   ]
  },
  {
   "cell_type": "code",
   "execution_count": 158,
   "metadata": {},
   "outputs": [
    {
     "data": {
      "text/html": [
       "<div>\n",
       "<style scoped>\n",
       "    .dataframe tbody tr th:only-of-type {\n",
       "        vertical-align: middle;\n",
       "    }\n",
       "\n",
       "    .dataframe tbody tr th {\n",
       "        vertical-align: top;\n",
       "    }\n",
       "\n",
       "    .dataframe thead th {\n",
       "        text-align: right;\n",
       "    }\n",
       "</style>\n",
       "<table border=\"1\" class=\"dataframe\">\n",
       "  <thead>\n",
       "    <tr style=\"text-align: right;\">\n",
       "      <th></th>\n",
       "      <th>Playlist ID</th>\n",
       "      <th>Tên playlist</th>\n",
       "      <th>Category tầng 1 của playlist</th>\n",
       "      <th>Category tầng 2 của playlist</th>\n",
       "      <th>Playlist là Free hay VIP</th>\n",
       "      <th>Thời lượng của playlist (phút)</th>\n",
       "      <th>Thời lượng của lượt nghe (phút)</th>\n",
       "      <th>User ID</th>\n",
       "      <th>Giờ phát sinh lượt nghe</th>\n",
       "      <th>Ngày phát sinh lượt nghe</th>\n",
       "    </tr>\n",
       "  </thead>\n",
       "  <tbody>\n",
       "    <tr>\n",
       "      <th>0</th>\n",
       "      <td>4529</td>\n",
       "      <td>Dạy Tiếng Anh Cho Trẻ Mầm Non</td>\n",
       "      <td>Podcast</td>\n",
       "      <td>Học ngoại ngữ</td>\n",
       "      <td>free</td>\n",
       "      <td>44.9</td>\n",
       "      <td>0.1</td>\n",
       "      <td>82846</td>\n",
       "      <td>06:05</td>\n",
       "      <td>2020-12-03</td>\n",
       "    </tr>\n",
       "    <tr>\n",
       "      <th>1</th>\n",
       "      <td>4577</td>\n",
       "      <td>Tư Duy Tích Cực - Bạn Là Những Gì Bạn Nghĩ (Nh...</td>\n",
       "      <td>Sách nói</td>\n",
       "      <td>Hạnh phúc</td>\n",
       "      <td>vip</td>\n",
       "      <td>79.8</td>\n",
       "      <td>15.9</td>\n",
       "      <td>56112</td>\n",
       "      <td>12:49</td>\n",
       "      <td>2020-10-30</td>\n",
       "    </tr>\n",
       "    <tr>\n",
       "      <th>2</th>\n",
       "      <td>4169</td>\n",
       "      <td>50 thiên thần của bạn: Giải phóng bản thân khỏ...</td>\n",
       "      <td>Sách nói</td>\n",
       "      <td>Tâm linh</td>\n",
       "      <td>vip</td>\n",
       "      <td>324.8</td>\n",
       "      <td>6.8</td>\n",
       "      <td>94362</td>\n",
       "      <td>00:17</td>\n",
       "      <td>2020-12-15</td>\n",
       "    </tr>\n",
       "  </tbody>\n",
       "</table>\n",
       "</div>"
      ],
      "text/plain": [
       "  Playlist ID                                       Tên playlist  \\\n",
       "0        4529                      Dạy Tiếng Anh Cho Trẻ Mầm Non   \n",
       "1        4577  Tư Duy Tích Cực - Bạn Là Những Gì Bạn Nghĩ (Nh...   \n",
       "2        4169  50 thiên thần của bạn: Giải phóng bản thân khỏ...   \n",
       "\n",
       "  Category tầng 1 của playlist Category tầng 2 của playlist  \\\n",
       "0                      Podcast                Học ngoại ngữ   \n",
       "1                     Sách nói                    Hạnh phúc   \n",
       "2                     Sách nói                     Tâm linh   \n",
       "\n",
       "  Playlist là Free hay VIP  Thời lượng của playlist (phút)  \\\n",
       "0                     free                            44.9   \n",
       "1                      vip                            79.8   \n",
       "2                      vip                           324.8   \n",
       "\n",
       "   Thời lượng của lượt nghe (phút) User ID Giờ phát sinh lượt nghe  \\\n",
       "0                              0.1   82846                   06:05   \n",
       "1                             15.9   56112                   12:49   \n",
       "2                              6.8   94362                   00:17   \n",
       "\n",
       "  Ngày phát sinh lượt nghe  \n",
       "0               2020-12-03  \n",
       "1               2020-10-30  \n",
       "2               2020-12-15  "
      ]
     },
     "execution_count": 158,
     "metadata": {},
     "output_type": "execute_result"
    }
   ],
   "source": [
    "listening_detail_df.head(3)"
   ]
  },
  {
   "cell_type": "markdown",
   "metadata": {},
   "source": [
    "## Summary Listenings and Orders"
   ]
  },
  {
   "cell_type": "code",
   "execution_count": null,
   "metadata": {},
   "outputs": [],
   "source": [
    "## Tạo order_summary_df và listening_summary_df để chứa dữ liệu thống kê về orders và listenings\n",
    "## Tạo user_cluster_df để chứa dữ liệu về user_cluster"
   ]
  },
  {
   "cell_type": "code",
   "execution_count": 9,
   "metadata": {},
   "outputs": [
    {
     "data": {
      "text/html": [
       "<div>\n",
       "<style scoped>\n",
       "    .dataframe tbody tr th:only-of-type {\n",
       "        vertical-align: middle;\n",
       "    }\n",
       "\n",
       "    .dataframe tbody tr th {\n",
       "        vertical-align: top;\n",
       "    }\n",
       "\n",
       "    .dataframe thead th {\n",
       "        text-align: right;\n",
       "    }\n",
       "</style>\n",
       "<table border=\"1\" class=\"dataframe\">\n",
       "  <thead>\n",
       "    <tr style=\"text-align: right;\">\n",
       "      <th></th>\n",
       "      <th>User_ID</th>\n",
       "      <th>min_purchase_date</th>\n",
       "      <th>max_purchase_date</th>\n",
       "      <th>order_cnt</th>\n",
       "      <th>revenue</th>\n",
       "    </tr>\n",
       "  </thead>\n",
       "  <tbody>\n",
       "    <tr>\n",
       "      <th>0</th>\n",
       "      <td>40843</td>\n",
       "      <td>2020-09-15</td>\n",
       "      <td>2020-10-21</td>\n",
       "      <td>3</td>\n",
       "      <td>27000</td>\n",
       "    </tr>\n",
       "    <tr>\n",
       "      <th>1</th>\n",
       "      <td>40861</td>\n",
       "      <td>2020-09-09</td>\n",
       "      <td>2020-09-09</td>\n",
       "      <td>1</td>\n",
       "      <td>199000</td>\n",
       "    </tr>\n",
       "    <tr>\n",
       "      <th>2</th>\n",
       "      <td>41003</td>\n",
       "      <td>2020-10-27</td>\n",
       "      <td>2020-10-27</td>\n",
       "      <td>1</td>\n",
       "      <td>599000</td>\n",
       "    </tr>\n",
       "  </tbody>\n",
       "</table>\n",
       "</div>"
      ],
      "text/plain": [
       "  User_ID min_purchase_date max_purchase_date  order_cnt  revenue\n",
       "0   40843        2020-09-15        2020-10-21          3    27000\n",
       "1   40861        2020-09-09        2020-09-09          1   199000\n",
       "2   41003        2020-10-27        2020-10-27          1   599000"
      ]
     },
     "execution_count": 9,
     "metadata": {},
     "output_type": "execute_result"
    }
   ],
   "source": [
    "order_summary_df = order_detail_df.groupby('ID của user').agg(\n",
    "                    {'Ngày phát sinh': ['min', 'max', 'count'],\n",
    "                     'Giá trị hoá đơn': 'sum',\n",
    "                    }\n",
    "                    ).reset_index()\n",
    "order_summary_df.columns = ['User_ID','min_purchase_date','max_purchase_date','order_cnt','revenue']\n",
    "\n",
    "order_summary_df.head(3)"
   ]
  },
  {
   "cell_type": "code",
   "execution_count": 10,
   "metadata": {
    "scrolled": true
   },
   "outputs": [
    {
     "data": {
      "text/html": [
       "<div>\n",
       "<style scoped>\n",
       "    .dataframe tbody tr th:only-of-type {\n",
       "        vertical-align: middle;\n",
       "    }\n",
       "\n",
       "    .dataframe tbody tr th {\n",
       "        vertical-align: top;\n",
       "    }\n",
       "\n",
       "    .dataframe thead th {\n",
       "        text-align: right;\n",
       "    }\n",
       "</style>\n",
       "<table border=\"1\" class=\"dataframe\">\n",
       "  <thead>\n",
       "    <tr style=\"text-align: right;\">\n",
       "      <th></th>\n",
       "      <th>User_ID</th>\n",
       "      <th>first_listen_date</th>\n",
       "      <th>last_listen_date</th>\n",
       "      <th>avg_duration_per_listen</th>\n",
       "      <th>std_avg_duration_per_listen</th>\n",
       "      <th>listen_cnt</th>\n",
       "      <th>total_listen_minute</th>\n",
       "    </tr>\n",
       "  </thead>\n",
       "  <tbody>\n",
       "    <tr>\n",
       "      <th>0</th>\n",
       "      <td>40834</td>\n",
       "      <td>2020-07-08</td>\n",
       "      <td>2020-07-08</td>\n",
       "      <td>4.350000</td>\n",
       "      <td>6.010408</td>\n",
       "      <td>2</td>\n",
       "      <td>8.7</td>\n",
       "    </tr>\n",
       "    <tr>\n",
       "      <th>1</th>\n",
       "      <td>40835</td>\n",
       "      <td>2020-09-02</td>\n",
       "      <td>2020-10-07</td>\n",
       "      <td>13.760000</td>\n",
       "      <td>11.251578</td>\n",
       "      <td>5</td>\n",
       "      <td>68.8</td>\n",
       "    </tr>\n",
       "    <tr>\n",
       "      <th>2</th>\n",
       "      <td>40839</td>\n",
       "      <td>2020-07-21</td>\n",
       "      <td>2020-10-11</td>\n",
       "      <td>18.408333</td>\n",
       "      <td>12.992909</td>\n",
       "      <td>60</td>\n",
       "      <td>1104.5</td>\n",
       "    </tr>\n",
       "  </tbody>\n",
       "</table>\n",
       "</div>"
      ],
      "text/plain": [
       "  User_ID first_listen_date last_listen_date  avg_duration_per_listen  \\\n",
       "0   40834        2020-07-08       2020-07-08                 4.350000   \n",
       "1   40835        2020-09-02       2020-10-07                13.760000   \n",
       "2   40839        2020-07-21       2020-10-11                18.408333   \n",
       "\n",
       "   std_avg_duration_per_listen  listen_cnt  total_listen_minute  \n",
       "0                     6.010408           2                  8.7  \n",
       "1                    11.251578           5                 68.8  \n",
       "2                    12.992909          60               1104.5  "
      ]
     },
     "execution_count": 10,
     "metadata": {},
     "output_type": "execute_result"
    }
   ],
   "source": [
    "listening_summary_df = listening_detail_df.groupby('User ID').agg(\n",
    "                    {\"Ngày phát sinh lượt nghe\":['min','max'],\n",
    "                     \"Thời lượng của lượt nghe (phút)\":[\"mean\",\"std\",'count','sum']\n",
    "                    }\n",
    "                ).reset_index()\n",
    "listening_summary_df.columns = ['User_ID','first_listen_date','last_listen_date','avg_duration_per_listen','std_avg_duration_per_listen','listen_cnt','total_listen_minute']\n",
    "listening_summary_df.head(3)"
   ]
  },
  {
   "cell_type": "code",
   "execution_count": 11,
   "metadata": {},
   "outputs": [
    {
     "data": {
      "text/plain": [
       "27458"
      ]
     },
     "execution_count": 11,
     "metadata": {},
     "output_type": "execute_result"
    }
   ],
   "source": [
    "# Lấy user_id từ 2 bảng order_summary_df và listening_summary_df gộp vào 1 bảng\n",
    "user_cluster_df= pd.DataFrame(pd.concat(objs=[listening_summary_df['User_ID'],order_summary_df['User_ID']]).drop_duplicates().reset_index(drop=True))\n",
    "user_cluster_df.columns = [\"User_ID\"]\n",
    "user_cluster_df.shape[0]"
   ]
  },
  {
   "cell_type": "markdown",
   "metadata": {},
   "source": [
    "### Nhận xét về dữ liệu:"
   ]
  },
  {
   "cell_type": "code",
   "execution_count": 162,
   "metadata": {},
   "outputs": [
    {
     "data": {
      "text/plain": [
       "0"
      ]
     },
     "execution_count": 162,
     "metadata": {},
     "output_type": "execute_result"
    }
   ],
   "source": [
    "da = listening_summary_df.join(order_summary_df[[\"User_ID\",\"revenue\"]].set_index(\"User_ID\"),on=\"User_ID\",how=\"outer\")\n",
    "da.loc[da[\"revenue\"] <= 0.0].shape[0]"
   ]
  },
  {
   "cell_type": "code",
   "execution_count": 163,
   "metadata": {},
   "outputs": [
    {
     "data": {
      "text/plain": [
       "93"
      ]
     },
     "execution_count": 163,
     "metadata": {},
     "output_type": "execute_result"
    }
   ],
   "source": [
    "t = da.loc[da['revenue'].isnull()]\n",
    "t[t['total_listen_minute'] == 0.0].shape[0]"
   ]
  },
  {
   "cell_type": "code",
   "execution_count": 12,
   "metadata": {},
   "outputs": [
    {
     "data": {
      "text/html": [
       "<div>\n",
       "<style scoped>\n",
       "    .dataframe tbody tr th:only-of-type {\n",
       "        vertical-align: middle;\n",
       "    }\n",
       "\n",
       "    .dataframe tbody tr th {\n",
       "        vertical-align: top;\n",
       "    }\n",
       "\n",
       "    .dataframe thead th {\n",
       "        text-align: right;\n",
       "    }\n",
       "</style>\n",
       "<table border=\"1\" class=\"dataframe\">\n",
       "  <thead>\n",
       "    <tr style=\"text-align: right;\">\n",
       "      <th></th>\n",
       "      <th>User ID</th>\n",
       "      <th>VIP hay Free</th>\n",
       "      <th>Giới tính</th>\n",
       "      <th>Năm sinh</th>\n",
       "      <th>Việt Nam hay Nước ngoài</th>\n",
       "      <th>iOS hay Android</th>\n",
       "      <th>Ngày đăng ký tài khoản</th>\n",
       "      <th>Tổng số lượt nghe</th>\n",
       "      <th>Tổng thời lượng nghe (phút)</th>\n",
       "    </tr>\n",
       "  </thead>\n",
       "  <tbody>\n",
       "    <tr>\n",
       "      <th>0</th>\n",
       "      <td>86229</td>\n",
       "      <td>free</td>\n",
       "      <td>male</td>\n",
       "      <td>NaN</td>\n",
       "      <td>VN</td>\n",
       "      <td>android</td>\n",
       "      <td>2020-11-27</td>\n",
       "      <td>218</td>\n",
       "      <td>4151.3</td>\n",
       "    </tr>\n",
       "    <tr>\n",
       "      <th>1</th>\n",
       "      <td>48053</td>\n",
       "      <td>free</td>\n",
       "      <td>male</td>\n",
       "      <td>1995.0</td>\n",
       "      <td>VN</td>\n",
       "      <td>ios</td>\n",
       "      <td>2020-08-24</td>\n",
       "      <td>19</td>\n",
       "      <td>278.6</td>\n",
       "    </tr>\n",
       "  </tbody>\n",
       "</table>\n",
       "</div>"
      ],
      "text/plain": [
       "  User ID VIP hay Free Giới tính  Năm sinh Việt Nam hay Nước ngoài  \\\n",
       "0   86229         free      male       NaN                      VN   \n",
       "1   48053         free      male    1995.0                      VN   \n",
       "\n",
       "  iOS hay Android Ngày đăng ký tài khoản  Tổng số lượt nghe  \\\n",
       "0         android             2020-11-27                218   \n",
       "1             ios             2020-08-24                 19   \n",
       "\n",
       "   Tổng thời lượng nghe (phút)  \n",
       "0                       4151.3  \n",
       "1                        278.6  "
      ]
     },
     "execution_count": 12,
     "metadata": {},
     "output_type": "execute_result"
    }
   ],
   "source": [
    "user_df.head(2)"
   ]
  },
  {
   "cell_type": "code",
   "execution_count": 16,
   "metadata": {},
   "outputs": [
    {
     "data": {
      "text/html": [
       "<div>\n",
       "<style scoped>\n",
       "    .dataframe tbody tr th:only-of-type {\n",
       "        vertical-align: middle;\n",
       "    }\n",
       "\n",
       "    .dataframe tbody tr th {\n",
       "        vertical-align: top;\n",
       "    }\n",
       "\n",
       "    .dataframe thead th {\n",
       "        text-align: right;\n",
       "    }\n",
       "</style>\n",
       "<table border=\"1\" class=\"dataframe\">\n",
       "  <thead>\n",
       "    <tr style=\"text-align: right;\">\n",
       "      <th></th>\n",
       "      <th>User ID</th>\n",
       "      <th>VIP hay Free</th>\n",
       "      <th>Giới tính</th>\n",
       "      <th>Năm sinh</th>\n",
       "      <th>Việt Nam hay Nước ngoài</th>\n",
       "      <th>iOS hay Android</th>\n",
       "      <th>Ngày đăng ký tài khoản</th>\n",
       "      <th>Tổng số lượt nghe</th>\n",
       "      <th>Tổng thời lượng nghe (phút)</th>\n",
       "      <th>first_listen_date</th>\n",
       "      <th>last_listen_date</th>\n",
       "      <th>avg_duration_per_listen</th>\n",
       "      <th>std_avg_duration_per_listen</th>\n",
       "      <th>listen_cnt</th>\n",
       "      <th>total_listen_minute</th>\n",
       "    </tr>\n",
       "  </thead>\n",
       "  <tbody>\n",
       "    <tr>\n",
       "      <th>0</th>\n",
       "      <td>86229</td>\n",
       "      <td>free</td>\n",
       "      <td>male</td>\n",
       "      <td>NaN</td>\n",
       "      <td>VN</td>\n",
       "      <td>android</td>\n",
       "      <td>2020-11-27</td>\n",
       "      <td>218</td>\n",
       "      <td>4151.3</td>\n",
       "      <td>2020-11-29</td>\n",
       "      <td>2020-12-31</td>\n",
       "      <td>12.447059</td>\n",
       "      <td>17.629170</td>\n",
       "      <td>17</td>\n",
       "      <td>211.6</td>\n",
       "    </tr>\n",
       "    <tr>\n",
       "      <th>1</th>\n",
       "      <td>48053</td>\n",
       "      <td>free</td>\n",
       "      <td>male</td>\n",
       "      <td>1995.0</td>\n",
       "      <td>VN</td>\n",
       "      <td>ios</td>\n",
       "      <td>2020-08-24</td>\n",
       "      <td>19</td>\n",
       "      <td>278.6</td>\n",
       "      <td>2020-08-24</td>\n",
       "      <td>2020-10-04</td>\n",
       "      <td>14.684211</td>\n",
       "      <td>19.547016</td>\n",
       "      <td>19</td>\n",
       "      <td>279.0</td>\n",
       "    </tr>\n",
       "    <tr>\n",
       "      <th>2</th>\n",
       "      <td>46340</td>\n",
       "      <td>free</td>\n",
       "      <td>male</td>\n",
       "      <td>1988.0</td>\n",
       "      <td>VN</td>\n",
       "      <td>website</td>\n",
       "      <td>2020-08-19</td>\n",
       "      <td>28</td>\n",
       "      <td>170.5</td>\n",
       "      <td>2020-08-19</td>\n",
       "      <td>2020-12-26</td>\n",
       "      <td>4.694737</td>\n",
       "      <td>6.098586</td>\n",
       "      <td>19</td>\n",
       "      <td>89.2</td>\n",
       "    </tr>\n",
       "  </tbody>\n",
       "</table>\n",
       "</div>"
      ],
      "text/plain": [
       "   User ID VIP hay Free Giới tính  Năm sinh Việt Nam hay Nước ngoài  \\\n",
       "0    86229         free      male       NaN                      VN   \n",
       "1    48053         free      male    1995.0                      VN   \n",
       "2    46340         free      male    1988.0                      VN   \n",
       "\n",
       "  iOS hay Android Ngày đăng ký tài khoản  Tổng số lượt nghe  \\\n",
       "0         android             2020-11-27                218   \n",
       "1             ios             2020-08-24                 19   \n",
       "2         website             2020-08-19                 28   \n",
       "\n",
       "   Tổng thời lượng nghe (phút) first_listen_date last_listen_date  \\\n",
       "0                       4151.3        2020-11-29       2020-12-31   \n",
       "1                        278.6        2020-08-24       2020-10-04   \n",
       "2                        170.5        2020-08-19       2020-12-26   \n",
       "\n",
       "   avg_duration_per_listen  std_avg_duration_per_listen  listen_cnt  \\\n",
       "0                12.447059                    17.629170          17   \n",
       "1                14.684211                    19.547016          19   \n",
       "2                 4.694737                     6.098586          19   \n",
       "\n",
       "   total_listen_minute  \n",
       "0                211.6  \n",
       "1                279.0  \n",
       "2                 89.2  "
      ]
     },
     "execution_count": 16,
     "metadata": {},
     "output_type": "execute_result"
    }
   ],
   "source": [
    "t.head(3)"
   ]
  },
  {
   "cell_type": "code",
   "execution_count": 23,
   "metadata": {},
   "outputs": [
    {
     "data": {
      "text/plain": [
       "72.83596365375418"
      ]
     },
     "execution_count": 23,
     "metadata": {},
     "output_type": "execute_result"
    }
   ],
   "source": [
    "t = user_df.join(other=listening_summary_df.set_index(\"User_ID\"),how = \"inner\",on =\"User ID\" )\n",
    "100-t[t[\"Tổng thời lượng nghe (phút)\"] == t.total_listen_minute].shape[0]/listening_summary_df.shape[0]*100"
   ]
  },
  {
   "cell_type": "code",
   "execution_count": 20,
   "metadata": {},
   "outputs": [
    {
     "data": {
      "text/plain": [
       "(18040, 27183)"
      ]
     },
     "execution_count": 20,
     "metadata": {},
     "output_type": "execute_result"
    }
   ],
   "source": [
    "t[t[\"Tổng số lượt nghe\"] == t.listen_cnt].shape[0],listening_summary_df.shape[0]"
   ]
  },
  {
   "cell_type": "code",
   "execution_count": 27,
   "metadata": {},
   "outputs": [
    {
     "data": {
      "text/plain": [
       "19354"
      ]
     },
     "execution_count": 27,
     "metadata": {},
     "output_type": "execute_result"
    }
   ],
   "source": [
    "h=usage_df.join(other=listening_summary_df.set_index(\"User_ID\"),how=\"inner\",on=\"User ID\")\n",
    "h.shape[0]"
   ]
  },
  {
   "cell_type": "code",
   "execution_count": 29,
   "metadata": {},
   "outputs": [
    {
     "data": {
      "text/plain": [
       "27183"
      ]
     },
     "execution_count": 29,
     "metadata": {},
     "output_type": "execute_result"
    }
   ],
   "source": [
    "listening_summary_df.shape[0]"
   ]
  },
  {
   "cell_type": "code",
   "execution_count": 28,
   "metadata": {},
   "outputs": [
    {
     "data": {
      "text/html": [
       "<div>\n",
       "<style scoped>\n",
       "    .dataframe tbody tr th:only-of-type {\n",
       "        vertical-align: middle;\n",
       "    }\n",
       "\n",
       "    .dataframe tbody tr th {\n",
       "        vertical-align: top;\n",
       "    }\n",
       "\n",
       "    .dataframe thead th {\n",
       "        text-align: right;\n",
       "    }\n",
       "</style>\n",
       "<table border=\"1\" class=\"dataframe\">\n",
       "  <thead>\n",
       "    <tr style=\"text-align: right;\">\n",
       "      <th></th>\n",
       "      <th>User ID</th>\n",
       "      <th>Tổng số lần sử dụng</th>\n",
       "      <th>Tổng số event audio_perfect</th>\n",
       "      <th>Tổng số event audio_download</th>\n",
       "      <th>Lần sử dụng sau cùng</th>\n",
       "    </tr>\n",
       "  </thead>\n",
       "  <tbody>\n",
       "    <tr>\n",
       "      <th>0</th>\n",
       "      <td>40859</td>\n",
       "      <td>69</td>\n",
       "      <td>0</td>\n",
       "      <td>38</td>\n",
       "      <td>20200911.0</td>\n",
       "    </tr>\n",
       "    <tr>\n",
       "      <th>1</th>\n",
       "      <td>40853</td>\n",
       "      <td>12</td>\n",
       "      <td>0</td>\n",
       "      <td>0</td>\n",
       "      <td>20200701.0</td>\n",
       "    </tr>\n",
       "    <tr>\n",
       "      <th>2</th>\n",
       "      <td>40867</td>\n",
       "      <td>95</td>\n",
       "      <td>0</td>\n",
       "      <td>1</td>\n",
       "      <td>20200712.0</td>\n",
       "    </tr>\n",
       "  </tbody>\n",
       "</table>\n",
       "</div>"
      ],
      "text/plain": [
       "  User ID  Tổng số lần sử dụng  Tổng số event audio_perfect  \\\n",
       "0   40859                   69                            0   \n",
       "1   40853                   12                            0   \n",
       "2   40867                   95                            0   \n",
       "\n",
       "   Tổng số event audio_download  Lần sử dụng sau cùng  \n",
       "0                            38            20200911.0  \n",
       "1                             0            20200701.0  \n",
       "2                             1            20200712.0  "
      ]
     },
     "execution_count": 28,
     "metadata": {},
     "output_type": "execute_result"
    }
   ],
   "source": [
    "usage_df.head(3)"
   ]
  },
  {
   "cell_type": "markdown",
   "metadata": {},
   "source": [
    "#### Summary:\n",
    "1. Ta chỉ xét những user đã có giao dịch hoặc những user đã sử dụng app (đã nghe sách): khoảng 27k users\n",
    "2. Trong đó, có:\n",
    "    * Những users đã thực hiện giao dịch đều có tổng giá trị giao dịch > 0.0\n",
    "    * 1% số lượng PAY users đã giao dịch(order) nhưng chưa nghe (nolisten) (chưa bấm nút nghe của bất kì playlist nào): 275 users\n",
    "    * 8.6% PAY users đã giao dịch và đã nghe (2363 users)\n",
    "    * Còn lại 90.4% FREE users đã nghe và CHƯA giao dịch (24820 users), trong đó có 93  free user có tổng thời gian nghe là 0.0 phút -chưa trải nghiệm playlist nào ()"
   ]
  },
  {
   "cell_type": "markdown",
   "metadata": {},
   "source": [
    "# CLUSTERING"
   ]
  },
  {
   "cell_type": "code",
   "execution_count": 13,
   "metadata": {},
   "outputs": [],
   "source": [
    "# for Ebowl\n",
    "def find_sse(df, max_k):\n",
    "    sse = {}\n",
    "    for k in range(1, max_k):\n",
    "        kmeans = KMeans(n_clusters=k, max_iter=1000)\n",
    "        kmeans.fit(df)\n",
    "        df['clusters'] = kmeans.labels_\n",
    "        sse[k] = kmeans.inertia_\n",
    "    return sse\n",
    "   \n",
    "## function for ordering cluster numbers\n",
    "def order_cluster(cluster_field_name, target_field_name, df, ascending):\n",
    "    new_cluster_field_name = 'new_' + cluster_field_name\n",
    "    df_new = df.groupby(cluster_field_name)[target_field_name].mean().reset_index()\n",
    "    df_new = df_new.sort_values(by=target_field_name,ascending=ascending).reset_index(drop=True)\n",
    "    df_new['index'] = df_new.index\n",
    "    df_final = pd.merge(df,df_new[[cluster_field_name,'index']], on=cluster_field_name)\n",
    "    df_final = df_final.drop([cluster_field_name],axis=1)\n",
    "    df_final = df_final.rename(columns={\"index\":cluster_field_name})\n",
    "    return df_final"
   ]
  },
  {
   "cell_type": "markdown",
   "metadata": {},
   "source": [
    "## Calculate metrics"
   ]
  },
  {
   "cell_type": "markdown",
   "metadata": {},
   "source": [
    "### Nối các thông tin chung của user lại"
   ]
  },
  {
   "cell_type": "code",
   "execution_count": 14,
   "metadata": {},
   "outputs": [],
   "source": [
    "# user_cluster_df = user_cluster_df.join(order_summary_df.set_index(\"User_ID\"),on=\"User_ID\",how=\"outer\")\n",
    "user_cluster_df = user_cluster_df.join(listening_summary_df.set_index(\"User_ID\"),on=\"User_ID\",how=\"outer\")"
   ]
  },
  {
   "cell_type": "code",
   "execution_count": 15,
   "metadata": {},
   "outputs": [],
   "source": [
    "user_cluster_df = user_cluster_df.join(order_summary_df.set_index(\"User_ID\"),on=\"User_ID\",how=\"outer\")"
   ]
  },
  {
   "cell_type": "code",
   "execution_count": 16,
   "metadata": {},
   "outputs": [],
   "source": [
    "user_cluster_df = user_cluster_df.join(user_df[[\"User ID\",\"Ngày đăng ký tài khoản\"]].set_index(\"User ID\"),\n",
    "                                       on=\"User_ID\",how=\"inner\")"
   ]
  },
  {
   "cell_type": "code",
   "execution_count": 17,
   "metadata": {},
   "outputs": [],
   "source": [
    "user_cluster_df = user_cluster_df.rename(columns = {'Ngày đăng ký tài khoản':'signup_date'})"
   ]
  },
  {
   "cell_type": "code",
   "execution_count": 18,
   "metadata": {
    "scrolled": true
   },
   "outputs": [
    {
     "data": {
      "text/plain": [
       "free        24820\n",
       "subcribe     2638\n",
       "Name: type_user, dtype: int64"
      ]
     },
     "execution_count": 18,
     "metadata": {},
     "output_type": "execute_result"
    }
   ],
   "source": [
    "user_cluster_df[\"type_user\"] = user_cluster_df['revenue'].isnull().map(lambda x: \"free\" if x else 'subcribe')\n",
    "user_cluster_df[\"type_user\"].value_counts()"
   ]
  },
  {
   "cell_type": "markdown",
   "metadata": {},
   "source": [
    "### 1. Density: avg_duration_per_listen: thời lượng trung bình của 1 lượt nghe (theo đơn vị phút)"
   ]
  },
  {
   "cell_type": "code",
   "execution_count": 19,
   "metadata": {},
   "outputs": [
    {
     "data": {
      "text/plain": [
       "275"
      ]
     },
     "execution_count": 19,
     "metadata": {},
     "output_type": "execute_result"
    }
   ],
   "source": [
    "## Density: thời lượng tb của 1 lượt nghe: Nếu user chưa nghe thì có Density = 0\n",
    "\n",
    "# 'Density' = 'avg_duration_per_listen' nếu 'avg_duration_per_listen' != NaN, ngược lại thì bằng 0.0\n",
    "# user_cluster_df['Density'] = user_cluster_df['avg_duration_per_listen'].fillna(value = 0.0)\n",
    "user_cluster_df['Density'] = user_cluster_df['avg_duration_per_listen']\n",
    "user_cluster_df['Density'].isnull().sum()"
   ]
  },
  {
   "cell_type": "markdown",
   "metadata": {},
   "source": [
    "### 2.Recency: the distance (in days) between the lastest active day of a user and the max  the active day in data set"
   ]
  },
  {
   "cell_type": "code",
   "execution_count": 20,
   "metadata": {
    "scrolled": true
   },
   "outputs": [],
   "source": [
    "user_cluster_df['last_active_date'] = user_cluster_df[[\"max_purchase_date\",\"last_listen_date\",\"signup_date\"]].max(axis = 1)"
   ]
  },
  {
   "cell_type": "code",
   "execution_count": 21,
   "metadata": {},
   "outputs": [
    {
     "data": {
      "text/plain": [
       "0"
      ]
     },
     "execution_count": 21,
     "metadata": {},
     "output_type": "execute_result"
    }
   ],
   "source": [
    "## Recency: khoảng cách giữa lần nghe gần nhất của mỗi user đến max_listen_date trên toàn bộ tập dữ liệu\n",
    "# the lastest active day = max(the_max_purchase_date, the_last_listen_date,Ngày đăng ký tài khoản)\n",
    "## Recency càng nhỏ thì càng tốt\n",
    "\n",
    "maxActiveDay = max(user_cluster_df[\"max_purchase_date\"].max(),user_cluster_df[\"last_listen_date\"].max(),\n",
    "                      user_cluster_df[\"signup_date\"].max())\n",
    "\n",
    "user_cluster_df['last_active_date'] = user_cluster_df[[\"max_purchase_date\",\"last_listen_date\",\"signup_date\"]].max(axis = 1)\n",
    "\n",
    "user_cluster_df['Recency']=(maxActiveDay - user_cluster_df['last_active_date']).dt.days\n",
    "\n",
    "user_cluster_df['Recency'].isnull().sum()\n",
    "\n",
    "# users with 0_Recency are the most active ones"
   ]
  },
  {
   "cell_type": "markdown",
   "metadata": {},
   "source": [
    "### 3. Frequency: avg_listen_cnt_per_day: số lượt nghe tb trong 1 ngày nghe"
   ]
  },
  {
   "cell_type": "code",
   "execution_count": 22,
   "metadata": {},
   "outputs": [],
   "source": [
    "#1 Tính số tuần đã trôi qua trên hệ quy chiếu thời gian của bản thân user\n",
    "user_cluster_df['listen_week_cnt'] = user_cluster_df.apply(\n",
    "                                lambda x: 1 if x['last_listen_date'] == x[\"first_listen_date\"] \n",
    "                                            else round(((x['last_listen_date']-x[\"first_listen_date\"]).days+1)/7 + 0.4,0), axis=1)\n",
    "\n",
    "user_cluster_df['Frequency_listenweek'] = user_cluster_df['listen_cnt']/user_cluster_df['listen_week_cnt']\n",
    "user_cluster_df['Frequency_listenweek'] = user_cluster_df['Frequency_listenweek'].fillna(value = float(0.0))\n",
    "\n",
    "# #2. Tính số tuần đã trôi qua trên hệ quy chiếu thời gian có cận trên là maxListenDate cho toàn bộ tập dữ liệu\n",
    "# # cận dưới là ngày nghe lần đầu của mỗi user\n",
    "# maxListenDate = user_cluster_df['last_listen_date'].max()\n",
    "# user_cluster_df['bias_listen_week_cnt'] = user_cluster_df[\"first_listen_date\"].map(\n",
    "#                                 lambda x: 1 if maxListenDate == x\n",
    "#                                             else round(( maxListenDate-x).days/7 + 0.4,0))"
   ]
  },
  {
   "cell_type": "code",
   "execution_count": 23,
   "metadata": {},
   "outputs": [],
   "source": [
    "#2 Tính số ngày đã trôi qua trên hệ quy chiếu thời gian của bản thân user\n",
    "user_cluster_df['listen_day_cnt'] = user_cluster_df.apply(\n",
    "                                lambda x: 1 if x['last_listen_date'] == x[\"first_listen_date\"] \n",
    "                                            else ( x['last_listen_date']-x[\"first_listen_date\"]).days+1, axis=1)\n",
    "\n",
    "user_cluster_df['Frequency_listenday'] = user_cluster_df['listen_cnt']/user_cluster_df['listen_day_cnt']\n",
    "user_cluster_df['Frequency_listenday'] = user_cluster_df['Frequency_listenday'].fillna(value = float(0.0))"
   ]
  },
  {
   "cell_type": "code",
   "execution_count": 24,
   "metadata": {},
   "outputs": [
    {
     "data": {
      "text/plain": [
       "0"
      ]
     },
     "execution_count": 24,
     "metadata": {},
     "output_type": "execute_result"
    }
   ],
   "source": [
    "user_cluster_df['Frequency_listenday'].isnull().sum()"
   ]
  },
  {
   "cell_type": "markdown",
   "metadata": {},
   "source": [
    "### 5. Monetary"
   ]
  },
  {
   "cell_type": "markdown",
   "metadata": {},
   "source": [
    "#### 5.1. Monetary_lifeweek: avg_spending_per_week: số tiền bỏ ra / 1 life week"
   ]
  },
  {
   "cell_type": "code",
   "execution_count": 25,
   "metadata": {},
   "outputs": [],
   "source": [
    "# Monetary: avg_spending_per_week: số tiền bỏ ra / 1 week\n",
    "# Ta lấy revenue của mỗi user chia cho life_week_cnt của user đó\n",
    "# Nếu revenue của user là NaN: Monetary = 0.0\n",
    "# Nếu revenue != 0 mà listening\n",
    "\n",
    "# Timeline của user: từ lúc signup đến lúc the_last_active_date:\n",
    "user_cluster_df['life_week_cnt']= user_cluster_df.apply(\n",
    "                                lambda x: 1 if x['last_active_date'] == x[\"signup_date\"] \n",
    "                                            else round(((x['last_active_date']-x[\"signup_date\"]).days+1)/7 + 0.4,0), axis=1)\n",
    "\n",
    "user_cluster_df['Monetary_lifeweek'] = user_cluster_df['revenue']\n",
    "user_cluster_df['Monetary_lifeweek'] = user_cluster_df['Monetary_lifeweek'] / user_cluster_df['life_week_cnt']"
   ]
  },
  {
   "cell_type": "markdown",
   "metadata": {},
   "source": [
    "#### 5.2.Monetary_orderweek: avg_spending_per_week: số tiền bỏ ra / 1 order week"
   ]
  },
  {
   "cell_type": "code",
   "execution_count": 26,
   "metadata": {},
   "outputs": [],
   "source": [
    "# Monetary: avg_spending_per_week: số tiền bỏ ra / 1 week\n",
    "# Ta lấy revenue của mỗi user chia cho order_week_cnt của user đó\n",
    "# Nếu revenue của user là NaN: Monetary = 0.0\n",
    "# Nếu revenue != 0 mà listening\n",
    "\n",
    "# Timeline của user: từ lúc the min_purcharse_date đến lúc max_purcharse_date:\n",
    "user_cluster_df['order_week_cnt']= user_cluster_df.apply(\n",
    "                                lambda x: 1 if x[\"max_purchase_date\"] == x[\"min_purchase_date\"] \n",
    "                                            else round(((x[\"max_purchase_date\"]-x[\"min_purchase_date\"]).days+1)/7 + 0.4,0), axis=1)\n",
    "\n",
    "user_cluster_df['Monetary_orderweek'] = user_cluster_df['revenue']\n",
    "user_cluster_df['Monetary_orderweek'] = user_cluster_df['Monetary_orderweek'] / user_cluster_df['order_week_cnt']"
   ]
  },
  {
   "cell_type": "markdown",
   "metadata": {},
   "source": [
    "#### 5.3.Monetary_orderday: avg_spending_per_day: số tiền bỏ ra / 1 order day"
   ]
  },
  {
   "cell_type": "code",
   "execution_count": 27,
   "metadata": {},
   "outputs": [],
   "source": [
    "user_cluster_df['order_day_cnt']= user_cluster_df.apply(\n",
    "                                lambda x: 1 if x[\"max_purchase_date\"] == x[\"min_purchase_date\"] \n",
    "                                            else (x[\"max_purchase_date\"]-x[\"min_purchase_date\"]).days+1, axis=1)\n"
   ]
  },
  {
   "cell_type": "code",
   "execution_count": 28,
   "metadata": {},
   "outputs": [],
   "source": [
    "user_cluster_df['Monetary_orderday'] = user_cluster_df['revenue']\n",
    "user_cluster_df['Monetary_orderday'] = user_cluster_df['Monetary_orderday'] / user_cluster_df['order_day_cnt']"
   ]
  },
  {
   "cell_type": "markdown",
   "metadata": {},
   "source": [
    "#### 5.4. Monetary: avg_spending_per_listen: số tiền bỏ ra / 1 listen"
   ]
  },
  {
   "cell_type": "code",
   "execution_count": 29,
   "metadata": {},
   "outputs": [],
   "source": [
    "# Những người đã order nhưng chưa kịp nghe: cho tổng số lần nghe là 1\n",
    "user_cluster_df['Monetary_per_listen'] = user_cluster_df['revenue']/user_cluster_df['listen_cnt'].fillna(1)"
   ]
  },
  {
   "cell_type": "code",
   "execution_count": 30,
   "metadata": {
    "scrolled": true
   },
   "outputs": [
    {
     "data": {
      "text/plain": [
       "24820"
      ]
     },
     "execution_count": 30,
     "metadata": {},
     "output_type": "execute_result"
    }
   ],
   "source": [
    "user_cluster_df['Monetary_per_listen'].isnull().sum()"
   ]
  },
  {
   "cell_type": "code",
   "execution_count": 48,
   "metadata": {},
   "outputs": [],
   "source": [
    "# user_cluster_df.to_csv(\"data/user_cluster_df.csv\")"
   ]
  },
  {
   "cell_type": "markdown",
   "metadata": {},
   "source": [
    "### Summary\n",
    "1. Có 2 cluster cho 2 nhóm user:\n",
    "    * Nhóm Free users (type_user = 'free'): RFD\n",
    "    * Nhóm Subcribe users (type_user = 'subcribe'): RFM\n",
    "2. Giải thích các metrics:\n",
    "    * R Recency: khoảng cách tính bằng ngày từ lần active cuối cùng của user đến ngày max(active cuối cùng)\n",
    "        R càng nhỏ có nghĩa sự recency càng cao --> càng tốt\n",
    "    * F Frequency: số lượt nghe của mỗi user trong mỗi tuần (listen_cnt/listen_week_cnt)\n",
    "        F càng cao thì mức độ activeness càng lớn --> càng tốt\n",
    "        Nếu user chưa nghe lần nào thì Frequency = 0\n",
    "    * M Monetary: trung bình chi phí cho mỗi lượt nghe (revenue/listen_cnt)\n",
    "        M càng cao thì càng tốt về mặc lợi nhuận\n",
    "    * D Density: thời lượng trung bình trong mỗi lượt nghe (total_listen_time / listen_cnt)\n",
    "        D càng cao --> user càng enjoy app"
   ]
  },
  {
   "cell_type": "markdown",
   "metadata": {},
   "source": [
    "## NORMALIZE Density - Recency - Frequency - Monetary"
   ]
  },
  {
   "cell_type": "code",
   "execution_count": 43,
   "metadata": {},
   "outputs": [
    {
     "data": {
      "text/plain": [
       "free        24820\n",
       "subcribe     2638\n",
       "Name: type_user, dtype: int64"
      ]
     },
     "execution_count": 43,
     "metadata": {},
     "output_type": "execute_result"
    }
   ],
   "source": [
    "user_cluster_df[\"type_user\"].value_counts()"
   ]
  },
  {
   "cell_type": "markdown",
   "metadata": {},
   "source": [
    "# CLUSTERING"
   ]
  },
  {
   "cell_type": "code",
   "execution_count": 57,
   "metadata": {
    "scrolled": false
   },
   "outputs": [],
   "source": [
    "# subcribe_cluster_df chứa dữ liệu subcriber segment\n",
    "cols= [\"User_ID\",'type_user','Recency','Frequency_listenday','Monetary_orderday']\n",
    "subcribe_cluster_df = user_cluster_df.loc[user_cluster_df['type_user']=='subcribe',cols]\n",
    "subcribe_cluster_df = subcribe_cluster_df.rename(columns={\"Monetary_orderday\": \"Monetary\",\"Frequency_listenday\":\"Frequency\"})"
   ]
  },
  {
   "cell_type": "code",
   "execution_count": 31,
   "metadata": {},
   "outputs": [],
   "source": [
    "# free_cluster_df chứa dữ liệu free user segment\n",
    "cols= [\"User_ID\",'type_user','Recency','Frequency_listenday','Density']\n",
    "free_cluster_df = user_cluster_df[user_cluster_df['type_user']=='free'][cols]\n",
    "free_cluster_df = free_cluster_df.rename(columns={\"Frequency_listenday\":\"Frequency\"})"
   ]
  },
  {
   "cell_type": "code",
   "execution_count": 279,
   "metadata": {
    "scrolled": true
   },
   "outputs": [
    {
     "data": {
      "text/plain": [
       "(2638, 24820)"
      ]
     },
     "execution_count": 279,
     "metadata": {},
     "output_type": "execute_result"
    }
   ],
   "source": [
    "subcribe_cluster_df.shape[0],free_cluster_df.shape[0]"
   ]
  },
  {
   "cell_type": "markdown",
   "metadata": {},
   "source": [
    "### 1. Normalize: MinMaxScale"
   ]
  },
  {
   "cell_type": "code",
   "execution_count": 256,
   "metadata": {},
   "outputs": [],
   "source": [
    "# from sklearn.preprocessing import MinMaxScaler\n",
    "from sklearn.cluster import KMeans"
   ]
  },
  {
   "cell_type": "code",
   "execution_count": 3,
   "metadata": {},
   "outputs": [],
   "source": [
    "def min_max_scale(df,scale_cols):\n",
    "    for col in scale_cols:\n",
    "        min_val = df[col].min()\n",
    "        max_val = df[col].max()\n",
    "        distance = max_val - min_val\n",
    "        df['scaled'+str(col)] = (df[col]-min_val)/distance\n",
    "    return df\n",
    "\n",
    "def run_kmean_clustering(df,cluster_cols,k_cluster,k_iter = 1000):\n",
    "    kmeans = KMeans(n_clusters=k_cluster, max_iter = k_iter )\n",
    "    kmeans.fit(df[cluster_cols])\n",
    "    prefix = cluster_cols[0]\n",
    "    df[str(prefix)+\"Cluster\"]= kmeans.predict((df[cluster_cols]))\n",
    "    return df"
   ]
  },
  {
   "cell_type": "code",
   "execution_count": 60,
   "metadata": {},
   "outputs": [],
   "source": [
    "# subcribe_cluster_df = min_max_scale(subcribe_cluster_df,[\"Recency\",\"Frequency\",\"Monetary\"])\n",
    "# subcribe_cluster_df[[\"scaledRecency\",\"scaledFrequency\",\"scaledMonetary\"]].describe()"
   ]
  },
  {
   "cell_type": "markdown",
   "metadata": {},
   "source": [
    "## 1.Subcribers: RFM CLUSTERING (recency - frequency - monetary)"
   ]
  },
  {
   "cell_type": "markdown",
   "metadata": {},
   "source": [
    "### Recency"
   ]
  },
  {
   "cell_type": "markdown",
   "metadata": {},
   "source": [
    "#### 1. Plot R"
   ]
  },
  {
   "cell_type": "code",
   "execution_count": 61,
   "metadata": {},
   "outputs": [
    {
     "data": {
      "text/plain": [
       "count    2638.000000\n",
       "mean       27.904473\n",
       "std        35.420439\n",
       "min         0.000000\n",
       "25%         2.000000\n",
       "50%        11.000000\n",
       "75%        41.000000\n",
       "max       168.000000\n",
       "Name: Recency, dtype: float64"
      ]
     },
     "execution_count": 61,
     "metadata": {},
     "output_type": "execute_result"
    }
   ],
   "source": [
    "subcribe_cluster_df['Recency'].describe()"
   ]
  },
  {
   "cell_type": "code",
   "execution_count": 63,
   "metadata": {},
   "outputs": [
    {
     "data": {
      "image/png": "[encoded data removed]",
      "text/plain": [
       "<Figure size 432x288 with 1 Axes>"
      ]
     },
     "metadata": {
      "needs_background": "light"
     },
     "output_type": "display_data"
    }
   ],
   "source": [
    "sns.histplot(data=subcribe_cluster_df,x='Recency');"
   ]
  },
  {
   "cell_type": "markdown",
   "metadata": {},
   "source": [
    "#### 2. Determine K for Recency"
   ]
  },
  {
   "cell_type": "code",
   "execution_count": 64,
   "metadata": {},
   "outputs": [
    {
     "data": {
      "image/png": "[encoded data removed]",
      "text/plain": [
       "<Figure size 432x288 with 1 Axes>"
      ]
     },
     "metadata": {
      "needs_background": "light"
     },
     "output_type": "display_data"
    }
   ],
   "source": [
    "## Elbow Method to determine K\n",
    "sse = find_sse(subcribe_cluster_df.loc[:,['Recency']], max_k = 10) \n",
    "\n",
    "plt.figure()\n",
    "plt.plot(list(sse.keys()),list(sse.values()))\n",
    "plt.xlabel(\"Number of clusters\")\n",
    "plt.show() \n",
    "\n",
    "# # Optimal R_K=3\n",
    "# ## Choose the k of Recency_clusters = 3\n",
    "# ## 1st: 'active', 2st: 'sleep', 3rd: 'hibernate'"
   ]
  },
  {
   "cell_type": "markdown",
   "metadata": {},
   "source": [
    "#### 3. Recency Clustering"
   ]
  },
  {
   "cell_type": "code",
   "execution_count": 94,
   "metadata": {
    "scrolled": false
   },
   "outputs": [
    {
     "data": {
      "text/html": [
       "<div>\n",
       "<style scoped>\n",
       "    .dataframe tbody tr th:only-of-type {\n",
       "        vertical-align: middle;\n",
       "    }\n",
       "\n",
       "    .dataframe tbody tr th {\n",
       "        vertical-align: top;\n",
       "    }\n",
       "\n",
       "    .dataframe thead th {\n",
       "        text-align: right;\n",
       "    }\n",
       "</style>\n",
       "<table border=\"1\" class=\"dataframe\">\n",
       "  <thead>\n",
       "    <tr style=\"text-align: right;\">\n",
       "      <th></th>\n",
       "      <th>count</th>\n",
       "      <th>mean</th>\n",
       "      <th>std</th>\n",
       "      <th>min</th>\n",
       "      <th>25%</th>\n",
       "      <th>50%</th>\n",
       "      <th>75%</th>\n",
       "      <th>max</th>\n",
       "    </tr>\n",
       "    <tr>\n",
       "      <th>RecencyCluster</th>\n",
       "      <th></th>\n",
       "      <th></th>\n",
       "      <th></th>\n",
       "      <th></th>\n",
       "      <th></th>\n",
       "      <th></th>\n",
       "      <th></th>\n",
       "      <th></th>\n",
       "    </tr>\n",
       "  </thead>\n",
       "  <tbody>\n",
       "    <tr>\n",
       "      <th>0</th>\n",
       "      <td>355.0</td>\n",
       "      <td>103.484507</td>\n",
       "      <td>18.468837</td>\n",
       "      <td>75.0</td>\n",
       "      <td>88.5</td>\n",
       "      <td>104.0</td>\n",
       "      <td>116.0</td>\n",
       "      <td>168.0</td>\n",
       "    </tr>\n",
       "    <tr>\n",
       "      <th>1</th>\n",
       "      <td>549.0</td>\n",
       "      <td>46.256831</td>\n",
       "      <td>13.535624</td>\n",
       "      <td>27.0</td>\n",
       "      <td>35.0</td>\n",
       "      <td>43.0</td>\n",
       "      <td>57.0</td>\n",
       "      <td>74.0</td>\n",
       "    </tr>\n",
       "    <tr>\n",
       "      <th>2</th>\n",
       "      <td>1734.0</td>\n",
       "      <td>6.620531</td>\n",
       "      <td>7.164231</td>\n",
       "      <td>0.0</td>\n",
       "      <td>1.0</td>\n",
       "      <td>4.0</td>\n",
       "      <td>11.0</td>\n",
       "      <td>26.0</td>\n",
       "    </tr>\n",
       "  </tbody>\n",
       "</table>\n",
       "</div>"
      ],
      "text/plain": [
       "                 count        mean        std   min   25%    50%    75%    max\n",
       "RecencyCluster                                                                \n",
       "0                355.0  103.484507  18.468837  75.0  88.5  104.0  116.0  168.0\n",
       "1                549.0   46.256831  13.535624  27.0  35.0   43.0   57.0   74.0\n",
       "2               1734.0    6.620531   7.164231   0.0   1.0    4.0   11.0   26.0"
      ]
     },
     "execution_count": 94,
     "metadata": {},
     "output_type": "execute_result"
    }
   ],
   "source": [
    "# ## RecencyCluster_k = 3\n",
    "k_clus = 3\n",
    "subcribe_cluster_df = run_kmean_clustering(subcribe_cluster_df,[\"Recency\"],k_cluster=k_clus)\n",
    "\n",
    "## Sắp theo thứ tự R càng thấp thì Cluster càng cao\n",
    "subcribe_cluster_df = order_cluster('RecencyCluster', 'Recency',subcribe_cluster_df,False)\n",
    "subcribe_cluster_df.groupby(\"RecencyCluster\")['Recency'].describe()\n",
    "\n",
    "# ## see details of each cluster - Recency"
   ]
  },
  {
   "cell_type": "markdown",
   "metadata": {},
   "source": [
    "#### 4.Summary: Recency chia làm 3 nhóm:\n",
    "1. Nhóm 0: 'hibernate': lần cuối cùng cách > 3 tháng\n",
    "2. Nhóm 1: 'sleep': lần cuối cùng cách 1.5 tháng (từ 1 - 2 tháng)chưa dùng app\n",
    "3. Nhóm 2: 'active': có dùng app trong khoảng 1 tuần (trong vòng nửa tháng)\n"
   ]
  },
  {
   "cell_type": "markdown",
   "metadata": {},
   "source": [
    "### Frequency - số lần nghe trong 1 ngày"
   ]
  },
  {
   "cell_type": "markdown",
   "metadata": {},
   "source": [
    "#### 1. Plot F"
   ]
  },
  {
   "cell_type": "code",
   "execution_count": 76,
   "metadata": {},
   "outputs": [
    {
     "data": {
      "text/plain": [
       "count    2638.000000\n",
       "mean        3.019317\n",
       "std         4.141072\n",
       "min         0.000000\n",
       "25%         0.728039\n",
       "50%         1.832364\n",
       "75%         3.797917\n",
       "max        61.000000\n",
       "Name: Frequency, dtype: float64"
      ]
     },
     "execution_count": 76,
     "metadata": {},
     "output_type": "execute_result"
    }
   ],
   "source": [
    "subcribe_cluster_df[\"Frequency\"].describe()"
   ]
  },
  {
   "cell_type": "code",
   "execution_count": 78,
   "metadata": {},
   "outputs": [
    {
     "data": {
      "image/png": "[encoded data removed]",
      "text/plain": [
       "<Figure size 432x288 with 1 Axes>"
      ]
     },
     "metadata": {
      "needs_background": "light"
     },
     "output_type": "display_data"
    }
   ],
   "source": [
    "sns.histplot(data=subcribe_cluster_df,x='Frequency');"
   ]
  },
  {
   "cell_type": "markdown",
   "metadata": {},
   "source": [
    "#### 2. Determine K for Frequency"
   ]
  },
  {
   "cell_type": "code",
   "execution_count": 95,
   "metadata": {},
   "outputs": [
    {
     "data": {
      "image/png": "[encoded data removed]",
      "text/plain": [
       "<Figure size 432x288 with 1 Axes>"
      ]
     },
     "metadata": {
      "needs_background": "light"
     },
     "output_type": "display_data"
    }
   ],
   "source": [
    "## Elbow Method to determine K\n",
    "\n",
    "sse = find_sse(subcribe_cluster_df.loc[:,['Frequency']], max_k = 10) \n",
    "\n",
    "plt.figure()\n",
    "plt.plot(list(sse.keys()),list(sse.values()))\n",
    "plt.xlabel(\"Number of clusters\")\n",
    "plt.show() \n",
    "\n",
    "# k_optimal  = 4"
   ]
  },
  {
   "cell_type": "markdown",
   "metadata": {},
   "source": [
    "#### 3. Frequency Clustering"
   ]
  },
  {
   "cell_type": "code",
   "execution_count": 96,
   "metadata": {},
   "outputs": [
    {
     "data": {
      "text/html": [
       "<div>\n",
       "<style scoped>\n",
       "    .dataframe tbody tr th:only-of-type {\n",
       "        vertical-align: middle;\n",
       "    }\n",
       "\n",
       "    .dataframe tbody tr th {\n",
       "        vertical-align: top;\n",
       "    }\n",
       "\n",
       "    .dataframe thead th {\n",
       "        text-align: right;\n",
       "    }\n",
       "</style>\n",
       "<table border=\"1\" class=\"dataframe\">\n",
       "  <thead>\n",
       "    <tr style=\"text-align: right;\">\n",
       "      <th></th>\n",
       "      <th>count</th>\n",
       "      <th>mean</th>\n",
       "      <th>std</th>\n",
       "      <th>min</th>\n",
       "      <th>25%</th>\n",
       "      <th>50%</th>\n",
       "      <th>75%</th>\n",
       "      <th>max</th>\n",
       "    </tr>\n",
       "    <tr>\n",
       "      <th>FrequencyCluster</th>\n",
       "      <th></th>\n",
       "      <th></th>\n",
       "      <th></th>\n",
       "      <th></th>\n",
       "      <th></th>\n",
       "      <th></th>\n",
       "      <th></th>\n",
       "      <th></th>\n",
       "    </tr>\n",
       "  </thead>\n",
       "  <tbody>\n",
       "    <tr>\n",
       "      <th>0</th>\n",
       "      <td>1710.0</td>\n",
       "      <td>1.035637</td>\n",
       "      <td>0.763221</td>\n",
       "      <td>0.000000</td>\n",
       "      <td>0.375000</td>\n",
       "      <td>1.000000</td>\n",
       "      <td>1.666667</td>\n",
       "      <td>2.545455</td>\n",
       "    </tr>\n",
       "    <tr>\n",
       "      <th>1</th>\n",
       "      <td>692.0</td>\n",
       "      <td>4.053987</td>\n",
       "      <td>1.109656</td>\n",
       "      <td>2.555556</td>\n",
       "      <td>3.037775</td>\n",
       "      <td>3.885704</td>\n",
       "      <td>4.974138</td>\n",
       "      <td>6.750000</td>\n",
       "    </tr>\n",
       "    <tr>\n",
       "      <th>2</th>\n",
       "      <td>215.0</td>\n",
       "      <td>9.495326</td>\n",
       "      <td>2.336355</td>\n",
       "      <td>6.800000</td>\n",
       "      <td>7.879032</td>\n",
       "      <td>8.750000</td>\n",
       "      <td>11.000000</td>\n",
       "      <td>17.000000</td>\n",
       "    </tr>\n",
       "    <tr>\n",
       "      <th>3</th>\n",
       "      <td>21.0</td>\n",
       "      <td>25.447619</td>\n",
       "      <td>6.613064</td>\n",
       "      <td>18.000000</td>\n",
       "      <td>20.000000</td>\n",
       "      <td>22.000000</td>\n",
       "      <td>29.000000</td>\n",
       "      <td>43.000000</td>\n",
       "    </tr>\n",
       "  </tbody>\n",
       "</table>\n",
       "</div>"
      ],
      "text/plain": [
       "                   count       mean       std        min        25%  \\\n",
       "FrequencyCluster                                                      \n",
       "0                 1710.0   1.035637  0.763221   0.000000   0.375000   \n",
       "1                  692.0   4.053987  1.109656   2.555556   3.037775   \n",
       "2                  215.0   9.495326  2.336355   6.800000   7.879032   \n",
       "3                   21.0  25.447619  6.613064  18.000000  20.000000   \n",
       "\n",
       "                        50%        75%        max  \n",
       "FrequencyCluster                                   \n",
       "0                  1.000000   1.666667   2.545455  \n",
       "1                  3.885704   4.974138   6.750000  \n",
       "2                  8.750000  11.000000  17.000000  \n",
       "3                 22.000000  29.000000  43.000000  "
      ]
     },
     "execution_count": 96,
     "metadata": {},
     "output_type": "execute_result"
    }
   ],
   "source": [
    "# ## RecencyCluster_k = 4\n",
    "k_clus = 4\n",
    "subcribe_cluster_df = run_kmean_clustering(subcribe_cluster_df,[\"Frequency\"],k_cluster=k_clus)\n",
    "\n",
    "## Sắp theo thứ tự R càng thấp thì Cluster càng cao\n",
    "subcribe_cluster_df = order_cluster('FrequencyCluster', 'Frequency',subcribe_cluster_df,True)\n",
    "subcribe_cluster_df.groupby(\"FrequencyCluster\")['Frequency'].describe()\n",
    "\n",
    "# ## see details of each cluster - Frequency"
   ]
  },
  {
   "cell_type": "code",
   "execution_count": 103,
   "metadata": {},
   "outputs": [
    {
     "data": {
      "text/plain": [
       "Index(['User_ID', 'first_listen_date', 'last_listen_date',\n",
       "       'avg_duration_per_listen', 'std_avg_duration_per_listen', 'listen_cnt',\n",
       "       'total_listen_minute', 'min_purchase_date', 'max_purchase_date',\n",
       "       'order_cnt', 'revenue', 'signup_date', 'type_user', 'Density',\n",
       "       'last_active_date', 'listen_week_cnt', 'Frequency_listenweek',\n",
       "       'listen_day_cnt', 'Frequency_listenday', 'life_week_cnt',\n",
       "       'Monetary_lifeweek', 'order_week_cnt', 'Monetary_orderweek',\n",
       "       'order_day_cnt', 'Monetary_orderday', 'Monetary_per_listen', 'Recency'],\n",
       "      dtype='object')"
      ]
     },
     "execution_count": 103,
     "metadata": {},
     "output_type": "execute_result"
    }
   ],
   "source": [
    "user_cluster_df.columns"
   ]
  },
  {
   "cell_type": "code",
   "execution_count": 108,
   "metadata": {
    "collapsed": true
   },
   "outputs": [
    {
     "data": {
      "text/html": [
       "<div>\n",
       "<style scoped>\n",
       "    .dataframe tbody tr th:only-of-type {\n",
       "        vertical-align: middle;\n",
       "    }\n",
       "\n",
       "    .dataframe tbody tr th {\n",
       "        vertical-align: top;\n",
       "    }\n",
       "\n",
       "    .dataframe thead th {\n",
       "        text-align: right;\n",
       "    }\n",
       "</style>\n",
       "<table border=\"1\" class=\"dataframe\">\n",
       "  <thead>\n",
       "    <tr style=\"text-align: right;\">\n",
       "      <th></th>\n",
       "      <th>User_ID</th>\n",
       "      <th>first_listen_date</th>\n",
       "      <th>last_listen_date</th>\n",
       "      <th>avg_duration_per_listen</th>\n",
       "      <th>std_avg_duration_per_listen</th>\n",
       "      <th>listen_cnt</th>\n",
       "      <th>total_listen_minute</th>\n",
       "      <th>min_purchase_date</th>\n",
       "      <th>max_purchase_date</th>\n",
       "      <th>order_cnt</th>\n",
       "      <th>...</th>\n",
       "      <th>listen_day_cnt</th>\n",
       "      <th>Frequency_listenday</th>\n",
       "      <th>life_week_cnt</th>\n",
       "      <th>Monetary_lifeweek</th>\n",
       "      <th>order_week_cnt</th>\n",
       "      <th>Monetary_orderweek</th>\n",
       "      <th>order_day_cnt</th>\n",
       "      <th>Monetary_orderday</th>\n",
       "      <th>Monetary_per_listen</th>\n",
       "      <th>Recency</th>\n",
       "    </tr>\n",
       "  </thead>\n",
       "  <tbody>\n",
       "    <tr>\n",
       "      <th>6505</th>\n",
       "      <td>57378</td>\n",
       "      <td>2020-11-10</td>\n",
       "      <td>2020-11-10</td>\n",
       "      <td>15.661905</td>\n",
       "      <td>7.547481</td>\n",
       "      <td>21.0</td>\n",
       "      <td>328.9</td>\n",
       "      <td>2020-10-01</td>\n",
       "      <td>2020-10-01</td>\n",
       "      <td>1.0</td>\n",
       "      <td>...</td>\n",
       "      <td>1.0</td>\n",
       "      <td>21.0</td>\n",
       "      <td>7.0</td>\n",
       "      <td>85571.428571</td>\n",
       "      <td>1.0</td>\n",
       "      <td>599000.0</td>\n",
       "      <td>1.0</td>\n",
       "      <td>599000.000000</td>\n",
       "      <td>28523.809524</td>\n",
       "      <td>51</td>\n",
       "    </tr>\n",
       "    <tr>\n",
       "      <th>7624</th>\n",
       "      <td>61044</td>\n",
       "      <td>2020-12-29</td>\n",
       "      <td>2020-12-30</td>\n",
       "      <td>31.300000</td>\n",
       "      <td>21.578495</td>\n",
       "      <td>36.0</td>\n",
       "      <td>1126.8</td>\n",
       "      <td>2020-12-26</td>\n",
       "      <td>2020-12-26</td>\n",
       "      <td>1.0</td>\n",
       "      <td>...</td>\n",
       "      <td>2.0</td>\n",
       "      <td>18.0</td>\n",
       "      <td>13.0</td>\n",
       "      <td>32307.692308</td>\n",
       "      <td>1.0</td>\n",
       "      <td>420000.0</td>\n",
       "      <td>1.0</td>\n",
       "      <td>420000.000000</td>\n",
       "      <td>11666.666667</td>\n",
       "      <td>1</td>\n",
       "    </tr>\n",
       "    <tr>\n",
       "      <th>12972</th>\n",
       "      <td>73416</td>\n",
       "      <td>2020-11-03</td>\n",
       "      <td>2020-11-04</td>\n",
       "      <td>2.490698</td>\n",
       "      <td>8.506771</td>\n",
       "      <td>43.0</td>\n",
       "      <td>107.1</td>\n",
       "      <td>2020-11-03</td>\n",
       "      <td>2020-11-03</td>\n",
       "      <td>1.0</td>\n",
       "      <td>...</td>\n",
       "      <td>2.0</td>\n",
       "      <td>21.5</td>\n",
       "      <td>1.0</td>\n",
       "      <td>9000.000000</td>\n",
       "      <td>1.0</td>\n",
       "      <td>9000.0</td>\n",
       "      <td>1.0</td>\n",
       "      <td>9000.000000</td>\n",
       "      <td>209.302326</td>\n",
       "      <td>57</td>\n",
       "    </tr>\n",
       "    <tr>\n",
       "      <th>14628</th>\n",
       "      <td>76980</td>\n",
       "      <td>2020-11-10</td>\n",
       "      <td>2020-11-10</td>\n",
       "      <td>0.581818</td>\n",
       "      <td>0.978160</td>\n",
       "      <td>22.0</td>\n",
       "      <td>12.8</td>\n",
       "      <td>2020-11-10</td>\n",
       "      <td>2020-11-10</td>\n",
       "      <td>1.0</td>\n",
       "      <td>...</td>\n",
       "      <td>1.0</td>\n",
       "      <td>22.0</td>\n",
       "      <td>1.0</td>\n",
       "      <td>199000.000000</td>\n",
       "      <td>1.0</td>\n",
       "      <td>199000.0</td>\n",
       "      <td>1.0</td>\n",
       "      <td>199000.000000</td>\n",
       "      <td>9045.454545</td>\n",
       "      <td>51</td>\n",
       "    </tr>\n",
       "    <tr>\n",
       "      <th>15449</th>\n",
       "      <td>78868</td>\n",
       "      <td>2020-11-29</td>\n",
       "      <td>2020-11-29</td>\n",
       "      <td>13.850000</td>\n",
       "      <td>11.493112</td>\n",
       "      <td>32.0</td>\n",
       "      <td>443.2</td>\n",
       "      <td>2020-11-21</td>\n",
       "      <td>2020-11-21</td>\n",
       "      <td>1.0</td>\n",
       "      <td>...</td>\n",
       "      <td>1.0</td>\n",
       "      <td>32.0</td>\n",
       "      <td>3.0</td>\n",
       "      <td>66333.333333</td>\n",
       "      <td>1.0</td>\n",
       "      <td>199000.0</td>\n",
       "      <td>1.0</td>\n",
       "      <td>199000.000000</td>\n",
       "      <td>6218.750000</td>\n",
       "      <td>32</td>\n",
       "    </tr>\n",
       "    <tr>\n",
       "      <th>17291</th>\n",
       "      <td>82953</td>\n",
       "      <td>2020-11-21</td>\n",
       "      <td>2020-11-25</td>\n",
       "      <td>11.223256</td>\n",
       "      <td>36.252305</td>\n",
       "      <td>172.0</td>\n",
       "      <td>1930.4</td>\n",
       "      <td>2020-11-21</td>\n",
       "      <td>2020-11-21</td>\n",
       "      <td>1.0</td>\n",
       "      <td>...</td>\n",
       "      <td>5.0</td>\n",
       "      <td>34.4</td>\n",
       "      <td>1.0</td>\n",
       "      <td>9000.000000</td>\n",
       "      <td>1.0</td>\n",
       "      <td>9000.0</td>\n",
       "      <td>1.0</td>\n",
       "      <td>9000.000000</td>\n",
       "      <td>52.325581</td>\n",
       "      <td>36</td>\n",
       "    </tr>\n",
       "    <tr>\n",
       "      <th>17716</th>\n",
       "      <td>83850</td>\n",
       "      <td>2020-12-02</td>\n",
       "      <td>2020-12-02</td>\n",
       "      <td>13.048148</td>\n",
       "      <td>9.704613</td>\n",
       "      <td>27.0</td>\n",
       "      <td>352.3</td>\n",
       "      <td>2020-11-24</td>\n",
       "      <td>2020-11-24</td>\n",
       "      <td>1.0</td>\n",
       "      <td>...</td>\n",
       "      <td>1.0</td>\n",
       "      <td>27.0</td>\n",
       "      <td>2.0</td>\n",
       "      <td>79500.000000</td>\n",
       "      <td>1.0</td>\n",
       "      <td>159000.0</td>\n",
       "      <td>1.0</td>\n",
       "      <td>159000.000000</td>\n",
       "      <td>5888.888889</td>\n",
       "      <td>29</td>\n",
       "    </tr>\n",
       "    <tr>\n",
       "      <th>17834</th>\n",
       "      <td>84148</td>\n",
       "      <td>2020-12-14</td>\n",
       "      <td>2020-12-14</td>\n",
       "      <td>24.711111</td>\n",
       "      <td>21.783720</td>\n",
       "      <td>18.0</td>\n",
       "      <td>444.8</td>\n",
       "      <td>2020-11-25</td>\n",
       "      <td>2020-11-25</td>\n",
       "      <td>1.0</td>\n",
       "      <td>...</td>\n",
       "      <td>1.0</td>\n",
       "      <td>18.0</td>\n",
       "      <td>4.0</td>\n",
       "      <td>39750.000000</td>\n",
       "      <td>1.0</td>\n",
       "      <td>159000.0</td>\n",
       "      <td>1.0</td>\n",
       "      <td>159000.000000</td>\n",
       "      <td>8833.333333</td>\n",
       "      <td>17</td>\n",
       "    </tr>\n",
       "    <tr>\n",
       "      <th>18599</th>\n",
       "      <td>85851</td>\n",
       "      <td>2020-12-15</td>\n",
       "      <td>2020-12-15</td>\n",
       "      <td>11.988235</td>\n",
       "      <td>7.650382</td>\n",
       "      <td>34.0</td>\n",
       "      <td>407.6</td>\n",
       "      <td>2020-12-15</td>\n",
       "      <td>2020-12-15</td>\n",
       "      <td>1.0</td>\n",
       "      <td>...</td>\n",
       "      <td>1.0</td>\n",
       "      <td>34.0</td>\n",
       "      <td>3.0</td>\n",
       "      <td>66333.333333</td>\n",
       "      <td>1.0</td>\n",
       "      <td>199000.0</td>\n",
       "      <td>1.0</td>\n",
       "      <td>199000.000000</td>\n",
       "      <td>5852.941176</td>\n",
       "      <td>16</td>\n",
       "    </tr>\n",
       "    <tr>\n",
       "      <th>18997</th>\n",
       "      <td>86736</td>\n",
       "      <td>2020-12-29</td>\n",
       "      <td>2020-12-29</td>\n",
       "      <td>35.637500</td>\n",
       "      <td>13.296479</td>\n",
       "      <td>24.0</td>\n",
       "      <td>855.3</td>\n",
       "      <td>2020-09-21</td>\n",
       "      <td>2020-11-28</td>\n",
       "      <td>2.0</td>\n",
       "      <td>...</td>\n",
       "      <td>1.0</td>\n",
       "      <td>24.0</td>\n",
       "      <td>5.0</td>\n",
       "      <td>18000.000000</td>\n",
       "      <td>10.0</td>\n",
       "      <td>9000.0</td>\n",
       "      <td>69.0</td>\n",
       "      <td>1304.347826</td>\n",
       "      <td>3750.000000</td>\n",
       "      <td>2</td>\n",
       "    </tr>\n",
       "    <tr>\n",
       "      <th>19299</th>\n",
       "      <td>87414</td>\n",
       "      <td>2020-12-01</td>\n",
       "      <td>2020-12-01</td>\n",
       "      <td>0.666667</td>\n",
       "      <td>0.895731</td>\n",
       "      <td>21.0</td>\n",
       "      <td>14.0</td>\n",
       "      <td>2020-12-01</td>\n",
       "      <td>2020-12-01</td>\n",
       "      <td>1.0</td>\n",
       "      <td>...</td>\n",
       "      <td>1.0</td>\n",
       "      <td>21.0</td>\n",
       "      <td>1.0</td>\n",
       "      <td>9000.000000</td>\n",
       "      <td>1.0</td>\n",
       "      <td>9000.0</td>\n",
       "      <td>1.0</td>\n",
       "      <td>9000.000000</td>\n",
       "      <td>428.571429</td>\n",
       "      <td>30</td>\n",
       "    </tr>\n",
       "    <tr>\n",
       "      <th>19494</th>\n",
       "      <td>87837</td>\n",
       "      <td>2020-12-20</td>\n",
       "      <td>2020-12-20</td>\n",
       "      <td>11.275862</td>\n",
       "      <td>6.359057</td>\n",
       "      <td>29.0</td>\n",
       "      <td>327.0</td>\n",
       "      <td>2020-12-01</td>\n",
       "      <td>2020-12-01</td>\n",
       "      <td>1.0</td>\n",
       "      <td>...</td>\n",
       "      <td>1.0</td>\n",
       "      <td>29.0</td>\n",
       "      <td>3.0</td>\n",
       "      <td>92000.000000</td>\n",
       "      <td>1.0</td>\n",
       "      <td>276000.0</td>\n",
       "      <td>1.0</td>\n",
       "      <td>276000.000000</td>\n",
       "      <td>9517.241379</td>\n",
       "      <td>11</td>\n",
       "    </tr>\n",
       "    <tr>\n",
       "      <th>19845</th>\n",
       "      <td>88676</td>\n",
       "      <td>2020-12-12</td>\n",
       "      <td>2020-12-12</td>\n",
       "      <td>10.225000</td>\n",
       "      <td>7.899492</td>\n",
       "      <td>20.0</td>\n",
       "      <td>204.5</td>\n",
       "      <td>2020-12-09</td>\n",
       "      <td>2020-12-09</td>\n",
       "      <td>1.0</td>\n",
       "      <td>...</td>\n",
       "      <td>1.0</td>\n",
       "      <td>20.0</td>\n",
       "      <td>2.0</td>\n",
       "      <td>299500.000000</td>\n",
       "      <td>1.0</td>\n",
       "      <td>599000.0</td>\n",
       "      <td>1.0</td>\n",
       "      <td>599000.000000</td>\n",
       "      <td>29950.000000</td>\n",
       "      <td>19</td>\n",
       "    </tr>\n",
       "    <tr>\n",
       "      <th>19910</th>\n",
       "      <td>88822</td>\n",
       "      <td>2020-12-14</td>\n",
       "      <td>2020-12-14</td>\n",
       "      <td>9.675862</td>\n",
       "      <td>6.015673</td>\n",
       "      <td>29.0</td>\n",
       "      <td>280.6</td>\n",
       "      <td>2020-12-02</td>\n",
       "      <td>2020-12-02</td>\n",
       "      <td>1.0</td>\n",
       "      <td>...</td>\n",
       "      <td>1.0</td>\n",
       "      <td>29.0</td>\n",
       "      <td>2.0</td>\n",
       "      <td>99500.000000</td>\n",
       "      <td>1.0</td>\n",
       "      <td>199000.0</td>\n",
       "      <td>1.0</td>\n",
       "      <td>199000.000000</td>\n",
       "      <td>6862.068966</td>\n",
       "      <td>17</td>\n",
       "    </tr>\n",
       "    <tr>\n",
       "      <th>21621</th>\n",
       "      <td>92823</td>\n",
       "      <td>2020-12-27</td>\n",
       "      <td>2020-12-31</td>\n",
       "      <td>17.870909</td>\n",
       "      <td>24.582038</td>\n",
       "      <td>110.0</td>\n",
       "      <td>1965.8</td>\n",
       "      <td>2020-12-27</td>\n",
       "      <td>2020-12-27</td>\n",
       "      <td>1.0</td>\n",
       "      <td>...</td>\n",
       "      <td>5.0</td>\n",
       "      <td>22.0</td>\n",
       "      <td>4.0</td>\n",
       "      <td>86250.000000</td>\n",
       "      <td>1.0</td>\n",
       "      <td>345000.0</td>\n",
       "      <td>1.0</td>\n",
       "      <td>345000.000000</td>\n",
       "      <td>3136.363636</td>\n",
       "      <td>0</td>\n",
       "    </tr>\n",
       "    <tr>\n",
       "      <th>21724</th>\n",
       "      <td>93088</td>\n",
       "      <td>2020-12-30</td>\n",
       "      <td>2020-12-30</td>\n",
       "      <td>30.170000</td>\n",
       "      <td>18.841167</td>\n",
       "      <td>20.0</td>\n",
       "      <td>603.4</td>\n",
       "      <td>2020-12-10</td>\n",
       "      <td>2020-12-10</td>\n",
       "      <td>1.0</td>\n",
       "      <td>...</td>\n",
       "      <td>1.0</td>\n",
       "      <td>20.0</td>\n",
       "      <td>3.0</td>\n",
       "      <td>66333.333333</td>\n",
       "      <td>1.0</td>\n",
       "      <td>199000.0</td>\n",
       "      <td>1.0</td>\n",
       "      <td>199000.000000</td>\n",
       "      <td>9950.000000</td>\n",
       "      <td>1</td>\n",
       "    </tr>\n",
       "    <tr>\n",
       "      <th>21870</th>\n",
       "      <td>93450</td>\n",
       "      <td>2020-12-24</td>\n",
       "      <td>2020-12-25</td>\n",
       "      <td>10.198361</td>\n",
       "      <td>5.659490</td>\n",
       "      <td>61.0</td>\n",
       "      <td>622.1</td>\n",
       "      <td>2020-12-11</td>\n",
       "      <td>2020-12-11</td>\n",
       "      <td>1.0</td>\n",
       "      <td>...</td>\n",
       "      <td>2.0</td>\n",
       "      <td>30.5</td>\n",
       "      <td>3.0</td>\n",
       "      <td>66333.333333</td>\n",
       "      <td>1.0</td>\n",
       "      <td>199000.0</td>\n",
       "      <td>1.0</td>\n",
       "      <td>199000.000000</td>\n",
       "      <td>3262.295082</td>\n",
       "      <td>6</td>\n",
       "    </tr>\n",
       "    <tr>\n",
       "      <th>23995</th>\n",
       "      <td>98716</td>\n",
       "      <td>2020-12-26</td>\n",
       "      <td>2020-12-26</td>\n",
       "      <td>34.750000</td>\n",
       "      <td>22.647005</td>\n",
       "      <td>20.0</td>\n",
       "      <td>695.0</td>\n",
       "      <td>2020-12-22</td>\n",
       "      <td>2020-12-22</td>\n",
       "      <td>1.0</td>\n",
       "      <td>...</td>\n",
       "      <td>1.0</td>\n",
       "      <td>20.0</td>\n",
       "      <td>2.0</td>\n",
       "      <td>99500.000000</td>\n",
       "      <td>1.0</td>\n",
       "      <td>199000.0</td>\n",
       "      <td>1.0</td>\n",
       "      <td>199000.000000</td>\n",
       "      <td>9950.000000</td>\n",
       "      <td>5</td>\n",
       "    </tr>\n",
       "    <tr>\n",
       "      <th>24241</th>\n",
       "      <td>99308</td>\n",
       "      <td>2020-12-29</td>\n",
       "      <td>2020-12-29</td>\n",
       "      <td>33.945000</td>\n",
       "      <td>23.596085</td>\n",
       "      <td>20.0</td>\n",
       "      <td>678.9</td>\n",
       "      <td>2020-12-23</td>\n",
       "      <td>2020-12-23</td>\n",
       "      <td>1.0</td>\n",
       "      <td>...</td>\n",
       "      <td>1.0</td>\n",
       "      <td>20.0</td>\n",
       "      <td>2.0</td>\n",
       "      <td>210000.000000</td>\n",
       "      <td>1.0</td>\n",
       "      <td>420000.0</td>\n",
       "      <td>1.0</td>\n",
       "      <td>420000.000000</td>\n",
       "      <td>21000.000000</td>\n",
       "      <td>2</td>\n",
       "    </tr>\n",
       "    <tr>\n",
       "      <th>25751</th>\n",
       "      <td>103174</td>\n",
       "      <td>2020-12-29</td>\n",
       "      <td>2020-12-29</td>\n",
       "      <td>56.671429</td>\n",
       "      <td>89.491961</td>\n",
       "      <td>28.0</td>\n",
       "      <td>1586.8</td>\n",
       "      <td>2020-12-25</td>\n",
       "      <td>2020-12-25</td>\n",
       "      <td>1.0</td>\n",
       "      <td>...</td>\n",
       "      <td>1.0</td>\n",
       "      <td>28.0</td>\n",
       "      <td>1.0</td>\n",
       "      <td>420000.000000</td>\n",
       "      <td>1.0</td>\n",
       "      <td>420000.0</td>\n",
       "      <td>1.0</td>\n",
       "      <td>420000.000000</td>\n",
       "      <td>15000.000000</td>\n",
       "      <td>2</td>\n",
       "    </tr>\n",
       "    <tr>\n",
       "      <th>25938</th>\n",
       "      <td>103669</td>\n",
       "      <td>2020-12-26</td>\n",
       "      <td>2020-12-26</td>\n",
       "      <td>12.644186</td>\n",
       "      <td>13.447151</td>\n",
       "      <td>43.0</td>\n",
       "      <td>543.7</td>\n",
       "      <td>2020-12-26</td>\n",
       "      <td>2020-12-26</td>\n",
       "      <td>2.0</td>\n",
       "      <td>...</td>\n",
       "      <td>1.0</td>\n",
       "      <td>43.0</td>\n",
       "      <td>1.0</td>\n",
       "      <td>285000.000000</td>\n",
       "      <td>1.0</td>\n",
       "      <td>285000.0</td>\n",
       "      <td>1.0</td>\n",
       "      <td>285000.000000</td>\n",
       "      <td>6627.906977</td>\n",
       "      <td>5</td>\n",
       "    </tr>\n",
       "  </tbody>\n",
       "</table>\n",
       "<p>21 rows × 27 columns</p>\n",
       "</div>"
      ],
      "text/plain": [
       "      User_ID first_listen_date last_listen_date  avg_duration_per_listen  \\\n",
       "6505    57378        2020-11-10       2020-11-10                15.661905   \n",
       "7624    61044        2020-12-29       2020-12-30                31.300000   \n",
       "12972   73416        2020-11-03       2020-11-04                 2.490698   \n",
       "14628   76980        2020-11-10       2020-11-10                 0.581818   \n",
       "15449   78868        2020-11-29       2020-11-29                13.850000   \n",
       "17291   82953        2020-11-21       2020-11-25                11.223256   \n",
       "17716   83850        2020-12-02       2020-12-02                13.048148   \n",
       "17834   84148        2020-12-14       2020-12-14                24.711111   \n",
       "18599   85851        2020-12-15       2020-12-15                11.988235   \n",
       "18997   86736        2020-12-29       2020-12-29                35.637500   \n",
       "19299   87414        2020-12-01       2020-12-01                 0.666667   \n",
       "19494   87837        2020-12-20       2020-12-20                11.275862   \n",
       "19845   88676        2020-12-12       2020-12-12                10.225000   \n",
       "19910   88822        2020-12-14       2020-12-14                 9.675862   \n",
       "21621   92823        2020-12-27       2020-12-31                17.870909   \n",
       "21724   93088        2020-12-30       2020-12-30                30.170000   \n",
       "21870   93450        2020-12-24       2020-12-25                10.198361   \n",
       "23995   98716        2020-12-26       2020-12-26                34.750000   \n",
       "24241   99308        2020-12-29       2020-12-29                33.945000   \n",
       "25751  103174        2020-12-29       2020-12-29                56.671429   \n",
       "25938  103669        2020-12-26       2020-12-26                12.644186   \n",
       "\n",
       "       std_avg_duration_per_listen  listen_cnt  total_listen_minute  \\\n",
       "6505                      7.547481        21.0                328.9   \n",
       "7624                     21.578495        36.0               1126.8   \n",
       "12972                     8.506771        43.0                107.1   \n",
       "14628                     0.978160        22.0                 12.8   \n",
       "15449                    11.493112        32.0                443.2   \n",
       "17291                    36.252305       172.0               1930.4   \n",
       "17716                     9.704613        27.0                352.3   \n",
       "17834                    21.783720        18.0                444.8   \n",
       "18599                     7.650382        34.0                407.6   \n",
       "18997                    13.296479        24.0                855.3   \n",
       "19299                     0.895731        21.0                 14.0   \n",
       "19494                     6.359057        29.0                327.0   \n",
       "19845                     7.899492        20.0                204.5   \n",
       "19910                     6.015673        29.0                280.6   \n",
       "21621                    24.582038       110.0               1965.8   \n",
       "21724                    18.841167        20.0                603.4   \n",
       "21870                     5.659490        61.0                622.1   \n",
       "23995                    22.647005        20.0                695.0   \n",
       "24241                    23.596085        20.0                678.9   \n",
       "25751                    89.491961        28.0               1586.8   \n",
       "25938                    13.447151        43.0                543.7   \n",
       "\n",
       "      min_purchase_date max_purchase_date  order_cnt  ...  listen_day_cnt  \\\n",
       "6505         2020-10-01        2020-10-01        1.0  ...             1.0   \n",
       "7624         2020-12-26        2020-12-26        1.0  ...             2.0   \n",
       "12972        2020-11-03        2020-11-03        1.0  ...             2.0   \n",
       "14628        2020-11-10        2020-11-10        1.0  ...             1.0   \n",
       "15449        2020-11-21        2020-11-21        1.0  ...             1.0   \n",
       "17291        2020-11-21        2020-11-21        1.0  ...             5.0   \n",
       "17716        2020-11-24        2020-11-24        1.0  ...             1.0   \n",
       "17834        2020-11-25        2020-11-25        1.0  ...             1.0   \n",
       "18599        2020-12-15        2020-12-15        1.0  ...             1.0   \n",
       "18997        2020-09-21        2020-11-28        2.0  ...             1.0   \n",
       "19299        2020-12-01        2020-12-01        1.0  ...             1.0   \n",
       "19494        2020-12-01        2020-12-01        1.0  ...             1.0   \n",
       "19845        2020-12-09        2020-12-09        1.0  ...             1.0   \n",
       "19910        2020-12-02        2020-12-02        1.0  ...             1.0   \n",
       "21621        2020-12-27        2020-12-27        1.0  ...             5.0   \n",
       "21724        2020-12-10        2020-12-10        1.0  ...             1.0   \n",
       "21870        2020-12-11        2020-12-11        1.0  ...             2.0   \n",
       "23995        2020-12-22        2020-12-22        1.0  ...             1.0   \n",
       "24241        2020-12-23        2020-12-23        1.0  ...             1.0   \n",
       "25751        2020-12-25        2020-12-25        1.0  ...             1.0   \n",
       "25938        2020-12-26        2020-12-26        2.0  ...             1.0   \n",
       "\n",
       "      Frequency_listenday life_week_cnt  Monetary_lifeweek order_week_cnt  \\\n",
       "6505                 21.0           7.0       85571.428571            1.0   \n",
       "7624                 18.0          13.0       32307.692308            1.0   \n",
       "12972                21.5           1.0        9000.000000            1.0   \n",
       "14628                22.0           1.0      199000.000000            1.0   \n",
       "15449                32.0           3.0       66333.333333            1.0   \n",
       "17291                34.4           1.0        9000.000000            1.0   \n",
       "17716                27.0           2.0       79500.000000            1.0   \n",
       "17834                18.0           4.0       39750.000000            1.0   \n",
       "18599                34.0           3.0       66333.333333            1.0   \n",
       "18997                24.0           5.0       18000.000000           10.0   \n",
       "19299                21.0           1.0        9000.000000            1.0   \n",
       "19494                29.0           3.0       92000.000000            1.0   \n",
       "19845                20.0           2.0      299500.000000            1.0   \n",
       "19910                29.0           2.0       99500.000000            1.0   \n",
       "21621                22.0           4.0       86250.000000            1.0   \n",
       "21724                20.0           3.0       66333.333333            1.0   \n",
       "21870                30.5           3.0       66333.333333            1.0   \n",
       "23995                20.0           2.0       99500.000000            1.0   \n",
       "24241                20.0           2.0      210000.000000            1.0   \n",
       "25751                28.0           1.0      420000.000000            1.0   \n",
       "25938                43.0           1.0      285000.000000            1.0   \n",
       "\n",
       "       Monetary_orderweek  order_day_cnt  Monetary_orderday  \\\n",
       "6505             599000.0            1.0      599000.000000   \n",
       "7624             420000.0            1.0      420000.000000   \n",
       "12972              9000.0            1.0        9000.000000   \n",
       "14628            199000.0            1.0      199000.000000   \n",
       "15449            199000.0            1.0      199000.000000   \n",
       "17291              9000.0            1.0        9000.000000   \n",
       "17716            159000.0            1.0      159000.000000   \n",
       "17834            159000.0            1.0      159000.000000   \n",
       "18599            199000.0            1.0      199000.000000   \n",
       "18997              9000.0           69.0        1304.347826   \n",
       "19299              9000.0            1.0        9000.000000   \n",
       "19494            276000.0            1.0      276000.000000   \n",
       "19845            599000.0            1.0      599000.000000   \n",
       "19910            199000.0            1.0      199000.000000   \n",
       "21621            345000.0            1.0      345000.000000   \n",
       "21724            199000.0            1.0      199000.000000   \n",
       "21870            199000.0            1.0      199000.000000   \n",
       "23995            199000.0            1.0      199000.000000   \n",
       "24241            420000.0            1.0      420000.000000   \n",
       "25751            420000.0            1.0      420000.000000   \n",
       "25938            285000.0            1.0      285000.000000   \n",
       "\n",
       "       Monetary_per_listen  Recency  \n",
       "6505          28523.809524       51  \n",
       "7624          11666.666667        1  \n",
       "12972           209.302326       57  \n",
       "14628          9045.454545       51  \n",
       "15449          6218.750000       32  \n",
       "17291            52.325581       36  \n",
       "17716          5888.888889       29  \n",
       "17834          8833.333333       17  \n",
       "18599          5852.941176       16  \n",
       "18997          3750.000000        2  \n",
       "19299           428.571429       30  \n",
       "19494          9517.241379       11  \n",
       "19845         29950.000000       19  \n",
       "19910          6862.068966       17  \n",
       "21621          3136.363636        0  \n",
       "21724          9950.000000        1  \n",
       "21870          3262.295082        6  \n",
       "23995          9950.000000        5  \n",
       "24241         21000.000000        2  \n",
       "25751         15000.000000        2  \n",
       "25938          6627.906977        5  \n",
       "\n",
       "[21 rows x 27 columns]"
      ]
     },
     "execution_count": 108,
     "metadata": {},
     "output_type": "execute_result"
    }
   ],
   "source": [
    "user_cluster_df[(user_cluster_df.Frequency_listenday >= 18.0) & (user_cluster_df.type_user == 'subcribe')]"
   ]
  },
  {
   "cell_type": "code",
   "execution_count": null,
   "metadata": {},
   "outputs": [],
   "source": [
    "# Gộp nhóm 2+3"
   ]
  },
  {
   "cell_type": "markdown",
   "metadata": {},
   "source": [
    "#### 4.Summary: Frequency chia làm 4 nhóm:\n",
    "1. Nhóm 0: ít dùng : mỗi ngày khoảng 0-2 lần\n",
    "2. Nhóm 1: dùng tương đối: mỗi ngày khoảng 5-7 lần\n",
    "3. Nhóm 2: Hay dùng: mỗi ngày khoảng 10-15 lần\n",
    "4. Nhóm 3: Rất hay dùng: mỗi ngày khoảng >20 lần"
   ]
  },
  {
   "cell_type": "markdown",
   "metadata": {},
   "source": [
    "### Monetary - số tiền cho 1  order_day"
   ]
  },
  {
   "cell_type": "markdown",
   "metadata": {},
   "source": [
    "#### 1. Plot M"
   ]
  },
  {
   "cell_type": "code",
   "execution_count": 114,
   "metadata": {},
   "outputs": [
    {
     "data": {
      "text/plain": [
       "count       2638.000000\n",
       "mean      211895.714952\n",
       "std       211175.580428\n",
       "min          151.260504\n",
       "25%         9000.000000\n",
       "50%       199000.000000\n",
       "75%       244000.000000\n",
       "max      1000000.000000\n",
       "Name: Monetary, dtype: float64"
      ]
     },
     "execution_count": 114,
     "metadata": {},
     "output_type": "execute_result"
    }
   ],
   "source": [
    "subcribe_cluster_df[\"Monetary\"].describe()"
   ]
  },
  {
   "cell_type": "code",
   "execution_count": 115,
   "metadata": {
    "scrolled": true
   },
   "outputs": [
    {
     "data": {
      "image/png": "[encoded data removed]",
      "text/plain": [
       "<Figure size 432x288 with 1 Axes>"
      ]
     },
     "metadata": {
      "needs_background": "light"
     },
     "output_type": "display_data"
    }
   ],
   "source": [
    "sns.histplot(data=subcribe_cluster_df,x='Monetary');"
   ]
  },
  {
   "cell_type": "markdown",
   "metadata": {},
   "source": [
    "#### 2. Determine K for Monerary"
   ]
  },
  {
   "cell_type": "code",
   "execution_count": 116,
   "metadata": {},
   "outputs": [
    {
     "data": {
      "image/png": "[encoded data removed]",
      "text/plain": [
       "<Figure size 432x288 with 1 Axes>"
      ]
     },
     "metadata": {
      "needs_background": "light"
     },
     "output_type": "display_data"
    }
   ],
   "source": [
    "## Elbow Method to determine K\n",
    "\n",
    "sse = find_sse(subcribe_cluster_df.loc[:,['Monetary']], max_k = 10) \n",
    "\n",
    "plt.figure()\n",
    "plt.plot(list(sse.keys()),list(sse.values()))\n",
    "plt.xlabel(\"Number of clusters\")\n",
    "plt.show() \n",
    "\n",
    "# k_optimal  = 3"
   ]
  },
  {
   "cell_type": "markdown",
   "metadata": {},
   "source": [
    "#### 3. Monerary Clustering"
   ]
  },
  {
   "cell_type": "code",
   "execution_count": 119,
   "metadata": {},
   "outputs": [
    {
     "data": {
      "text/html": [
       "<div>\n",
       "<style scoped>\n",
       "    .dataframe tbody tr th:only-of-type {\n",
       "        vertical-align: middle;\n",
       "    }\n",
       "\n",
       "    .dataframe tbody tr th {\n",
       "        vertical-align: top;\n",
       "    }\n",
       "\n",
       "    .dataframe thead th {\n",
       "        text-align: right;\n",
       "    }\n",
       "</style>\n",
       "<table border=\"1\" class=\"dataframe\">\n",
       "  <thead>\n",
       "    <tr style=\"text-align: right;\">\n",
       "      <th></th>\n",
       "      <th>count</th>\n",
       "      <th>mean</th>\n",
       "      <th>std</th>\n",
       "      <th>min</th>\n",
       "      <th>25%</th>\n",
       "      <th>50%</th>\n",
       "      <th>75%</th>\n",
       "      <th>max</th>\n",
       "    </tr>\n",
       "    <tr>\n",
       "      <th>MonetaryCluster</th>\n",
       "      <th></th>\n",
       "      <th></th>\n",
       "      <th></th>\n",
       "      <th></th>\n",
       "      <th></th>\n",
       "      <th></th>\n",
       "      <th></th>\n",
       "      <th></th>\n",
       "    </tr>\n",
       "  </thead>\n",
       "  <tbody>\n",
       "    <tr>\n",
       "      <th>0</th>\n",
       "      <td>965.0</td>\n",
       "      <td>15740.257060</td>\n",
       "      <td>18898.345014</td>\n",
       "      <td>151.260504</td>\n",
       "      <td>4692.307692</td>\n",
       "      <td>9000.0</td>\n",
       "      <td>11461.538462</td>\n",
       "      <td>99000.0</td>\n",
       "    </tr>\n",
       "    <tr>\n",
       "      <th>1</th>\n",
       "      <td>1046.0</td>\n",
       "      <td>188702.722734</td>\n",
       "      <td>27943.433284</td>\n",
       "      <td>104000.000000</td>\n",
       "      <td>159000.000000</td>\n",
       "      <td>199000.0</td>\n",
       "      <td>199000.000000</td>\n",
       "      <td>314500.0</td>\n",
       "    </tr>\n",
       "    <tr>\n",
       "      <th>2</th>\n",
       "      <td>241.0</td>\n",
       "      <td>456707.468880</td>\n",
       "      <td>61269.031960</td>\n",
       "      <td>345000.000000</td>\n",
       "      <td>420000.000000</td>\n",
       "      <td>499000.0</td>\n",
       "      <td>499000.000000</td>\n",
       "      <td>499000.0</td>\n",
       "    </tr>\n",
       "    <tr>\n",
       "      <th>3</th>\n",
       "      <td>386.0</td>\n",
       "      <td>612284.974093</td>\n",
       "      <td>62816.050824</td>\n",
       "      <td>559000.000000</td>\n",
       "      <td>599000.000000</td>\n",
       "      <td>599000.0</td>\n",
       "      <td>599000.000000</td>\n",
       "      <td>1000000.0</td>\n",
       "    </tr>\n",
       "  </tbody>\n",
       "</table>\n",
       "</div>"
      ],
      "text/plain": [
       "                  count           mean           std            min  \\\n",
       "MonetaryCluster                                                       \n",
       "0                 965.0   15740.257060  18898.345014     151.260504   \n",
       "1                1046.0  188702.722734  27943.433284  104000.000000   \n",
       "2                 241.0  456707.468880  61269.031960  345000.000000   \n",
       "3                 386.0  612284.974093  62816.050824  559000.000000   \n",
       "\n",
       "                           25%       50%            75%        max  \n",
       "MonetaryCluster                                                     \n",
       "0                  4692.307692    9000.0   11461.538462    99000.0  \n",
       "1                159000.000000  199000.0  199000.000000   314500.0  \n",
       "2                420000.000000  499000.0  499000.000000   499000.0  \n",
       "3                599000.000000  599000.0  599000.000000  1000000.0  "
      ]
     },
     "execution_count": 119,
     "metadata": {},
     "output_type": "execute_result"
    }
   ],
   "source": [
    "# ## MonetaryCluster_k = 3\n",
    "k_clus = 4\n",
    "subcribe_cluster_df = run_kmean_clustering(subcribe_cluster_df,[\"Monetary\"],k_cluster=k_clus)\n",
    "\n",
    "## Sắp theo thứ tự R càng thấp thì Cluster càng cao\n",
    "subcribe_cluster_df = order_cluster('MonetaryCluster', 'Monetary',subcribe_cluster_df,True)\n",
    "subcribe_cluster_df.groupby(\"MonetaryCluster\")['Monetary'].describe()\n",
    "\n",
    "# ## see details of each cluster - Money"
   ]
  },
  {
   "cell_type": "markdown",
   "metadata": {},
   "source": [
    "#### 4.Summary: Monetary chia làm 3 nhóm:\n",
    "1. Nhóm 0: Giá trị thấp: trung bình trả 23k cho mỗi tuần theo order (0->50k)chủ yếu mua gói 9k đề dùng thử \n",
    "2. Nhóm 1: Giá trị TB: trung bình trả 190k cho mỗi tuần theo order (120k - 390k)\n",
    "3. Nhóm 2: Giá trị cao: trung bình trả gần 600k cho mỗi tuần theo order\n",
    "4. Nhóm 3: Giá trị rất cao: trung bình trả gần 1tr cho mỗi tuần theo order"
   ]
  },
  {
   "cell_type": "markdown",
   "metadata": {},
   "source": [
    "### OverallCluster:\n",
    "1. R: 3\n",
    "2. F: 4\n",
    "3. M: 4 (0,1, 2+3)"
   ]
  },
  {
   "cell_type": "code",
   "execution_count": 109,
   "metadata": {},
   "outputs": [],
   "source": [
    "subcribe_cluster_df[\"ClusterCode\"] = subcribe_cluster_df[\"RecencyCluster\"].astype(\"string\")+subcribe_cluster_df[\"FrequencyCluster\"].astype(\"string\")+subcribe_cluster_df[\"MonetaryCluster\"].astype(\"string\")"
   ]
  },
  {
   "cell_type": "code",
   "execution_count": 112,
   "metadata": {
    "collapsed": true
   },
   "outputs": [
    {
     "data": {
      "text/plain": [
       "201    517\n",
       "200    343\n",
       "202    293\n",
       "211    218\n",
       "101    201\n",
       "100    164\n",
       "000    146\n",
       "212    131\n",
       "210    114\n",
       "001     91\n",
       "102     76\n",
       "221     57\n",
       "002     37\n",
       "010     33\n",
       "111     33\n",
       "110     32\n",
       "222     22\n",
       "011     21\n",
       "220     17\n",
       "203     11\n",
       "021     11\n",
       "121     11\n",
       "112      9\n",
       "122      6\n",
       "020      6\n",
       "231      6\n",
       "012      5\n",
       "120      5\n",
       "103      4\n",
       "003      3\n",
       "130      3\n",
       "131      3\n",
       "232      3\n",
       "022      2\n",
       "213      1\n",
       "132      1\n",
       "230      1\n",
       "123      1\n",
       "Name: ClusterCode, dtype: Int64"
      ]
     },
     "execution_count": 112,
     "metadata": {},
     "output_type": "execute_result"
    }
   ],
   "source": [
    "subcribe_cluster_df[\"ClusterCode\"].value_counts()"
   ]
  },
  {
   "cell_type": "markdown",
   "metadata": {},
   "source": [
    "## 2.Free users: RFD CLUSTERING (recency - frequency - Denstity)"
   ]
  },
  {
   "cell_type": "code",
   "execution_count": 32,
   "metadata": {},
   "outputs": [],
   "source": [
    "free_cluster_df1 = free_cluster_df.copy()"
   ]
  },
  {
   "cell_type": "markdown",
   "metadata": {},
   "source": [
    "### Xử lý outlier\n",
    "1. vì free user nên sẽ có 1 số điểm dữ liệu ko phản ánh đúng behavior của người dùng (có thể là các tester dùng để test sản phẩm)"
   ]
  },
  {
   "cell_type": "code",
   "execution_count": 33,
   "metadata": {},
   "outputs": [],
   "source": [
    "def visualize_numerical(df, column, target = None):\n",
    "\n",
    "    fig, (ax1,ax2) = plt.subplots(nrows = 1, ncols = 2, figsize = (14, 4));\n",
    "\n",
    "    sns.histplot(df[column], ax=ax1, kde=True);\n",
    "    ax1.set_xlabel(column);\n",
    "    ax1.set_ylabel('Number');\n",
    "    ax1.set_title(f'{column}  Distribution');\n",
    "    \n",
    "    if(target == None):\n",
    "        sns.boxplot(y=column, data=df, showmeans=True, ax=ax2);\n",
    "        ax2.set_ylabel(column);\n",
    "    else:\n",
    "        sns.boxplot(x=target, y=column, data=df, showmeans=True, ax=ax2);\n",
    "        ax2.set_xlabel('Target');\n",
    "        ax2.set_ylabel(column);\n",
    "    \n",
    "    plt.show()\n",
    "\n",
    "def visualize_numerical_lst(df, numerical = ['age', 'duration', 'campaign', 'pdays', 'previous', 'emp.var.rate',\\\n",
    "                            'cons.price.idx', 'cons.conf.idx', 'euribor3m', 'nr.employed'], target = None):\n",
    "    for column in numerical:\n",
    "        visualize_numerical(df,column, target)\n",
    "        print();"
   ]
  },
  {
   "cell_type": "code",
   "execution_count": 41,
   "metadata": {},
   "outputs": [
    {
     "data": {
      "image/png": "[encoded data removed]",
      "text/plain": [
       "<Figure size 1008x288 with 2 Axes>"
      ]
     },
     "metadata": {
      "needs_background": "light"
     },
     "output_type": "display_data"
    },
    {
     "name": "stdout",
     "output_type": "stream",
     "text": [
      "\n"
     ]
    },
    {
     "data": {
      "image/png": "[encoded data removed]",
      "text/plain": [
       "<Figure size 1008x288 with 2 Axes>"
      ]
     },
     "metadata": {
      "needs_background": "light"
     },
     "output_type": "display_data"
    },
    {
     "name": "stdout",
     "output_type": "stream",
     "text": [
      "\n"
     ]
    },
    {
     "data": {
      "image/png": "[encoded data removed]",
      "text/plain": [
       "<Figure size 1008x288 with 2 Axes>"
      ]
     },
     "metadata": {
      "needs_background": "light"
     },
     "output_type": "display_data"
    },
    {
     "name": "stdout",
     "output_type": "stream",
     "text": [
      "\n"
     ]
    }
   ],
   "source": [
    "visualize_numerical_lst(free_cluster_df,[\"Recency\",\"Frequency\",\"Density\"])"
   ]
  },
  {
   "cell_type": "code",
   "execution_count": 221,
   "metadata": {},
   "outputs": [],
   "source": [
    "# ### Cắt bỏ các user có độ frequency thất thường >80 lần 1 ngày\n",
    "# free_cluster_df = free_cluster_df[free_cluster_df[\"Frequency\"] < 80][]\n",
    "# free_cluster_df.shape[0]"
   ]
  },
  {
   "cell_type": "code",
   "execution_count": 42,
   "metadata": {},
   "outputs": [],
   "source": [
    "### Thay thế Density của các trường hợp >quantile99 bằng chính nó\n",
    "k = 0.995\n",
    "q95 = free_cluster_df[\"Frequency\"].quantile(k)\n",
    "free_cluster_df[\"Frequency\"]=free_cluster_df[\"Frequency\"].map(lambda x: q95 if x>q95 else x)\n",
    "\n",
    "### Thay thế Density của các trường hợp >quantile95 bằng chính nó\n",
    "q95 = free_cluster_df[\"Density\"].quantile(k)\n",
    "free_cluster_df[\"Density\"]=free_cluster_df[\"Density\"].map(lambda x: q95 if x>q95 else x)"
   ]
  },
  {
   "cell_type": "markdown",
   "metadata": {},
   "source": [
    "#### Plot Recency, Frequency, Density"
   ]
  },
  {
   "cell_type": "code",
   "execution_count": 60,
   "metadata": {},
   "outputs": [
    {
     "data": {
      "image/png": "[encoded data removed]",
      "text/plain": [
       "<Figure size 1008x288 with 2 Axes>"
      ]
     },
     "metadata": {
      "needs_background": "light"
     },
     "output_type": "display_data"
    },
    {
     "name": "stdout",
     "output_type": "stream",
     "text": [
      "\n"
     ]
    },
    {
     "data": {
      "image/png": "[encoded data removed]",
      "text/plain": [
       "<Figure size 1008x288 with 2 Axes>"
      ]
     },
     "metadata": {
      "needs_background": "light"
     },
     "output_type": "display_data"
    },
    {
     "name": "stdout",
     "output_type": "stream",
     "text": [
      "\n"
     ]
    },
    {
     "data": {
      "image/png": "[encoded data removed]",
      "text/plain": [
       "<Figure size 1008x288 with 2 Axes>"
      ]
     },
     "metadata": {
      "needs_background": "light"
     },
     "output_type": "display_data"
    },
    {
     "name": "stdout",
     "output_type": "stream",
     "text": [
      "\n"
     ]
    }
   ],
   "source": [
    "visualize_numerical_lst(free_cluster_df,[\"Recency\",\"Frequency\",\"Density\"])"
   ]
  },
  {
   "cell_type": "code",
   "execution_count": 35,
   "metadata": {},
   "outputs": [
    {
     "data": {
      "text/html": [
       "<div>\n",
       "<style scoped>\n",
       "    .dataframe tbody tr th:only-of-type {\n",
       "        vertical-align: middle;\n",
       "    }\n",
       "\n",
       "    .dataframe tbody tr th {\n",
       "        vertical-align: top;\n",
       "    }\n",
       "\n",
       "    .dataframe thead th {\n",
       "        text-align: right;\n",
       "    }\n",
       "</style>\n",
       "<table border=\"1\" class=\"dataframe\">\n",
       "  <thead>\n",
       "    <tr style=\"text-align: right;\">\n",
       "      <th></th>\n",
       "      <th>Recency</th>\n",
       "      <th>Frequency</th>\n",
       "      <th>Density</th>\n",
       "    </tr>\n",
       "  </thead>\n",
       "  <tbody>\n",
       "    <tr>\n",
       "      <th>count</th>\n",
       "      <td>24820.000000</td>\n",
       "      <td>24820.000000</td>\n",
       "      <td>24820.000000</td>\n",
       "    </tr>\n",
       "    <tr>\n",
       "      <th>mean</th>\n",
       "      <td>47.762248</td>\n",
       "      <td>3.230311</td>\n",
       "      <td>9.142206</td>\n",
       "    </tr>\n",
       "    <tr>\n",
       "      <th>std</th>\n",
       "      <td>41.860943</td>\n",
       "      <td>3.934590</td>\n",
       "      <td>11.058499</td>\n",
       "    </tr>\n",
       "    <tr>\n",
       "      <th>min</th>\n",
       "      <td>0.000000</td>\n",
       "      <td>0.016529</td>\n",
       "      <td>0.000000</td>\n",
       "    </tr>\n",
       "    <tr>\n",
       "      <th>20%</th>\n",
       "      <td>9.000000</td>\n",
       "      <td>1.000000</td>\n",
       "      <td>1.107265</td>\n",
       "    </tr>\n",
       "    <tr>\n",
       "      <th>40%</th>\n",
       "      <td>26.000000</td>\n",
       "      <td>1.352305</td>\n",
       "      <td>3.550000</td>\n",
       "    </tr>\n",
       "    <tr>\n",
       "      <th>50%</th>\n",
       "      <td>38.000000</td>\n",
       "      <td>2.000000</td>\n",
       "      <td>5.506039</td>\n",
       "    </tr>\n",
       "    <tr>\n",
       "      <th>60%</th>\n",
       "      <td>49.000000</td>\n",
       "      <td>2.500000</td>\n",
       "      <td>7.900000</td>\n",
       "    </tr>\n",
       "    <tr>\n",
       "      <th>80%</th>\n",
       "      <td>82.000000</td>\n",
       "      <td>5.000000</td>\n",
       "      <td>14.566667</td>\n",
       "    </tr>\n",
       "    <tr>\n",
       "      <th>max</th>\n",
       "      <td>183.000000</td>\n",
       "      <td>28.000000</td>\n",
       "      <td>70.157862</td>\n",
       "    </tr>\n",
       "  </tbody>\n",
       "</table>\n",
       "</div>"
      ],
      "text/plain": [
       "            Recency     Frequency       Density\n",
       "count  24820.000000  24820.000000  24820.000000\n",
       "mean      47.762248      3.230311      9.142206\n",
       "std       41.860943      3.934590     11.058499\n",
       "min        0.000000      0.016529      0.000000\n",
       "20%        9.000000      1.000000      1.107265\n",
       "40%       26.000000      1.352305      3.550000\n",
       "50%       38.000000      2.000000      5.506039\n",
       "60%       49.000000      2.500000      7.900000\n",
       "80%       82.000000      5.000000     14.566667\n",
       "max      183.000000     28.000000     70.157862"
      ]
     },
     "execution_count": 35,
     "metadata": {},
     "output_type": "execute_result"
    }
   ],
   "source": [
    "free_cluster_df[[\"Recency\",\"Frequency\",\"Density\"]].describe(percentiles = [.2,.4,.6,.8])"
   ]
  },
  {
   "cell_type": "markdown",
   "metadata": {},
   "source": [
    "### 1. Recency"
   ]
  },
  {
   "cell_type": "markdown",
   "metadata": {},
   "source": [
    "#### 1. Determine K for Recency"
   ]
  },
  {
   "cell_type": "code",
   "execution_count": 43,
   "metadata": {},
   "outputs": [],
   "source": [
    "def plot_sse(sse):\n",
    "#     sse = find_sse(df.loc[:,[col]], max_k = 10) \n",
    "    plt.figure()\n",
    "    plt.plot(list(sse.keys()),list(sse.values()))\n",
    "    plt.xlabel(\"Number of clusters\")\n",
    "    plt.show() "
   ]
  },
  {
   "cell_type": "code",
   "execution_count": 44,
   "metadata": {},
   "outputs": [
    {
     "data": {
      "image/png": "[encoded data removed]",
      "text/plain": [
       "<Figure size 432x288 with 1 Axes>"
      ]
     },
     "metadata": {
      "needs_background": "light"
     },
     "output_type": "display_data"
    }
   ],
   "source": [
    "## Elbow Method to determine K\n",
    "sse = find_sse(free_cluster_df.loc[:,['Recency']], max_k = 10) \n",
    "plot_sse(sse)\n",
    "\n",
    "# k_optimal  = 3"
   ]
  },
  {
   "cell_type": "markdown",
   "metadata": {},
   "source": [
    "#### 2. Recency Clustering"
   ]
  },
  {
   "cell_type": "code",
   "execution_count": 38,
   "metadata": {},
   "outputs": [
    {
     "data": {
      "text/html": [
       "<div>\n",
       "<style scoped>\n",
       "    .dataframe tbody tr th:only-of-type {\n",
       "        vertical-align: middle;\n",
       "    }\n",
       "\n",
       "    .dataframe tbody tr th {\n",
       "        vertical-align: top;\n",
       "    }\n",
       "\n",
       "    .dataframe thead th {\n",
       "        text-align: right;\n",
       "    }\n",
       "</style>\n",
       "<table border=\"1\" class=\"dataframe\">\n",
       "  <thead>\n",
       "    <tr style=\"text-align: right;\">\n",
       "      <th></th>\n",
       "      <th>count</th>\n",
       "      <th>mean</th>\n",
       "      <th>std</th>\n",
       "      <th>min</th>\n",
       "      <th>25%</th>\n",
       "      <th>50%</th>\n",
       "      <th>75%</th>\n",
       "      <th>max</th>\n",
       "    </tr>\n",
       "    <tr>\n",
       "      <th>RecencyCluster</th>\n",
       "      <th></th>\n",
       "      <th></th>\n",
       "      <th></th>\n",
       "      <th></th>\n",
       "      <th></th>\n",
       "      <th></th>\n",
       "      <th></th>\n",
       "      <th></th>\n",
       "    </tr>\n",
       "  </thead>\n",
       "  <tbody>\n",
       "    <tr>\n",
       "      <th>0</th>\n",
       "      <td>4278.0</td>\n",
       "      <td>122.253156</td>\n",
       "      <td>20.667247</td>\n",
       "      <td>90.0</td>\n",
       "      <td>106.0</td>\n",
       "      <td>122.0</td>\n",
       "      <td>134.0</td>\n",
       "      <td>183.0</td>\n",
       "    </tr>\n",
       "    <tr>\n",
       "      <th>1</th>\n",
       "      <td>8706.0</td>\n",
       "      <td>57.672754</td>\n",
       "      <td>14.737881</td>\n",
       "      <td>36.0</td>\n",
       "      <td>45.0</td>\n",
       "      <td>56.0</td>\n",
       "      <td>68.0</td>\n",
       "      <td>89.0</td>\n",
       "    </tr>\n",
       "    <tr>\n",
       "      <th>2</th>\n",
       "      <td>11836.0</td>\n",
       "      <td>13.548581</td>\n",
       "      <td>10.582826</td>\n",
       "      <td>0.0</td>\n",
       "      <td>4.0</td>\n",
       "      <td>12.0</td>\n",
       "      <td>22.0</td>\n",
       "      <td>35.0</td>\n",
       "    </tr>\n",
       "  </tbody>\n",
       "</table>\n",
       "</div>"
      ],
      "text/plain": [
       "                  count        mean        std   min    25%    50%    75%  \\\n",
       "RecencyCluster                                                              \n",
       "0                4278.0  122.253156  20.667247  90.0  106.0  122.0  134.0   \n",
       "1                8706.0   57.672754  14.737881  36.0   45.0   56.0   68.0   \n",
       "2               11836.0   13.548581  10.582826   0.0    4.0   12.0   22.0   \n",
       "\n",
       "                  max  \n",
       "RecencyCluster         \n",
       "0               183.0  \n",
       "1                89.0  \n",
       "2                35.0  "
      ]
     },
     "execution_count": 38,
     "metadata": {},
     "output_type": "execute_result"
    }
   ],
   "source": [
    "# ## RecencyCluster_k = 3\n",
    "k_clus = 3\n",
    "free_cluster_df = run_kmean_clustering(free_cluster_df,[\"Recency\"],k_cluster=k_clus)\n",
    "\n",
    "## Sắp theo thứ tự R càng thấp thì Cluster càng cao\n",
    "free_cluster_df = order_cluster('RecencyCluster', 'Recency',free_cluster_df,False)\n",
    "free_cluster_df.groupby(\"RecencyCluster\")['Recency'].describe()\n",
    "\n",
    "# ## see details of each cluster - Recency"
   ]
  },
  {
   "cell_type": "markdown",
   "metadata": {},
   "source": [
    "#### 4.Summary: Recency chia làm 3 nhóm: Lần cuối cùng cách khoảng\n",
    "1. Nhóm 0: 'hibernate':  > 4tháng // (3 tháng - 6 tháng) \n",
    "2. Nhóm 1: 'sleep': khoảng 2tháng //  (1 tháng - 3 tháng)\n",
    "3. Nhóm 2: 'active': khoảng 1/2 tháng// (0 - 1 tháng)"
   ]
  },
  {
   "cell_type": "markdown",
   "metadata": {},
   "source": [
    "### 2 Frequency - số lần nghe trong 1 ngày"
   ]
  },
  {
   "cell_type": "markdown",
   "metadata": {},
   "source": [
    "#### 1. Determine K for Frequency"
   ]
  },
  {
   "cell_type": "code",
   "execution_count": 39,
   "metadata": {
    "scrolled": true
   },
   "outputs": [
    {
     "data": {
      "image/png": "[encoded data removed]",
      "text/plain": [
       "<Figure size 432x288 with 1 Axes>"
      ]
     },
     "metadata": {
      "needs_background": "light"
     },
     "output_type": "display_data"
    }
   ],
   "source": [
    "## Elbow Method to determine K\n",
    "\n",
    "sse = find_sse(free_cluster_df.loc[:,['Frequency']], max_k = 10) \n",
    "plot_sse(sse) \n",
    "\n",
    "# k_optimal  = 4"
   ]
  },
  {
   "cell_type": "markdown",
   "metadata": {},
   "source": [
    "#### 3. Frequency Clustering"
   ]
  },
  {
   "cell_type": "code",
   "execution_count": 45,
   "metadata": {
    "scrolled": true
   },
   "outputs": [
    {
     "data": {
      "text/html": [
       "<div>\n",
       "<style scoped>\n",
       "    .dataframe tbody tr th:only-of-type {\n",
       "        vertical-align: middle;\n",
       "    }\n",
       "\n",
       "    .dataframe tbody tr th {\n",
       "        vertical-align: top;\n",
       "    }\n",
       "\n",
       "    .dataframe thead th {\n",
       "        text-align: right;\n",
       "    }\n",
       "</style>\n",
       "<table border=\"1\" class=\"dataframe\">\n",
       "  <thead>\n",
       "    <tr style=\"text-align: right;\">\n",
       "      <th></th>\n",
       "      <th>count</th>\n",
       "      <th>mean</th>\n",
       "      <th>std</th>\n",
       "      <th>min</th>\n",
       "      <th>25%</th>\n",
       "      <th>50%</th>\n",
       "      <th>75%</th>\n",
       "      <th>max</th>\n",
       "    </tr>\n",
       "    <tr>\n",
       "      <th>FrequencyCluster</th>\n",
       "      <th></th>\n",
       "      <th></th>\n",
       "      <th></th>\n",
       "      <th></th>\n",
       "      <th></th>\n",
       "      <th></th>\n",
       "      <th></th>\n",
       "      <th></th>\n",
       "    </tr>\n",
       "  </thead>\n",
       "  <tbody>\n",
       "    <tr>\n",
       "      <th>0</th>\n",
       "      <td>17644.0</td>\n",
       "      <td>1.413795</td>\n",
       "      <td>0.911796</td>\n",
       "      <td>0.0</td>\n",
       "      <td>1.0</td>\n",
       "      <td>1.0</td>\n",
       "      <td>2.0</td>\n",
       "      <td>3.0</td>\n",
       "    </tr>\n",
       "    <tr>\n",
       "      <th>1</th>\n",
       "      <td>5619.0</td>\n",
       "      <td>5.581598</td>\n",
       "      <td>1.570427</td>\n",
       "      <td>4.0</td>\n",
       "      <td>4.0</td>\n",
       "      <td>5.0</td>\n",
       "      <td>7.0</td>\n",
       "      <td>9.0</td>\n",
       "    </tr>\n",
       "    <tr>\n",
       "      <th>2</th>\n",
       "      <td>1214.0</td>\n",
       "      <td>12.546952</td>\n",
       "      <td>2.399303</td>\n",
       "      <td>10.0</td>\n",
       "      <td>10.0</td>\n",
       "      <td>12.0</td>\n",
       "      <td>14.0</td>\n",
       "      <td>18.0</td>\n",
       "    </tr>\n",
       "    <tr>\n",
       "      <th>3</th>\n",
       "      <td>343.0</td>\n",
       "      <td>24.341108</td>\n",
       "      <td>3.477198</td>\n",
       "      <td>19.0</td>\n",
       "      <td>21.0</td>\n",
       "      <td>25.0</td>\n",
       "      <td>28.0</td>\n",
       "      <td>28.0</td>\n",
       "    </tr>\n",
       "  </tbody>\n",
       "</table>\n",
       "</div>"
      ],
      "text/plain": [
       "                    count       mean       std   min   25%   50%   75%   max\n",
       "FrequencyCluster                                                            \n",
       "0                 17644.0   1.413795  0.911796   0.0   1.0   1.0   2.0   3.0\n",
       "1                  5619.0   5.581598  1.570427   4.0   4.0   5.0   7.0   9.0\n",
       "2                  1214.0  12.546952  2.399303  10.0  10.0  12.0  14.0  18.0\n",
       "3                   343.0  24.341108  3.477198  19.0  21.0  25.0  28.0  28.0"
      ]
     },
     "execution_count": 45,
     "metadata": {},
     "output_type": "execute_result"
    }
   ],
   "source": [
    "# ## FrequencyCluster_k = 4\n",
    "k_clus = 4\n",
    "\n",
    "free_cluster_df = run_kmean_clustering(free_cluster_df,[\"Frequency\"],k_cluster=k_clus)\n",
    "\n",
    "## Sắp theo thứ tự R càng thấp thì Cluster càng cao\n",
    "free_cluster_df = order_cluster('FrequencyCluster', 'Frequency',free_cluster_df,True)\n",
    "free_cluster_df['Frequency']=round(free_cluster_df['Frequency'],0)\n",
    "free_cluster_df.groupby(\"FrequencyCluster\")['Frequency'].describe()\n",
    "\n",
    "# ## see details of each cluster - Frequency"
   ]
  },
  {
   "cell_type": "markdown",
   "metadata": {},
   "source": [
    "## 4.Summary: Frequency chia làm 4 nhóm:\n",
    "1. Nhóm 0: ít dùng : 1 lần/ngày (0 - 3 ): có buổi vào buổi ko\n",
    "2. Nhóm 1: Dùng mức độ tb:6 lần/ngày (4 - 9 ): mỗi buổi từ 1-2 lần\n",
    "3. Nhóm 2: Dùng mức độ thường xuyên: 13 lần/ngày (10 - 18): mỗi buổi 3-4 lần\n",
    "4. Nhóm 3: Dùng mức độ thường xuyên: 24lần/ngày (19 - 29):mỗi buổi 5-7 lần "
   ]
  },
  {
   "cell_type": "markdown",
   "metadata": {},
   "source": [
    "### 3.Density - Thời lượng cho mỗi lượt nghe (tính bằng phút)"
   ]
  },
  {
   "cell_type": "markdown",
   "metadata": {},
   "source": [
    "#### 1. Determine K for Density"
   ]
  },
  {
   "cell_type": "code",
   "execution_count": 46,
   "metadata": {
    "scrolled": true
   },
   "outputs": [
    {
     "data": {
      "image/png": "[encoded data removed]",
      "text/plain": [
       "<Figure size 432x288 with 1 Axes>"
      ]
     },
     "metadata": {
      "needs_background": "light"
     },
     "output_type": "display_data"
    }
   ],
   "source": [
    "## Elbow Method to determine K\n",
    "\n",
    "sse = find_sse(free_cluster_df.loc[:,['Density']], max_k = 10) \n",
    "\n",
    "plot_sse(sse)\n",
    "\n",
    "# k_optimal  = 4"
   ]
  },
  {
   "cell_type": "markdown",
   "metadata": {},
   "source": [
    "#### 3. Density Clustering"
   ]
  },
  {
   "cell_type": "code",
   "execution_count": 51,
   "metadata": {},
   "outputs": [
    {
     "data": {
      "text/html": [
       "<div>\n",
       "<style scoped>\n",
       "    .dataframe tbody tr th:only-of-type {\n",
       "        vertical-align: middle;\n",
       "    }\n",
       "\n",
       "    .dataframe tbody tr th {\n",
       "        vertical-align: top;\n",
       "    }\n",
       "\n",
       "    .dataframe thead th {\n",
       "        text-align: right;\n",
       "    }\n",
       "</style>\n",
       "<table border=\"1\" class=\"dataframe\">\n",
       "  <thead>\n",
       "    <tr style=\"text-align: right;\">\n",
       "      <th></th>\n",
       "      <th>count</th>\n",
       "      <th>mean</th>\n",
       "      <th>std</th>\n",
       "      <th>min</th>\n",
       "      <th>25%</th>\n",
       "      <th>50%</th>\n",
       "      <th>75%</th>\n",
       "      <th>max</th>\n",
       "    </tr>\n",
       "    <tr>\n",
       "      <th>DensityCluster</th>\n",
       "      <th></th>\n",
       "      <th></th>\n",
       "      <th></th>\n",
       "      <th></th>\n",
       "      <th></th>\n",
       "      <th></th>\n",
       "      <th></th>\n",
       "      <th></th>\n",
       "    </tr>\n",
       "  </thead>\n",
       "  <tbody>\n",
       "    <tr>\n",
       "      <th>0</th>\n",
       "      <td>13444.0</td>\n",
       "      <td>2.270083</td>\n",
       "      <td>1.871183</td>\n",
       "      <td>0.0</td>\n",
       "      <td>1.0</td>\n",
       "      <td>2.0</td>\n",
       "      <td>4.0</td>\n",
       "      <td>6.0</td>\n",
       "    </tr>\n",
       "    <tr>\n",
       "      <th>1</th>\n",
       "      <td>7974.0</td>\n",
       "      <td>11.280537</td>\n",
       "      <td>3.262107</td>\n",
       "      <td>7.0</td>\n",
       "      <td>8.0</td>\n",
       "      <td>11.0</td>\n",
       "      <td>14.0</td>\n",
       "      <td>18.0</td>\n",
       "    </tr>\n",
       "    <tr>\n",
       "      <th>2</th>\n",
       "      <td>2765.0</td>\n",
       "      <td>25.866908</td>\n",
       "      <td>5.787513</td>\n",
       "      <td>19.0</td>\n",
       "      <td>21.0</td>\n",
       "      <td>24.0</td>\n",
       "      <td>30.0</td>\n",
       "      <td>40.0</td>\n",
       "    </tr>\n",
       "    <tr>\n",
       "      <th>3</th>\n",
       "      <td>637.0</td>\n",
       "      <td>54.383046</td>\n",
       "      <td>10.317639</td>\n",
       "      <td>41.0</td>\n",
       "      <td>45.0</td>\n",
       "      <td>52.0</td>\n",
       "      <td>64.0</td>\n",
       "      <td>70.0</td>\n",
       "    </tr>\n",
       "  </tbody>\n",
       "</table>\n",
       "</div>"
      ],
      "text/plain": [
       "                  count       mean        std   min   25%   50%   75%   max\n",
       "DensityCluster                                                             \n",
       "0               13444.0   2.270083   1.871183   0.0   1.0   2.0   4.0   6.0\n",
       "1                7974.0  11.280537   3.262107   7.0   8.0  11.0  14.0  18.0\n",
       "2                2765.0  25.866908   5.787513  19.0  21.0  24.0  30.0  40.0\n",
       "3                 637.0  54.383046  10.317639  41.0  45.0  52.0  64.0  70.0"
      ]
     },
     "execution_count": 51,
     "metadata": {},
     "output_type": "execute_result"
    }
   ],
   "source": [
    "# ## DensityCluster_k = 4\n",
    "k_clus = 4\n",
    "free_cluster_df = run_kmean_clustering(free_cluster_df,[\"Density\"],k_cluster=k_clus)\n",
    "\n",
    "## Sắp theo thứ tự R càng thấp thì Cluster càng cao\n",
    "free_cluster_df = order_cluster('DensityCluster', 'Density',free_cluster_df,True)\n",
    "free_cluster_df['Density']=round(free_cluster_df['Density'],0)\n",
    "free_cluster_df.groupby(\"DensityCluster\")['Density'].describe()\n",
    "\n",
    "# ## see details of each cluster - Frequency"
   ]
  },
  {
   "cell_type": "markdown",
   "metadata": {},
   "source": [
    "## 4.Summary: Density chia làm 3 nhóm:\n",
    "1. Nhóm 0: lướt: trung bình khoảng 2' cho mỗi lượt nghe (d<=6]\n",
    "2. Nhóm 1: mật độ TB: trung bình 11' cho mỗi lượt nghe (7<=d<=18)\n",
    "3. Nhóm 2: mật độ cao: trung bình 26' () cho mỗi lượt nghe(19<=d<=40)\n",
    "4. Nhóm 3: mật độ rất cao: trung bình 54' (1h) cho mỗi lượt nghe (41<=d<=70)"
   ]
  },
  {
   "cell_type": "markdown",
   "metadata": {},
   "source": [
    "#### 4.Summary: Frequency chia làm 4 nhóm:\n",
    "1. Nhóm 0: ít dùng : 1 lần/ngày (0 - <2 )\n",
    "2. Nhóm 1: Dùng mức độ tb: 3 lần/ngày (2 - <4 )\n",
    "3. Nhóm 2: Dùng mức độ thường xuyên: 6lần/ngày (4 - 8)\n",
    "4. Nhóm 3: Dùng mức độ thường xuyên: 10lần/ngày (8 - 11)"
   ]
  },
  {
   "cell_type": "markdown",
   "metadata": {},
   "source": [
    "#### 4.Summary: Recency chia làm 3 nhóm: Lần cuối cùng cách khoảng\n",
    "1. Nhóm 0: 'hibernate':  > 4tháng // (3 tháng - 6 tháng) \n",
    "2. Nhóm 1: 'sleep': khoảng 2tháng //  (1 tháng - 3 tháng)\n",
    "3. Nhóm 2: 'active': khoảng 1/2 tháng// (0 - 1 tháng)"
   ]
  },
  {
   "cell_type": "markdown",
   "metadata": {},
   "source": [
    "### OverallCluster:\n",
    "1. F: 4\n",
    "2. D: 4\n",
    "3. R: 3"
   ]
  },
  {
   "cell_type": "markdown",
   "metadata": {},
   "source": [
    "## Overall Clustering"
   ]
  },
  {
   "cell_type": "code",
   "execution_count": 88,
   "metadata": {},
   "outputs": [],
   "source": [
    "free_cluster_df[\"ClusterCode\"] = free_cluster_df.apply(\n",
    "                            lambda x:str(x.RecencyCluster)+str(x.FrequencyCluster)+str(x.DensityCluster),axis=1)"
   ]
  },
  {
   "cell_type": "code",
   "execution_count": 89,
   "metadata": {},
   "outputs": [],
   "source": [
    "free_cluster_summary = free_cluster_df.groupby([\"RecencyCluster\",\"FrequencyCluster\",\"DensityCluster\",'ClusterCode']).agg(\n",
    "                    {\"Recency\":['mean','min','max'],\n",
    "                     \"Frequency\":['mean','min','max'],\n",
    "                     \"Density\":['mean','min','max','count'],\n",
    "                    }).reset_index()"
   ]
  },
  {
   "cell_type": "code",
   "execution_count": 90,
   "metadata": {},
   "outputs": [],
   "source": [
    "free_cluster_summary.columns=[\"RecencyCluster\",\"FrequencyCluster\",\"DensityCluster\",'ClusterCode','RecencyMean','RecencyMin','RecencyMax','FrequencyMean','FrequencyMin','FrequencyMax',\n",
    "                             'DensityMean','DensityMin','DensityMax','#']"
   ]
  },
  {
   "cell_type": "code",
   "execution_count": 91,
   "metadata": {},
   "outputs": [
    {
     "data": {
      "text/html": [
       "<div>\n",
       "<style scoped>\n",
       "    .dataframe tbody tr th:only-of-type {\n",
       "        vertical-align: middle;\n",
       "    }\n",
       "\n",
       "    .dataframe tbody tr th {\n",
       "        vertical-align: top;\n",
       "    }\n",
       "\n",
       "    .dataframe thead th {\n",
       "        text-align: right;\n",
       "    }\n",
       "</style>\n",
       "<table border=\"1\" class=\"dataframe\">\n",
       "  <thead>\n",
       "    <tr style=\"text-align: right;\">\n",
       "      <th></th>\n",
       "      <th>RecencyCluster</th>\n",
       "      <th>FrequencyCluster</th>\n",
       "      <th>DensityCluster</th>\n",
       "      <th>ClusterCode</th>\n",
       "      <th>RecencyMean</th>\n",
       "      <th>RecencyMin</th>\n",
       "      <th>RecencyMax</th>\n",
       "      <th>FrequencyMean</th>\n",
       "      <th>FrequencyMin</th>\n",
       "      <th>FrequencyMax</th>\n",
       "      <th>DensityMean</th>\n",
       "      <th>DensityMin</th>\n",
       "      <th>DensityMax</th>\n",
       "      <th>#</th>\n",
       "    </tr>\n",
       "  </thead>\n",
       "  <tbody>\n",
       "    <tr>\n",
       "      <th>0</th>\n",
       "      <td>0</td>\n",
       "      <td>0</td>\n",
       "      <td>0</td>\n",
       "      <td>000</td>\n",
       "      <td>122.239056</td>\n",
       "      <td>90</td>\n",
       "      <td>183</td>\n",
       "      <td>1.406788</td>\n",
       "      <td>0.0</td>\n",
       "      <td>3.0</td>\n",
       "      <td>2.022135</td>\n",
       "      <td>0.0</td>\n",
       "      <td>6.0</td>\n",
       "      <td>2033</td>\n",
       "    </tr>\n",
       "    <tr>\n",
       "      <th>1</th>\n",
       "      <td>0</td>\n",
       "      <td>0</td>\n",
       "      <td>1</td>\n",
       "      <td>001</td>\n",
       "      <td>119.935567</td>\n",
       "      <td>90</td>\n",
       "      <td>180</td>\n",
       "      <td>1.547680</td>\n",
       "      <td>0.0</td>\n",
       "      <td>3.0</td>\n",
       "      <td>11.072165</td>\n",
       "      <td>7.0</td>\n",
       "      <td>18.0</td>\n",
       "      <td>776</td>\n",
       "    </tr>\n",
       "    <tr>\n",
       "      <th>2</th>\n",
       "      <td>0</td>\n",
       "      <td>0</td>\n",
       "      <td>2</td>\n",
       "      <td>002</td>\n",
       "      <td>117.481013</td>\n",
       "      <td>90</td>\n",
       "      <td>181</td>\n",
       "      <td>1.531646</td>\n",
       "      <td>0.0</td>\n",
       "      <td>3.0</td>\n",
       "      <td>25.253165</td>\n",
       "      <td>19.0</td>\n",
       "      <td>39.0</td>\n",
       "      <td>237</td>\n",
       "    </tr>\n",
       "    <tr>\n",
       "      <th>3</th>\n",
       "      <td>0</td>\n",
       "      <td>0</td>\n",
       "      <td>3</td>\n",
       "      <td>003</td>\n",
       "      <td>114.574468</td>\n",
       "      <td>91</td>\n",
       "      <td>167</td>\n",
       "      <td>1.744681</td>\n",
       "      <td>0.0</td>\n",
       "      <td>3.0</td>\n",
       "      <td>54.127660</td>\n",
       "      <td>41.0</td>\n",
       "      <td>70.0</td>\n",
       "      <td>47</td>\n",
       "    </tr>\n",
       "    <tr>\n",
       "      <th>4</th>\n",
       "      <td>0</td>\n",
       "      <td>1</td>\n",
       "      <td>0</td>\n",
       "      <td>010</td>\n",
       "      <td>124.946667</td>\n",
       "      <td>90</td>\n",
       "      <td>182</td>\n",
       "      <td>5.313333</td>\n",
       "      <td>4.0</td>\n",
       "      <td>9.0</td>\n",
       "      <td>2.697778</td>\n",
       "      <td>0.0</td>\n",
       "      <td>6.0</td>\n",
       "      <td>450</td>\n",
       "    </tr>\n",
       "    <tr>\n",
       "      <th>5</th>\n",
       "      <td>0</td>\n",
       "      <td>1</td>\n",
       "      <td>1</td>\n",
       "      <td>011</td>\n",
       "      <td>124.838415</td>\n",
       "      <td>90</td>\n",
       "      <td>179</td>\n",
       "      <td>5.698171</td>\n",
       "      <td>4.0</td>\n",
       "      <td>9.0</td>\n",
       "      <td>11.487805</td>\n",
       "      <td>7.0</td>\n",
       "      <td>18.0</td>\n",
       "      <td>328</td>\n",
       "    </tr>\n",
       "    <tr>\n",
       "      <th>6</th>\n",
       "      <td>0</td>\n",
       "      <td>1</td>\n",
       "      <td>2</td>\n",
       "      <td>012</td>\n",
       "      <td>123.335938</td>\n",
       "      <td>90</td>\n",
       "      <td>179</td>\n",
       "      <td>6.046875</td>\n",
       "      <td>4.0</td>\n",
       "      <td>9.0</td>\n",
       "      <td>26.015625</td>\n",
       "      <td>19.0</td>\n",
       "      <td>40.0</td>\n",
       "      <td>128</td>\n",
       "    </tr>\n",
       "    <tr>\n",
       "      <th>7</th>\n",
       "      <td>0</td>\n",
       "      <td>1</td>\n",
       "      <td>3</td>\n",
       "      <td>013</td>\n",
       "      <td>113.608696</td>\n",
       "      <td>91</td>\n",
       "      <td>153</td>\n",
       "      <td>6.434783</td>\n",
       "      <td>4.0</td>\n",
       "      <td>9.0</td>\n",
       "      <td>53.565217</td>\n",
       "      <td>41.0</td>\n",
       "      <td>70.0</td>\n",
       "      <td>23</td>\n",
       "    </tr>\n",
       "    <tr>\n",
       "      <th>8</th>\n",
       "      <td>0</td>\n",
       "      <td>2</td>\n",
       "      <td>0</td>\n",
       "      <td>020</td>\n",
       "      <td>123.160494</td>\n",
       "      <td>90</td>\n",
       "      <td>183</td>\n",
       "      <td>12.901235</td>\n",
       "      <td>10.0</td>\n",
       "      <td>18.0</td>\n",
       "      <td>3.000000</td>\n",
       "      <td>0.0</td>\n",
       "      <td>6.0</td>\n",
       "      <td>81</td>\n",
       "    </tr>\n",
       "    <tr>\n",
       "      <th>9</th>\n",
       "      <td>0</td>\n",
       "      <td>2</td>\n",
       "      <td>1</td>\n",
       "      <td>021</td>\n",
       "      <td>128.988636</td>\n",
       "      <td>90</td>\n",
       "      <td>167</td>\n",
       "      <td>12.738636</td>\n",
       "      <td>10.0</td>\n",
       "      <td>18.0</td>\n",
       "      <td>11.238636</td>\n",
       "      <td>7.0</td>\n",
       "      <td>18.0</td>\n",
       "      <td>88</td>\n",
       "    </tr>\n",
       "  </tbody>\n",
       "</table>\n",
       "</div>"
      ],
      "text/plain": [
       "   RecencyCluster  FrequencyCluster  DensityCluster ClusterCode  RecencyMean  \\\n",
       "0               0                 0               0         000   122.239056   \n",
       "1               0                 0               1         001   119.935567   \n",
       "2               0                 0               2         002   117.481013   \n",
       "3               0                 0               3         003   114.574468   \n",
       "4               0                 1               0         010   124.946667   \n",
       "5               0                 1               1         011   124.838415   \n",
       "6               0                 1               2         012   123.335938   \n",
       "7               0                 1               3         013   113.608696   \n",
       "8               0                 2               0         020   123.160494   \n",
       "9               0                 2               1         021   128.988636   \n",
       "\n",
       "   RecencyMin  RecencyMax  FrequencyMean  FrequencyMin  FrequencyMax  \\\n",
       "0          90         183       1.406788           0.0           3.0   \n",
       "1          90         180       1.547680           0.0           3.0   \n",
       "2          90         181       1.531646           0.0           3.0   \n",
       "3          91         167       1.744681           0.0           3.0   \n",
       "4          90         182       5.313333           4.0           9.0   \n",
       "5          90         179       5.698171           4.0           9.0   \n",
       "6          90         179       6.046875           4.0           9.0   \n",
       "7          91         153       6.434783           4.0           9.0   \n",
       "8          90         183      12.901235          10.0          18.0   \n",
       "9          90         167      12.738636          10.0          18.0   \n",
       "\n",
       "   DensityMean  DensityMin  DensityMax     #  \n",
       "0     2.022135         0.0         6.0  2033  \n",
       "1    11.072165         7.0        18.0   776  \n",
       "2    25.253165        19.0        39.0   237  \n",
       "3    54.127660        41.0        70.0    47  \n",
       "4     2.697778         0.0         6.0   450  \n",
       "5    11.487805         7.0        18.0   328  \n",
       "6    26.015625        19.0        40.0   128  \n",
       "7    53.565217        41.0        70.0    23  \n",
       "8     3.000000         0.0         6.0    81  \n",
       "9    11.238636         7.0        18.0    88  "
      ]
     },
     "execution_count": 91,
     "metadata": {},
     "output_type": "execute_result"
    }
   ],
   "source": [
    "free_cluster_summary.head(10)"
   ]
  },
  {
   "cell_type": "markdown",
   "metadata": {},
   "source": [
    "#### Định nghĩa các Metric Clusters"
   ]
  },
  {
   "cell_type": "code",
   "execution_count": 92,
   "metadata": {},
   "outputs": [],
   "source": [
    "## 1. Định nghĩa các Metric Clusters\n",
    "RClusterDict = {0:\"0.Hibernate\",1:\"1.Sleep\",2:\"2.Active\"}\n",
    "FClusterDict = {0:\"0.Rarely\",1:\"1.Sometimes\",2:\"2.Often\",3:\"3.Usually\"}\n",
    "DClusterDict = {0:\"0.Skim\",1:\"1.Short\",2:\"2.Medium\",3:\"3.Long\"}"
   ]
  },
  {
   "cell_type": "code",
   "execution_count": 93,
   "metadata": {},
   "outputs": [],
   "source": [
    "## Gắn nhãn vào các Metric CLuster\n",
    "free_cluster_summary['RClusterDescription']=free_cluster_summary.RecencyCluster.map(\n",
    "                            lambda x:str(RClusterDict[x]))\n",
    "free_cluster_summary['FClusterDescription']=free_cluster_summary.FrequencyCluster.map(\n",
    "                            lambda x:str(FClusterDict[x]))\n",
    "\n",
    "free_cluster_summary['DClusterDescription']=free_cluster_summary.DensityCluster.map(\n",
    "                            lambda x:str(DClusterDict[x]))"
   ]
  },
  {
   "cell_type": "code",
   "execution_count": 94,
   "metadata": {},
   "outputs": [
    {
     "data": {
      "text/plain": [
       "Index(['RecencyCluster', 'FrequencyCluster', 'DensityCluster', 'ClusterCode',\n",
       "       'RecencyMean', 'RecencyMin', 'RecencyMax', 'FrequencyMean',\n",
       "       'FrequencyMin', 'FrequencyMax', 'DensityMean', 'DensityMin',\n",
       "       'DensityMax', '#', 'RClusterDescription', 'FClusterDescription',\n",
       "       'DClusterDescription'],\n",
       "      dtype='object')"
      ]
     },
     "execution_count": 94,
     "metadata": {},
     "output_type": "execute_result"
    }
   ],
   "source": [
    "free_cluster_summary.columns"
   ]
  },
  {
   "cell_type": "code",
   "execution_count": 96,
   "metadata": {},
   "outputs": [],
   "source": [
    "free_cluster_table = pd.pivot_table(free_cluster_summary, values = ['RecencyCluster','FrequencyCluster','DensityCluster',\"#\",'RecencyMean','RecencyMin','RecencyMax','FrequencyMean','FrequencyMin','FrequencyMax',\n",
    "                             'DensityMean','DensityMin','DensityMax'],\n",
    "                                    index = ['RClusterDescription','FClusterDescription','DClusterDescription',\"ClusterCode\"]\n",
    "                    ).sort_values(by= ['RClusterDescription','FClusterDescription','DClusterDescription'],ascending=False)"
   ]
  },
  {
   "cell_type": "code",
   "execution_count": 98,
   "metadata": {
    "scrolled": true
   },
   "outputs": [],
   "source": [
    "free_cluster_table.to_excel(\"data/1.free_cluster_table.xlsx\")\n",
    "# free_cluster_summary.to_excel(\"data/free_cluster_summary.xlsx\")\n",
    "# # subcribe_cluster_df.to_csv(\"data/subcribe_cluster_df.csv\")\n",
    "# free_cluster_df.drop(columns=[\"FClusterDescription\",\"DClusterDescription\",\"RClusterDescription\"], axis =1).to_excel(\"data/free_cluster_summary.xlsx\")"
   ]
  },
  {
   "cell_type": "markdown",
   "metadata": {},
   "source": [
    "## Output dữ liệu"
   ]
  },
  {
   "cell_type": "code",
   "execution_count": null,
   "metadata": {},
   "outputs": [],
   "source": [
    "### 1. Định nghĩa các cluster chính cho main cluster"
   ]
  },
  {
   "cell_type": "code",
   "execution_count": 99,
   "metadata": {},
   "outputs": [
    {
     "data": {
      "text/plain": [
       "(47, 2)"
      ]
     },
     "execution_count": 99,
     "metadata": {},
     "output_type": "execute_result"
    }
   ],
   "source": [
    "#### Soạn sẵn trong file đọc ra\n",
    "RFD_category_df = pd.read_excel(\"data/RFD_clusters_description.xlsx\", dtype={'ClusterCode': np.object})\n",
    "RFD_category_df.shape"
   ]
  },
  {
   "cell_type": "code",
   "execution_count": 100,
   "metadata": {},
   "outputs": [
    {
     "data": {
      "text/plain": [
       "MainCluster_Description\n",
       "Defrost                            12\n",
       "Hibernating                         4\n",
       "Lost active user                   12\n",
       "Loyal Users, Content Lovers         5\n",
       "Loyal Users, Skimming Listeners     2\n",
       "Need Attention                      4\n",
       "New User, Skimming Listeners        1\n",
       "New Users, Content Lovers           3\n",
       "Potential, Content Lovers           3\n",
       "Potential, Skimming Listeners       1\n",
       "dtype: int64"
      ]
     },
     "execution_count": 100,
     "metadata": {},
     "output_type": "execute_result"
    }
   ],
   "source": [
    "RFD_category_df.groupby(\"MainCluster_Description\").size()"
   ]
  },
  {
   "cell_type": "code",
   "execution_count": 101,
   "metadata": {},
   "outputs": [],
   "source": [
    "RFD_cluster_dict = {'Hibernating':1,'Defrost':2,'Need Attention':3, 'Lost active user':4, 'New User, Skimming Listeners':5,'New Users, Content Lovers':6,\n",
    "                   'Potential, Skimming Listeners':7, 'Potential, Content Lovers':8,'Loyal Users, Skimming Listeners':9,'Loyal Users, Content Lovers':10}"
   ]
  },
  {
   "cell_type": "code",
   "execution_count": 102,
   "metadata": {},
   "outputs": [],
   "source": [
    "RFD_category_df[\"MainCluster_ID\"] =RFD_category_df[\"MainCluster_Description\"].map(lambda x:RFD_cluster_dict[x])"
   ]
  },
  {
   "cell_type": "code",
   "execution_count": 103,
   "metadata": {},
   "outputs": [],
   "source": [
    "RFD_cluster_df = free_cluster_df.join(other=RFD_category_df.set_index(\"ClusterCode\"),how=\"left\",on=\"ClusterCode\")"
   ]
  },
  {
   "cell_type": "code",
   "execution_count": 120,
   "metadata": {},
   "outputs": [],
   "source": [
    "# RFD_cluster_df.to_excel(\"data/1.RFD_cluster_df.xlsx\")"
   ]
  },
  {
   "cell_type": "code",
   "execution_count": 81,
   "metadata": {},
   "outputs": [],
   "source": [
    "export_features = ['User_ID', 'type_user','MainCluster_ID','MainCluster_Description', ]\n",
    "RFD_cluster_df[export_features].to_excel(\"data/RFD_Clustering_result.xlsx\")"
   ]
  },
  {
   "cell_type": "code",
   "execution_count": 115,
   "metadata": {},
   "outputs": [],
   "source": [
    "# data = RFD_cluster_df.groupby(['MainCluster_ID','MainCluster_Description']).agg({\"User_ID\":\"count\"}).reset_index()\n",
    "# data.columns=['MainCluster_ID','MainCluster_Description',\"#\"]\n",
    "t = RFD_cluster_df.groupby(['MainCluster_ID','MainCluster_Description']).agg({\"User_ID\":\"count\"}).reset_index().rename(columns = {\"User_ID\":\"#\"}).sort_values(by = [\"MainCluster_ID\"], ascending=False)\n",
    "total_free_user = t[\"#\"].sum()\n",
    "t[\"%\"]=t[\"#\"].map(lambda x: round(x*100/total_free_user,2))\n",
    "t.to_excel(\"data/1.RFD_Counting.xlsx\")"
   ]
  },
  {
   "cell_type": "code",
   "execution_count": 116,
   "metadata": {},
   "outputs": [
    {
     "data": {
      "text/plain": [
       "24820"
      ]
     },
     "execution_count": 116,
     "metadata": {},
     "output_type": "execute_result"
    }
   ],
   "source": [
    "total_free_user"
   ]
  },
  {
   "cell_type": "code",
   "execution_count": 119,
   "metadata": {},
   "outputs": [
    {
     "data": {
      "text/html": [
       "<div>\n",
       "<style scoped>\n",
       "    .dataframe tbody tr th:only-of-type {\n",
       "        vertical-align: middle;\n",
       "    }\n",
       "\n",
       "    .dataframe tbody tr th {\n",
       "        vertical-align: top;\n",
       "    }\n",
       "\n",
       "    .dataframe thead th {\n",
       "        text-align: right;\n",
       "    }\n",
       "</style>\n",
       "<table border=\"1\" class=\"dataframe\">\n",
       "  <thead>\n",
       "    <tr style=\"text-align: right;\">\n",
       "      <th></th>\n",
       "      <th>RecencyCluster</th>\n",
       "    </tr>\n",
       "  </thead>\n",
       "  <tbody>\n",
       "    <tr>\n",
       "      <th>14164</th>\n",
       "      <td>2</td>\n",
       "    </tr>\n",
       "  </tbody>\n",
       "</table>\n",
       "</div>"
      ],
      "text/plain": [
       "       RecencyCluster\n",
       "14164               2"
      ]
     },
     "execution_count": 119,
     "metadata": {},
     "output_type": "execute_result"
    }
   ],
   "source": [
    "R_lst = RFD_cluster_df.loc[RFD_cluster_df.MainCluster_ID == 10,[\"RecencyCluster\"]]\n",
    "R_lst.head(1)"
   ]
  },
  {
   "cell_type": "code",
   "execution_count": 123,
   "metadata": {
    "scrolled": true
   },
   "outputs": [],
   "source": [
    "data=free_FRD_result[['User_ID','RecencyCluster','FrequencyCluster','DensityCluster','MainCluster_Description','MainCluster_ID']]\n",
    "sns.heatmap(data.corr(), cmap=\"YlGnBu\", annot=True)"
   ]
  },
  {
   "cell_type": "code",
   "execution_count": null,
   "metadata": {},
   "outputs": [],
   "source": [
    "### Get Centroids"
   ]
  },
  {
   "cell_type": "code",
   "execution_count": 141,
   "metadata": {},
   "outputs": [],
   "source": [
    "t = RFD_cluster_df.groupby([\"MainCluster_ID\"]).agg({\n",
    "                        \"Recency\":[\"mean\",\"min\",\"max\"],\n",
    "                        \"Frequency\":[\"mean\",\"min\",\"max\"],\n",
    "                        \"Density\":[\"mean\",\"min\",\"max\"]\n",
    "                        }).reset_index()\n",
    "t.columns=[\"RFD\",\"R_mean\",\"R_min\",\"R_max\",\"F_mean\",\"F_min\",\"F_max\",\"D_mean\",\"D_min\",\"D_max\"] \n",
    "t = t.sort_values(by = [\"RFD\"], ascending=False)\n",
    "t = round(t,1)"
   ]
  },
  {
   "cell_type": "code",
   "execution_count": 143,
   "metadata": {},
   "outputs": [],
   "source": [
    "t.to_excel(\"data/1.RFD_Centroid.xlsx\")"
   ]
  },
  {
   "cell_type": "code",
   "execution_count": null,
   "metadata": {},
   "outputs": [],
   "source": []
  },
  {
   "cell_type": "code",
   "execution_count": 124,
   "metadata": {
    "scrolled": false
   },
   "outputs": [
    {
     "data": {
      "text/plain": [
       "<AxesSubplot:>"
      ]
     },
     "execution_count": 124,
     "metadata": {},
     "output_type": "execute_result"
    },
    {
     "data": {
      "image/png": "[encoded data removed]",
      "text/plain": [
       "<Figure size 432x288 with 2 Axes>"
      ]
     },
     "metadata": {
      "needs_background": "light"
     },
     "output_type": "display_data"
    }
   ],
   "source": [
    "sns.heatmap(data.corr(), cmap=\"YlGnBu\", annot=True)"
   ]
  }
 ],
 "metadata": {
  "kernelspec": {
   "display_name": "Python 3",
   "language": "python",
   "name": "python3"
  },
  "language_info": {
   "codemirror_mode": {
    "name": "ipython",
    "version": 3
   },
   "file_extension": ".py",
   "mimetype": "text/x-python",
   "name": "python",
   "nbconvert_exporter": "python",
   "pygments_lexer": "ipython3",
   "version": "3.8.5"
  }
 },
 "nbformat": 4,
 "nbformat_minor": 4
}
