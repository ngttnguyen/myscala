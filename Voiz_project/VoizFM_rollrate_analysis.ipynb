{
 "cells": [
  {
   "cell_type": "code",
   "execution_count": 1,
   "metadata": {},
   "outputs": [],
   "source": [
    "import pandas as pd\n",
    "import numpy as np\n",
    "from matplotlib import pyplot as plt\n",
    "import seaborn as sns\n",
    "\n",
    "from datetime import date\n",
    "from datetime import time\n",
    "from sklearn.cluster import KMeans\n",
    "\n",
    "from datetime import datetime"
   ]
  },
  {
   "cell_type": "code",
   "execution_count": 2,
   "metadata": {},
   "outputs": [],
   "source": [
    "order_detail_df = pd.read_excel(\"data/order.xlsx\", parse_dates = ['Ngày phát sinh'])\n",
    "user_df = pd.read_excel(\"data/user.xlsx\")\n",
    "listening_detail_df = pd.read_excel(\"data/listening.xlsx\")"
   ]
  },
  {
   "cell_type": "code",
   "execution_count": 4,
   "metadata": {},
   "outputs": [],
   "source": [
    "# Chuyển User_ID và Order_ID, Playlist ID sang category\n",
    "order_detail_df['Order ID'] = order_detail_df['Order ID'].astype('category')\n",
    "order_detail_df['ID của user'] = order_detail_df['ID của user'].astype('category')\n",
    "\n",
    "user_df['User ID'] = user_df['User ID'].astype('category')\n",
    "\n",
    "listening_detail_df['Playlist ID']=listening_detail_df['Playlist ID'].astype('category')\n",
    "listening_detail_df['User ID']=listening_detail_df['User ID'].astype('category')\n",
    "\n",
    "# usage_df['User ID']=usage_df['User ID'].astype('category')"
   ]
  },
  {
   "cell_type": "code",
   "execution_count": 3,
   "metadata": {},
   "outputs": [],
   "source": [
    "# Chuyển Ngày phát sinh lượt nghe sang kiểu dữ liệu date\n",
    "listening_detail_df[\"Ngày phát sinh lượt nghe\"] = listening_detail_df[\"Ngày phát sinh lượt nghe\"].map(\n",
    "                                        lambda x:date(int(x.split(\"-\")[2]),int(x.split(\"-\")[1]),int(x.split(\"-\")[0])))\n",
    "listening_detail_df[\"Ngày phát sinh lượt nghe\"] = listening_detail_df[\"Ngày phát sinh lượt nghe\"].astype(\"datetime64\")"
   ]
  },
  {
   "cell_type": "code",
   "execution_count": 4,
   "metadata": {},
   "outputs": [],
   "source": [
    "order_summary_df = order_detail_df.groupby('ID của user').agg({'Ngày phát sinh': ['min',\"max\"]}).reset_index()\n",
    "order_summary_df.columns = ['User_ID','min_purchase_date',\"max_purchase_date\"]"
   ]
  },
  {
   "cell_type": "code",
   "execution_count": 5,
   "metadata": {},
   "outputs": [],
   "source": [
    "listening_summary_df = listening_detail_df.groupby('User ID').agg({\"Ngày phát sinh lượt nghe\":['min','max','count']}).reset_index()\n",
    "listening_summary_df.columns = ['User_ID','first_listen_date','last_listen_date','listen_cnt']"
   ]
  },
  {
   "cell_type": "markdown",
   "metadata": {},
   "source": [
    "### Cắt nhỏ giá trị ngày nghe"
   ]
  },
  {
   "cell_type": "code",
   "execution_count": 6,
   "metadata": {},
   "outputs": [],
   "source": [
    "##### Cắt nhỏ giá trị order_date\n",
    "\n",
    "listening_detail_df['listen_year'] = listening_detail_df['Ngày phát sinh lượt nghe'].map(lambda x: x.strftime('%Y'))\n",
    "listening_detail_df['listen_month'] = listening_detail_df['Ngày phát sinh lượt nghe'].map(lambda x: x.strftime('%m'))\n",
    "listening_detail_df['listen_day'] = listening_detail_df['Ngày phát sinh lượt nghe'].map(lambda x: x.strftime('%d'))"
   ]
  },
  {
   "cell_type": "code",
   "execution_count": 7,
   "metadata": {},
   "outputs": [],
   "source": [
    "listening_detail_df['listen_month_year'] = listening_detail_df['Ngày phát sinh lượt nghe'].map(lambda x: x.strftime('%m/%Y'))"
   ]
  },
  {
   "cell_type": "markdown",
   "metadata": {},
   "source": [
    "### Calculate những dữ liệu để phân tích ROLLRATE"
   ]
  },
  {
   "cell_type": "code",
   "execution_count": 8,
   "metadata": {},
   "outputs": [
    {
     "data": {
      "text/plain": [
       "27458"
      ]
     },
     "execution_count": 8,
     "metadata": {},
     "output_type": "execute_result"
    }
   ],
   "source": [
    "# Chỉ xem những users có nghe và orders\n",
    "# Lấy user_id từ 2 bảng order_summary_df và listening_summary_df gộp vào 1 bảng\n",
    "user_cluster_df= pd.DataFrame(pd.concat(objs=[listening_summary_df['User_ID'],order_summary_df['User_ID']]).drop_duplicates().reset_index(drop=True))\n",
    "user_cluster_df.columns = [\"User_ID\"]\n",
    "user_cluster_df.shape[0]"
   ]
  },
  {
   "cell_type": "code",
   "execution_count": 66,
   "metadata": {},
   "outputs": [],
   "source": [
    "## Lấy ngày signup date\n",
    "user_cluster_df = user_cluster_df.join(user_df[[\"User ID\",\"Ngày đăng ký tài khoản\"]].set_index(\"User ID\"),\n",
    "                                       on=\"User_ID\",how=\"inner\")\n",
    "user_cluster_df = user_cluster_df.rename(columns = {'Ngày đăng ký tài khoản':'signup_date'})\n",
    "\n",
    "# Tất cả các user đều có ngày sign up"
   ]
  },
  {
   "cell_type": "code",
   "execution_count": 9,
   "metadata": {},
   "outputs": [],
   "source": [
    "## Lấy ngày đổi trạng thái\n",
    "\n",
    "user_cluster_df = user_cluster_df.join(other=order_summary_df[[\"User_ID\",\"min_purchase_date\",\"max_purchase_date\"]].set_index('User_ID'),how='left',on='User_ID')"
   ]
  },
  {
   "cell_type": "code",
   "execution_count": 10,
   "metadata": {},
   "outputs": [],
   "source": [
    "## Lấy ngày nghe đầu tiên và cuối cùng\n",
    "user_cluster_df= user_cluster_df.join(other=listening_summary_df[[\"User_ID\",\"first_listen_date\",\"last_listen_date\"]].set_index('User_ID'),how='left',on='User_ID')"
   ]
  },
  {
   "cell_type": "code",
   "execution_count": 11,
   "metadata": {},
   "outputs": [
    {
     "data": {
      "text/html": [
       "<div>\n",
       "<style scoped>\n",
       "    .dataframe tbody tr th:only-of-type {\n",
       "        vertical-align: middle;\n",
       "    }\n",
       "\n",
       "    .dataframe tbody tr th {\n",
       "        vertical-align: top;\n",
       "    }\n",
       "\n",
       "    .dataframe thead th {\n",
       "        text-align: right;\n",
       "    }\n",
       "</style>\n",
       "<table border=\"1\" class=\"dataframe\">\n",
       "  <thead>\n",
       "    <tr style=\"text-align: right;\">\n",
       "      <th></th>\n",
       "      <th>User_ID</th>\n",
       "      <th>min_purchase_date</th>\n",
       "      <th>max_purchase_date</th>\n",
       "      <th>first_listen_date</th>\n",
       "      <th>last_listen_date</th>\n",
       "    </tr>\n",
       "  </thead>\n",
       "  <tbody>\n",
       "    <tr>\n",
       "      <th>0</th>\n",
       "      <td>40834</td>\n",
       "      <td>NaT</td>\n",
       "      <td>NaT</td>\n",
       "      <td>2020-07-08</td>\n",
       "      <td>2020-07-08</td>\n",
       "    </tr>\n",
       "  </tbody>\n",
       "</table>\n",
       "</div>"
      ],
      "text/plain": [
       "   User_ID min_purchase_date max_purchase_date first_listen_date  \\\n",
       "0    40834               NaT               NaT        2020-07-08   \n",
       "\n",
       "  last_listen_date  \n",
       "0       2020-07-08  "
      ]
     },
     "execution_count": 11,
     "metadata": {},
     "output_type": "execute_result"
    }
   ],
   "source": [
    "user_cluster_df.head(1)"
   ]
  },
  {
   "cell_type": "markdown",
   "metadata": {},
   "source": [
    "## Tính số lượt nghe mỗi tháng"
   ]
  },
  {
   "cell_type": "code",
   "execution_count": 12,
   "metadata": {},
   "outputs": [
    {
     "data": {
      "text/html": [
       "<div>\n",
       "<style scoped>\n",
       "    .dataframe tbody tr th:only-of-type {\n",
       "        vertical-align: middle;\n",
       "    }\n",
       "\n",
       "    .dataframe tbody tr th {\n",
       "        vertical-align: top;\n",
       "    }\n",
       "\n",
       "    .dataframe thead th {\n",
       "        text-align: right;\n",
       "    }\n",
       "</style>\n",
       "<table border=\"1\" class=\"dataframe\">\n",
       "  <thead>\n",
       "    <tr style=\"text-align: right;\">\n",
       "      <th></th>\n",
       "      <th>User_ID</th>\n",
       "      <th>min_purchase_date</th>\n",
       "      <th>max_purchase_date</th>\n",
       "      <th>first_listen_date</th>\n",
       "      <th>last_listen_date</th>\n",
       "      <th>07/2020</th>\n",
       "      <th>08/2020</th>\n",
       "      <th>09/2020</th>\n",
       "      <th>10/2020</th>\n",
       "      <th>11/2020</th>\n",
       "      <th>12/2020</th>\n",
       "    </tr>\n",
       "  </thead>\n",
       "  <tbody>\n",
       "    <tr>\n",
       "      <th>0</th>\n",
       "      <td>40834</td>\n",
       "      <td>NaT</td>\n",
       "      <td>NaT</td>\n",
       "      <td>2020-07-08</td>\n",
       "      <td>2020-07-08</td>\n",
       "      <td>2.0</td>\n",
       "      <td>0.0</td>\n",
       "      <td>0.0</td>\n",
       "      <td>0.0</td>\n",
       "      <td>0.0</td>\n",
       "      <td>0.0</td>\n",
       "    </tr>\n",
       "    <tr>\n",
       "      <th>1</th>\n",
       "      <td>40835</td>\n",
       "      <td>NaT</td>\n",
       "      <td>NaT</td>\n",
       "      <td>2020-09-02</td>\n",
       "      <td>2020-10-07</td>\n",
       "      <td>0.0</td>\n",
       "      <td>0.0</td>\n",
       "      <td>4.0</td>\n",
       "      <td>1.0</td>\n",
       "      <td>0.0</td>\n",
       "      <td>0.0</td>\n",
       "    </tr>\n",
       "    <tr>\n",
       "      <th>2</th>\n",
       "      <td>40839</td>\n",
       "      <td>NaT</td>\n",
       "      <td>NaT</td>\n",
       "      <td>2020-07-21</td>\n",
       "      <td>2020-10-11</td>\n",
       "      <td>28.0</td>\n",
       "      <td>24.0</td>\n",
       "      <td>3.0</td>\n",
       "      <td>5.0</td>\n",
       "      <td>0.0</td>\n",
       "      <td>0.0</td>\n",
       "    </tr>\n",
       "  </tbody>\n",
       "</table>\n",
       "</div>"
      ],
      "text/plain": [
       "   User_ID min_purchase_date max_purchase_date first_listen_date  \\\n",
       "0    40834               NaT               NaT        2020-07-08   \n",
       "1    40835               NaT               NaT        2020-09-02   \n",
       "2    40839               NaT               NaT        2020-07-21   \n",
       "\n",
       "  last_listen_date  07/2020  08/2020  09/2020  10/2020  11/2020  12/2020  \n",
       "0       2020-07-08      2.0      0.0      0.0      0.0      0.0      0.0  \n",
       "1       2020-10-07      0.0      0.0      4.0      1.0      0.0      0.0  \n",
       "2       2020-10-11     28.0     24.0      3.0      5.0      0.0      0.0  "
      ]
     },
     "execution_count": 12,
     "metadata": {},
     "output_type": "execute_result"
    }
   ],
   "source": [
    "cnt_df = listening_detail_df[[\"User ID\",\"listen_month_year\"]]\n",
    "h = pd.crosstab(index=cnt_df[\"User ID\"],columns=cnt_df.listen_month_year,dropna=False)\n",
    "user_cluster_df=user_cluster_df.join(h,how=\"left\",on=\"User_ID\")\n",
    "month_bins = np.sort(cnt_df.listen_month_year.unique())\n",
    "\n",
    "user_cluster_df.head(3)"
   ]
  },
  {
   "cell_type": "code",
   "execution_count": 132,
   "metadata": {},
   "outputs": [],
   "source": [
    "# user_cluster_df=user_cluster_df.drop(columns = month_bins, axis=1)"
   ]
  },
  {
   "cell_type": "code",
   "execution_count": 140,
   "metadata": {},
   "outputs": [],
   "source": [
    "# month_bins=np.sort(cnt_df.listen_month_year.unique())"
   ]
  },
  {
   "cell_type": "code",
   "execution_count": 13,
   "metadata": {},
   "outputs": [
    {
     "data": {
      "text/html": [
       "<div>\n",
       "<style scoped>\n",
       "    .dataframe tbody tr th:only-of-type {\n",
       "        vertical-align: middle;\n",
       "    }\n",
       "\n",
       "    .dataframe tbody tr th {\n",
       "        vertical-align: top;\n",
       "    }\n",
       "\n",
       "    .dataframe thead th {\n",
       "        text-align: right;\n",
       "    }\n",
       "</style>\n",
       "<table border=\"1\" class=\"dataframe\">\n",
       "  <thead>\n",
       "    <tr style=\"text-align: right;\">\n",
       "      <th></th>\n",
       "      <th>07/2020</th>\n",
       "      <th>08/2020</th>\n",
       "      <th>09/2020</th>\n",
       "      <th>10/2020</th>\n",
       "      <th>11/2020</th>\n",
       "      <th>12/2020</th>\n",
       "    </tr>\n",
       "  </thead>\n",
       "  <tbody>\n",
       "    <tr>\n",
       "      <th>count</th>\n",
       "      <td>27183.000000</td>\n",
       "      <td>27183.000000</td>\n",
       "      <td>27183.000000</td>\n",
       "      <td>27183.000000</td>\n",
       "      <td>27183.000000</td>\n",
       "      <td>27183.000000</td>\n",
       "    </tr>\n",
       "    <tr>\n",
       "      <th>mean</th>\n",
       "      <td>0.609683</td>\n",
       "      <td>2.027333</td>\n",
       "      <td>2.876504</td>\n",
       "      <td>4.589560</td>\n",
       "      <td>7.591473</td>\n",
       "      <td>9.899827</td>\n",
       "    </tr>\n",
       "    <tr>\n",
       "      <th>std</th>\n",
       "      <td>6.523314</td>\n",
       "      <td>11.485216</td>\n",
       "      <td>14.931286</td>\n",
       "      <td>19.076747</td>\n",
       "      <td>24.720837</td>\n",
       "      <td>28.030310</td>\n",
       "    </tr>\n",
       "    <tr>\n",
       "      <th>min</th>\n",
       "      <td>0.000000</td>\n",
       "      <td>0.000000</td>\n",
       "      <td>0.000000</td>\n",
       "      <td>0.000000</td>\n",
       "      <td>0.000000</td>\n",
       "      <td>0.000000</td>\n",
       "    </tr>\n",
       "    <tr>\n",
       "      <th>25%</th>\n",
       "      <td>0.000000</td>\n",
       "      <td>0.000000</td>\n",
       "      <td>0.000000</td>\n",
       "      <td>0.000000</td>\n",
       "      <td>0.000000</td>\n",
       "      <td>0.000000</td>\n",
       "    </tr>\n",
       "    <tr>\n",
       "      <th>50%</th>\n",
       "      <td>0.000000</td>\n",
       "      <td>0.000000</td>\n",
       "      <td>0.000000</td>\n",
       "      <td>0.000000</td>\n",
       "      <td>0.000000</td>\n",
       "      <td>0.000000</td>\n",
       "    </tr>\n",
       "    <tr>\n",
       "      <th>75%</th>\n",
       "      <td>0.000000</td>\n",
       "      <td>0.000000</td>\n",
       "      <td>0.000000</td>\n",
       "      <td>0.000000</td>\n",
       "      <td>4.000000</td>\n",
       "      <td>6.000000</td>\n",
       "    </tr>\n",
       "    <tr>\n",
       "      <th>max</th>\n",
       "      <td>368.000000</td>\n",
       "      <td>481.000000</td>\n",
       "      <td>515.000000</td>\n",
       "      <td>462.000000</td>\n",
       "      <td>841.000000</td>\n",
       "      <td>627.000000</td>\n",
       "    </tr>\n",
       "  </tbody>\n",
       "</table>\n",
       "</div>"
      ],
      "text/plain": [
       "            07/2020       08/2020       09/2020       10/2020       11/2020  \\\n",
       "count  27183.000000  27183.000000  27183.000000  27183.000000  27183.000000   \n",
       "mean       0.609683      2.027333      2.876504      4.589560      7.591473   \n",
       "std        6.523314     11.485216     14.931286     19.076747     24.720837   \n",
       "min        0.000000      0.000000      0.000000      0.000000      0.000000   \n",
       "25%        0.000000      0.000000      0.000000      0.000000      0.000000   \n",
       "50%        0.000000      0.000000      0.000000      0.000000      0.000000   \n",
       "75%        0.000000      0.000000      0.000000      0.000000      4.000000   \n",
       "max      368.000000    481.000000    515.000000    462.000000    841.000000   \n",
       "\n",
       "            12/2020  \n",
       "count  27183.000000  \n",
       "mean       9.899827  \n",
       "std       28.030310  \n",
       "min        0.000000  \n",
       "25%        0.000000  \n",
       "50%        0.000000  \n",
       "75%        6.000000  \n",
       "max      627.000000  "
      ]
     },
     "execution_count": 13,
     "metadata": {},
     "output_type": "execute_result"
    }
   ],
   "source": [
    "user_cluster_df[month_bins].describe()"
   ]
  },
  {
   "cell_type": "code",
   "execution_count": 14,
   "metadata": {},
   "outputs": [
    {
     "name": "stderr",
     "output_type": "stream",
     "text": [
      "<ipython-input-14-fb33fb59e0ab>:4: UserWarning: Pandas doesn't allow columns to be created via a new attribute name - see https://pandas.pydata.org/pandas-docs/stable/indexing.html#attribute-access\n",
      "  user_cluster_df.change_status_date = user_cluster_df[\"min_purchase_date\"].dt.strftime('%m/%Y')\n"
     ]
    },
    {
     "data": {
      "text/html": [
       "<div>\n",
       "<style scoped>\n",
       "    .dataframe tbody tr th:only-of-type {\n",
       "        vertical-align: middle;\n",
       "    }\n",
       "\n",
       "    .dataframe tbody tr th {\n",
       "        vertical-align: top;\n",
       "    }\n",
       "\n",
       "    .dataframe thead th {\n",
       "        text-align: right;\n",
       "    }\n",
       "</style>\n",
       "<table border=\"1\" class=\"dataframe\">\n",
       "  <thead>\n",
       "    <tr style=\"text-align: right;\">\n",
       "      <th></th>\n",
       "      <th>User_ID</th>\n",
       "      <th>min_purchase_date</th>\n",
       "      <th>max_purchase_date</th>\n",
       "      <th>first_listen_date</th>\n",
       "      <th>last_listen_date</th>\n",
       "      <th>07/2020</th>\n",
       "      <th>08/2020</th>\n",
       "      <th>09/2020</th>\n",
       "      <th>10/2020</th>\n",
       "      <th>11/2020</th>\n",
       "      <th>12/2020</th>\n",
       "    </tr>\n",
       "  </thead>\n",
       "  <tbody>\n",
       "    <tr>\n",
       "      <th>27453</th>\n",
       "      <td>106773</td>\n",
       "      <td>2020-12-31</td>\n",
       "      <td>2020-12-31</td>\n",
       "      <td>NaT</td>\n",
       "      <td>NaT</td>\n",
       "      <td>NaN</td>\n",
       "      <td>NaN</td>\n",
       "      <td>NaN</td>\n",
       "      <td>NaN</td>\n",
       "      <td>NaN</td>\n",
       "      <td>NaN</td>\n",
       "    </tr>\n",
       "    <tr>\n",
       "      <th>27454</th>\n",
       "      <td>106960</td>\n",
       "      <td>2020-12-31</td>\n",
       "      <td>2020-12-31</td>\n",
       "      <td>NaT</td>\n",
       "      <td>NaT</td>\n",
       "      <td>NaN</td>\n",
       "      <td>NaN</td>\n",
       "      <td>NaN</td>\n",
       "      <td>NaN</td>\n",
       "      <td>NaN</td>\n",
       "      <td>NaN</td>\n",
       "    </tr>\n",
       "    <tr>\n",
       "      <th>27455</th>\n",
       "      <td>106971</td>\n",
       "      <td>2020-12-31</td>\n",
       "      <td>2020-12-31</td>\n",
       "      <td>NaT</td>\n",
       "      <td>NaT</td>\n",
       "      <td>NaN</td>\n",
       "      <td>NaN</td>\n",
       "      <td>NaN</td>\n",
       "      <td>NaN</td>\n",
       "      <td>NaN</td>\n",
       "      <td>NaN</td>\n",
       "    </tr>\n",
       "    <tr>\n",
       "      <th>27456</th>\n",
       "      <td>106974</td>\n",
       "      <td>2020-12-31</td>\n",
       "      <td>2020-12-31</td>\n",
       "      <td>NaT</td>\n",
       "      <td>NaT</td>\n",
       "      <td>NaN</td>\n",
       "      <td>NaN</td>\n",
       "      <td>NaN</td>\n",
       "      <td>NaN</td>\n",
       "      <td>NaN</td>\n",
       "      <td>NaN</td>\n",
       "    </tr>\n",
       "    <tr>\n",
       "      <th>27457</th>\n",
       "      <td>106981</td>\n",
       "      <td>2020-12-31</td>\n",
       "      <td>2020-12-31</td>\n",
       "      <td>NaT</td>\n",
       "      <td>NaT</td>\n",
       "      <td>NaN</td>\n",
       "      <td>NaN</td>\n",
       "      <td>NaN</td>\n",
       "      <td>NaN</td>\n",
       "      <td>NaN</td>\n",
       "      <td>NaN</td>\n",
       "    </tr>\n",
       "  </tbody>\n",
       "</table>\n",
       "</div>"
      ],
      "text/plain": [
       "       User_ID min_purchase_date max_purchase_date first_listen_date  \\\n",
       "27453   106773        2020-12-31        2020-12-31               NaT   \n",
       "27454   106960        2020-12-31        2020-12-31               NaT   \n",
       "27455   106971        2020-12-31        2020-12-31               NaT   \n",
       "27456   106974        2020-12-31        2020-12-31               NaT   \n",
       "27457   106981        2020-12-31        2020-12-31               NaT   \n",
       "\n",
       "      last_listen_date  07/2020  08/2020  09/2020  10/2020  11/2020  12/2020  \n",
       "27453              NaT      NaN      NaN      NaN      NaN      NaN      NaN  \n",
       "27454              NaT      NaN      NaN      NaN      NaN      NaN      NaN  \n",
       "27455              NaT      NaN      NaN      NaN      NaN      NaN      NaN  \n",
       "27456              NaT      NaN      NaN      NaN      NaN      NaN      NaN  \n",
       "27457              NaT      NaN      NaN      NaN      NaN      NaN      NaN  "
      ]
     },
     "execution_count": 14,
     "metadata": {},
     "output_type": "execute_result"
    }
   ],
   "source": [
    "## Change Status\n",
    "# user_cluster_df[\"min_purchase_date\"] = user_cluster_df.change_status_date\n",
    "# user_cluster_df.change_status_date = user_cluster_df[\"min_purchase_date\"].map(lambda x: x.strftime('%m/%Y'))\n",
    "user_cluster_df.change_status_date = user_cluster_df[\"min_purchase_date\"].dt.strftime('%m/%Y')\n",
    "user_cluster_df.tail(5)"
   ]
  },
  {
   "cell_type": "code",
   "execution_count": 47,
   "metadata": {},
   "outputs": [],
   "source": [
    "user_cluster_df[\"1_listen_my\"] = user_cluster_df[\"first_listen_date\"].dt.strftime('%m/%Y')"
   ]
  },
  {
   "cell_type": "code",
   "execution_count": 38,
   "metadata": {
    "scrolled": true
   },
   "outputs": [
    {
     "data": {
      "text/html": [
       "<div>\n",
       "<style scoped>\n",
       "    .dataframe tbody tr th:only-of-type {\n",
       "        vertical-align: middle;\n",
       "    }\n",
       "\n",
       "    .dataframe tbody tr th {\n",
       "        vertical-align: top;\n",
       "    }\n",
       "\n",
       "    .dataframe thead th {\n",
       "        text-align: right;\n",
       "    }\n",
       "</style>\n",
       "<table border=\"1\" class=\"dataframe\">\n",
       "  <thead>\n",
       "    <tr style=\"text-align: right;\">\n",
       "      <th></th>\n",
       "      <th>User_ID</th>\n",
       "      <th>min_purchase_date</th>\n",
       "      <th>max_purchase_date</th>\n",
       "      <th>first_listen_date</th>\n",
       "      <th>last_listen_date</th>\n",
       "      <th>07/2020</th>\n",
       "      <th>08/2020</th>\n",
       "      <th>09/2020</th>\n",
       "      <th>10/2020</th>\n",
       "      <th>11/2020</th>\n",
       "      <th>12/2020</th>\n",
       "      <th>signup_date</th>\n",
       "      <th>signup_my</th>\n",
       "      <th>change_status_my</th>\n",
       "      <th>1_listen_my</th>\n",
       "    </tr>\n",
       "  </thead>\n",
       "  <tbody>\n",
       "    <tr>\n",
       "      <th>27455</th>\n",
       "      <td>106971</td>\n",
       "      <td>2020-12-31</td>\n",
       "      <td>2020-12-31</td>\n",
       "      <td>NaT</td>\n",
       "      <td>NaT</td>\n",
       "      <td>NaN</td>\n",
       "      <td>NaN</td>\n",
       "      <td>NaN</td>\n",
       "      <td>NaN</td>\n",
       "      <td>NaN</td>\n",
       "      <td>NaN</td>\n",
       "      <td>2020-12-31</td>\n",
       "      <td>12/2020</td>\n",
       "      <td>12/2020</td>\n",
       "      <td>NaN</td>\n",
       "    </tr>\n",
       "    <tr>\n",
       "      <th>27456</th>\n",
       "      <td>106974</td>\n",
       "      <td>2020-12-31</td>\n",
       "      <td>2020-12-31</td>\n",
       "      <td>NaT</td>\n",
       "      <td>NaT</td>\n",
       "      <td>NaN</td>\n",
       "      <td>NaN</td>\n",
       "      <td>NaN</td>\n",
       "      <td>NaN</td>\n",
       "      <td>NaN</td>\n",
       "      <td>NaN</td>\n",
       "      <td>2020-12-31</td>\n",
       "      <td>12/2020</td>\n",
       "      <td>12/2020</td>\n",
       "      <td>NaN</td>\n",
       "    </tr>\n",
       "    <tr>\n",
       "      <th>27457</th>\n",
       "      <td>106981</td>\n",
       "      <td>2020-12-31</td>\n",
       "      <td>2020-12-31</td>\n",
       "      <td>NaT</td>\n",
       "      <td>NaT</td>\n",
       "      <td>NaN</td>\n",
       "      <td>NaN</td>\n",
       "      <td>NaN</td>\n",
       "      <td>NaN</td>\n",
       "      <td>NaN</td>\n",
       "      <td>NaN</td>\n",
       "      <td>2020-12-31</td>\n",
       "      <td>12/2020</td>\n",
       "      <td>12/2020</td>\n",
       "      <td>NaN</td>\n",
       "    </tr>\n",
       "  </tbody>\n",
       "</table>\n",
       "</div>"
      ],
      "text/plain": [
       "       User_ID min_purchase_date max_purchase_date first_listen_date  \\\n",
       "27455   106971        2020-12-31        2020-12-31               NaT   \n",
       "27456   106974        2020-12-31        2020-12-31               NaT   \n",
       "27457   106981        2020-12-31        2020-12-31               NaT   \n",
       "\n",
       "      last_listen_date  07/2020  08/2020  09/2020  10/2020  11/2020  12/2020  \\\n",
       "27455              NaT      NaN      NaN      NaN      NaN      NaN      NaN   \n",
       "27456              NaT      NaN      NaN      NaN      NaN      NaN      NaN   \n",
       "27457              NaT      NaN      NaN      NaN      NaN      NaN      NaN   \n",
       "\n",
       "      signup_date signup_my change_status_my 1_listen_my  \n",
       "27455  2020-12-31   12/2020          12/2020         NaN  \n",
       "27456  2020-12-31   12/2020          12/2020         NaN  \n",
       "27457  2020-12-31   12/2020          12/2020         NaN  "
      ]
     },
     "execution_count": 38,
     "metadata": {},
     "output_type": "execute_result"
    }
   ],
   "source": [
    "user_cluster_df.tail(3)"
   ]
  },
  {
   "cell_type": "code",
   "execution_count": null,
   "metadata": {},
   "outputs": [],
   "source": [
    "### Xét các chỉ số frequency của các tháng"
   ]
  },
  {
   "cell_type": "code",
   "execution_count": 19,
   "metadata": {},
   "outputs": [
    {
     "data": {
      "text/plain": [
       "Index(['User ID', 'VIP hay Free', 'Giới tính', 'Năm sinh',\n",
       "       'Việt Nam hay Nước ngoài', 'iOS hay Android', 'Ngày đăng ký tài khoản',\n",
       "       'Tổng số lượt nghe', 'Tổng thời lượng nghe (phút)'],\n",
       "      dtype='object')"
      ]
     },
     "execution_count": 19,
     "metadata": {},
     "output_type": "execute_result"
    }
   ],
   "source": [
    "user_df.columns"
   ]
  },
  {
   "cell_type": "code",
   "execution_count": 20,
   "metadata": {},
   "outputs": [],
   "source": [
    "user_cluster_df=user_cluster_df.join(user_df[[\"User ID\",'Ngày đăng ký tài khoản']].set_index(\"User ID\"),on=\"User_ID\",how=\"inner\")"
   ]
  },
  {
   "cell_type": "code",
   "execution_count": 24,
   "metadata": {},
   "outputs": [],
   "source": [
    "user_cluster_df=user_cluster_df.rename(columns={'Ngày đăng ký tài khoản':\"signup_date\"})"
   ]
  },
  {
   "cell_type": "code",
   "execution_count": 32,
   "metadata": {},
   "outputs": [],
   "source": [
    "user_cluster_df[\"signup_my\"] = user_cluster_df[\"signup_date\"].dt.strftime('%m/%Y')\n",
    "user_cluster_df[\"change_status_my\"] = user_cluster_df[\"min_purchase_date\"].dt.strftime('%m/%Y')"
   ]
  },
  {
   "cell_type": "code",
   "execution_count": 45,
   "metadata": {
    "scrolled": true
   },
   "outputs": [
    {
     "data": {
      "text/plain": [
       "Index(['User_ID', 'min_purchase_date', 'max_purchase_date',\n",
       "       'first_listen_date', 'last_listen_date', '07/2020', '08/2020',\n",
       "       '09/2020', '10/2020', '11/2020', '12/2020', 'signup_date', 'signup_my',\n",
       "       'change_status_my', '1_listen_my'],\n",
       "      dtype='object')"
      ]
     },
     "execution_count": 45,
     "metadata": {},
     "output_type": "execute_result"
    }
   ],
   "source": [
    "user_cluster_df.columns"
   ]
  },
  {
   "cell_type": "code",
   "execution_count": 35,
   "metadata": {
    "scrolled": false
   },
   "outputs": [
    {
     "data": {
      "text/html": [
       "<div>\n",
       "<style scoped>\n",
       "    .dataframe tbody tr th:only-of-type {\n",
       "        vertical-align: middle;\n",
       "    }\n",
       "\n",
       "    .dataframe tbody tr th {\n",
       "        vertical-align: top;\n",
       "    }\n",
       "\n",
       "    .dataframe thead th {\n",
       "        text-align: right;\n",
       "    }\n",
       "</style>\n",
       "<table border=\"1\" class=\"dataframe\">\n",
       "  <thead>\n",
       "    <tr style=\"text-align: right;\">\n",
       "      <th></th>\n",
       "      <th>07/2020</th>\n",
       "      <th>08/2020</th>\n",
       "      <th>09/2020</th>\n",
       "      <th>10/2020</th>\n",
       "      <th>11/2020</th>\n",
       "      <th>12/2020</th>\n",
       "    </tr>\n",
       "  </thead>\n",
       "  <tbody>\n",
       "    <tr>\n",
       "      <th>count</th>\n",
       "      <td>27183.000000</td>\n",
       "      <td>27183.000000</td>\n",
       "      <td>27183.000000</td>\n",
       "      <td>27183.000000</td>\n",
       "      <td>27183.000000</td>\n",
       "      <td>27183.000000</td>\n",
       "    </tr>\n",
       "    <tr>\n",
       "      <th>mean</th>\n",
       "      <td>0.609683</td>\n",
       "      <td>2.027333</td>\n",
       "      <td>2.876504</td>\n",
       "      <td>4.589560</td>\n",
       "      <td>7.591473</td>\n",
       "      <td>9.899827</td>\n",
       "    </tr>\n",
       "    <tr>\n",
       "      <th>std</th>\n",
       "      <td>6.523314</td>\n",
       "      <td>11.485216</td>\n",
       "      <td>14.931286</td>\n",
       "      <td>19.076747</td>\n",
       "      <td>24.720837</td>\n",
       "      <td>28.030310</td>\n",
       "    </tr>\n",
       "    <tr>\n",
       "      <th>min</th>\n",
       "      <td>0.000000</td>\n",
       "      <td>0.000000</td>\n",
       "      <td>0.000000</td>\n",
       "      <td>0.000000</td>\n",
       "      <td>0.000000</td>\n",
       "      <td>0.000000</td>\n",
       "    </tr>\n",
       "    <tr>\n",
       "      <th>25%</th>\n",
       "      <td>0.000000</td>\n",
       "      <td>0.000000</td>\n",
       "      <td>0.000000</td>\n",
       "      <td>0.000000</td>\n",
       "      <td>0.000000</td>\n",
       "      <td>0.000000</td>\n",
       "    </tr>\n",
       "    <tr>\n",
       "      <th>50%</th>\n",
       "      <td>0.000000</td>\n",
       "      <td>0.000000</td>\n",
       "      <td>0.000000</td>\n",
       "      <td>0.000000</td>\n",
       "      <td>0.000000</td>\n",
       "      <td>0.000000</td>\n",
       "    </tr>\n",
       "    <tr>\n",
       "      <th>75%</th>\n",
       "      <td>0.000000</td>\n",
       "      <td>0.000000</td>\n",
       "      <td>0.000000</td>\n",
       "      <td>0.000000</td>\n",
       "      <td>4.000000</td>\n",
       "      <td>6.000000</td>\n",
       "    </tr>\n",
       "    <tr>\n",
       "      <th>max</th>\n",
       "      <td>368.000000</td>\n",
       "      <td>481.000000</td>\n",
       "      <td>515.000000</td>\n",
       "      <td>462.000000</td>\n",
       "      <td>841.000000</td>\n",
       "      <td>627.000000</td>\n",
       "    </tr>\n",
       "  </tbody>\n",
       "</table>\n",
       "</div>"
      ],
      "text/plain": [
       "            07/2020       08/2020       09/2020       10/2020       11/2020  \\\n",
       "count  27183.000000  27183.000000  27183.000000  27183.000000  27183.000000   \n",
       "mean       0.609683      2.027333      2.876504      4.589560      7.591473   \n",
       "std        6.523314     11.485216     14.931286     19.076747     24.720837   \n",
       "min        0.000000      0.000000      0.000000      0.000000      0.000000   \n",
       "25%        0.000000      0.000000      0.000000      0.000000      0.000000   \n",
       "50%        0.000000      0.000000      0.000000      0.000000      0.000000   \n",
       "75%        0.000000      0.000000      0.000000      0.000000      4.000000   \n",
       "max      368.000000    481.000000    515.000000    462.000000    841.000000   \n",
       "\n",
       "            12/2020  \n",
       "count  27183.000000  \n",
       "mean       9.899827  \n",
       "std       28.030310  \n",
       "min        0.000000  \n",
       "25%        0.000000  \n",
       "50%        0.000000  \n",
       "75%        6.000000  \n",
       "max      627.000000  "
      ]
     },
     "execution_count": 35,
     "metadata": {},
     "output_type": "execute_result"
    }
   ],
   "source": [
    "user_cluster_df[month_bins].describe()"
   ]
  },
  {
   "cell_type": "code",
   "execution_count": 51,
   "metadata": {},
   "outputs": [],
   "source": [
    "rollrate_df = user_cluster_df[~user_cluster_df[\"first_listen_date\"].isnull()]"
   ]
  },
  {
   "cell_type": "code",
   "execution_count": null,
   "metadata": {},
   "outputs": [],
   "source": [
    "## Tính free user tháng 07/2020"
   ]
  },
  {
   "cell_type": "code",
   "execution_count": 68,
   "metadata": {},
   "outputs": [],
   "source": [
    "for col in month_bins:\n",
    "    rollrate_df[\"cnt_\"+col]=rollrate_df.loc[:,str(col)].map(lambda x: np.nan if x==0 else x)"
   ]
  },
  {
   "cell_type": "code",
   "execution_count": 70,
   "metadata": {
    "scrolled": false
   },
   "outputs": [
    {
     "data": {
      "text/html": [
       "<div>\n",
       "<style scoped>\n",
       "    .dataframe tbody tr th:only-of-type {\n",
       "        vertical-align: middle;\n",
       "    }\n",
       "\n",
       "    .dataframe tbody tr th {\n",
       "        vertical-align: top;\n",
       "    }\n",
       "\n",
       "    .dataframe thead th {\n",
       "        text-align: right;\n",
       "    }\n",
       "</style>\n",
       "<table border=\"1\" class=\"dataframe\">\n",
       "  <thead>\n",
       "    <tr style=\"text-align: right;\">\n",
       "      <th></th>\n",
       "      <th>cnt_07/2020</th>\n",
       "      <th>cnt_08/2020</th>\n",
       "      <th>cnt_09/2020</th>\n",
       "      <th>cnt_10/2020</th>\n",
       "      <th>cnt_11/2020</th>\n",
       "      <th>cnt_12/2020</th>\n",
       "    </tr>\n",
       "  </thead>\n",
       "  <tbody>\n",
       "    <tr>\n",
       "      <th>count</th>\n",
       "      <td>823.000000</td>\n",
       "      <td>3395.000000</td>\n",
       "      <td>4127.000000</td>\n",
       "      <td>6695.000000</td>\n",
       "      <td>10314.000000</td>\n",
       "      <td>12433.000000</td>\n",
       "    </tr>\n",
       "    <tr>\n",
       "      <th>mean</th>\n",
       "      <td>20.137303</td>\n",
       "      <td>16.232401</td>\n",
       "      <td>18.946450</td>\n",
       "      <td>18.634503</td>\n",
       "      <td>20.007659</td>\n",
       "      <td>21.644575</td>\n",
       "    </tr>\n",
       "    <tr>\n",
       "      <th>std</th>\n",
       "      <td>31.834836</td>\n",
       "      <td>28.736687</td>\n",
       "      <td>34.120425</td>\n",
       "      <td>34.871219</td>\n",
       "      <td>36.909173</td>\n",
       "      <td>38.257847</td>\n",
       "    </tr>\n",
       "    <tr>\n",
       "      <th>min</th>\n",
       "      <td>1.000000</td>\n",
       "      <td>1.000000</td>\n",
       "      <td>1.000000</td>\n",
       "      <td>1.000000</td>\n",
       "      <td>1.000000</td>\n",
       "      <td>1.000000</td>\n",
       "    </tr>\n",
       "    <tr>\n",
       "      <th>25%</th>\n",
       "      <td>3.000000</td>\n",
       "      <td>2.000000</td>\n",
       "      <td>2.000000</td>\n",
       "      <td>2.000000</td>\n",
       "      <td>3.000000</td>\n",
       "      <td>3.000000</td>\n",
       "    </tr>\n",
       "    <tr>\n",
       "      <th>50%</th>\n",
       "      <td>8.000000</td>\n",
       "      <td>6.000000</td>\n",
       "      <td>7.000000</td>\n",
       "      <td>7.000000</td>\n",
       "      <td>7.000000</td>\n",
       "      <td>8.000000</td>\n",
       "    </tr>\n",
       "    <tr>\n",
       "      <th>75%</th>\n",
       "      <td>24.000000</td>\n",
       "      <td>18.000000</td>\n",
       "      <td>21.000000</td>\n",
       "      <td>19.000000</td>\n",
       "      <td>22.000000</td>\n",
       "      <td>24.000000</td>\n",
       "    </tr>\n",
       "    <tr>\n",
       "      <th>max</th>\n",
       "      <td>368.000000</td>\n",
       "      <td>481.000000</td>\n",
       "      <td>515.000000</td>\n",
       "      <td>462.000000</td>\n",
       "      <td>841.000000</td>\n",
       "      <td>627.000000</td>\n",
       "    </tr>\n",
       "  </tbody>\n",
       "</table>\n",
       "</div>"
      ],
      "text/plain": [
       "       cnt_07/2020  cnt_08/2020  cnt_09/2020  cnt_10/2020   cnt_11/2020  \\\n",
       "count   823.000000  3395.000000  4127.000000  6695.000000  10314.000000   \n",
       "mean     20.137303    16.232401    18.946450    18.634503     20.007659   \n",
       "std      31.834836    28.736687    34.120425    34.871219     36.909173   \n",
       "min       1.000000     1.000000     1.000000     1.000000      1.000000   \n",
       "25%       3.000000     2.000000     2.000000     2.000000      3.000000   \n",
       "50%       8.000000     6.000000     7.000000     7.000000      7.000000   \n",
       "75%      24.000000    18.000000    21.000000    19.000000     22.000000   \n",
       "max     368.000000   481.000000   515.000000   462.000000    841.000000   \n",
       "\n",
       "        cnt_12/2020  \n",
       "count  12433.000000  \n",
       "mean      21.644575  \n",
       "std       38.257847  \n",
       "min        1.000000  \n",
       "25%        3.000000  \n",
       "50%        8.000000  \n",
       "75%       24.000000  \n",
       "max      627.000000  "
      ]
     },
     "execution_count": 70,
     "metadata": {},
     "output_type": "execute_result"
    }
   ],
   "source": [
    "rollrate_df[\"cnt_\"+month_bins].describe()"
   ]
  },
  {
   "cell_type": "code",
   "execution_count": 71,
   "metadata": {},
   "outputs": [],
   "source": [
    "for col in month_bins:\n",
    "    rollrate_df[\"F_\"+month_bins] = round(rollrate_df[\"cnt_\"+month_bins]/30,2)"
   ]
  },
  {
   "cell_type": "code",
   "execution_count": 108,
   "metadata": {
    "scrolled": true
   },
   "outputs": [
    {
     "data": {
      "text/html": [
       "<div>\n",
       "<style scoped>\n",
       "    .dataframe tbody tr th:only-of-type {\n",
       "        vertical-align: middle;\n",
       "    }\n",
       "\n",
       "    .dataframe tbody tr th {\n",
       "        vertical-align: top;\n",
       "    }\n",
       "\n",
       "    .dataframe thead th {\n",
       "        text-align: right;\n",
       "    }\n",
       "</style>\n",
       "<table border=\"1\" class=\"dataframe\">\n",
       "  <thead>\n",
       "    <tr style=\"text-align: right;\">\n",
       "      <th></th>\n",
       "      <th>F_07/2020</th>\n",
       "      <th>F_08/2020</th>\n",
       "      <th>F_09/2020</th>\n",
       "      <th>F_10/2020</th>\n",
       "      <th>F_11/2020</th>\n",
       "      <th>F_12/2020</th>\n",
       "    </tr>\n",
       "  </thead>\n",
       "  <tbody>\n",
       "    <tr>\n",
       "      <th>count</th>\n",
       "      <td>36.000000</td>\n",
       "      <td>3395.000000</td>\n",
       "      <td>4127.000000</td>\n",
       "      <td>6695.000000</td>\n",
       "      <td>10314.000000</td>\n",
       "      <td>12433.000000</td>\n",
       "    </tr>\n",
       "    <tr>\n",
       "      <th>mean</th>\n",
       "      <td>12.836111</td>\n",
       "      <td>0.540837</td>\n",
       "      <td>0.631350</td>\n",
       "      <td>0.620899</td>\n",
       "      <td>0.666736</td>\n",
       "      <td>0.721244</td>\n",
       "    </tr>\n",
       "    <tr>\n",
       "      <th>std</th>\n",
       "      <td>13.127555</td>\n",
       "      <td>0.958070</td>\n",
       "      <td>1.137492</td>\n",
       "      <td>1.162487</td>\n",
       "      <td>1.230430</td>\n",
       "      <td>1.275340</td>\n",
       "    </tr>\n",
       "    <tr>\n",
       "      <th>min</th>\n",
       "      <td>0.930000</td>\n",
       "      <td>0.030000</td>\n",
       "      <td>0.030000</td>\n",
       "      <td>0.030000</td>\n",
       "      <td>0.030000</td>\n",
       "      <td>0.030000</td>\n",
       "    </tr>\n",
       "    <tr>\n",
       "      <th>25%</th>\n",
       "      <td>4.037500</td>\n",
       "      <td>0.070000</td>\n",
       "      <td>0.070000</td>\n",
       "      <td>0.070000</td>\n",
       "      <td>0.100000</td>\n",
       "      <td>0.100000</td>\n",
       "    </tr>\n",
       "    <tr>\n",
       "      <th>50%</th>\n",
       "      <td>10.600000</td>\n",
       "      <td>0.200000</td>\n",
       "      <td>0.230000</td>\n",
       "      <td>0.230000</td>\n",
       "      <td>0.230000</td>\n",
       "      <td>0.270000</td>\n",
       "    </tr>\n",
       "    <tr>\n",
       "      <th>75%</th>\n",
       "      <td>13.665000</td>\n",
       "      <td>0.600000</td>\n",
       "      <td>0.700000</td>\n",
       "      <td>0.630000</td>\n",
       "      <td>0.730000</td>\n",
       "      <td>0.800000</td>\n",
       "    </tr>\n",
       "    <tr>\n",
       "      <th>max</th>\n",
       "      <td>67.810000</td>\n",
       "      <td>16.030000</td>\n",
       "      <td>17.170000</td>\n",
       "      <td>15.400000</td>\n",
       "      <td>28.030000</td>\n",
       "      <td>20.900000</td>\n",
       "    </tr>\n",
       "  </tbody>\n",
       "</table>\n",
       "</div>"
      ],
      "text/plain": [
       "       F_07/2020    F_08/2020    F_09/2020    F_10/2020     F_11/2020  \\\n",
       "count  36.000000  3395.000000  4127.000000  6695.000000  10314.000000   \n",
       "mean   12.836111     0.540837     0.631350     0.620899      0.666736   \n",
       "std    13.127555     0.958070     1.137492     1.162487      1.230430   \n",
       "min     0.930000     0.030000     0.030000     0.030000      0.030000   \n",
       "25%     4.037500     0.070000     0.070000     0.070000      0.100000   \n",
       "50%    10.600000     0.200000     0.230000     0.230000      0.230000   \n",
       "75%    13.665000     0.600000     0.700000     0.630000      0.730000   \n",
       "max    67.810000    16.030000    17.170000    15.400000     28.030000   \n",
       "\n",
       "          F_12/2020  \n",
       "count  12433.000000  \n",
       "mean       0.721244  \n",
       "std        1.275340  \n",
       "min        0.030000  \n",
       "25%        0.100000  \n",
       "50%        0.270000  \n",
       "75%        0.800000  \n",
       "max       20.900000  "
      ]
     },
     "execution_count": 108,
     "metadata": {},
     "output_type": "execute_result"
    }
   ],
   "source": [
    "rollrate_df[\"F_\"+month_bins].describe()"
   ]
  },
  {
   "cell_type": "code",
   "execution_count": 101,
   "metadata": {},
   "outputs": [
    {
     "name": "stdout",
     "output_type": "stream",
     "text": [
      "23788\n",
      "23056\n",
      "20488\n",
      "16869\n",
      "14750\n"
     ]
    }
   ],
   "source": [
    "for i in range(1,len(month_bins)):\n",
    "    print(rollrate_df[\"F_\"+month_bins[i]].isnull().sum())"
   ]
  },
  {
   "cell_type": "code",
   "execution_count": 85,
   "metadata": {},
   "outputs": [],
   "source": [
    "t = rollrate_df[\"F_\"+month_bins[0]]\n",
    "for i in range(1,len(month_bins)):\n",
    "    t = pd.concat([t, rollrate_df[\"F_\"+month_bins[i]]])\n",
    "    \n"
   ]
  },
  {
   "cell_type": "code",
   "execution_count": 88,
   "metadata": {},
   "outputs": [],
   "source": [
    "fre=pd.DataFrame(data=t,columns=['frequence'])"
   ]
  },
  {
   "cell_type": "code",
   "execution_count": 102,
   "metadata": {},
   "outputs": [
    {
     "data": {
      "text/plain": [
       "372"
      ]
     },
     "execution_count": 102,
     "metadata": {},
     "output_type": "execute_result"
    }
   ],
   "source": [
    "fre=fre.drop_duplicates().dropna()\n",
    "fre.shape[0]"
   ]
  },
  {
   "cell_type": "code",
   "execution_count": 112,
   "metadata": {},
   "outputs": [],
   "source": [
    "q99 =fre[\"frequence\"].quantile(0.99) \n",
    "\n",
    "fre[\"frequence\"] = fre[\"frequence\"].map(lambda x: q99 if x>q99 else x)"
   ]
  },
  {
   "cell_type": "code",
   "execution_count": 113,
   "metadata": {},
   "outputs": [
    {
     "data": {
      "text/plain": [
       "<AxesSubplot:xlabel='frequence'>"
      ]
     },
     "execution_count": 113,
     "metadata": {},
     "output_type": "execute_result"
    },
    {
     "data": {
      "image/png": "[encoded data removed]",
      "text/plain": [
       "<Figure size 432x288 with 1 Axes>"
      ]
     },
     "metadata": {
      "needs_background": "light"
     },
     "output_type": "display_data"
    }
   ],
   "source": [
    "sns.boxplot(x=fre['frequence'])"
   ]
  },
  {
   "cell_type": "code",
   "execution_count": 114,
   "metadata": {},
   "outputs": [
    {
     "data": {
      "text/html": [
       "<div>\n",
       "<style scoped>\n",
       "    .dataframe tbody tr th:only-of-type {\n",
       "        vertical-align: middle;\n",
       "    }\n",
       "\n",
       "    .dataframe tbody tr th {\n",
       "        vertical-align: top;\n",
       "    }\n",
       "\n",
       "    .dataframe thead th {\n",
       "        text-align: right;\n",
       "    }\n",
       "</style>\n",
       "<table border=\"1\" class=\"dataframe\">\n",
       "  <thead>\n",
       "    <tr style=\"text-align: right;\">\n",
       "      <th></th>\n",
       "      <th>frequence</th>\n",
       "    </tr>\n",
       "  </thead>\n",
       "  <tbody>\n",
       "    <tr>\n",
       "      <th>count</th>\n",
       "      <td>372.000000</td>\n",
       "    </tr>\n",
       "    <tr>\n",
       "      <th>mean</th>\n",
       "      <td>6.889142</td>\n",
       "    </tr>\n",
       "    <tr>\n",
       "      <th>std</th>\n",
       "      <td>5.173445</td>\n",
       "    </tr>\n",
       "    <tr>\n",
       "      <th>min</th>\n",
       "      <td>0.030000</td>\n",
       "    </tr>\n",
       "    <tr>\n",
       "      <th>25%</th>\n",
       "      <td>3.022500</td>\n",
       "    </tr>\n",
       "    <tr>\n",
       "      <th>50%</th>\n",
       "      <td>6.050000</td>\n",
       "    </tr>\n",
       "    <tr>\n",
       "      <th>75%</th>\n",
       "      <td>9.477500</td>\n",
       "    </tr>\n",
       "    <tr>\n",
       "      <th>max</th>\n",
       "      <td>27.582700</td>\n",
       "    </tr>\n",
       "  </tbody>\n",
       "</table>\n",
       "</div>"
      ],
      "text/plain": [
       "        frequence\n",
       "count  372.000000\n",
       "mean     6.889142\n",
       "std      5.173445\n",
       "min      0.030000\n",
       "25%      3.022500\n",
       "50%      6.050000\n",
       "75%      9.477500\n",
       "max     27.582700"
      ]
     },
     "execution_count": 114,
     "metadata": {},
     "output_type": "execute_result"
    }
   ],
   "source": [
    "fre.describe()"
   ]
  },
  {
   "cell_type": "code",
   "execution_count": 119,
   "metadata": {},
   "outputs": [],
   "source": [
    "def find_sse(df, max_k):\n",
    "    sse = {}\n",
    "    for k in range(1, max_k):\n",
    "        kmeans = KMeans(n_clusters=k, max_iter=1000)\n",
    "        kmeans.fit(df)\n",
    "        df['clusters'] = kmeans.labels_\n",
    "        sse[k] = kmeans.inertia_\n",
    "    return sse\n",
    "   \n",
    "## function for ordering cluster numbers\n",
    "def order_cluster(cluster_field_name, target_field_name, df, ascending):\n",
    "    new_cluster_field_name = 'new_' + cluster_field_name\n",
    "    df_new = df.groupby(cluster_field_name)[target_field_name].mean().reset_index()\n",
    "    df_new = df_new.sort_values(by=target_field_name,ascending=ascending).reset_index(drop=True)\n",
    "    df_new['index'] = df_new.index\n",
    "    df_final = pd.merge(df,df_new[[cluster_field_name,'index']], on=cluster_field_name)\n",
    "    df_final = df_final.drop([cluster_field_name],axis=1)\n",
    "    df_final = df_final.rename(columns={\"index\":cluster_field_name})\n",
    "    return df_final\n",
    "def run_kmean_clustering(df,cluster_cols,k_cluster,k_iter = 1000):\n",
    "    kmeans = KMeans(n_clusters=k_cluster, max_iter = k_iter )\n",
    "    kmeans.fit(df[cluster_cols])\n",
    "    prefix = cluster_cols[0]\n",
    "    df[str(prefix)+\"Cluster\"]= kmeans.predict((df[cluster_cols]))\n",
    "    return df\n",
    "\n",
    "def min_max_scale(df,scale_cols):\n",
    "    for col in scale_cols:\n",
    "        min_val = df[col].min()\n",
    "        max_val = df[col].max()\n",
    "        distance = max_val - min_val\n",
    "        df['scaled'+str(col)] = (df[col]-min_val)/distance\n",
    "    return df\n"
   ]
  },
  {
   "cell_type": "code",
   "execution_count": 117,
   "metadata": {},
   "outputs": [],
   "source": [
    "fre_old=fre.copy()"
   ]
  },
  {
   "cell_type": "code",
   "execution_count": 120,
   "metadata": {},
   "outputs": [],
   "source": [
    "fre = min_max_scale(fre,[\"frequence\"])"
   ]
  },
  {
   "cell_type": "code",
   "execution_count": 121,
   "metadata": {},
   "outputs": [
    {
     "ename": "ValueError",
     "evalue": "Expected 2D array, got 1D array instead:\narray=[23.37   12.44    1.7    27.4    15.39   27.5827  2.26   13.11   13.23\n 27.5827  8.09   13.77   11.53    1.54   13.06   10.5     2.17    3.46\n 12.33   25.6     0.93    7.87    2.77    6.     27.5827 15.06    7.73\n 10.7     4.23   12.74   13.63    5.97    9.04    3.2     1.17    9.42\n  0.8     7.      0.03    2.      1.37    0.07    0.43    0.67    0.33\n  0.17    0.6     0.13    0.5     0.37    2.33    0.3     1.03    0.9\n  7.07    4.03    0.83    0.23    8.57    0.53    0.2     0.47    0.27\n  1.63    0.1     3.23    0.7     0.63    1.07    2.37    0.93    3.27\n  0.87    1.1     0.4     5.3     2.93    2.23    0.97    1.      1.9\n  4.4     2.27    4.27    2.03    1.4     2.6     1.53    2.07    3.77\n  1.23    3.83    0.73    2.2     2.4     0.77    7.4     5.77    1.6\n  2.63    2.87    3.17    3.57    1.13    0.57    1.5     2.67    5.4\n  1.83    1.27   11.27    2.73    1.2     4.13    6.57    5.      4.23\n  2.13    2.3     1.47    4.63    2.57    3.8     1.3     3.13   12.17\n  1.87    1.43    4.7     1.33    3.63    1.57    1.77    3.      5.07\n  3.33    1.73    7.87    4.9     1.97    3.5     2.47    2.7     1.93\n  2.43    4.07    1.8     4.5     6.27    5.43    3.03    3.07    3.43\n  6.6     6.3     9.37    1.67    3.3     3.9     2.53    7.3     2.1\n  3.4     5.27    3.1     4.87    3.53    5.6     3.7     2.5     3.93\n  3.37    4.43    5.53    2.8     3.97    4.2     5.2     2.9     4.\n  4.47    4.93    4.1    16.03    5.7    17.17    7.03    7.17    7.43\n  5.1     3.87    6.93    7.23    5.67    4.8     2.97    6.7    11.17\n  4.17    2.83    3.67    8.23    8.5     4.3     4.77    4.73    3.47\n 11.43   10.83    6.03    5.37    6.9     3.6     8.33    4.67   15.13\n  5.47    4.33    8.73    6.37    9.3     5.03   10.8    11.57    5.23\n 12.77   10.43   10.27    4.97    7.2     5.73   11.67    5.13    8.37\n  3.73    5.33    4.6     9.67    4.37    5.57   12.4     8.3    12.57\n  7.57   10.07    4.83    5.5    10.47   10.13    6.07   15.1     7.67\n 10.4     9.57    4.53    6.43    8.9     7.77    5.9     6.23   13.87\n  6.77   14.23   10.6    12.5     6.13   10.3     8.      6.33    8.4\n  5.8     6.63    6.47    9.13    6.1    15.4     7.1     8.53    5.63\n  7.7    10.03    6.4     6.2     5.93    4.57   11.07    5.87    9.5\n 27.5827  8.77    6.73    8.17   10.23    7.6    11.13   10.9     6.97\n 12.43    9.77    9.07    9.17   10.1     7.47    8.7     9.6     5.17\n 10.63   18.2    10.17   24.6     7.33   12.3    12.6    11.77    5.83\n 22.73    6.87    8.97   11.8    14.17   10.33    6.83    9.47    7.93\n  7.9     9.2    15.43   18.4    14.07    8.2    10.97    6.17    8.6\n  9.83   11.33    8.93    8.43   11.3     8.83   12.93    7.63    7.97\n  9.43    9.33   20.9     7.5    13.33    7.83    8.47    6.53    8.67\n  6.67    6.8    16.17    9.7     7.53    9.9    13.2    12.23   16.93\n 18.63   13.1     8.13   14.57   13.43    8.03    9.23    8.07    8.8\n 12.47   14.5    11.1   ].\nReshape your data either using array.reshape(-1, 1) if your data has a single feature or array.reshape(1, -1) if it contains a single sample.",
     "output_type": "error",
     "traceback": [
      "\u001b[1;31m---------------------------------------------------------------------------\u001b[0m",
      "\u001b[1;31mValueError\u001b[0m                                Traceback (most recent call last)",
      "\u001b[1;32m<ipython-input-121-3b151151ab36>\u001b[0m in \u001b[0;36m<module>\u001b[1;34m\u001b[0m\n\u001b[0;32m      1\u001b[0m \u001b[1;31m#Clustering:\u001b[0m\u001b[1;33m\u001b[0m\u001b[1;33m\u001b[0m\u001b[1;33m\u001b[0m\u001b[0m\n\u001b[0;32m      2\u001b[0m \u001b[1;31m## Elbow Method to determine K\u001b[0m\u001b[1;33m\u001b[0m\u001b[1;33m\u001b[0m\u001b[1;33m\u001b[0m\u001b[0m\n\u001b[1;32m----> 3\u001b[1;33m \u001b[0msse\u001b[0m \u001b[1;33m=\u001b[0m \u001b[0mfind_sse\u001b[0m\u001b[1;33m(\u001b[0m\u001b[0mfre\u001b[0m\u001b[1;33m[\u001b[0m\u001b[1;34m'frequence'\u001b[0m\u001b[1;33m]\u001b[0m\u001b[1;33m,\u001b[0m \u001b[0mmax_k\u001b[0m \u001b[1;33m=\u001b[0m \u001b[1;36m10\u001b[0m\u001b[1;33m)\u001b[0m\u001b[1;33m\u001b[0m\u001b[1;33m\u001b[0m\u001b[0m\n\u001b[0m\u001b[0;32m      4\u001b[0m \u001b[1;33m\u001b[0m\u001b[0m\n\u001b[0;32m      5\u001b[0m \u001b[0mplt\u001b[0m\u001b[1;33m.\u001b[0m\u001b[0mfigure\u001b[0m\u001b[1;33m(\u001b[0m\u001b[1;33m)\u001b[0m\u001b[1;33m\u001b[0m\u001b[1;33m\u001b[0m\u001b[0m\n",
      "\u001b[1;32m<ipython-input-119-8a59e6883ec7>\u001b[0m in \u001b[0;36mfind_sse\u001b[1;34m(df, max_k)\u001b[0m\n\u001b[0;32m      3\u001b[0m     \u001b[1;32mfor\u001b[0m \u001b[0mk\u001b[0m \u001b[1;32min\u001b[0m \u001b[0mrange\u001b[0m\u001b[1;33m(\u001b[0m\u001b[1;36m1\u001b[0m\u001b[1;33m,\u001b[0m \u001b[0mmax_k\u001b[0m\u001b[1;33m)\u001b[0m\u001b[1;33m:\u001b[0m\u001b[1;33m\u001b[0m\u001b[1;33m\u001b[0m\u001b[0m\n\u001b[0;32m      4\u001b[0m         \u001b[0mkmeans\u001b[0m \u001b[1;33m=\u001b[0m \u001b[0mKMeans\u001b[0m\u001b[1;33m(\u001b[0m\u001b[0mn_clusters\u001b[0m\u001b[1;33m=\u001b[0m\u001b[0mk\u001b[0m\u001b[1;33m,\u001b[0m \u001b[0mmax_iter\u001b[0m\u001b[1;33m=\u001b[0m\u001b[1;36m1000\u001b[0m\u001b[1;33m)\u001b[0m\u001b[1;33m\u001b[0m\u001b[1;33m\u001b[0m\u001b[0m\n\u001b[1;32m----> 5\u001b[1;33m         \u001b[0mkmeans\u001b[0m\u001b[1;33m.\u001b[0m\u001b[0mfit\u001b[0m\u001b[1;33m(\u001b[0m\u001b[0mdf\u001b[0m\u001b[1;33m)\u001b[0m\u001b[1;33m\u001b[0m\u001b[1;33m\u001b[0m\u001b[0m\n\u001b[0m\u001b[0;32m      6\u001b[0m         \u001b[0mdf\u001b[0m\u001b[1;33m[\u001b[0m\u001b[1;34m'clusters'\u001b[0m\u001b[1;33m]\u001b[0m \u001b[1;33m=\u001b[0m \u001b[0mkmeans\u001b[0m\u001b[1;33m.\u001b[0m\u001b[0mlabels_\u001b[0m\u001b[1;33m\u001b[0m\u001b[1;33m\u001b[0m\u001b[0m\n\u001b[0;32m      7\u001b[0m         \u001b[0msse\u001b[0m\u001b[1;33m[\u001b[0m\u001b[0mk\u001b[0m\u001b[1;33m]\u001b[0m \u001b[1;33m=\u001b[0m \u001b[0mkmeans\u001b[0m\u001b[1;33m.\u001b[0m\u001b[0minertia_\u001b[0m\u001b[1;33m\u001b[0m\u001b[1;33m\u001b[0m\u001b[0m\n",
      "\u001b[1;32m~\\AppData\\Roaming\\Python\\Python38\\site-packages\\sklearn\\cluster\\_kmeans.py\u001b[0m in \u001b[0;36mfit\u001b[1;34m(self, X, y, sample_weight)\u001b[0m\n\u001b[0;32m    977\u001b[0m             \u001b[0mFitted\u001b[0m \u001b[0mestimator\u001b[0m\u001b[1;33m.\u001b[0m\u001b[1;33m\u001b[0m\u001b[1;33m\u001b[0m\u001b[0m\n\u001b[0;32m    978\u001b[0m         \"\"\"\n\u001b[1;32m--> 979\u001b[1;33m         X = self._validate_data(X, accept_sparse='csr',\n\u001b[0m\u001b[0;32m    980\u001b[0m                                 \u001b[0mdtype\u001b[0m\u001b[1;33m=\u001b[0m\u001b[1;33m[\u001b[0m\u001b[0mnp\u001b[0m\u001b[1;33m.\u001b[0m\u001b[0mfloat64\u001b[0m\u001b[1;33m,\u001b[0m \u001b[0mnp\u001b[0m\u001b[1;33m.\u001b[0m\u001b[0mfloat32\u001b[0m\u001b[1;33m]\u001b[0m\u001b[1;33m,\u001b[0m\u001b[1;33m\u001b[0m\u001b[1;33m\u001b[0m\u001b[0m\n\u001b[0;32m    981\u001b[0m                                 \u001b[0morder\u001b[0m\u001b[1;33m=\u001b[0m\u001b[1;34m'C'\u001b[0m\u001b[1;33m,\u001b[0m \u001b[0mcopy\u001b[0m\u001b[1;33m=\u001b[0m\u001b[0mself\u001b[0m\u001b[1;33m.\u001b[0m\u001b[0mcopy_x\u001b[0m\u001b[1;33m,\u001b[0m\u001b[1;33m\u001b[0m\u001b[1;33m\u001b[0m\u001b[0m\n",
      "\u001b[1;32m~\\AppData\\Roaming\\Python\\Python38\\site-packages\\sklearn\\base.py\u001b[0m in \u001b[0;36m_validate_data\u001b[1;34m(self, X, y, reset, validate_separately, **check_params)\u001b[0m\n\u001b[0;32m    419\u001b[0m             \u001b[0mout\u001b[0m \u001b[1;33m=\u001b[0m \u001b[0mX\u001b[0m\u001b[1;33m\u001b[0m\u001b[1;33m\u001b[0m\u001b[0m\n\u001b[0;32m    420\u001b[0m         \u001b[1;32melif\u001b[0m \u001b[0misinstance\u001b[0m\u001b[1;33m(\u001b[0m\u001b[0my\u001b[0m\u001b[1;33m,\u001b[0m \u001b[0mstr\u001b[0m\u001b[1;33m)\u001b[0m \u001b[1;32mand\u001b[0m \u001b[0my\u001b[0m \u001b[1;33m==\u001b[0m \u001b[1;34m'no_validation'\u001b[0m\u001b[1;33m:\u001b[0m\u001b[1;33m\u001b[0m\u001b[1;33m\u001b[0m\u001b[0m\n\u001b[1;32m--> 421\u001b[1;33m             \u001b[0mX\u001b[0m \u001b[1;33m=\u001b[0m \u001b[0mcheck_array\u001b[0m\u001b[1;33m(\u001b[0m\u001b[0mX\u001b[0m\u001b[1;33m,\u001b[0m \u001b[1;33m**\u001b[0m\u001b[0mcheck_params\u001b[0m\u001b[1;33m)\u001b[0m\u001b[1;33m\u001b[0m\u001b[1;33m\u001b[0m\u001b[0m\n\u001b[0m\u001b[0;32m    422\u001b[0m             \u001b[0mout\u001b[0m \u001b[1;33m=\u001b[0m \u001b[0mX\u001b[0m\u001b[1;33m\u001b[0m\u001b[1;33m\u001b[0m\u001b[0m\n\u001b[0;32m    423\u001b[0m         \u001b[1;32melse\u001b[0m\u001b[1;33m:\u001b[0m\u001b[1;33m\u001b[0m\u001b[1;33m\u001b[0m\u001b[0m\n",
      "\u001b[1;32m~\\AppData\\Roaming\\Python\\Python38\\site-packages\\sklearn\\utils\\validation.py\u001b[0m in \u001b[0;36minner_f\u001b[1;34m(*args, **kwargs)\u001b[0m\n\u001b[0;32m     61\u001b[0m             \u001b[0mextra_args\u001b[0m \u001b[1;33m=\u001b[0m \u001b[0mlen\u001b[0m\u001b[1;33m(\u001b[0m\u001b[0margs\u001b[0m\u001b[1;33m)\u001b[0m \u001b[1;33m-\u001b[0m \u001b[0mlen\u001b[0m\u001b[1;33m(\u001b[0m\u001b[0mall_args\u001b[0m\u001b[1;33m)\u001b[0m\u001b[1;33m\u001b[0m\u001b[1;33m\u001b[0m\u001b[0m\n\u001b[0;32m     62\u001b[0m             \u001b[1;32mif\u001b[0m \u001b[0mextra_args\u001b[0m \u001b[1;33m<=\u001b[0m \u001b[1;36m0\u001b[0m\u001b[1;33m:\u001b[0m\u001b[1;33m\u001b[0m\u001b[1;33m\u001b[0m\u001b[0m\n\u001b[1;32m---> 63\u001b[1;33m                 \u001b[1;32mreturn\u001b[0m \u001b[0mf\u001b[0m\u001b[1;33m(\u001b[0m\u001b[1;33m*\u001b[0m\u001b[0margs\u001b[0m\u001b[1;33m,\u001b[0m \u001b[1;33m**\u001b[0m\u001b[0mkwargs\u001b[0m\u001b[1;33m)\u001b[0m\u001b[1;33m\u001b[0m\u001b[1;33m\u001b[0m\u001b[0m\n\u001b[0m\u001b[0;32m     64\u001b[0m \u001b[1;33m\u001b[0m\u001b[0m\n\u001b[0;32m     65\u001b[0m             \u001b[1;31m# extra_args > 0\u001b[0m\u001b[1;33m\u001b[0m\u001b[1;33m\u001b[0m\u001b[1;33m\u001b[0m\u001b[0m\n",
      "\u001b[1;32m~\\AppData\\Roaming\\Python\\Python38\\site-packages\\sklearn\\utils\\validation.py\u001b[0m in \u001b[0;36mcheck_array\u001b[1;34m(array, accept_sparse, accept_large_sparse, dtype, order, copy, force_all_finite, ensure_2d, allow_nd, ensure_min_samples, ensure_min_features, estimator)\u001b[0m\n\u001b[0;32m    692\u001b[0m             \u001b[1;31m# If input is 1D raise error\u001b[0m\u001b[1;33m\u001b[0m\u001b[1;33m\u001b[0m\u001b[1;33m\u001b[0m\u001b[0m\n\u001b[0;32m    693\u001b[0m             \u001b[1;32mif\u001b[0m \u001b[0marray\u001b[0m\u001b[1;33m.\u001b[0m\u001b[0mndim\u001b[0m \u001b[1;33m==\u001b[0m \u001b[1;36m1\u001b[0m\u001b[1;33m:\u001b[0m\u001b[1;33m\u001b[0m\u001b[1;33m\u001b[0m\u001b[0m\n\u001b[1;32m--> 694\u001b[1;33m                 raise ValueError(\n\u001b[0m\u001b[0;32m    695\u001b[0m                     \u001b[1;34m\"Expected 2D array, got 1D array instead:\\narray={}.\\n\"\u001b[0m\u001b[1;33m\u001b[0m\u001b[1;33m\u001b[0m\u001b[0m\n\u001b[0;32m    696\u001b[0m                     \u001b[1;34m\"Reshape your data either using array.reshape(-1, 1) if \"\u001b[0m\u001b[1;33m\u001b[0m\u001b[1;33m\u001b[0m\u001b[0m\n",
      "\u001b[1;31mValueError\u001b[0m: Expected 2D array, got 1D array instead:\narray=[23.37   12.44    1.7    27.4    15.39   27.5827  2.26   13.11   13.23\n 27.5827  8.09   13.77   11.53    1.54   13.06   10.5     2.17    3.46\n 12.33   25.6     0.93    7.87    2.77    6.     27.5827 15.06    7.73\n 10.7     4.23   12.74   13.63    5.97    9.04    3.2     1.17    9.42\n  0.8     7.      0.03    2.      1.37    0.07    0.43    0.67    0.33\n  0.17    0.6     0.13    0.5     0.37    2.33    0.3     1.03    0.9\n  7.07    4.03    0.83    0.23    8.57    0.53    0.2     0.47    0.27\n  1.63    0.1     3.23    0.7     0.63    1.07    2.37    0.93    3.27\n  0.87    1.1     0.4     5.3     2.93    2.23    0.97    1.      1.9\n  4.4     2.27    4.27    2.03    1.4     2.6     1.53    2.07    3.77\n  1.23    3.83    0.73    2.2     2.4     0.77    7.4     5.77    1.6\n  2.63    2.87    3.17    3.57    1.13    0.57    1.5     2.67    5.4\n  1.83    1.27   11.27    2.73    1.2     4.13    6.57    5.      4.23\n  2.13    2.3     1.47    4.63    2.57    3.8     1.3     3.13   12.17\n  1.87    1.43    4.7     1.33    3.63    1.57    1.77    3.      5.07\n  3.33    1.73    7.87    4.9     1.97    3.5     2.47    2.7     1.93\n  2.43    4.07    1.8     4.5     6.27    5.43    3.03    3.07    3.43\n  6.6     6.3     9.37    1.67    3.3     3.9     2.53    7.3     2.1\n  3.4     5.27    3.1     4.87    3.53    5.6     3.7     2.5     3.93\n  3.37    4.43    5.53    2.8     3.97    4.2     5.2     2.9     4.\n  4.47    4.93    4.1    16.03    5.7    17.17    7.03    7.17    7.43\n  5.1     3.87    6.93    7.23    5.67    4.8     2.97    6.7    11.17\n  4.17    2.83    3.67    8.23    8.5     4.3     4.77    4.73    3.47\n 11.43   10.83    6.03    5.37    6.9     3.6     8.33    4.67   15.13\n  5.47    4.33    8.73    6.37    9.3     5.03   10.8    11.57    5.23\n 12.77   10.43   10.27    4.97    7.2     5.73   11.67    5.13    8.37\n  3.73    5.33    4.6     9.67    4.37    5.57   12.4     8.3    12.57\n  7.57   10.07    4.83    5.5    10.47   10.13    6.07   15.1     7.67\n 10.4     9.57    4.53    6.43    8.9     7.77    5.9     6.23   13.87\n  6.77   14.23   10.6    12.5     6.13   10.3     8.      6.33    8.4\n  5.8     6.63    6.47    9.13    6.1    15.4     7.1     8.53    5.63\n  7.7    10.03    6.4     6.2     5.93    4.57   11.07    5.87    9.5\n 27.5827  8.77    6.73    8.17   10.23    7.6    11.13   10.9     6.97\n 12.43    9.77    9.07    9.17   10.1     7.47    8.7     9.6     5.17\n 10.63   18.2    10.17   24.6     7.33   12.3    12.6    11.77    5.83\n 22.73    6.87    8.97   11.8    14.17   10.33    6.83    9.47    7.93\n  7.9     9.2    15.43   18.4    14.07    8.2    10.97    6.17    8.6\n  9.83   11.33    8.93    8.43   11.3     8.83   12.93    7.63    7.97\n  9.43    9.33   20.9     7.5    13.33    7.83    8.47    6.53    8.67\n  6.67    6.8    16.17    9.7     7.53    9.9    13.2    12.23   16.93\n 18.63   13.1     8.13   14.57   13.43    8.03    9.23    8.07    8.8\n 12.47   14.5    11.1   ].\nReshape your data either using array.reshape(-1, 1) if your data has a single feature or array.reshape(1, -1) if it contains a single sample."
     ]
    }
   ],
   "source": [
    "#Clustering:\n",
    "## Elbow Method to determine K\n",
    "sse = find_sse(fre['frequence'], max_k = 10) \n",
    "\n",
    "plt.figure()\n",
    "plt.plot(list(sse.keys()),list(sse.values()))\n",
    "plt.xlabel(\"Number of clusters\")\n",
    "plt.show() \n",
    "\n",
    "# # Optimal R_K=3"
   ]
  },
  {
   "cell_type": "code",
   "execution_count": null,
   "metadata": {},
   "outputs": [],
   "source": [
    "# ## RecencyCluster_k = 3\n",
    "k_clus = 3\n",
    "subcribe_cluster_df = run_kmean_clustering(subcribe_cluster_df,[\"Recency\"],k_cluster=k_clus)\n",
    "\n",
    "## Sắp theo thứ tự R càng thấp thì Cluster càng cao\n",
    "subcribe_cluster_df = order_cluster('RecencyCluster', 'Recency',subcribe_cluster_df,False)\n",
    "subcribe_cluster_df.groupby(\"RecencyCluster\")['Recency'].describe()\n",
    "\n",
    "# ## see details of each cluster - Recency"
   ]
  }
 ],
 "metadata": {
  "kernelspec": {
   "display_name": "Python 3",
   "language": "python",
   "name": "python3"
  },
  "language_info": {
   "codemirror_mode": {
    "name": "ipython",
    "version": 3
   },
   "file_extension": ".py",
   "mimetype": "text/x-python",
   "name": "python",
   "nbconvert_exporter": "python",
   "pygments_lexer": "ipython3",
   "version": "3.8.5"
  }
 },
 "nbformat": 4,
 "nbformat_minor": 4
}
