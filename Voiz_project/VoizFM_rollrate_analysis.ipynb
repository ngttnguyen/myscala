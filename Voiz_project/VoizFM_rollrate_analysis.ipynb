{
 "cells": [
  {
   "cell_type": "code",
   "execution_count": 3,
   "metadata": {},
   "outputs": [],
   "source": [
    "import pandas as pd\n",
    "import numpy as np\n",
    "from matplotlib import pyplot as plt\n",
    "import seaborn as sns\n",
    "\n",
    "from datetime import date\n",
    "from datetime import time\n",
    "from sklearn.cluster import KMeans\n",
    "\n",
    "from datetime import datetime as dt"
   ]
  },
  {
   "cell_type": "code",
   "execution_count": 4,
   "metadata": {},
   "outputs": [],
   "source": [
    "order_detail_df = pd.read_excel(\"data/voiz_data/order.xlsx\", parse_dates = ['Ngày phát sinh'])\n",
    "user_df = pd.read_excel(\"data/voiz_data//user.xlsx\")\n",
    "listening_detail_df = pd.read_excel(\"data/voiz_data/listening.xlsx\")\n",
    "# usage_df = pd.read_excel(\"data/voiz_data//Usage.xlsx\") "
   ]
  },
  {
   "cell_type": "code",
   "execution_count": 5,
   "metadata": {},
   "outputs": [],
   "source": [
    "# Chuyển User_ID và Order_ID, Playlist ID sang category\n",
    "order_detail_df['Order ID'] = order_detail_df['Order ID'].astype('category')\n",
    "order_detail_df['ID của user'] = order_detail_df['ID của user'].astype('category')\n",
    "\n",
    "user_df['User ID'] = user_df['User ID'].astype('category')\n",
    "\n",
    "listening_detail_df['Playlist ID']=listening_detail_df['Playlist ID'].astype('category')\n",
    "listening_detail_df['User ID']=listening_detail_df['User ID'].astype('category')\n",
    "\n",
    "# usage_df['User ID']=usage_df['User ID'].astype('category')"
   ]
  },
  {
   "cell_type": "code",
   "execution_count": 6,
   "metadata": {},
   "outputs": [],
   "source": [
    "# Chuyển Ngày phát sinh lượt nghe sang kiểu dữ liệu date\n",
    "listening_detail_df[\"Ngày phát sinh lượt nghe\"] = listening_detail_df[\"Ngày phát sinh lượt nghe\"].map(\n",
    "                                        lambda x:date(int(x.split(\"-\")[2]),int(x.split(\"-\")[1]),int(x.split(\"-\")[0])))\n",
    "listening_detail_df[\"Ngày phát sinh lượt nghe\"] = listening_detail_df[\"Ngày phát sinh lượt nghe\"].astype(\"datetime64\")"
   ]
  },
  {
   "cell_type": "code",
   "execution_count": 7,
   "metadata": {},
   "outputs": [],
   "source": [
    "order_summary_df = order_detail_df.groupby('ID của user').agg({'Ngày phát sinh': ['min',\"max\"]}).reset_index()\n",
    "order_summary_df.columns = ['User_ID','min_purchase_date',\"max_purchase_date\"]"
   ]
  },
  {
   "cell_type": "code",
   "execution_count": 8,
   "metadata": {},
   "outputs": [],
   "source": [
    "listening_summary_df = listening_detail_df.groupby('User ID').agg({\"Ngày phát sinh lượt nghe\":['min','max','count']}).reset_index()\n",
    "listening_summary_df.columns = ['User_ID','first_listen_date','last_listen_date','listen_cnt']"
   ]
  },
  {
   "cell_type": "markdown",
   "metadata": {},
   "source": [
    "### Cắt nhỏ giá trị ngày nghe"
   ]
  },
  {
   "cell_type": "code",
   "execution_count": 6,
   "metadata": {},
   "outputs": [],
   "source": [
    "##### Cắt nhỏ giá trị order_date\n",
    "\n",
    "listening_detail_df['listen_year'] = listening_detail_df['Ngày phát sinh lượt nghe'].map(lambda x: x.strftime('%Y'))\n",
    "listening_detail_df['listen_month'] = listening_detail_df['Ngày phát sinh lượt nghe'].map(lambda x: x.strftime('%m'))\n",
    "listening_detail_df['listen_day'] = listening_detail_df['Ngày phát sinh lượt nghe'].map(lambda x: x.strftime('%d'))"
   ]
  },
  {
   "cell_type": "code",
   "execution_count": 9,
   "metadata": {},
   "outputs": [],
   "source": [
    "listening_detail_df['listen_month_year'] = listening_detail_df['Ngày phát sinh lượt nghe'].map(lambda x: x.strftime('%m/%Y'))"
   ]
  },
  {
   "cell_type": "markdown",
   "metadata": {},
   "source": [
    "## Rollrate Analysis:\n",
    "1. Ideas: Sẽ xem xét tỉ lệ chuyển đổi từ free users sang paid users của các nhóm users có theo nhóm Frequence khác nhau sẽ thay đổi như thế nào. Sẽ chia các mốc xem xét theo từng tháng\n",
    "2. Cách thực hiện:\n",
    "    *.Tính số lượt nghe của các user trong từng tháng --> trong tháng đó users thuộc vào nhóm Frequence nào\n",
    "    *. Tính tỉ lệ chuyển đổi từ free -->paid trong các nhóm Frequence trong tháng đó\n",
    "    *. Data xem xét nằm trong 6 tháng cuối năm 2020 nên sẽ có 6 cột tỉ lệ chuyển đổi như vậy"
   ]
  },
  {
   "cell_type": "markdown",
   "metadata": {},
   "source": [
    "### Calculate những dữ liệu để phân tích ROLLRATE"
   ]
  },
  {
   "cell_type": "code",
   "execution_count": 10,
   "metadata": {},
   "outputs": [
    {
     "data": {
      "text/plain": [
       "27458"
      ]
     },
     "execution_count": 10,
     "metadata": {},
     "output_type": "execute_result"
    }
   ],
   "source": [
    "# Chỉ xem những users có nghe và orders\n",
    "# Lấy user_id từ 2 bảng order_summary_df và listening_summary_df gộp vào 1 bảng\n",
    "user_cluster_df= pd.DataFrame(pd.concat(objs=[listening_summary_df['User_ID'],order_summary_df['User_ID']]).drop_duplicates().reset_index(drop=True))\n",
    "user_cluster_df.columns = [\"User_ID\"]\n",
    "user_cluster_df.shape[0]"
   ]
  },
  {
   "cell_type": "code",
   "execution_count": 11,
   "metadata": {},
   "outputs": [],
   "source": [
    "## Lấy ngày signup date\n",
    "user_cluster_df = user_cluster_df.join(user_df[[\"User ID\",\"Ngày đăng ký tài khoản\"]].set_index(\"User ID\"),\n",
    "                                       on=\"User_ID\",how=\"inner\")\n",
    "user_cluster_df = user_cluster_df.rename(columns = {'Ngày đăng ký tài khoản':'signup_date'})\n",
    "\n",
    "# Tất cả các user đều có ngày sign up"
   ]
  },
  {
   "cell_type": "code",
   "execution_count": 12,
   "metadata": {},
   "outputs": [],
   "source": [
    "## Lấy ngày đổi trạng thái\n",
    "\n",
    "user_cluster_df = user_cluster_df.join(other=order_summary_df[[\"User_ID\",\"min_purchase_date\",\"max_purchase_date\"]].set_index('User_ID'),how='left',on='User_ID')"
   ]
  },
  {
   "cell_type": "code",
   "execution_count": 13,
   "metadata": {},
   "outputs": [],
   "source": [
    "## Lấy ngày nghe đầu tiên và cuối cùng\n",
    "user_cluster_df= user_cluster_df.join(other=listening_summary_df[[\"User_ID\",\"first_listen_date\",\"last_listen_date\"]].set_index('User_ID'),how='left',on='User_ID')"
   ]
  },
  {
   "cell_type": "code",
   "execution_count": 14,
   "metadata": {},
   "outputs": [
    {
     "data": {
      "text/html": [
       "<div>\n",
       "<style scoped>\n",
       "    .dataframe tbody tr th:only-of-type {\n",
       "        vertical-align: middle;\n",
       "    }\n",
       "\n",
       "    .dataframe tbody tr th {\n",
       "        vertical-align: top;\n",
       "    }\n",
       "\n",
       "    .dataframe thead th {\n",
       "        text-align: right;\n",
       "    }\n",
       "</style>\n",
       "<table border=\"1\" class=\"dataframe\">\n",
       "  <thead>\n",
       "    <tr style=\"text-align: right;\">\n",
       "      <th></th>\n",
       "      <th>User_ID</th>\n",
       "      <th>signup_date</th>\n",
       "      <th>min_purchase_date</th>\n",
       "      <th>max_purchase_date</th>\n",
       "      <th>first_listen_date</th>\n",
       "      <th>last_listen_date</th>\n",
       "    </tr>\n",
       "  </thead>\n",
       "  <tbody>\n",
       "    <tr>\n",
       "      <th>0</th>\n",
       "      <td>40834</td>\n",
       "      <td>2020-07-01</td>\n",
       "      <td>NaT</td>\n",
       "      <td>NaT</td>\n",
       "      <td>2020-07-08</td>\n",
       "      <td>2020-07-08</td>\n",
       "    </tr>\n",
       "  </tbody>\n",
       "</table>\n",
       "</div>"
      ],
      "text/plain": [
       "  User_ID signup_date min_purchase_date max_purchase_date first_listen_date  \\\n",
       "0   40834  2020-07-01               NaT               NaT        2020-07-08   \n",
       "\n",
       "  last_listen_date  \n",
       "0       2020-07-08  "
      ]
     },
     "execution_count": 14,
     "metadata": {},
     "output_type": "execute_result"
    }
   ],
   "source": [
    "user_cluster_df.head(1)"
   ]
  },
  {
   "cell_type": "markdown",
   "metadata": {},
   "source": [
    "## Tính số lượt nghe mỗi tháng của các users"
   ]
  },
  {
   "cell_type": "code",
   "execution_count": 15,
   "metadata": {},
   "outputs": [
    {
     "data": {
      "text/html": [
       "<div>\n",
       "<style scoped>\n",
       "    .dataframe tbody tr th:only-of-type {\n",
       "        vertical-align: middle;\n",
       "    }\n",
       "\n",
       "    .dataframe tbody tr th {\n",
       "        vertical-align: top;\n",
       "    }\n",
       "\n",
       "    .dataframe thead th {\n",
       "        text-align: right;\n",
       "    }\n",
       "</style>\n",
       "<table border=\"1\" class=\"dataframe\">\n",
       "  <thead>\n",
       "    <tr style=\"text-align: right;\">\n",
       "      <th></th>\n",
       "      <th>User_ID</th>\n",
       "      <th>signup_date</th>\n",
       "      <th>min_purchase_date</th>\n",
       "      <th>max_purchase_date</th>\n",
       "      <th>first_listen_date</th>\n",
       "      <th>last_listen_date</th>\n",
       "      <th>07/2020</th>\n",
       "      <th>08/2020</th>\n",
       "      <th>09/2020</th>\n",
       "      <th>10/2020</th>\n",
       "      <th>11/2020</th>\n",
       "      <th>12/2020</th>\n",
       "    </tr>\n",
       "  </thead>\n",
       "  <tbody>\n",
       "    <tr>\n",
       "      <th>0</th>\n",
       "      <td>40834</td>\n",
       "      <td>2020-07-01</td>\n",
       "      <td>NaT</td>\n",
       "      <td>NaT</td>\n",
       "      <td>2020-07-08</td>\n",
       "      <td>2020-07-08</td>\n",
       "      <td>2.0</td>\n",
       "      <td>0.0</td>\n",
       "      <td>0.0</td>\n",
       "      <td>0.0</td>\n",
       "      <td>0.0</td>\n",
       "      <td>0.0</td>\n",
       "    </tr>\n",
       "    <tr>\n",
       "      <th>1</th>\n",
       "      <td>40835</td>\n",
       "      <td>2020-07-01</td>\n",
       "      <td>NaT</td>\n",
       "      <td>NaT</td>\n",
       "      <td>2020-09-02</td>\n",
       "      <td>2020-10-07</td>\n",
       "      <td>0.0</td>\n",
       "      <td>0.0</td>\n",
       "      <td>4.0</td>\n",
       "      <td>1.0</td>\n",
       "      <td>0.0</td>\n",
       "      <td>0.0</td>\n",
       "    </tr>\n",
       "    <tr>\n",
       "      <th>2</th>\n",
       "      <td>40839</td>\n",
       "      <td>2020-07-01</td>\n",
       "      <td>NaT</td>\n",
       "      <td>NaT</td>\n",
       "      <td>2020-07-21</td>\n",
       "      <td>2020-10-11</td>\n",
       "      <td>28.0</td>\n",
       "      <td>24.0</td>\n",
       "      <td>3.0</td>\n",
       "      <td>5.0</td>\n",
       "      <td>0.0</td>\n",
       "      <td>0.0</td>\n",
       "    </tr>\n",
       "  </tbody>\n",
       "</table>\n",
       "</div>"
      ],
      "text/plain": [
       "  User_ID signup_date min_purchase_date max_purchase_date first_listen_date  \\\n",
       "0   40834  2020-07-01               NaT               NaT        2020-07-08   \n",
       "1   40835  2020-07-01               NaT               NaT        2020-09-02   \n",
       "2   40839  2020-07-01               NaT               NaT        2020-07-21   \n",
       "\n",
       "  last_listen_date  07/2020  08/2020  09/2020  10/2020  11/2020  12/2020  \n",
       "0       2020-07-08      2.0      0.0      0.0      0.0      0.0      0.0  \n",
       "1       2020-10-07      0.0      0.0      4.0      1.0      0.0      0.0  \n",
       "2       2020-10-11     28.0     24.0      3.0      5.0      0.0      0.0  "
      ]
     },
     "execution_count": 15,
     "metadata": {},
     "output_type": "execute_result"
    }
   ],
   "source": [
    "cnt_df = listening_detail_df[[\"User ID\",\"listen_month_year\"]]\n",
    "h = pd.crosstab(index=cnt_df[\"User ID\"],columns=cnt_df.listen_month_year,dropna=False)\n",
    "user_cluster_df=user_cluster_df.join(h,how=\"left\",on=\"User_ID\")\n",
    "month_bins = np.sort(cnt_df.listen_month_year.unique())\n",
    "\n",
    "user_cluster_df.head(3)"
   ]
  },
  {
   "cell_type": "code",
   "execution_count": 16,
   "metadata": {},
   "outputs": [
    {
     "data": {
      "text/html": [
       "<div>\n",
       "<style scoped>\n",
       "    .dataframe tbody tr th:only-of-type {\n",
       "        vertical-align: middle;\n",
       "    }\n",
       "\n",
       "    .dataframe tbody tr th {\n",
       "        vertical-align: top;\n",
       "    }\n",
       "\n",
       "    .dataframe thead th {\n",
       "        text-align: right;\n",
       "    }\n",
       "</style>\n",
       "<table border=\"1\" class=\"dataframe\">\n",
       "  <thead>\n",
       "    <tr style=\"text-align: right;\">\n",
       "      <th></th>\n",
       "      <th>07/2020</th>\n",
       "      <th>08/2020</th>\n",
       "      <th>09/2020</th>\n",
       "      <th>10/2020</th>\n",
       "      <th>11/2020</th>\n",
       "      <th>12/2020</th>\n",
       "    </tr>\n",
       "  </thead>\n",
       "  <tbody>\n",
       "    <tr>\n",
       "      <th>count</th>\n",
       "      <td>27183.000000</td>\n",
       "      <td>27183.000000</td>\n",
       "      <td>27183.000000</td>\n",
       "      <td>27183.000000</td>\n",
       "      <td>27183.000000</td>\n",
       "      <td>27183.000000</td>\n",
       "    </tr>\n",
       "    <tr>\n",
       "      <th>mean</th>\n",
       "      <td>0.609683</td>\n",
       "      <td>2.027333</td>\n",
       "      <td>2.876504</td>\n",
       "      <td>4.589560</td>\n",
       "      <td>7.591473</td>\n",
       "      <td>9.899827</td>\n",
       "    </tr>\n",
       "    <tr>\n",
       "      <th>std</th>\n",
       "      <td>6.523314</td>\n",
       "      <td>11.485216</td>\n",
       "      <td>14.931286</td>\n",
       "      <td>19.076747</td>\n",
       "      <td>24.720837</td>\n",
       "      <td>28.030310</td>\n",
       "    </tr>\n",
       "    <tr>\n",
       "      <th>min</th>\n",
       "      <td>0.000000</td>\n",
       "      <td>0.000000</td>\n",
       "      <td>0.000000</td>\n",
       "      <td>0.000000</td>\n",
       "      <td>0.000000</td>\n",
       "      <td>0.000000</td>\n",
       "    </tr>\n",
       "    <tr>\n",
       "      <th>25%</th>\n",
       "      <td>0.000000</td>\n",
       "      <td>0.000000</td>\n",
       "      <td>0.000000</td>\n",
       "      <td>0.000000</td>\n",
       "      <td>0.000000</td>\n",
       "      <td>0.000000</td>\n",
       "    </tr>\n",
       "    <tr>\n",
       "      <th>50%</th>\n",
       "      <td>0.000000</td>\n",
       "      <td>0.000000</td>\n",
       "      <td>0.000000</td>\n",
       "      <td>0.000000</td>\n",
       "      <td>0.000000</td>\n",
       "      <td>0.000000</td>\n",
       "    </tr>\n",
       "    <tr>\n",
       "      <th>75%</th>\n",
       "      <td>0.000000</td>\n",
       "      <td>0.000000</td>\n",
       "      <td>0.000000</td>\n",
       "      <td>0.000000</td>\n",
       "      <td>4.000000</td>\n",
       "      <td>6.000000</td>\n",
       "    </tr>\n",
       "    <tr>\n",
       "      <th>max</th>\n",
       "      <td>368.000000</td>\n",
       "      <td>481.000000</td>\n",
       "      <td>515.000000</td>\n",
       "      <td>462.000000</td>\n",
       "      <td>841.000000</td>\n",
       "      <td>627.000000</td>\n",
       "    </tr>\n",
       "  </tbody>\n",
       "</table>\n",
       "</div>"
      ],
      "text/plain": [
       "            07/2020       08/2020       09/2020       10/2020       11/2020  \\\n",
       "count  27183.000000  27183.000000  27183.000000  27183.000000  27183.000000   \n",
       "mean       0.609683      2.027333      2.876504      4.589560      7.591473   \n",
       "std        6.523314     11.485216     14.931286     19.076747     24.720837   \n",
       "min        0.000000      0.000000      0.000000      0.000000      0.000000   \n",
       "25%        0.000000      0.000000      0.000000      0.000000      0.000000   \n",
       "50%        0.000000      0.000000      0.000000      0.000000      0.000000   \n",
       "75%        0.000000      0.000000      0.000000      0.000000      4.000000   \n",
       "max      368.000000    481.000000    515.000000    462.000000    841.000000   \n",
       "\n",
       "            12/2020  \n",
       "count  27183.000000  \n",
       "mean       9.899827  \n",
       "std       28.030310  \n",
       "min        0.000000  \n",
       "25%        0.000000  \n",
       "50%        0.000000  \n",
       "75%        6.000000  \n",
       "max      627.000000  "
      ]
     },
     "execution_count": 16,
     "metadata": {},
     "output_type": "execute_result"
    }
   ],
   "source": [
    "user_cluster_df[month_bins].describe()"
   ]
  },
  {
   "cell_type": "code",
   "execution_count": 17,
   "metadata": {},
   "outputs": [
    {
     "name": "stderr",
     "output_type": "stream",
     "text": [
      "<ipython-input-17-fb33fb59e0ab>:4: UserWarning: Pandas doesn't allow columns to be created via a new attribute name - see https://pandas.pydata.org/pandas-docs/stable/indexing.html#attribute-access\n",
      "  user_cluster_df.change_status_date = user_cluster_df[\"min_purchase_date\"].dt.strftime('%m/%Y')\n"
     ]
    },
    {
     "data": {
      "text/html": [
       "<div>\n",
       "<style scoped>\n",
       "    .dataframe tbody tr th:only-of-type {\n",
       "        vertical-align: middle;\n",
       "    }\n",
       "\n",
       "    .dataframe tbody tr th {\n",
       "        vertical-align: top;\n",
       "    }\n",
       "\n",
       "    .dataframe thead th {\n",
       "        text-align: right;\n",
       "    }\n",
       "</style>\n",
       "<table border=\"1\" class=\"dataframe\">\n",
       "  <thead>\n",
       "    <tr style=\"text-align: right;\">\n",
       "      <th></th>\n",
       "      <th>User_ID</th>\n",
       "      <th>signup_date</th>\n",
       "      <th>min_purchase_date</th>\n",
       "      <th>max_purchase_date</th>\n",
       "      <th>first_listen_date</th>\n",
       "      <th>last_listen_date</th>\n",
       "      <th>07/2020</th>\n",
       "      <th>08/2020</th>\n",
       "      <th>09/2020</th>\n",
       "      <th>10/2020</th>\n",
       "      <th>11/2020</th>\n",
       "      <th>12/2020</th>\n",
       "    </tr>\n",
       "  </thead>\n",
       "  <tbody>\n",
       "    <tr>\n",
       "      <th>27453</th>\n",
       "      <td>106773</td>\n",
       "      <td>2020-12-31</td>\n",
       "      <td>2020-12-31</td>\n",
       "      <td>2020-12-31</td>\n",
       "      <td>NaT</td>\n",
       "      <td>NaT</td>\n",
       "      <td>NaN</td>\n",
       "      <td>NaN</td>\n",
       "      <td>NaN</td>\n",
       "      <td>NaN</td>\n",
       "      <td>NaN</td>\n",
       "      <td>NaN</td>\n",
       "    </tr>\n",
       "    <tr>\n",
       "      <th>27454</th>\n",
       "      <td>106960</td>\n",
       "      <td>2020-12-31</td>\n",
       "      <td>2020-12-31</td>\n",
       "      <td>2020-12-31</td>\n",
       "      <td>NaT</td>\n",
       "      <td>NaT</td>\n",
       "      <td>NaN</td>\n",
       "      <td>NaN</td>\n",
       "      <td>NaN</td>\n",
       "      <td>NaN</td>\n",
       "      <td>NaN</td>\n",
       "      <td>NaN</td>\n",
       "    </tr>\n",
       "    <tr>\n",
       "      <th>27455</th>\n",
       "      <td>106971</td>\n",
       "      <td>2020-12-31</td>\n",
       "      <td>2020-12-31</td>\n",
       "      <td>2020-12-31</td>\n",
       "      <td>NaT</td>\n",
       "      <td>NaT</td>\n",
       "      <td>NaN</td>\n",
       "      <td>NaN</td>\n",
       "      <td>NaN</td>\n",
       "      <td>NaN</td>\n",
       "      <td>NaN</td>\n",
       "      <td>NaN</td>\n",
       "    </tr>\n",
       "    <tr>\n",
       "      <th>27456</th>\n",
       "      <td>106974</td>\n",
       "      <td>2020-12-31</td>\n",
       "      <td>2020-12-31</td>\n",
       "      <td>2020-12-31</td>\n",
       "      <td>NaT</td>\n",
       "      <td>NaT</td>\n",
       "      <td>NaN</td>\n",
       "      <td>NaN</td>\n",
       "      <td>NaN</td>\n",
       "      <td>NaN</td>\n",
       "      <td>NaN</td>\n",
       "      <td>NaN</td>\n",
       "    </tr>\n",
       "    <tr>\n",
       "      <th>27457</th>\n",
       "      <td>106981</td>\n",
       "      <td>2020-12-31</td>\n",
       "      <td>2020-12-31</td>\n",
       "      <td>2020-12-31</td>\n",
       "      <td>NaT</td>\n",
       "      <td>NaT</td>\n",
       "      <td>NaN</td>\n",
       "      <td>NaN</td>\n",
       "      <td>NaN</td>\n",
       "      <td>NaN</td>\n",
       "      <td>NaN</td>\n",
       "      <td>NaN</td>\n",
       "    </tr>\n",
       "  </tbody>\n",
       "</table>\n",
       "</div>"
      ],
      "text/plain": [
       "      User_ID signup_date min_purchase_date max_purchase_date  \\\n",
       "27453  106773  2020-12-31        2020-12-31        2020-12-31   \n",
       "27454  106960  2020-12-31        2020-12-31        2020-12-31   \n",
       "27455  106971  2020-12-31        2020-12-31        2020-12-31   \n",
       "27456  106974  2020-12-31        2020-12-31        2020-12-31   \n",
       "27457  106981  2020-12-31        2020-12-31        2020-12-31   \n",
       "\n",
       "      first_listen_date last_listen_date  07/2020  08/2020  09/2020  10/2020  \\\n",
       "27453               NaT              NaT      NaN      NaN      NaN      NaN   \n",
       "27454               NaT              NaT      NaN      NaN      NaN      NaN   \n",
       "27455               NaT              NaT      NaN      NaN      NaN      NaN   \n",
       "27456               NaT              NaT      NaN      NaN      NaN      NaN   \n",
       "27457               NaT              NaT      NaN      NaN      NaN      NaN   \n",
       "\n",
       "       11/2020  12/2020  \n",
       "27453      NaN      NaN  \n",
       "27454      NaN      NaN  \n",
       "27455      NaN      NaN  \n",
       "27456      NaN      NaN  \n",
       "27457      NaN      NaN  "
      ]
     },
     "execution_count": 17,
     "metadata": {},
     "output_type": "execute_result"
    }
   ],
   "source": [
    "## Change Status\n",
    "# user_cluster_df[\"min_purchase_date\"] = user_cluster_df.change_status_date\n",
    "# user_cluster_df.change_status_date = user_cluster_df[\"min_purchase_date\"].map(lambda x: x.strftime('%m/%Y'))\n",
    "user_cluster_df.change_status_date = user_cluster_df[\"min_purchase_date\"].dt.strftime('%m/%Y')\n",
    "user_cluster_df.tail(5)"
   ]
  },
  {
   "cell_type": "code",
   "execution_count": 27,
   "metadata": {},
   "outputs": [
    {
     "data": {
      "text/html": [
       "<div>\n",
       "<style scoped>\n",
       "    .dataframe tbody tr th:only-of-type {\n",
       "        vertical-align: middle;\n",
       "    }\n",
       "\n",
       "    .dataframe tbody tr th {\n",
       "        vertical-align: top;\n",
       "    }\n",
       "\n",
       "    .dataframe thead th {\n",
       "        text-align: right;\n",
       "    }\n",
       "</style>\n",
       "<table border=\"1\" class=\"dataframe\">\n",
       "  <thead>\n",
       "    <tr style=\"text-align: right;\">\n",
       "      <th></th>\n",
       "      <th>User_ID</th>\n",
       "      <th>signup_date</th>\n",
       "      <th>min_purchase_date</th>\n",
       "      <th>max_purchase_date</th>\n",
       "      <th>first_listen_date</th>\n",
       "      <th>last_listen_date</th>\n",
       "      <th>07/2020</th>\n",
       "      <th>08/2020</th>\n",
       "      <th>09/2020</th>\n",
       "      <th>10/2020</th>\n",
       "      <th>11/2020</th>\n",
       "      <th>12/2020</th>\n",
       "      <th>1_listen_my</th>\n",
       "      <th>signup_date</th>\n",
       "    </tr>\n",
       "  </thead>\n",
       "  <tbody>\n",
       "    <tr>\n",
       "      <th>27455</th>\n",
       "      <td>106971</td>\n",
       "      <td>2020-12-31</td>\n",
       "      <td>2020-12-31</td>\n",
       "      <td>2020-12-31</td>\n",
       "      <td>NaT</td>\n",
       "      <td>NaT</td>\n",
       "      <td>NaN</td>\n",
       "      <td>NaN</td>\n",
       "      <td>NaN</td>\n",
       "      <td>NaN</td>\n",
       "      <td>NaN</td>\n",
       "      <td>NaN</td>\n",
       "      <td>NaN</td>\n",
       "      <td>2020-12-31</td>\n",
       "    </tr>\n",
       "    <tr>\n",
       "      <th>27456</th>\n",
       "      <td>106974</td>\n",
       "      <td>2020-12-31</td>\n",
       "      <td>2020-12-31</td>\n",
       "      <td>2020-12-31</td>\n",
       "      <td>NaT</td>\n",
       "      <td>NaT</td>\n",
       "      <td>NaN</td>\n",
       "      <td>NaN</td>\n",
       "      <td>NaN</td>\n",
       "      <td>NaN</td>\n",
       "      <td>NaN</td>\n",
       "      <td>NaN</td>\n",
       "      <td>NaN</td>\n",
       "      <td>2020-12-31</td>\n",
       "    </tr>\n",
       "    <tr>\n",
       "      <th>27457</th>\n",
       "      <td>106981</td>\n",
       "      <td>2020-12-31</td>\n",
       "      <td>2020-12-31</td>\n",
       "      <td>2020-12-31</td>\n",
       "      <td>NaT</td>\n",
       "      <td>NaT</td>\n",
       "      <td>NaN</td>\n",
       "      <td>NaN</td>\n",
       "      <td>NaN</td>\n",
       "      <td>NaN</td>\n",
       "      <td>NaN</td>\n",
       "      <td>NaN</td>\n",
       "      <td>NaN</td>\n",
       "      <td>2020-12-31</td>\n",
       "    </tr>\n",
       "  </tbody>\n",
       "</table>\n",
       "</div>"
      ],
      "text/plain": [
       "      User_ID signup_date min_purchase_date max_purchase_date  \\\n",
       "27455  106971  2020-12-31        2020-12-31        2020-12-31   \n",
       "27456  106974  2020-12-31        2020-12-31        2020-12-31   \n",
       "27457  106981  2020-12-31        2020-12-31        2020-12-31   \n",
       "\n",
       "      first_listen_date last_listen_date  07/2020  08/2020  09/2020  10/2020  \\\n",
       "27455               NaT              NaT      NaN      NaN      NaN      NaN   \n",
       "27456               NaT              NaT      NaN      NaN      NaN      NaN   \n",
       "27457               NaT              NaT      NaN      NaN      NaN      NaN   \n",
       "\n",
       "       11/2020  12/2020 1_listen_my signup_date  \n",
       "27455      NaN      NaN         NaN  2020-12-31  \n",
       "27456      NaN      NaN         NaN  2020-12-31  \n",
       "27457      NaN      NaN         NaN  2020-12-31  "
      ]
     },
     "execution_count": 27,
     "metadata": {},
     "output_type": "execute_result"
    }
   ],
   "source": [
    "user_cluster_df[\"1_listen_my\"] = user_cluster_df[\"first_listen_date\"].dt.strftime('%m/%Y')\n",
    "user_cluster_df.tail(3)"
   ]
  },
  {
   "cell_type": "markdown",
   "metadata": {},
   "source": [
    "### Tính thời điểm chuyển status từ free sang paid của các users nếu có"
   ]
  },
  {
   "cell_type": "code",
   "execution_count": 46,
   "metadata": {
    "scrolled": true
   },
   "outputs": [
    {
     "data": {
      "text/plain": [
       "User_ID                       int64\n",
       "min_purchase_date    datetime64[ns]\n",
       "max_purchase_date    datetime64[ns]\n",
       "first_listen_date    datetime64[ns]\n",
       "last_listen_date     datetime64[ns]\n",
       "07/2020                     float64\n",
       "08/2020                     float64\n",
       "09/2020                     float64\n",
       "10/2020                     float64\n",
       "11/2020                     float64\n",
       "12/2020                     float64\n",
       "1_listen_my                  object\n",
       "dtype: object"
      ]
     },
     "execution_count": 46,
     "metadata": {},
     "output_type": "execute_result"
    }
   ],
   "source": [
    "user_cluster_df.dtypes"
   ]
  },
  {
   "cell_type": "code",
   "execution_count": 39,
   "metadata": {},
   "outputs": [],
   "source": [
    "user_cluster_df=user_cluster_df.join(user_df[[\"User ID\",'Ngày đăng ký tài khoản']].set_index(\"User ID\"),on=\"User_ID\",how=\"inner\")\n",
    "user_cluster_df=user_cluster_df.rename(columns={'Ngày đăng ký tài khoản':\"signup_date\"})"
   ]
  },
  {
   "cell_type": "code",
   "execution_count": 41,
   "metadata": {},
   "outputs": [
    {
     "data": {
      "text/plain": [
       "Index(['User_ID', 'min_purchase_date', 'max_purchase_date',\n",
       "       'first_listen_date', 'last_listen_date', '07/2020', '08/2020',\n",
       "       '09/2020', '10/2020', '11/2020', '12/2020', '1_listen_my',\n",
       "       'signup_date'],\n",
       "      dtype='object')"
      ]
     },
     "execution_count": 41,
     "metadata": {},
     "output_type": "execute_result"
    }
   ],
   "source": [
    "user_cluster_df.columns"
   ]
  },
  {
   "cell_type": "code",
   "execution_count": 42,
   "metadata": {},
   "outputs": [],
   "source": [
    "user_cluster_df[\"signup_my\"] = user_cluster_df[\"signup_date\"].dt.strftime('%m/%Y')\n",
    "user_cluster_df[\"change_status_my\"] = user_cluster_df[\"min_purchase_date\"].dt.strftime('%m/%Y')"
   ]
  },
  {
   "cell_type": "code",
   "execution_count": 43,
   "metadata": {
    "scrolled": false
   },
   "outputs": [
    {
     "data": {
      "text/html": [
       "<div>\n",
       "<style scoped>\n",
       "    .dataframe tbody tr th:only-of-type {\n",
       "        vertical-align: middle;\n",
       "    }\n",
       "\n",
       "    .dataframe tbody tr th {\n",
       "        vertical-align: top;\n",
       "    }\n",
       "\n",
       "    .dataframe thead th {\n",
       "        text-align: right;\n",
       "    }\n",
       "</style>\n",
       "<table border=\"1\" class=\"dataframe\">\n",
       "  <thead>\n",
       "    <tr style=\"text-align: right;\">\n",
       "      <th></th>\n",
       "      <th>07/2020</th>\n",
       "      <th>08/2020</th>\n",
       "      <th>09/2020</th>\n",
       "      <th>10/2020</th>\n",
       "      <th>11/2020</th>\n",
       "      <th>12/2020</th>\n",
       "    </tr>\n",
       "  </thead>\n",
       "  <tbody>\n",
       "    <tr>\n",
       "      <th>count</th>\n",
       "      <td>27183.000000</td>\n",
       "      <td>27183.000000</td>\n",
       "      <td>27183.000000</td>\n",
       "      <td>27183.000000</td>\n",
       "      <td>27183.000000</td>\n",
       "      <td>27183.000000</td>\n",
       "    </tr>\n",
       "    <tr>\n",
       "      <th>mean</th>\n",
       "      <td>0.609683</td>\n",
       "      <td>2.027333</td>\n",
       "      <td>2.876504</td>\n",
       "      <td>4.589560</td>\n",
       "      <td>7.591473</td>\n",
       "      <td>9.899827</td>\n",
       "    </tr>\n",
       "    <tr>\n",
       "      <th>std</th>\n",
       "      <td>6.523314</td>\n",
       "      <td>11.485216</td>\n",
       "      <td>14.931286</td>\n",
       "      <td>19.076747</td>\n",
       "      <td>24.720837</td>\n",
       "      <td>28.030310</td>\n",
       "    </tr>\n",
       "    <tr>\n",
       "      <th>min</th>\n",
       "      <td>0.000000</td>\n",
       "      <td>0.000000</td>\n",
       "      <td>0.000000</td>\n",
       "      <td>0.000000</td>\n",
       "      <td>0.000000</td>\n",
       "      <td>0.000000</td>\n",
       "    </tr>\n",
       "    <tr>\n",
       "      <th>25%</th>\n",
       "      <td>0.000000</td>\n",
       "      <td>0.000000</td>\n",
       "      <td>0.000000</td>\n",
       "      <td>0.000000</td>\n",
       "      <td>0.000000</td>\n",
       "      <td>0.000000</td>\n",
       "    </tr>\n",
       "    <tr>\n",
       "      <th>50%</th>\n",
       "      <td>0.000000</td>\n",
       "      <td>0.000000</td>\n",
       "      <td>0.000000</td>\n",
       "      <td>0.000000</td>\n",
       "      <td>0.000000</td>\n",
       "      <td>0.000000</td>\n",
       "    </tr>\n",
       "    <tr>\n",
       "      <th>75%</th>\n",
       "      <td>0.000000</td>\n",
       "      <td>0.000000</td>\n",
       "      <td>0.000000</td>\n",
       "      <td>0.000000</td>\n",
       "      <td>4.000000</td>\n",
       "      <td>6.000000</td>\n",
       "    </tr>\n",
       "    <tr>\n",
       "      <th>max</th>\n",
       "      <td>368.000000</td>\n",
       "      <td>481.000000</td>\n",
       "      <td>515.000000</td>\n",
       "      <td>462.000000</td>\n",
       "      <td>841.000000</td>\n",
       "      <td>627.000000</td>\n",
       "    </tr>\n",
       "  </tbody>\n",
       "</table>\n",
       "</div>"
      ],
      "text/plain": [
       "            07/2020       08/2020       09/2020       10/2020       11/2020  \\\n",
       "count  27183.000000  27183.000000  27183.000000  27183.000000  27183.000000   \n",
       "mean       0.609683      2.027333      2.876504      4.589560      7.591473   \n",
       "std        6.523314     11.485216     14.931286     19.076747     24.720837   \n",
       "min        0.000000      0.000000      0.000000      0.000000      0.000000   \n",
       "25%        0.000000      0.000000      0.000000      0.000000      0.000000   \n",
       "50%        0.000000      0.000000      0.000000      0.000000      0.000000   \n",
       "75%        0.000000      0.000000      0.000000      0.000000      4.000000   \n",
       "max      368.000000    481.000000    515.000000    462.000000    841.000000   \n",
       "\n",
       "            12/2020  \n",
       "count  27183.000000  \n",
       "mean       9.899827  \n",
       "std       28.030310  \n",
       "min        0.000000  \n",
       "25%        0.000000  \n",
       "50%        0.000000  \n",
       "75%        6.000000  \n",
       "max      627.000000  "
      ]
     },
     "execution_count": 43,
     "metadata": {},
     "output_type": "execute_result"
    }
   ],
   "source": [
    "user_cluster_df[month_bins].describe()"
   ]
  },
  {
   "cell_type": "code",
   "execution_count": 44,
   "metadata": {},
   "outputs": [],
   "source": [
    "rollrate_df = user_cluster_df[~user_cluster_df[\"first_listen_date\"].isnull()]"
   ]
  },
  {
   "cell_type": "markdown",
   "metadata": {},
   "source": [
    "### Tính số lượng free users trong từng tháng (từ 7/2020 đến 12/202)"
   ]
  },
  {
   "cell_type": "code",
   "execution_count": 45,
   "metadata": {},
   "outputs": [
    {
     "name": "stderr",
     "output_type": "stream",
     "text": [
      "<ipython-input-45-ed7f0360ec71>:2: SettingWithCopyWarning: \n",
      "A value is trying to be set on a copy of a slice from a DataFrame.\n",
      "Try using .loc[row_indexer,col_indexer] = value instead\n",
      "\n",
      "See the caveats in the documentation: https://pandas.pydata.org/pandas-docs/stable/user_guide/indexing.html#returning-a-view-versus-a-copy\n",
      "  rollrate_df[\"cnt_\"+col]=rollrate_df.loc[:,str(col)].map(lambda x: np.nan if x==0 else x)\n"
     ]
    }
   ],
   "source": [
    "for col in month_bins:\n",
    "    rollrate_df[\"cnt_\"+col]=rollrate_df.loc[:,str(col)].map(lambda x: np.nan if x==0 else x)"
   ]
  },
  {
   "cell_type": "code",
   "execution_count": 46,
   "metadata": {
    "scrolled": false
   },
   "outputs": [
    {
     "data": {
      "text/html": [
       "<div>\n",
       "<style scoped>\n",
       "    .dataframe tbody tr th:only-of-type {\n",
       "        vertical-align: middle;\n",
       "    }\n",
       "\n",
       "    .dataframe tbody tr th {\n",
       "        vertical-align: top;\n",
       "    }\n",
       "\n",
       "    .dataframe thead th {\n",
       "        text-align: right;\n",
       "    }\n",
       "</style>\n",
       "<table border=\"1\" class=\"dataframe\">\n",
       "  <thead>\n",
       "    <tr style=\"text-align: right;\">\n",
       "      <th></th>\n",
       "      <th>cnt_07/2020</th>\n",
       "      <th>cnt_08/2020</th>\n",
       "      <th>cnt_09/2020</th>\n",
       "      <th>cnt_10/2020</th>\n",
       "      <th>cnt_11/2020</th>\n",
       "      <th>cnt_12/2020</th>\n",
       "    </tr>\n",
       "  </thead>\n",
       "  <tbody>\n",
       "    <tr>\n",
       "      <th>count</th>\n",
       "      <td>823.000000</td>\n",
       "      <td>3395.000000</td>\n",
       "      <td>4127.000000</td>\n",
       "      <td>6695.000000</td>\n",
       "      <td>10314.000000</td>\n",
       "      <td>12433.000000</td>\n",
       "    </tr>\n",
       "    <tr>\n",
       "      <th>mean</th>\n",
       "      <td>20.137303</td>\n",
       "      <td>16.232401</td>\n",
       "      <td>18.946450</td>\n",
       "      <td>18.634503</td>\n",
       "      <td>20.007659</td>\n",
       "      <td>21.644575</td>\n",
       "    </tr>\n",
       "    <tr>\n",
       "      <th>std</th>\n",
       "      <td>31.834836</td>\n",
       "      <td>28.736687</td>\n",
       "      <td>34.120425</td>\n",
       "      <td>34.871219</td>\n",
       "      <td>36.909173</td>\n",
       "      <td>38.257847</td>\n",
       "    </tr>\n",
       "    <tr>\n",
       "      <th>min</th>\n",
       "      <td>1.000000</td>\n",
       "      <td>1.000000</td>\n",
       "      <td>1.000000</td>\n",
       "      <td>1.000000</td>\n",
       "      <td>1.000000</td>\n",
       "      <td>1.000000</td>\n",
       "    </tr>\n",
       "    <tr>\n",
       "      <th>25%</th>\n",
       "      <td>3.000000</td>\n",
       "      <td>2.000000</td>\n",
       "      <td>2.000000</td>\n",
       "      <td>2.000000</td>\n",
       "      <td>3.000000</td>\n",
       "      <td>3.000000</td>\n",
       "    </tr>\n",
       "    <tr>\n",
       "      <th>50%</th>\n",
       "      <td>8.000000</td>\n",
       "      <td>6.000000</td>\n",
       "      <td>7.000000</td>\n",
       "      <td>7.000000</td>\n",
       "      <td>7.000000</td>\n",
       "      <td>8.000000</td>\n",
       "    </tr>\n",
       "    <tr>\n",
       "      <th>75%</th>\n",
       "      <td>24.000000</td>\n",
       "      <td>18.000000</td>\n",
       "      <td>21.000000</td>\n",
       "      <td>19.000000</td>\n",
       "      <td>22.000000</td>\n",
       "      <td>24.000000</td>\n",
       "    </tr>\n",
       "    <tr>\n",
       "      <th>max</th>\n",
       "      <td>368.000000</td>\n",
       "      <td>481.000000</td>\n",
       "      <td>515.000000</td>\n",
       "      <td>462.000000</td>\n",
       "      <td>841.000000</td>\n",
       "      <td>627.000000</td>\n",
       "    </tr>\n",
       "  </tbody>\n",
       "</table>\n",
       "</div>"
      ],
      "text/plain": [
       "       cnt_07/2020  cnt_08/2020  cnt_09/2020  cnt_10/2020   cnt_11/2020  \\\n",
       "count   823.000000  3395.000000  4127.000000  6695.000000  10314.000000   \n",
       "mean     20.137303    16.232401    18.946450    18.634503     20.007659   \n",
       "std      31.834836    28.736687    34.120425    34.871219     36.909173   \n",
       "min       1.000000     1.000000     1.000000     1.000000      1.000000   \n",
       "25%       3.000000     2.000000     2.000000     2.000000      3.000000   \n",
       "50%       8.000000     6.000000     7.000000     7.000000      7.000000   \n",
       "75%      24.000000    18.000000    21.000000    19.000000     22.000000   \n",
       "max     368.000000   481.000000   515.000000   462.000000    841.000000   \n",
       "\n",
       "        cnt_12/2020  \n",
       "count  12433.000000  \n",
       "mean      21.644575  \n",
       "std       38.257847  \n",
       "min        1.000000  \n",
       "25%        3.000000  \n",
       "50%        8.000000  \n",
       "75%       24.000000  \n",
       "max      627.000000  "
      ]
     },
     "execution_count": 46,
     "metadata": {},
     "output_type": "execute_result"
    }
   ],
   "source": [
    "rollrate_df[\"cnt_\"+month_bins].describe()"
   ]
  },
  {
   "cell_type": "markdown",
   "metadata": {},
   "source": [
    "### Frequency: Dựa vào lượt nghe trong từng tháng, xác định frequency trong tháng đó để phân nhóm Frequence cho các users trong từng tháng"
   ]
  },
  {
   "cell_type": "code",
   "execution_count": 47,
   "metadata": {},
   "outputs": [],
   "source": [
    "frequence = rollrate_df['cnt_07/2020'].dropna()\n",
    "\n",
    "for i in range(1,len(month_bins)):\n",
    "    t = rollrate_df[\"cnt_\"+month_bins[i]].dropna()\n",
    "    frequence = pd.concat([frequence, t])\n",
    "    \n",
    "frequence.shape[0]\n",
    "frequence = frequence.unique()"
   ]
  },
  {
   "cell_type": "code",
   "execution_count": 48,
   "metadata": {},
   "outputs": [
    {
     "data": {
      "text/plain": [
       "345"
      ]
     },
     "execution_count": 48,
     "metadata": {},
     "output_type": "execute_result"
    }
   ],
   "source": [
    "\n",
    "frequence_df=pd.DataFrame(data=frequence,columns=['frequence'])\n",
    "frequence_df.shape[0]"
   ]
  },
  {
   "cell_type": "markdown",
   "metadata": {},
   "source": [
    "#### Xử lý outliers cho Frequency"
   ]
  },
  {
   "cell_type": "code",
   "execution_count": 81,
   "metadata": {},
   "outputs": [
    {
     "data": {
      "text/plain": [
       "<AxesSubplot:xlabel='frequence'>"
      ]
     },
     "execution_count": 81,
     "metadata": {},
     "output_type": "execute_result"
    },
    {
     "data": {
      "image/png": "[encoded data removed]",
      "text/plain": [
       "<Figure size 432x288 with 1 Axes>"
      ]
     },
     "metadata": {
      "needs_background": "light"
     },
     "output_type": "display_data"
    }
   ],
   "source": [
    "sns.boxplot(x=frequence_df['frequence'])"
   ]
  },
  {
   "cell_type": "code",
   "execution_count": 49,
   "metadata": {},
   "outputs": [],
   "source": [
    "q99 =frequence_df[\"frequence\"].quantile(0.95) \n",
    "\n",
    "frequence_df[\"frequence\"] = frequence_df[\"frequence\"].map(lambda x: q99 if x>q99 else x)"
   ]
  },
  {
   "cell_type": "code",
   "execution_count": 147,
   "metadata": {
    "scrolled": false
   },
   "outputs": [
    {
     "data": {
      "text/plain": [
       "<AxesSubplot:xlabel='frequence'>"
      ]
     },
     "execution_count": 147,
     "metadata": {},
     "output_type": "execute_result"
    },
    {
     "data": {
      "image/png": "[encoded data removed]",
      "text/plain": [
       "<Figure size 432x288 with 1 Axes>"
      ]
     },
     "metadata": {
      "needs_background": "light"
     },
     "output_type": "display_data"
    }
   ],
   "source": [
    "sns.boxplot(x=frequence_df['frequence'])"
   ]
  },
  {
   "cell_type": "code",
   "execution_count": 50,
   "metadata": {},
   "outputs": [
    {
     "data": {
      "text/html": [
       "<div>\n",
       "<style scoped>\n",
       "    .dataframe tbody tr th:only-of-type {\n",
       "        vertical-align: middle;\n",
       "    }\n",
       "\n",
       "    .dataframe tbody tr th {\n",
       "        vertical-align: top;\n",
       "    }\n",
       "\n",
       "    .dataframe thead th {\n",
       "        text-align: right;\n",
       "    }\n",
       "</style>\n",
       "<table border=\"1\" class=\"dataframe\">\n",
       "  <thead>\n",
       "    <tr style=\"text-align: right;\">\n",
       "      <th></th>\n",
       "      <th>frequence</th>\n",
       "    </tr>\n",
       "  </thead>\n",
       "  <tbody>\n",
       "    <tr>\n",
       "      <th>count</th>\n",
       "      <td>345.000000</td>\n",
       "    </tr>\n",
       "    <tr>\n",
       "      <th>mean</th>\n",
       "      <td>185.724058</td>\n",
       "    </tr>\n",
       "    <tr>\n",
       "      <th>std</th>\n",
       "      <td>118.914668</td>\n",
       "    </tr>\n",
       "    <tr>\n",
       "      <th>min</th>\n",
       "      <td>1.000000</td>\n",
       "    </tr>\n",
       "    <tr>\n",
       "      <th>25%</th>\n",
       "      <td>87.000000</td>\n",
       "    </tr>\n",
       "    <tr>\n",
       "      <th>50%</th>\n",
       "      <td>173.000000</td>\n",
       "    </tr>\n",
       "    <tr>\n",
       "      <th>75%</th>\n",
       "      <td>268.000000</td>\n",
       "    </tr>\n",
       "    <tr>\n",
       "      <th>max</th>\n",
       "      <td>426.600000</td>\n",
       "    </tr>\n",
       "  </tbody>\n",
       "</table>\n",
       "</div>"
      ],
      "text/plain": [
       "        frequence\n",
       "count  345.000000\n",
       "mean   185.724058\n",
       "std    118.914668\n",
       "min      1.000000\n",
       "25%     87.000000\n",
       "50%    173.000000\n",
       "75%    268.000000\n",
       "max    426.600000"
      ]
     },
     "execution_count": 50,
     "metadata": {},
     "output_type": "execute_result"
    }
   ],
   "source": [
    "frequence_df.describe()"
   ]
  },
  {
   "cell_type": "code",
   "execution_count": 51,
   "metadata": {},
   "outputs": [],
   "source": [
    "def find_sse(df, max_k):\n",
    "    sse = {}\n",
    "    for k in range(1, max_k):\n",
    "        kmeans = KMeans(n_clusters=k, max_iter=1000)\n",
    "        kmeans.fit(df)\n",
    "        df['clusters'] = kmeans.labels_\n",
    "        sse[k] = kmeans.inertia_\n",
    "    return sse\n",
    "   \n",
    "## function for ordering cluster numbers\n",
    "def order_cluster(cluster_field_name, target_field_name, df, ascending):\n",
    "    new_cluster_field_name = 'new_' + cluster_field_name\n",
    "    df_new = df.groupby(cluster_field_name)[target_field_name].mean().reset_index()\n",
    "    df_new = df_new.sort_values(by=target_field_name,ascending=ascending).reset_index(drop=True)\n",
    "    df_new['index'] = df_new.index\n",
    "    df_final = pd.merge(df,df_new[[cluster_field_name,'index']], on=cluster_field_name)\n",
    "    df_final = df_final.drop([cluster_field_name],axis=1)\n",
    "    df_final = df_final.rename(columns={\"index\":cluster_field_name})\n",
    "    return df_final\n",
    "def run_kmean_clustering(df,cluster_cols,k_cluster,k_iter = 1000):\n",
    "    kmeans = KMeans(n_clusters=k_cluster, max_iter = k_iter )\n",
    "    kmeans.fit(df[cluster_cols])\n",
    "    prefix = cluster_cols[0]\n",
    "    df[str(prefix)+\"Cluster\"]= kmeans.predict((df[cluster_cols]))\n",
    "    return df\n",
    "\n",
    "def min_max_scale(df,scale_cols):\n",
    "    for col in scale_cols:\n",
    "        min_val = df[col].min()\n",
    "        max_val = df[col].max()\n",
    "        distance = max_val - min_val\n",
    "        df['scaled'+str(col)] = (df[col]-min_val)/distance\n",
    "    return df\n"
   ]
  },
  {
   "cell_type": "code",
   "execution_count": 52,
   "metadata": {},
   "outputs": [],
   "source": [
    "fre_old=frequence_df.copy()"
   ]
  },
  {
   "cell_type": "markdown",
   "metadata": {},
   "source": [
    "#### Frequence Kmeans - Clustering"
   ]
  },
  {
   "cell_type": "markdown",
   "metadata": {},
   "source": [
    "###### Choose K - Elbow"
   ]
  },
  {
   "cell_type": "code",
   "execution_count": 53,
   "metadata": {},
   "outputs": [
    {
     "name": "stderr",
     "output_type": "stream",
     "text": [
      "C:\\Users\\Hara Nguyen\\AppData\\Roaming\\Python\\Python38\\site-packages\\sklearn\\cluster\\_kmeans.py:881: UserWarning: KMeans is known to have a memory leak on Windows with MKL, when there are less chunks than available threads. You can avoid it by setting the environment variable OMP_NUM_THREADS=2.\n",
      "  warnings.warn(\n"
     ]
    },
    {
     "data": {
      "image/png": "[encoded data removed]",
      "text/plain": [
       "<Figure size 432x288 with 1 Axes>"
      ]
     },
     "metadata": {
      "needs_background": "light"
     },
     "output_type": "display_data"
    }
   ],
   "source": [
    "#Clustering:\n",
    "## Elbow Method to determine K\n",
    "sse = find_sse(frequence_df, max_k = 10) \n",
    "\n",
    "plt.figure()\n",
    "plt.plot(list(sse.keys()),list(sse.values()))\n",
    "plt.xlabel(\"Number of clusters\")\n",
    "plt.show() \n",
    "\n",
    "# # Optimal F_K=4"
   ]
  },
  {
   "cell_type": "markdown",
   "metadata": {},
   "source": [
    "###### Choose K-clustering"
   ]
  },
  {
   "cell_type": "code",
   "execution_count": 54,
   "metadata": {
    "scrolled": false
   },
   "outputs": [
    {
     "data": {
      "text/html": [
       "<div>\n",
       "<style scoped>\n",
       "    .dataframe tbody tr th:only-of-type {\n",
       "        vertical-align: middle;\n",
       "    }\n",
       "\n",
       "    .dataframe tbody tr th {\n",
       "        vertical-align: top;\n",
       "    }\n",
       "\n",
       "    .dataframe thead th {\n",
       "        text-align: right;\n",
       "    }\n",
       "</style>\n",
       "<table border=\"1\" class=\"dataframe\">\n",
       "  <thead>\n",
       "    <tr style=\"text-align: right;\">\n",
       "      <th></th>\n",
       "      <th>count</th>\n",
       "      <th>mean</th>\n",
       "      <th>std</th>\n",
       "      <th>min</th>\n",
       "      <th>25%</th>\n",
       "      <th>50%</th>\n",
       "      <th>75%</th>\n",
       "      <th>max</th>\n",
       "    </tr>\n",
       "    <tr>\n",
       "      <th>frequenceCluster</th>\n",
       "      <th></th>\n",
       "      <th></th>\n",
       "      <th></th>\n",
       "      <th></th>\n",
       "      <th></th>\n",
       "      <th></th>\n",
       "      <th></th>\n",
       "      <th></th>\n",
       "    </tr>\n",
       "  </thead>\n",
       "  <tbody>\n",
       "    <tr>\n",
       "      <th>0</th>\n",
       "      <td>104.0</td>\n",
       "      <td>52.500000</td>\n",
       "      <td>30.166206</td>\n",
       "      <td>1.0</td>\n",
       "      <td>26.75</td>\n",
       "      <td>52.5</td>\n",
       "      <td>78.25</td>\n",
       "      <td>104.0</td>\n",
       "    </tr>\n",
       "    <tr>\n",
       "      <th>1</th>\n",
       "      <td>102.0</td>\n",
       "      <td>155.617647</td>\n",
       "      <td>29.770756</td>\n",
       "      <td>105.0</td>\n",
       "      <td>130.25</td>\n",
       "      <td>155.5</td>\n",
       "      <td>180.75</td>\n",
       "      <td>207.0</td>\n",
       "    </tr>\n",
       "    <tr>\n",
       "      <th>2</th>\n",
       "      <td>86.0</td>\n",
       "      <td>259.488372</td>\n",
       "      <td>31.990346</td>\n",
       "      <td>208.0</td>\n",
       "      <td>232.25</td>\n",
       "      <td>256.5</td>\n",
       "      <td>284.75</td>\n",
       "      <td>319.0</td>\n",
       "    </tr>\n",
       "    <tr>\n",
       "      <th>3</th>\n",
       "      <td>53.0</td>\n",
       "      <td>385.392453</td>\n",
       "      <td>37.962005</td>\n",
       "      <td>324.0</td>\n",
       "      <td>350.00</td>\n",
       "      <td>383.0</td>\n",
       "      <td>426.60</td>\n",
       "      <td>426.6</td>\n",
       "    </tr>\n",
       "  </tbody>\n",
       "</table>\n",
       "</div>"
      ],
      "text/plain": [
       "                  count        mean        std    min     25%    50%     75%  \\\n",
       "frequenceCluster                                                               \n",
       "0                 104.0   52.500000  30.166206    1.0   26.75   52.5   78.25   \n",
       "1                 102.0  155.617647  29.770756  105.0  130.25  155.5  180.75   \n",
       "2                  86.0  259.488372  31.990346  208.0  232.25  256.5  284.75   \n",
       "3                  53.0  385.392453  37.962005  324.0  350.00  383.0  426.60   \n",
       "\n",
       "                    max  \n",
       "frequenceCluster         \n",
       "0                 104.0  \n",
       "1                 207.0  \n",
       "2                 319.0  \n",
       "3                 426.6  "
      ]
     },
     "execution_count": 54,
     "metadata": {},
     "output_type": "execute_result"
    }
   ],
   "source": [
    "k_clus = 4\n",
    "frequence_df = run_kmean_clustering(frequence_df,[\"frequence\"],k_cluster=k_clus)\n",
    "\n",
    "## Sắp theo thứ tự R càng thấp thì Cluster càng cao\n",
    "frequence_df = order_cluster('frequenceCluster', 'frequence',frequence_df,True)\n",
    "frequence_df.groupby(\"frequenceCluster\")['frequence'].describe()\n",
    "\n",
    "# ## see details of each cluster - Recency"
   ]
  },
  {
   "cell_type": "code",
   "execution_count": 55,
   "metadata": {},
   "outputs": [
    {
     "data": {
      "text/html": [
       "<div>\n",
       "<style scoped>\n",
       "    .dataframe tbody tr th:only-of-type {\n",
       "        vertical-align: middle;\n",
       "    }\n",
       "\n",
       "    .dataframe tbody tr th {\n",
       "        vertical-align: top;\n",
       "    }\n",
       "\n",
       "    .dataframe thead th {\n",
       "        text-align: right;\n",
       "    }\n",
       "</style>\n",
       "<table border=\"1\" class=\"dataframe\">\n",
       "  <thead>\n",
       "    <tr style=\"text-align: right;\">\n",
       "      <th></th>\n",
       "      <th>frequenceCluster</th>\n",
       "      <th>count</th>\n",
       "      <th>mean</th>\n",
       "      <th>std</th>\n",
       "      <th>min</th>\n",
       "      <th>25%</th>\n",
       "      <th>50%</th>\n",
       "      <th>75%</th>\n",
       "      <th>max</th>\n",
       "    </tr>\n",
       "  </thead>\n",
       "  <tbody>\n",
       "    <tr>\n",
       "      <th>0</th>\n",
       "      <td>0</td>\n",
       "      <td>104.0</td>\n",
       "      <td>52.500000</td>\n",
       "      <td>30.166206</td>\n",
       "      <td>1.0</td>\n",
       "      <td>26.75</td>\n",
       "      <td>52.5</td>\n",
       "      <td>78.25</td>\n",
       "      <td>104.0</td>\n",
       "    </tr>\n",
       "    <tr>\n",
       "      <th>1</th>\n",
       "      <td>1</td>\n",
       "      <td>102.0</td>\n",
       "      <td>155.617647</td>\n",
       "      <td>29.770756</td>\n",
       "      <td>105.0</td>\n",
       "      <td>130.25</td>\n",
       "      <td>155.5</td>\n",
       "      <td>180.75</td>\n",
       "      <td>207.0</td>\n",
       "    </tr>\n",
       "    <tr>\n",
       "      <th>2</th>\n",
       "      <td>2</td>\n",
       "      <td>86.0</td>\n",
       "      <td>259.488372</td>\n",
       "      <td>31.990346</td>\n",
       "      <td>208.0</td>\n",
       "      <td>232.25</td>\n",
       "      <td>256.5</td>\n",
       "      <td>284.75</td>\n",
       "      <td>319.0</td>\n",
       "    </tr>\n",
       "    <tr>\n",
       "      <th>3</th>\n",
       "      <td>3</td>\n",
       "      <td>53.0</td>\n",
       "      <td>385.392453</td>\n",
       "      <td>37.962005</td>\n",
       "      <td>324.0</td>\n",
       "      <td>350.00</td>\n",
       "      <td>383.0</td>\n",
       "      <td>426.60</td>\n",
       "      <td>426.6</td>\n",
       "    </tr>\n",
       "  </tbody>\n",
       "</table>\n",
       "</div>"
      ],
      "text/plain": [
       "   frequenceCluster  count        mean        std    min     25%    50%  \\\n",
       "0                 0  104.0   52.500000  30.166206    1.0   26.75   52.5   \n",
       "1                 1  102.0  155.617647  29.770756  105.0  130.25  155.5   \n",
       "2                 2   86.0  259.488372  31.990346  208.0  232.25  256.5   \n",
       "3                 3   53.0  385.392453  37.962005  324.0  350.00  383.0   \n",
       "\n",
       "      75%    max  \n",
       "0   78.25  104.0  \n",
       "1  180.75  207.0  \n",
       "2  284.75  319.0  \n",
       "3  426.60  426.6  "
      ]
     },
     "execution_count": 55,
     "metadata": {},
     "output_type": "execute_result"
    }
   ],
   "source": [
    "F_cluster_df = frequence_df.groupby(\"frequenceCluster\")['frequence'].describe().reset_index()\n",
    "F_cluster_df"
   ]
  },
  {
   "cell_type": "code",
   "execution_count": 56,
   "metadata": {},
   "outputs": [],
   "source": [
    "F_cluster_df.to_csv(\"data/2.F_cluster_df.csv\")"
   ]
  },
  {
   "cell_type": "code",
   "execution_count": 57,
   "metadata": {
    "scrolled": false
   },
   "outputs": [
    {
     "data": {
      "text/plain": [
       "Index(['User_ID', 'min_purchase_date', 'max_purchase_date',\n",
       "       'first_listen_date', 'last_listen_date', '07/2020', '08/2020',\n",
       "       '09/2020', '10/2020', '11/2020', '12/2020', '1_listen_my',\n",
       "       'signup_date', 'signup_my', 'change_status_my', 'cnt_07/2020',\n",
       "       'cnt_08/2020', 'cnt_09/2020', 'cnt_10/2020', 'cnt_11/2020',\n",
       "       'cnt_12/2020'],\n",
       "      dtype='object')"
      ]
     },
     "execution_count": 57,
     "metadata": {},
     "output_type": "execute_result"
    }
   ],
   "source": [
    "rollrate_df.columns"
   ]
  },
  {
   "cell_type": "code",
   "execution_count": null,
   "metadata": {},
   "outputs": [],
   "source": [
    "#### rollrate_data : dataframe chính chứa các thông tin để thực hiện phân tích"
   ]
  },
  {
   "cell_type": "code",
   "execution_count": 70,
   "metadata": {},
   "outputs": [],
   "source": [
    "F_dict = {}\n",
    "for item in F_cluster_df['max'].values:\n",
    "    F_dict[item]=F_cluster_df.loc[F_cluster_df['max']== item,'frequenceCluster'].values[0]\n"
   ]
  },
  {
   "cell_type": "code",
   "execution_count": 59,
   "metadata": {},
   "outputs": [],
   "source": [
    "rollrate_data = rollrate_df[['User_ID','cnt_07/2020','cnt_08/2020', 'cnt_09/2020', 'cnt_10/2020', 'cnt_11/2020','cnt_12/2020']]"
   ]
  },
  {
   "cell_type": "markdown",
   "metadata": {},
   "source": [
    "#### Sắp xếp user vào các Frequency cluster theo từng tháng"
   ]
  },
  {
   "cell_type": "code",
   "execution_count": 71,
   "metadata": {},
   "outputs": [],
   "source": [
    "def find_FCluster(val):\n",
    "    for item in F_dict:\n",
    "        if val<item:\n",
    "            return F_dict[item]\n",
    "    return F_dict[item]\n",
    "    "
   ]
  },
  {
   "cell_type": "code",
   "execution_count": 72,
   "metadata": {
    "scrolled": false
   },
   "outputs": [
    {
     "name": "stderr",
     "output_type": "stream",
     "text": [
      "<ipython-input-72-81b9eff7d1c7>:3: SettingWithCopyWarning: \n",
      "A value is trying to be set on a copy of a slice from a DataFrame.\n",
      "Try using .loc[row_indexer,col_indexer] = value instead\n",
      "\n",
      "See the caveats in the documentation: https://pandas.pydata.org/pandas-docs/stable/user_guide/indexing.html#returning-a-view-versus-a-copy\n",
      "  rollrate_df[\"F_\"+col]=rollrate_df.loc[:,\"cnt_\"+str(col)].map(find_FCluster,na_action='ignore')\n"
     ]
    }
   ],
   "source": [
    "for col in month_bins:\n",
    "    \n",
    "    rollrate_df[\"F_\"+col]=rollrate_df.loc[:,\"cnt_\"+str(col)].map(find_FCluster,na_action='ignore')"
   ]
  },
  {
   "cell_type": "code",
   "execution_count": 73,
   "metadata": {
    "scrolled": true
   },
   "outputs": [
    {
     "data": {
      "text/plain": [
       "Index(['User_ID', 'min_purchase_date', 'max_purchase_date',\n",
       "       'first_listen_date', 'last_listen_date', '07/2020', '08/2020',\n",
       "       '09/2020', '10/2020', '11/2020', '12/2020', '1_listen_my',\n",
       "       'signup_date', 'signup_my', 'change_status_my', 'cnt_07/2020',\n",
       "       'cnt_08/2020', 'cnt_09/2020', 'cnt_10/2020', 'cnt_11/2020',\n",
       "       'cnt_12/2020', 'F_07/2020', 'F_08/2020', 'F_09/2020', 'F_10/2020',\n",
       "       'F_11/2020', 'F_12/2020', 'ST_07/2020', 'ST_08/2020', 'ST_09/2020',\n",
       "       'ST_10/2020', 'ST_11/2020', 'ST_12/2020', 'ST_start'],\n",
       "      dtype='object')"
      ]
     },
     "execution_count": 73,
     "metadata": {},
     "output_type": "execute_result"
    }
   ],
   "source": [
    "rollrate_df.columns"
   ]
  },
  {
   "cell_type": "code",
   "execution_count": 74,
   "metadata": {},
   "outputs": [
    {
     "name": "stderr",
     "output_type": "stream",
     "text": [
      "<ipython-input-74-aae4ad9a463b>:3: SettingWithCopyWarning: \n",
      "A value is trying to be set on a copy of a slice from a DataFrame.\n",
      "Try using .loc[row_indexer,col_indexer] = value instead\n",
      "\n",
      "See the caveats in the documentation: https://pandas.pydata.org/pandas-docs/stable/user_guide/indexing.html#returning-a-view-versus-a-copy\n",
      "  rollrate_df[\"ST_\"+col]=0\n"
     ]
    }
   ],
   "source": [
    "for col in month_bins:\n",
    "    \n",
    "    rollrate_df[\"ST_\"+col]=0"
   ]
  },
  {
   "cell_type": "code",
   "execution_count": 75,
   "metadata": {
    "scrolled": false
   },
   "outputs": [
    {
     "name": "stderr",
     "output_type": "stream",
     "text": [
      "<ipython-input-75-ebd7553d3067>:2: SettingWithCopyWarning: \n",
      "A value is trying to be set on a copy of a slice from a DataFrame.\n",
      "Try using .loc[row_indexer,col_indexer] = value instead\n",
      "\n",
      "See the caveats in the documentation: https://pandas.pydata.org/pandas-docs/stable/user_guide/indexing.html#returning-a-view-versus-a-copy\n",
      "  rollrate_df[\"ST_\"+col]= rollrate_df[\"change_status_my\"].map(lambda x: 1 if str(x) <= col else 0)\n"
     ]
    }
   ],
   "source": [
    "for col in month_bins:\n",
    "    rollrate_df[\"ST_\"+col]= rollrate_df[\"change_status_my\"].map(lambda x: 1 if str(x) <= col else 0)"
   ]
  },
  {
   "cell_type": "code",
   "execution_count": 76,
   "metadata": {
    "scrolled": false
   },
   "outputs": [
    {
     "data": {
      "text/html": [
       "<div>\n",
       "<style scoped>\n",
       "    .dataframe tbody tr th:only-of-type {\n",
       "        vertical-align: middle;\n",
       "    }\n",
       "\n",
       "    .dataframe tbody tr th {\n",
       "        vertical-align: top;\n",
       "    }\n",
       "\n",
       "    .dataframe thead th {\n",
       "        text-align: right;\n",
       "    }\n",
       "</style>\n",
       "<table border=\"1\" class=\"dataframe\">\n",
       "  <thead>\n",
       "    <tr style=\"text-align: right;\">\n",
       "      <th></th>\n",
       "      <th>ST_07/2020</th>\n",
       "      <th>ST_08/2020</th>\n",
       "      <th>ST_09/2020</th>\n",
       "      <th>ST_10/2020</th>\n",
       "      <th>ST_11/2020</th>\n",
       "      <th>ST_12/2020</th>\n",
       "    </tr>\n",
       "  </thead>\n",
       "  <tbody>\n",
       "    <tr>\n",
       "      <th>count</th>\n",
       "      <td>27183.000000</td>\n",
       "      <td>27183.000000</td>\n",
       "      <td>27183.000000</td>\n",
       "      <td>27183.000000</td>\n",
       "      <td>27183.000000</td>\n",
       "      <td>27183.000000</td>\n",
       "    </tr>\n",
       "    <tr>\n",
       "      <th>mean</th>\n",
       "      <td>0.000625</td>\n",
       "      <td>0.011183</td>\n",
       "      <td>0.030056</td>\n",
       "      <td>0.045212</td>\n",
       "      <td>0.062686</td>\n",
       "      <td>0.086929</td>\n",
       "    </tr>\n",
       "    <tr>\n",
       "      <th>std</th>\n",
       "      <td>0.025000</td>\n",
       "      <td>0.105161</td>\n",
       "      <td>0.170743</td>\n",
       "      <td>0.207773</td>\n",
       "      <td>0.242402</td>\n",
       "      <td>0.281737</td>\n",
       "    </tr>\n",
       "    <tr>\n",
       "      <th>min</th>\n",
       "      <td>0.000000</td>\n",
       "      <td>0.000000</td>\n",
       "      <td>0.000000</td>\n",
       "      <td>0.000000</td>\n",
       "      <td>0.000000</td>\n",
       "      <td>0.000000</td>\n",
       "    </tr>\n",
       "    <tr>\n",
       "      <th>25%</th>\n",
       "      <td>0.000000</td>\n",
       "      <td>0.000000</td>\n",
       "      <td>0.000000</td>\n",
       "      <td>0.000000</td>\n",
       "      <td>0.000000</td>\n",
       "      <td>0.000000</td>\n",
       "    </tr>\n",
       "    <tr>\n",
       "      <th>50%</th>\n",
       "      <td>0.000000</td>\n",
       "      <td>0.000000</td>\n",
       "      <td>0.000000</td>\n",
       "      <td>0.000000</td>\n",
       "      <td>0.000000</td>\n",
       "      <td>0.000000</td>\n",
       "    </tr>\n",
       "    <tr>\n",
       "      <th>75%</th>\n",
       "      <td>0.000000</td>\n",
       "      <td>0.000000</td>\n",
       "      <td>0.000000</td>\n",
       "      <td>0.000000</td>\n",
       "      <td>0.000000</td>\n",
       "      <td>0.000000</td>\n",
       "    </tr>\n",
       "    <tr>\n",
       "      <th>max</th>\n",
       "      <td>1.000000</td>\n",
       "      <td>1.000000</td>\n",
       "      <td>1.000000</td>\n",
       "      <td>1.000000</td>\n",
       "      <td>1.000000</td>\n",
       "      <td>1.000000</td>\n",
       "    </tr>\n",
       "  </tbody>\n",
       "</table>\n",
       "</div>"
      ],
      "text/plain": [
       "         ST_07/2020    ST_08/2020    ST_09/2020    ST_10/2020    ST_11/2020  \\\n",
       "count  27183.000000  27183.000000  27183.000000  27183.000000  27183.000000   \n",
       "mean       0.000625      0.011183      0.030056      0.045212      0.062686   \n",
       "std        0.025000      0.105161      0.170743      0.207773      0.242402   \n",
       "min        0.000000      0.000000      0.000000      0.000000      0.000000   \n",
       "25%        0.000000      0.000000      0.000000      0.000000      0.000000   \n",
       "50%        0.000000      0.000000      0.000000      0.000000      0.000000   \n",
       "75%        0.000000      0.000000      0.000000      0.000000      0.000000   \n",
       "max        1.000000      1.000000      1.000000      1.000000      1.000000   \n",
       "\n",
       "         ST_12/2020  \n",
       "count  27183.000000  \n",
       "mean       0.086929  \n",
       "std        0.281737  \n",
       "min        0.000000  \n",
       "25%        0.000000  \n",
       "50%        0.000000  \n",
       "75%        0.000000  \n",
       "max        1.000000  "
      ]
     },
     "execution_count": 76,
     "metadata": {},
     "output_type": "execute_result"
    }
   ],
   "source": [
    "rollrate_df[\"ST_\"+month_bins].describe()"
   ]
  },
  {
   "cell_type": "code",
   "execution_count": 66,
   "metadata": {
    "scrolled": true
   },
   "outputs": [
    {
     "name": "stderr",
     "output_type": "stream",
     "text": [
      "<ipython-input-66-195b10f6e91a>:1: SettingWithCopyWarning: \n",
      "A value is trying to be set on a copy of a slice from a DataFrame.\n",
      "Try using .loc[row_indexer,col_indexer] = value instead\n",
      "\n",
      "See the caveats in the documentation: https://pandas.pydata.org/pandas-docs/stable/user_guide/indexing.html#returning-a-view-versus-a-copy\n",
      "  rollrate_df[\"ST_start\"] = 0\n"
     ]
    }
   ],
   "source": [
    "rollrate_df[\"ST_start\"] = 0"
   ]
  },
  {
   "cell_type": "code",
   "execution_count": 77,
   "metadata": {},
   "outputs": [],
   "source": [
    "rollrate_df.to_csv(\"data/2.rollrate_df.csv\")"
   ]
  },
  {
   "cell_type": "markdown",
   "metadata": {},
   "source": [
    "### Rollrate_matrix "
   ]
  },
  {
   "cell_type": "code",
   "execution_count": 78,
   "metadata": {},
   "outputs": [],
   "source": [
    "rollrate_matrix = pd.DataFrame(F_cluster_df[\"frequenceCluster\"])"
   ]
  },
  {
   "cell_type": "code",
   "execution_count": 85,
   "metadata": {},
   "outputs": [],
   "source": [
    "## Tính tỉ lệ tháng 7 Free --> paid\n",
    "\n",
    "FClusters = F_cluster_df[\"frequenceCluster\"].tolist()\n",
    "coef_lst=[]\n",
    "for clus in FClusters:\n",
    "\n",
    "    df = rollrate_df[rollrate_df['F_07/2020'] == clus]\n",
    "    pre_free = df.shape[0]\n",
    "    move_cnt = df[\"ST_07/2020\"].sum()\n",
    "\n",
    "    coef = move_cnt/pre_free\n",
    "\n",
    "    coef_lst.append(coef)\n",
    "\n",
    "rollrate_matrix['Coef_07/2020'] = coef_lst"
   ]
  },
  {
   "cell_type": "code",
   "execution_count": 86,
   "metadata": {},
   "outputs": [],
   "source": [
    "## Tính hệ số cho các tháng còn lại\n",
    "\n",
    "for i in range(1,len(month_bins)):\n",
    "    coef_lst=[]\n",
    "    for clus in FClusters:\n",
    "        is_pre_free = rollrate_df[\"ST_\"+month_bins[i-1]] == 0\n",
    "        is_F = rollrate_df['F_'+col] == clus\n",
    "        \n",
    "        df = rollrate_df[is_pre_free & is_F]\n",
    "        is_move = df[\"ST_\"+month_bins[i]]== 1\n",
    "        pre_free_cnt = df.shape[0]\n",
    "\n",
    "        move_cnt = df[is_move][\"User_ID\"].shape[0]\n",
    "\n",
    "        coef = round(move_cnt/pre_free_cnt,3)\n",
    "        coef_lst.append(coef)\n",
    "\n",
    "    rollrate_matrix['Coef_'+month_bins[i]] = coef_lst\n",
    "    "
   ]
  },
  {
   "cell_type": "code",
   "execution_count": 87,
   "metadata": {
    "scrolled": true
   },
   "outputs": [
    {
     "data": {
      "text/html": [
       "<div>\n",
       "<style scoped>\n",
       "    .dataframe tbody tr th:only-of-type {\n",
       "        vertical-align: middle;\n",
       "    }\n",
       "\n",
       "    .dataframe tbody tr th {\n",
       "        vertical-align: top;\n",
       "    }\n",
       "\n",
       "    .dataframe thead th {\n",
       "        text-align: right;\n",
       "    }\n",
       "</style>\n",
       "<table border=\"1\" class=\"dataframe\">\n",
       "  <thead>\n",
       "    <tr style=\"text-align: right;\">\n",
       "      <th></th>\n",
       "      <th>frequenceCluster</th>\n",
       "      <th>Coef_07/2020</th>\n",
       "      <th>Coef_08/2020</th>\n",
       "      <th>Coef_09/2020</th>\n",
       "      <th>Coef_10/2020</th>\n",
       "      <th>Coef_11/2020</th>\n",
       "      <th>Coef_12/2020</th>\n",
       "    </tr>\n",
       "  </thead>\n",
       "  <tbody>\n",
       "    <tr>\n",
       "      <th>0</th>\n",
       "      <td>0</td>\n",
       "      <td>0.017500</td>\n",
       "      <td>0.009</td>\n",
       "      <td>0.019</td>\n",
       "      <td>0.020</td>\n",
       "      <td>0.026</td>\n",
       "      <td>0.050</td>\n",
       "    </tr>\n",
       "    <tr>\n",
       "      <th>1</th>\n",
       "      <td>1</td>\n",
       "      <td>0.105263</td>\n",
       "      <td>0.013</td>\n",
       "      <td>0.052</td>\n",
       "      <td>0.061</td>\n",
       "      <td>0.118</td>\n",
       "      <td>0.240</td>\n",
       "    </tr>\n",
       "    <tr>\n",
       "      <th>2</th>\n",
       "      <td>2</td>\n",
       "      <td>0.000000</td>\n",
       "      <td>0.029</td>\n",
       "      <td>0.045</td>\n",
       "      <td>0.079</td>\n",
       "      <td>0.241</td>\n",
       "      <td>0.295</td>\n",
       "    </tr>\n",
       "    <tr>\n",
       "      <th>3</th>\n",
       "      <td>3</td>\n",
       "      <td>0.000000</td>\n",
       "      <td>0.000</td>\n",
       "      <td>0.000</td>\n",
       "      <td>0.080</td>\n",
       "      <td>0.304</td>\n",
       "      <td>0.125</td>\n",
       "    </tr>\n",
       "  </tbody>\n",
       "</table>\n",
       "</div>"
      ],
      "text/plain": [
       "   frequenceCluster  Coef_07/2020  Coef_08/2020  Coef_09/2020  Coef_10/2020  \\\n",
       "0                 0      0.017500         0.009         0.019         0.020   \n",
       "1                 1      0.105263         0.013         0.052         0.061   \n",
       "2                 2      0.000000         0.029         0.045         0.079   \n",
       "3                 3      0.000000         0.000         0.000         0.080   \n",
       "\n",
       "   Coef_11/2020  Coef_12/2020  \n",
       "0         0.026         0.050  \n",
       "1         0.118         0.240  \n",
       "2         0.241         0.295  \n",
       "3         0.304         0.125  "
      ]
     },
     "execution_count": 87,
     "metadata": {},
     "output_type": "execute_result"
    }
   ],
   "source": [
    "rollrate_matrix"
   ]
  },
  {
   "cell_type": "code",
   "execution_count": 88,
   "metadata": {},
   "outputs": [],
   "source": [
    "rollrate_matrix.to_csv(\"data/2.rollrate_matrix.csv\")"
   ]
  },
  {
   "cell_type": "markdown",
   "metadata": {},
   "source": [
    "##### Summary:\n",
    "Dựa vào rollrate matrix, trong những khoảng thời gian ngắn hạn,ta có thể dự đoán khả năng có khả năng convert sang paid users dựa vào tính thường xuyên sử dụng dịch vụ của users.\n",
    "Rõ ràng với những users có frequency cao (nhóm 3) thì tỉ lệ convert cao hơn hẳn so với những nhóm còn lại, tuy nhiên nhóm này là nhóm không thường xuất hiện"
   ]
  }
 ],
 "metadata": {
  "kernelspec": {
   "display_name": "Python 3",
   "language": "python",
   "name": "python3"
  },
  "language_info": {
   "codemirror_mode": {
    "name": "ipython",
    "version": 3
   },
   "file_extension": ".py",
   "mimetype": "text/x-python",
   "name": "python",
   "nbconvert_exporter": "python",
   "pygments_lexer": "ipython3",
   "version": "3.8.5"
  }
 },
 "nbformat": 4,
 "nbformat_minor": 4
}
