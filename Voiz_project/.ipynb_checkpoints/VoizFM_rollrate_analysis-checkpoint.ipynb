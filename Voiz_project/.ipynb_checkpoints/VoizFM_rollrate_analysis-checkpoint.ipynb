{
 "cells": [
  {
   "cell_type": "code",
   "execution_count": 73,
   "metadata": {},
   "outputs": [],
   "source": [
    "import pandas as pd\n",
    "import numpy as np\n",
    "from matplotlib import pyplot as plt\n",
    "import seaborn as sns\n",
    "\n",
    "from datetime import date\n",
    "from datetime import time\n",
    "from sklearn.cluster import KMeans\n",
    "\n",
    "from datetime import datetime"
   ]
  },
  {
   "cell_type": "code",
   "execution_count": 2,
   "metadata": {},
   "outputs": [],
   "source": [
    "order_detail_df = pd.read_excel(\"data/order.xlsx\", parse_dates = ['Ngày phát sinh'])\n",
    "user_df = pd.read_excel(\"data/user.xlsx\")\n",
    "listening_detail_df = pd.read_excel(\"data/listening.xlsx\")"
   ]
  },
  {
   "cell_type": "code",
   "execution_count": 16,
   "metadata": {},
   "outputs": [],
   "source": [
    "# Chuyển User_ID và Order_ID, Playlist ID sang category\n",
    "order_detail_df['Order ID'] = order_detail_df['Order ID'].astype('category')\n",
    "order_detail_df['ID của user'] = order_detail_df['ID của user'].astype('category')\n",
    "\n",
    "user_df['User ID'] = user_df['User ID'].astype('category')\n",
    "\n",
    "listening_detail_df['Playlist ID']=listening_detail_df['Playlist ID'].astype('category')\n",
    "listening_detail_df['User ID']=listening_detail_df['User ID'].astype('category')\n",
    "\n",
    "# usage_df['User ID']=usage_df['User ID'].astype('category')"
   ]
  },
  {
   "cell_type": "code",
   "execution_count": 18,
   "metadata": {},
   "outputs": [],
   "source": [
    "# Chuyển Ngày phát sinh lượt nghe sang kiểu dữ liệu date\n",
    "listening_detail_df[\"Ngày phát sinh lượt nghe\"] = listening_detail_df[\"Ngày phát sinh lượt nghe\"].map(\n",
    "                                        lambda x:date(int(x.split(\"-\")[2]),int(x.split(\"-\")[1]),int(x.split(\"-\")[0])))\n",
    "listening_detail_df[\"Ngày phát sinh lượt nghe\"] = listening_detail_df[\"Ngày phát sinh lượt nghe\"].astype(\"datetime64\")"
   ]
  },
  {
   "cell_type": "code",
   "execution_count": 64,
   "metadata": {},
   "outputs": [],
   "source": [
    "order_summary_df = order_detail_df.groupby('ID của user').agg({'Ngày phát sinh': ['min',\"max\"]}).reset_index()\n",
    "order_summary_df.columns = ['User_ID','min_purchase_date',\"max_purchase_date\"]"
   ]
  },
  {
   "cell_type": "code",
   "execution_count": 54,
   "metadata": {},
   "outputs": [],
   "source": [
    "listening_summary_df = listening_detail_df.groupby('User ID').agg({\"Ngày phát sinh lượt nghe\":['min','max','count']}).reset_index()\n",
    "listening_summary_df.columns = ['User_ID','first_listen_date','last_listen_date','listen_cnt']"
   ]
  },
  {
   "cell_type": "markdown",
   "metadata": {},
   "source": [
    "### Cắt nhỏ giá trị ngày nghe"
   ]
  },
  {
   "cell_type": "code",
   "execution_count": 78,
   "metadata": {},
   "outputs": [],
   "source": [
    "##### Cắt nhỏ giá trị order_date\n",
    "\n",
    "listening_detail_df['listen_year'] = listening_detail_df['Ngày phát sinh lượt nghe'].map(lambda x: x.strftime('%Y'))\n",
    "listening_detail_df['listen_month'] = listening_detail_df['Ngày phát sinh lượt nghe'].map(lambda x: x.strftime('%m'))\n",
    "listening_detail_df['listen_day'] = listening_detail_df['Ngày phát sinh lượt nghe'].map(lambda x: x.strftime('%d'))"
   ]
  },
  {
   "cell_type": "code",
   "execution_count": 87,
   "metadata": {},
   "outputs": [],
   "source": [
    "listening_detail_df['listen_month_year'] = listening_detail_df['Ngày phát sinh lượt nghe'].map(lambda x: x.strftime('%m/%Y'))"
   ]
  },
  {
   "cell_type": "markdown",
   "metadata": {},
   "source": [
    "### Calculate những dữ liệu để phân tích ROLLRATE"
   ]
  },
  {
   "cell_type": "code",
   "execution_count": 65,
   "metadata": {},
   "outputs": [
    {
     "data": {
      "text/plain": [
       "27458"
      ]
     },
     "execution_count": 65,
     "metadata": {},
     "output_type": "execute_result"
    }
   ],
   "source": [
    "# Chỉ xem những users có nghe và orders\n",
    "# Lấy user_id từ 2 bảng order_summary_df và listening_summary_df gộp vào 1 bảng\n",
    "user_cluster_df= pd.DataFrame(pd.concat(objs=[listening_summary_df['User_ID'],order_summary_df['User_ID']]).drop_duplicates().reset_index(drop=True))\n",
    "user_cluster_df.columns = [\"User_ID\"]\n",
    "user_cluster_df.shape[0]"
   ]
  },
  {
   "cell_type": "code",
   "execution_count": 66,
   "metadata": {},
   "outputs": [],
   "source": [
    "## Lấy ngày signup date\n",
    "user_cluster_df = user_cluster_df.join(user_df[[\"User ID\",\"Ngày đăng ký tài khoản\"]].set_index(\"User ID\"),\n",
    "                                       on=\"User_ID\",how=\"inner\")\n",
    "user_cluster_df = user_cluster_df.rename(columns = {'Ngày đăng ký tài khoản':'signup_date'})\n",
    "\n",
    "# Tất cả các user đều có ngày sign up"
   ]
  },
  {
   "cell_type": "code",
   "execution_count": 67,
   "metadata": {},
   "outputs": [],
   "source": [
    "## Lấy ngày đổi trạng thái\n",
    "\n",
    "user_cluster_df = user_cluster_df.join(other=order_summary_df[[\"User_ID\",\"min_purchase_date\",\"max_purchase_date\"]].set_index('User_ID'),how='left',on='User_ID')"
   ]
  },
  {
   "cell_type": "code",
   "execution_count": 68,
   "metadata": {},
   "outputs": [],
   "source": [
    "## Lấy ngày nghe đầu tiên và cuối cùng\n",
    "user_cluster_df= user_cluster_df.join(other=listening_summary_df[[\"User_ID\",\"first_listen_date\",\"last_listen_date\"]].set_index('User_ID'),how='left',on='User_ID')"
   ]
  },
  {
   "cell_type": "code",
   "execution_count": 69,
   "metadata": {},
   "outputs": [
    {
     "data": {
      "text/html": [
       "<div>\n",
       "<style scoped>\n",
       "    .dataframe tbody tr th:only-of-type {\n",
       "        vertical-align: middle;\n",
       "    }\n",
       "\n",
       "    .dataframe tbody tr th {\n",
       "        vertical-align: top;\n",
       "    }\n",
       "\n",
       "    .dataframe thead th {\n",
       "        text-align: right;\n",
       "    }\n",
       "</style>\n",
       "<table border=\"1\" class=\"dataframe\">\n",
       "  <thead>\n",
       "    <tr style=\"text-align: right;\">\n",
       "      <th></th>\n",
       "      <th>User_ID</th>\n",
       "      <th>signup_date</th>\n",
       "      <th>change_status_date</th>\n",
       "      <th>max_purchase_date</th>\n",
       "      <th>first_listen_date</th>\n",
       "      <th>last_listen_date</th>\n",
       "    </tr>\n",
       "  </thead>\n",
       "  <tbody>\n",
       "    <tr>\n",
       "      <th>0</th>\n",
       "      <td>40834</td>\n",
       "      <td>2020-07-01</td>\n",
       "      <td>NaT</td>\n",
       "      <td>NaT</td>\n",
       "      <td>2020-07-08</td>\n",
       "      <td>2020-07-08</td>\n",
       "    </tr>\n",
       "  </tbody>\n",
       "</table>\n",
       "</div>"
      ],
      "text/plain": [
       "  User_ID signup_date change_status_date max_purchase_date first_listen_date  \\\n",
       "0   40834  2020-07-01                NaT               NaT        2020-07-08   \n",
       "\n",
       "  last_listen_date  \n",
       "0       2020-07-08  "
      ]
     },
     "execution_count": 69,
     "metadata": {},
     "output_type": "execute_result"
    }
   ],
   "source": [
    "user_cluster_df.head(1)"
   ]
  },
  {
   "cell_type": "markdown",
   "metadata": {},
   "source": [
    "## Tính số lượt nghe mỗi tháng"
   ]
  },
  {
   "cell_type": "code",
   "execution_count": 133,
   "metadata": {},
   "outputs": [
    {
     "data": {
      "text/html": [
       "<div>\n",
       "<style scoped>\n",
       "    .dataframe tbody tr th:only-of-type {\n",
       "        vertical-align: middle;\n",
       "    }\n",
       "\n",
       "    .dataframe tbody tr th {\n",
       "        vertical-align: top;\n",
       "    }\n",
       "\n",
       "    .dataframe thead th {\n",
       "        text-align: right;\n",
       "    }\n",
       "</style>\n",
       "<table border=\"1\" class=\"dataframe\">\n",
       "  <thead>\n",
       "    <tr style=\"text-align: right;\">\n",
       "      <th></th>\n",
       "      <th>User_ID</th>\n",
       "      <th>signup_date</th>\n",
       "      <th>change_status_date</th>\n",
       "      <th>max_purchase_date</th>\n",
       "      <th>first_listen_date</th>\n",
       "      <th>last_listen_date</th>\n",
       "      <th>07/2020</th>\n",
       "      <th>08/2020</th>\n",
       "      <th>09/2020</th>\n",
       "      <th>10/2020</th>\n",
       "      <th>11/2020</th>\n",
       "      <th>12/2020</th>\n",
       "    </tr>\n",
       "  </thead>\n",
       "  <tbody>\n",
       "    <tr>\n",
       "      <th>0</th>\n",
       "      <td>40834</td>\n",
       "      <td>2020-07-01</td>\n",
       "      <td>NaT</td>\n",
       "      <td>NaT</td>\n",
       "      <td>2020-07-08</td>\n",
       "      <td>2020-07-08</td>\n",
       "      <td>2.0</td>\n",
       "      <td>0.0</td>\n",
       "      <td>0.0</td>\n",
       "      <td>0.0</td>\n",
       "      <td>0.0</td>\n",
       "      <td>0.0</td>\n",
       "    </tr>\n",
       "    <tr>\n",
       "      <th>1</th>\n",
       "      <td>40835</td>\n",
       "      <td>2020-07-01</td>\n",
       "      <td>NaT</td>\n",
       "      <td>NaT</td>\n",
       "      <td>2020-09-02</td>\n",
       "      <td>2020-10-07</td>\n",
       "      <td>0.0</td>\n",
       "      <td>0.0</td>\n",
       "      <td>4.0</td>\n",
       "      <td>1.0</td>\n",
       "      <td>0.0</td>\n",
       "      <td>0.0</td>\n",
       "    </tr>\n",
       "    <tr>\n",
       "      <th>2</th>\n",
       "      <td>40839</td>\n",
       "      <td>2020-07-01</td>\n",
       "      <td>NaT</td>\n",
       "      <td>NaT</td>\n",
       "      <td>2020-07-21</td>\n",
       "      <td>2020-10-11</td>\n",
       "      <td>28.0</td>\n",
       "      <td>24.0</td>\n",
       "      <td>3.0</td>\n",
       "      <td>5.0</td>\n",
       "      <td>0.0</td>\n",
       "      <td>0.0</td>\n",
       "    </tr>\n",
       "  </tbody>\n",
       "</table>\n",
       "</div>"
      ],
      "text/plain": [
       "  User_ID signup_date change_status_date max_purchase_date first_listen_date  \\\n",
       "0   40834  2020-07-01                NaT               NaT        2020-07-08   \n",
       "1   40835  2020-07-01                NaT               NaT        2020-09-02   \n",
       "2   40839  2020-07-01                NaT               NaT        2020-07-21   \n",
       "\n",
       "  last_listen_date  07/2020  08/2020  09/2020  10/2020  11/2020  12/2020  \n",
       "0       2020-07-08      2.0      0.0      0.0      0.0      0.0      0.0  \n",
       "1       2020-10-07      0.0      0.0      4.0      1.0      0.0      0.0  \n",
       "2       2020-10-11     28.0     24.0      3.0      5.0      0.0      0.0  "
      ]
     },
     "execution_count": 133,
     "metadata": {},
     "output_type": "execute_result"
    }
   ],
   "source": [
    "cnt_df = listening_detail_df[[\"User ID\",\"listen_month_year\"]]\n",
    "h = pd.crosstab(index=cnt_df[\"User ID\"],columns=cnt_df.listen_month_year,dropna=False)\n",
    "user_cluster_df=user_cluster_df.join(h,how=\"left\",on=\"User_ID\")\n",
    "month_bins = np.sort(cnt_df.listen_month_year.unique())\n",
    "\n",
    "user_cluster_df.head(3)"
   ]
  },
  {
   "cell_type": "code",
   "execution_count": 132,
   "metadata": {},
   "outputs": [],
   "source": [
    "# user_cluster_df=user_cluster_df.drop(columns = month_bins, axis=1)"
   ]
  },
  {
   "cell_type": "code",
   "execution_count": 140,
   "metadata": {},
   "outputs": [],
   "source": [
    "# month_bins=np.sort(cnt_df.listen_month_year.unique())"
   ]
  },
  {
   "cell_type": "code",
   "execution_count": 141,
   "metadata": {},
   "outputs": [
    {
     "data": {
      "text/html": [
       "<div>\n",
       "<style scoped>\n",
       "    .dataframe tbody tr th:only-of-type {\n",
       "        vertical-align: middle;\n",
       "    }\n",
       "\n",
       "    .dataframe tbody tr th {\n",
       "        vertical-align: top;\n",
       "    }\n",
       "\n",
       "    .dataframe thead th {\n",
       "        text-align: right;\n",
       "    }\n",
       "</style>\n",
       "<table border=\"1\" class=\"dataframe\">\n",
       "  <thead>\n",
       "    <tr style=\"text-align: right;\">\n",
       "      <th></th>\n",
       "      <th>07/2020</th>\n",
       "      <th>08/2020</th>\n",
       "      <th>09/2020</th>\n",
       "      <th>10/2020</th>\n",
       "      <th>11/2020</th>\n",
       "      <th>12/2020</th>\n",
       "    </tr>\n",
       "  </thead>\n",
       "  <tbody>\n",
       "    <tr>\n",
       "      <th>count</th>\n",
       "      <td>27183.000000</td>\n",
       "      <td>27183.000000</td>\n",
       "      <td>27183.000000</td>\n",
       "      <td>27183.000000</td>\n",
       "      <td>27183.000000</td>\n",
       "      <td>27183.000000</td>\n",
       "    </tr>\n",
       "    <tr>\n",
       "      <th>mean</th>\n",
       "      <td>0.609683</td>\n",
       "      <td>2.027333</td>\n",
       "      <td>2.876504</td>\n",
       "      <td>4.589560</td>\n",
       "      <td>7.591473</td>\n",
       "      <td>9.899827</td>\n",
       "    </tr>\n",
       "    <tr>\n",
       "      <th>std</th>\n",
       "      <td>6.523314</td>\n",
       "      <td>11.485216</td>\n",
       "      <td>14.931286</td>\n",
       "      <td>19.076747</td>\n",
       "      <td>24.720837</td>\n",
       "      <td>28.030310</td>\n",
       "    </tr>\n",
       "    <tr>\n",
       "      <th>min</th>\n",
       "      <td>0.000000</td>\n",
       "      <td>0.000000</td>\n",
       "      <td>0.000000</td>\n",
       "      <td>0.000000</td>\n",
       "      <td>0.000000</td>\n",
       "      <td>0.000000</td>\n",
       "    </tr>\n",
       "    <tr>\n",
       "      <th>25%</th>\n",
       "      <td>0.000000</td>\n",
       "      <td>0.000000</td>\n",
       "      <td>0.000000</td>\n",
       "      <td>0.000000</td>\n",
       "      <td>0.000000</td>\n",
       "      <td>0.000000</td>\n",
       "    </tr>\n",
       "    <tr>\n",
       "      <th>50%</th>\n",
       "      <td>0.000000</td>\n",
       "      <td>0.000000</td>\n",
       "      <td>0.000000</td>\n",
       "      <td>0.000000</td>\n",
       "      <td>0.000000</td>\n",
       "      <td>0.000000</td>\n",
       "    </tr>\n",
       "    <tr>\n",
       "      <th>75%</th>\n",
       "      <td>0.000000</td>\n",
       "      <td>0.000000</td>\n",
       "      <td>0.000000</td>\n",
       "      <td>0.000000</td>\n",
       "      <td>4.000000</td>\n",
       "      <td>6.000000</td>\n",
       "    </tr>\n",
       "    <tr>\n",
       "      <th>max</th>\n",
       "      <td>368.000000</td>\n",
       "      <td>481.000000</td>\n",
       "      <td>515.000000</td>\n",
       "      <td>462.000000</td>\n",
       "      <td>841.000000</td>\n",
       "      <td>627.000000</td>\n",
       "    </tr>\n",
       "  </tbody>\n",
       "</table>\n",
       "</div>"
      ],
      "text/plain": [
       "            07/2020       08/2020       09/2020       10/2020       11/2020  \\\n",
       "count  27183.000000  27183.000000  27183.000000  27183.000000  27183.000000   \n",
       "mean       0.609683      2.027333      2.876504      4.589560      7.591473   \n",
       "std        6.523314     11.485216     14.931286     19.076747     24.720837   \n",
       "min        0.000000      0.000000      0.000000      0.000000      0.000000   \n",
       "25%        0.000000      0.000000      0.000000      0.000000      0.000000   \n",
       "50%        0.000000      0.000000      0.000000      0.000000      0.000000   \n",
       "75%        0.000000      0.000000      0.000000      0.000000      4.000000   \n",
       "max      368.000000    481.000000    515.000000    462.000000    841.000000   \n",
       "\n",
       "            12/2020  \n",
       "count  27183.000000  \n",
       "mean       9.899827  \n",
       "std       28.030310  \n",
       "min        0.000000  \n",
       "25%        0.000000  \n",
       "50%        0.000000  \n",
       "75%        6.000000  \n",
       "max      627.000000  "
      ]
     },
     "execution_count": 141,
     "metadata": {},
     "output_type": "execute_result"
    }
   ],
   "source": [
    "user_cluster_df[month_bins].describe()"
   ]
  },
  {
   "cell_type": "code",
   "execution_count": 146,
   "metadata": {},
   "outputs": [],
   "source": [
    "## Change Status\n",
    "# user_cluster_df[\"min_purchase_date\"] = user_cluster_df.change_status_date\n",
    "# user_cluster_df.change_status_date = user_cluster_df[\"min_purchase_date\"].map(lambda x: x.strftime('%m/%Y'))\n",
    "user_cluster_df.change_status_date = user_cluster_df[\"min_purchase_date\"].dt.strftime('%m/%Y')\n",
    "user_cluster_df.tail(5)"
   ]
  },
  {
   "cell_type": "code",
   "execution_count": 149,
   "metadata": {
    "scrolled": true
   },
   "outputs": [
    {
     "data": {
      "text/html": [
       "<div>\n",
       "<style scoped>\n",
       "    .dataframe tbody tr th:only-of-type {\n",
       "        vertical-align: middle;\n",
       "    }\n",
       "\n",
       "    .dataframe tbody tr th {\n",
       "        vertical-align: top;\n",
       "    }\n",
       "\n",
       "    .dataframe thead th {\n",
       "        text-align: right;\n",
       "    }\n",
       "</style>\n",
       "<table border=\"1\" class=\"dataframe\">\n",
       "  <thead>\n",
       "    <tr style=\"text-align: right;\">\n",
       "      <th></th>\n",
       "      <th>User_ID</th>\n",
       "      <th>signup_date</th>\n",
       "      <th>change_status_date</th>\n",
       "      <th>max_purchase_date</th>\n",
       "      <th>first_listen_date</th>\n",
       "      <th>last_listen_date</th>\n",
       "      <th>07/2020</th>\n",
       "      <th>08/2020</th>\n",
       "      <th>09/2020</th>\n",
       "      <th>10/2020</th>\n",
       "      <th>11/2020</th>\n",
       "      <th>12/2020</th>\n",
       "      <th>min_purchase_date</th>\n",
       "    </tr>\n",
       "  </thead>\n",
       "  <tbody>\n",
       "    <tr>\n",
       "      <th>27455</th>\n",
       "      <td>106971</td>\n",
       "      <td>2020-12-31</td>\n",
       "      <td>12/2020</td>\n",
       "      <td>2020-12-31</td>\n",
       "      <td>NaT</td>\n",
       "      <td>NaT</td>\n",
       "      <td>NaN</td>\n",
       "      <td>NaN</td>\n",
       "      <td>NaN</td>\n",
       "      <td>NaN</td>\n",
       "      <td>NaN</td>\n",
       "      <td>NaN</td>\n",
       "      <td>2020-12-31</td>\n",
       "    </tr>\n",
       "    <tr>\n",
       "      <th>27456</th>\n",
       "      <td>106974</td>\n",
       "      <td>2020-12-31</td>\n",
       "      <td>12/2020</td>\n",
       "      <td>2020-12-31</td>\n",
       "      <td>NaT</td>\n",
       "      <td>NaT</td>\n",
       "      <td>NaN</td>\n",
       "      <td>NaN</td>\n",
       "      <td>NaN</td>\n",
       "      <td>NaN</td>\n",
       "      <td>NaN</td>\n",
       "      <td>NaN</td>\n",
       "      <td>2020-12-31</td>\n",
       "    </tr>\n",
       "    <tr>\n",
       "      <th>27457</th>\n",
       "      <td>106981</td>\n",
       "      <td>2020-12-31</td>\n",
       "      <td>12/2020</td>\n",
       "      <td>2020-12-31</td>\n",
       "      <td>NaT</td>\n",
       "      <td>NaT</td>\n",
       "      <td>NaN</td>\n",
       "      <td>NaN</td>\n",
       "      <td>NaN</td>\n",
       "      <td>NaN</td>\n",
       "      <td>NaN</td>\n",
       "      <td>NaN</td>\n",
       "      <td>2020-12-31</td>\n",
       "    </tr>\n",
       "  </tbody>\n",
       "</table>\n",
       "</div>"
      ],
      "text/plain": [
       "      User_ID signup_date change_status_date max_purchase_date  \\\n",
       "27455  106971  2020-12-31            12/2020        2020-12-31   \n",
       "27456  106974  2020-12-31            12/2020        2020-12-31   \n",
       "27457  106981  2020-12-31            12/2020        2020-12-31   \n",
       "\n",
       "      first_listen_date last_listen_date  07/2020  08/2020  09/2020  10/2020  \\\n",
       "27455               NaT              NaT      NaN      NaN      NaN      NaN   \n",
       "27456               NaT              NaT      NaN      NaN      NaN      NaN   \n",
       "27457               NaT              NaT      NaN      NaN      NaN      NaN   \n",
       "\n",
       "       11/2020  12/2020 min_purchase_date  \n",
       "27455      NaN      NaN        2020-12-31  \n",
       "27456      NaN      NaN        2020-12-31  \n",
       "27457      NaN      NaN        2020-12-31  "
      ]
     },
     "execution_count": 149,
     "metadata": {},
     "output_type": "execute_result"
    }
   ],
   "source": [
    "user_cluster_df.tail(3)"
   ]
  },
  {
   "cell_type": "code",
   "execution_count": null,
   "metadata": {},
   "outputs": [],
   "source": []
  }
 ],
 "metadata": {
  "kernelspec": {
   "display_name": "Python 3",
   "language": "python",
   "name": "python3"
  },
  "language_info": {
   "codemirror_mode": {
    "name": "ipython",
    "version": 3
   },
   "file_extension": ".py",
   "mimetype": "text/x-python",
   "name": "python",
   "nbconvert_exporter": "python",
   "pygments_lexer": "ipython3",
   "version": "3.8.5"
  }
 },
 "nbformat": 4,
 "nbformat_minor": 4
}
