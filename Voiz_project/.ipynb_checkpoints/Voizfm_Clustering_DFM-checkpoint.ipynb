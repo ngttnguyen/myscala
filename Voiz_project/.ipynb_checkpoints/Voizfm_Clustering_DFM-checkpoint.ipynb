{
 "cells": [
  {
   "cell_type": "code",
   "execution_count": 1,
   "metadata": {},
   "outputs": [],
   "source": [
    "import pandas as pd\n",
    "import numpy as np\n",
    "from matplotlib import pyplot as plt\n",
    "import seaborn as sns\n",
    "\n",
    "from datetime import date\n",
    "from datetime import time\n",
    "from sklearn.cluster import KMeans"
   ]
  },
  {
   "cell_type": "code",
   "execution_count": 2,
   "metadata": {},
   "outputs": [],
   "source": [
    "order_detail_df = pd.read_excel(\"data/order.xlsx\", parse_dates = ['Ngày phát sinh'])\n",
    "user_df = pd.read_excel(\"data/user.xlsx\")\n",
    "listening_detail_df = pd.read_excel(\"data/listening.xlsx\")\n",
    "# usage_df = pd.read_excel(\"data/Usage.xlsx\") "
   ]
  },
  {
   "cell_type": "markdown",
   "metadata": {},
   "source": [
    "#### Chuyển kiểu dữ liệu"
   ]
  },
  {
   "cell_type": "code",
   "execution_count": 3,
   "metadata": {},
   "outputs": [],
   "source": [
    "# Chuyển User_ID và Order_ID, Playlist ID sang category\n",
    "order_detail_df['Order ID'] = order_detail_df['Order ID'].astype('category')\n",
    "order_detail_df['ID của user'] = order_detail_df['ID của user'].astype('category')\n",
    "\n",
    "user_df['User ID'] = user_df['User ID'].astype('category')\n",
    "\n",
    "listening_detail_df['Playlist ID']=listening_detail_df['Playlist ID'].astype('category')\n",
    "listening_detail_df['User ID']=listening_detail_df['User ID'].astype('category')\n",
    "\n",
    "# usage_df['User ID']=usage_df['User ID'].astype('category')\n"
   ]
  },
  {
   "cell_type": "code",
   "execution_count": 4,
   "metadata": {},
   "outputs": [],
   "source": [
    "# Chuyển Ngày phát sinh lượt nghe sang kiểu dữ liệu date\n",
    "listening_detail_df[\"Ngày phát sinh lượt nghe\"] = listening_detail_df[\"Ngày phát sinh lượt nghe\"].map(\n",
    "                                        lambda x:date(int(x.split(\"-\")[2]),int(x.split(\"-\")[1]),int(x.split(\"-\")[0])))\n",
    "listening_detail_df[\"Ngày phát sinh lượt nghe\"] = listening_detail_df[\"Ngày phát sinh lượt nghe\"].astype(\"datetime64\")\n"
   ]
  },
  {
   "cell_type": "code",
   "execution_count": 61,
   "metadata": {
    "scrolled": false
   },
   "outputs": [
    {
     "data": {
      "text/html": [
       "<div>\n",
       "<style scoped>\n",
       "    .dataframe tbody tr th:only-of-type {\n",
       "        vertical-align: middle;\n",
       "    }\n",
       "\n",
       "    .dataframe tbody tr th {\n",
       "        vertical-align: top;\n",
       "    }\n",
       "\n",
       "    .dataframe thead th {\n",
       "        text-align: right;\n",
       "    }\n",
       "</style>\n",
       "<table border=\"1\" class=\"dataframe\">\n",
       "  <thead>\n",
       "    <tr style=\"text-align: right;\">\n",
       "      <th></th>\n",
       "      <th>Order ID</th>\n",
       "      <th>Ngày phát sinh</th>\n",
       "      <th>ID của user</th>\n",
       "      <th>Loại hoá đơn (9k/Xu/VIP)</th>\n",
       "      <th>Giá trị hoá đơn</th>\n",
       "      <th>order_year</th>\n",
       "      <th>order_month</th>\n",
       "      <th>order_day</th>\n",
       "      <th>order_weekday</th>\n",
       "    </tr>\n",
       "  </thead>\n",
       "  <tbody>\n",
       "    <tr>\n",
       "      <th>0</th>\n",
       "      <td>6706</td>\n",
       "      <td>2020-08-16</td>\n",
       "      <td>44822</td>\n",
       "      <td>VIP</td>\n",
       "      <td>199000</td>\n",
       "      <td>2020</td>\n",
       "      <td>08</td>\n",
       "      <td>16</td>\n",
       "      <td>Sunday</td>\n",
       "    </tr>\n",
       "    <tr>\n",
       "      <th>1</th>\n",
       "      <td>6998</td>\n",
       "      <td>2020-08-23</td>\n",
       "      <td>47128</td>\n",
       "      <td>VIP</td>\n",
       "      <td>199000</td>\n",
       "      <td>2020</td>\n",
       "      <td>08</td>\n",
       "      <td>23</td>\n",
       "      <td>Sunday</td>\n",
       "    </tr>\n",
       "    <tr>\n",
       "      <th>2</th>\n",
       "      <td>6927</td>\n",
       "      <td>2020-08-21</td>\n",
       "      <td>47134</td>\n",
       "      <td>VIP</td>\n",
       "      <td>199000</td>\n",
       "      <td>2020</td>\n",
       "      <td>08</td>\n",
       "      <td>21</td>\n",
       "      <td>Friday</td>\n",
       "    </tr>\n",
       "  </tbody>\n",
       "</table>\n",
       "</div>"
      ],
      "text/plain": [
       "  Order ID Ngày phát sinh ID của user Loại hoá đơn (9k/Xu/VIP)  \\\n",
       "0     6706     2020-08-16       44822                      VIP   \n",
       "1     6998     2020-08-23       47128                      VIP   \n",
       "2     6927     2020-08-21       47134                      VIP   \n",
       "\n",
       "   Giá trị hoá đơn order_year order_month order_day order_weekday  \n",
       "0           199000       2020          08        16        Sunday  \n",
       "1           199000       2020          08        23        Sunday  \n",
       "2           199000       2020          08        21        Friday  "
      ]
     },
     "execution_count": 61,
     "metadata": {},
     "output_type": "execute_result"
    }
   ],
   "source": [
    "order_detail_df.head(3)"
   ]
  },
  {
   "cell_type": "code",
   "execution_count": 7,
   "metadata": {
    "scrolled": true
   },
   "outputs": [
    {
     "data": {
      "text/html": [
       "<div>\n",
       "<style scoped>\n",
       "    .dataframe tbody tr th:only-of-type {\n",
       "        vertical-align: middle;\n",
       "    }\n",
       "\n",
       "    .dataframe tbody tr th {\n",
       "        vertical-align: top;\n",
       "    }\n",
       "\n",
       "    .dataframe thead th {\n",
       "        text-align: right;\n",
       "    }\n",
       "</style>\n",
       "<table border=\"1\" class=\"dataframe\">\n",
       "  <thead>\n",
       "    <tr style=\"text-align: right;\">\n",
       "      <th></th>\n",
       "      <th>User ID</th>\n",
       "      <th>VIP hay Free</th>\n",
       "      <th>Giới tính</th>\n",
       "      <th>Năm sinh</th>\n",
       "      <th>Việt Nam hay Nước ngoài</th>\n",
       "      <th>iOS hay Android</th>\n",
       "      <th>Ngày đăng ký tài khoản</th>\n",
       "      <th>Tổng số lượt nghe</th>\n",
       "      <th>Tổng thời lượng nghe (phút)</th>\n",
       "    </tr>\n",
       "  </thead>\n",
       "  <tbody>\n",
       "    <tr>\n",
       "      <th>0</th>\n",
       "      <td>86229</td>\n",
       "      <td>free</td>\n",
       "      <td>male</td>\n",
       "      <td>NaN</td>\n",
       "      <td>VN</td>\n",
       "      <td>android</td>\n",
       "      <td>2020-11-27</td>\n",
       "      <td>218</td>\n",
       "      <td>4151.3</td>\n",
       "    </tr>\n",
       "    <tr>\n",
       "      <th>1</th>\n",
       "      <td>48053</td>\n",
       "      <td>free</td>\n",
       "      <td>male</td>\n",
       "      <td>1995.0</td>\n",
       "      <td>VN</td>\n",
       "      <td>ios</td>\n",
       "      <td>2020-08-24</td>\n",
       "      <td>19</td>\n",
       "      <td>278.6</td>\n",
       "    </tr>\n",
       "    <tr>\n",
       "      <th>2</th>\n",
       "      <td>46340</td>\n",
       "      <td>free</td>\n",
       "      <td>male</td>\n",
       "      <td>1988.0</td>\n",
       "      <td>VN</td>\n",
       "      <td>website</td>\n",
       "      <td>2020-08-19</td>\n",
       "      <td>28</td>\n",
       "      <td>170.5</td>\n",
       "    </tr>\n",
       "  </tbody>\n",
       "</table>\n",
       "</div>"
      ],
      "text/plain": [
       "  User ID VIP hay Free Giới tính  Năm sinh Việt Nam hay Nước ngoài  \\\n",
       "0   86229         free      male       NaN                      VN   \n",
       "1   48053         free      male    1995.0                      VN   \n",
       "2   46340         free      male    1988.0                      VN   \n",
       "\n",
       "  iOS hay Android Ngày đăng ký tài khoản  Tổng số lượt nghe  \\\n",
       "0         android             2020-11-27                218   \n",
       "1             ios             2020-08-24                 19   \n",
       "2         website             2020-08-19                 28   \n",
       "\n",
       "   Tổng thời lượng nghe (phút)  \n",
       "0                       4151.3  \n",
       "1                        278.6  \n",
       "2                        170.5  "
      ]
     },
     "execution_count": 7,
     "metadata": {},
     "output_type": "execute_result"
    }
   ],
   "source": [
    "user_df.head(3)"
   ]
  },
  {
   "cell_type": "code",
   "execution_count": 8,
   "metadata": {
    "scrolled": true
   },
   "outputs": [
    {
     "data": {
      "text/html": [
       "<div>\n",
       "<style scoped>\n",
       "    .dataframe tbody tr th:only-of-type {\n",
       "        vertical-align: middle;\n",
       "    }\n",
       "\n",
       "    .dataframe tbody tr th {\n",
       "        vertical-align: top;\n",
       "    }\n",
       "\n",
       "    .dataframe thead th {\n",
       "        text-align: right;\n",
       "    }\n",
       "</style>\n",
       "<table border=\"1\" class=\"dataframe\">\n",
       "  <thead>\n",
       "    <tr style=\"text-align: right;\">\n",
       "      <th></th>\n",
       "      <th>Playlist ID</th>\n",
       "      <th>Tên playlist</th>\n",
       "      <th>Category tầng 1 của playlist</th>\n",
       "      <th>Category tầng 2 của playlist</th>\n",
       "      <th>Playlist là Free hay VIP</th>\n",
       "      <th>Thời lượng của playlist (phút)</th>\n",
       "      <th>Thời lượng của lượt nghe (phút)</th>\n",
       "      <th>User ID</th>\n",
       "      <th>Giờ phát sinh lượt nghe</th>\n",
       "      <th>Ngày phát sinh lượt nghe</th>\n",
       "    </tr>\n",
       "  </thead>\n",
       "  <tbody>\n",
       "    <tr>\n",
       "      <th>0</th>\n",
       "      <td>4529</td>\n",
       "      <td>Dạy Tiếng Anh Cho Trẻ Mầm Non</td>\n",
       "      <td>Podcast</td>\n",
       "      <td>Học ngoại ngữ</td>\n",
       "      <td>free</td>\n",
       "      <td>44.9</td>\n",
       "      <td>0.1</td>\n",
       "      <td>82846</td>\n",
       "      <td>06:05</td>\n",
       "      <td>2020-12-03</td>\n",
       "    </tr>\n",
       "    <tr>\n",
       "      <th>1</th>\n",
       "      <td>4577</td>\n",
       "      <td>Tư Duy Tích Cực - Bạn Là Những Gì Bạn Nghĩ (Nh...</td>\n",
       "      <td>Sách nói</td>\n",
       "      <td>Hạnh phúc</td>\n",
       "      <td>vip</td>\n",
       "      <td>79.8</td>\n",
       "      <td>15.9</td>\n",
       "      <td>56112</td>\n",
       "      <td>12:49</td>\n",
       "      <td>2020-10-30</td>\n",
       "    </tr>\n",
       "    <tr>\n",
       "      <th>2</th>\n",
       "      <td>4169</td>\n",
       "      <td>50 thiên thần của bạn: Giải phóng bản thân khỏ...</td>\n",
       "      <td>Sách nói</td>\n",
       "      <td>Tâm linh</td>\n",
       "      <td>vip</td>\n",
       "      <td>324.8</td>\n",
       "      <td>6.8</td>\n",
       "      <td>94362</td>\n",
       "      <td>00:17</td>\n",
       "      <td>2020-12-15</td>\n",
       "    </tr>\n",
       "  </tbody>\n",
       "</table>\n",
       "</div>"
      ],
      "text/plain": [
       "  Playlist ID                                       Tên playlist  \\\n",
       "0        4529                      Dạy Tiếng Anh Cho Trẻ Mầm Non   \n",
       "1        4577  Tư Duy Tích Cực - Bạn Là Những Gì Bạn Nghĩ (Nh...   \n",
       "2        4169  50 thiên thần của bạn: Giải phóng bản thân khỏ...   \n",
       "\n",
       "  Category tầng 1 của playlist Category tầng 2 của playlist  \\\n",
       "0                      Podcast                Học ngoại ngữ   \n",
       "1                     Sách nói                    Hạnh phúc   \n",
       "2                     Sách nói                     Tâm linh   \n",
       "\n",
       "  Playlist là Free hay VIP  Thời lượng của playlist (phút)  \\\n",
       "0                     free                            44.9   \n",
       "1                      vip                            79.8   \n",
       "2                      vip                           324.8   \n",
       "\n",
       "   Thời lượng của lượt nghe (phút) User ID Giờ phát sinh lượt nghe  \\\n",
       "0                              0.1   82846                   06:05   \n",
       "1                             15.9   56112                   12:49   \n",
       "2                              6.8   94362                   00:17   \n",
       "\n",
       "  Ngày phát sinh lượt nghe  \n",
       "0               2020-12-03  \n",
       "1               2020-10-30  \n",
       "2               2020-12-15  "
      ]
     },
     "execution_count": 8,
     "metadata": {},
     "output_type": "execute_result"
    }
   ],
   "source": [
    "listening_detail_df.head(3)"
   ]
  },
  {
   "cell_type": "code",
   "execution_count": 68,
   "metadata": {},
   "outputs": [],
   "source": [
    "# listening_detail_df.to_csv(\"data/pre_listening.csv\")"
   ]
  },
  {
   "cell_type": "code",
   "execution_count": 9,
   "metadata": {},
   "outputs": [],
   "source": [
    "# listening_detail_df.describe(include = 'all')"
   ]
  },
  {
   "cell_type": "code",
   "execution_count": 10,
   "metadata": {},
   "outputs": [],
   "source": [
    "# order_detail_df.describe(include = 'all')"
   ]
  },
  {
   "cell_type": "code",
   "execution_count": 11,
   "metadata": {},
   "outputs": [],
   "source": [
    "# user_df.describe(include = 'all')"
   ]
  },
  {
   "cell_type": "markdown",
   "metadata": {},
   "source": [
    "#### Khảo sát về sự consistence của các USER_ID trong các file"
   ]
  },
  {
   "cell_type": "code",
   "execution_count": 151,
   "metadata": {},
   "outputs": [],
   "source": [
    "order_userID = order_detail_df['ID của user'].unique()\n",
    "userID = user_df['User ID'].unique()\n",
    "listen_userID = listening_detail_df['User ID'].unique()\n",
    "\n",
    "\n",
    "user_cnt = len(userID)\n",
    "order_user_cnt = len(order_userID)\n",
    "listen_user_cnt = len(listen_userID)\n",
    "\n",
    "order_nolisten_cnt = len([item for item in order_userID if item  not in listen_userID])\n",
    "listen_noorder_cnt = len([item for item in listen_userID if item  not in order_userID])\n",
    "order_listen_cnt = len([item for item in listen_userID if item  in order_userID])\n",
    "\n",
    "\n",
    "user_stat_dict = {\"user_cnt\":user_cnt,\n",
    "                \"order_user_cnt\": order_user_cnt,\n",
    "                \"listen_user_cnt\": listen_user_cnt      \n",
    "                }\n",
    "\n",
    "order_listen_stat_dict = {\"order_listen_cnt\":order_listen_cnt,\n",
    "                \"order_nolisten_cnt\": order_nolisten_cnt,\n",
    "                \"listen_noorder_cnt\": listen_noorder_cnt      \n",
    "                }"
   ]
  },
  {
   "cell_type": "code",
   "execution_count": 152,
   "metadata": {},
   "outputs": [
    {
     "data": {
      "text/plain": [
       "Text(0.5, 1.0, 'The percentage of users in orders')"
      ]
     },
     "execution_count": 152,
     "metadata": {},
     "output_type": "execute_result"
    },
    {
     "data": {
      "image/png": "[encoded data removed]",
      "text/plain": [
       "<Figure size 432x288 with 1 Axes>"
      ]
     },
     "metadata": {},
     "output_type": "display_data"
    }
   ],
   "source": [
    "data = [order_user_cnt,user_cnt - order_user_cnt]\n",
    "label = [\"order_user_cnt\",\"noorder_user_cnt\"]\n",
    "plt.pie(x= data , autopct=\"%.1f%%\", explode=[0.05]*len(data),labels=label);\n",
    "plt.title(\"The percentage of users in orders\")"
   ]
  },
  {
   "cell_type": "code",
   "execution_count": 153,
   "metadata": {},
   "outputs": [
    {
     "data": {
      "text/plain": [
       "Text(0.5, 1.0, 'The percentage of users in listening')"
      ]
     },
     "execution_count": 153,
     "metadata": {},
     "output_type": "execute_result"
    },
    {
     "data": {
      "image/png": "[encoded data removed]",
      "text/plain": [
       "<Figure size 432x288 with 1 Axes>"
      ]
     },
     "metadata": {},
     "output_type": "display_data"
    }
   ],
   "source": [
    "data = [listen_user_cnt,user_cnt - listen_user_cnt]\n",
    "label = [\"listen_user_cnt\",\"nolisten_user_cnt\"]\n",
    "plt.pie(x= data , autopct=\"%.1f%%\", explode=[0.05]*len(data),labels=label);\n",
    "plt.title(\"The percentage of users in listening\")"
   ]
  },
  {
   "cell_type": "code",
   "execution_count": 154,
   "metadata": {},
   "outputs": [
    {
     "data": {
      "text/plain": [
       "Text(0.5, 1.0, 'The percentage of users in orders and listening')"
      ]
     },
     "execution_count": 154,
     "metadata": {},
     "output_type": "execute_result"
    },
    {
     "data": {
      "image/png": "[encoded data removed]",
      "text/plain": [
       "<Figure size 432x288 with 1 Axes>"
      ]
     },
     "metadata": {},
     "output_type": "display_data"
    }
   ],
   "source": [
    "data = order_listen_stat_dict.values()\n",
    "label = order_listen_stat_dict.keys()\n",
    "plt.pie(x= data , autopct=\"%.1f%%\", explode=[0.05]*len(data),labels=label);\n",
    "plt.title(\"The percentage of users in orders and listening\")"
   ]
  },
  {
   "cell_type": "markdown",
   "metadata": {},
   "source": [
    "##### Xem những người có order mà ko listen hay mua gì"
   ]
  },
  {
   "cell_type": "code",
   "execution_count": 155,
   "metadata": {},
   "outputs": [
    {
     "data": {
      "text/plain": [
       "9K     118\n",
       "VIP    115\n",
       "XU      97\n",
       "Name: Loại hoá đơn (9k/Xu/VIP), dtype: int64"
      ]
     },
     "execution_count": 155,
     "metadata": {},
     "output_type": "execute_result"
    }
   ],
   "source": [
    "listen_not_in_order_user_df = order_detail_df[~order_detail_df['ID của user'].isin(listening_detail_df['User ID'])]\n",
    "listen_not_in_order_user_df[\"Loại hoá đơn (9k/Xu/VIP)\"].value_counts()"
   ]
  },
  {
   "cell_type": "markdown",
   "metadata": {},
   "source": [
    "## Xét ORDERs"
   ]
  },
  {
   "cell_type": "code",
   "execution_count": 156,
   "metadata": {},
   "outputs": [
    {
     "data": {
      "text/html": [
       "<div>\n",
       "<style scoped>\n",
       "    .dataframe tbody tr th:only-of-type {\n",
       "        vertical-align: middle;\n",
       "    }\n",
       "\n",
       "    .dataframe tbody tr th {\n",
       "        vertical-align: top;\n",
       "    }\n",
       "\n",
       "    .dataframe thead th {\n",
       "        text-align: right;\n",
       "    }\n",
       "</style>\n",
       "<table border=\"1\" class=\"dataframe\">\n",
       "  <thead>\n",
       "    <tr style=\"text-align: right;\">\n",
       "      <th></th>\n",
       "      <th>Order ID</th>\n",
       "      <th>Ngày phát sinh</th>\n",
       "      <th>ID của user</th>\n",
       "      <th>Loại hoá đơn (9k/Xu/VIP)</th>\n",
       "      <th>Giá trị hoá đơn</th>\n",
       "    </tr>\n",
       "  </thead>\n",
       "  <tbody>\n",
       "    <tr>\n",
       "      <th>0</th>\n",
       "      <td>6706</td>\n",
       "      <td>2020-08-16</td>\n",
       "      <td>44822</td>\n",
       "      <td>VIP</td>\n",
       "      <td>199000</td>\n",
       "    </tr>\n",
       "    <tr>\n",
       "      <th>1</th>\n",
       "      <td>6998</td>\n",
       "      <td>2020-08-23</td>\n",
       "      <td>47128</td>\n",
       "      <td>VIP</td>\n",
       "      <td>199000</td>\n",
       "    </tr>\n",
       "    <tr>\n",
       "      <th>2</th>\n",
       "      <td>6927</td>\n",
       "      <td>2020-08-21</td>\n",
       "      <td>47134</td>\n",
       "      <td>VIP</td>\n",
       "      <td>199000</td>\n",
       "    </tr>\n",
       "  </tbody>\n",
       "</table>\n",
       "</div>"
      ],
      "text/plain": [
       "  Order ID Ngày phát sinh ID của user Loại hoá đơn (9k/Xu/VIP)  \\\n",
       "0     6706     2020-08-16       44822                      VIP   \n",
       "1     6998     2020-08-23       47128                      VIP   \n",
       "2     6927     2020-08-21       47134                      VIP   \n",
       "\n",
       "   Giá trị hoá đơn  \n",
       "0           199000  \n",
       "1           199000  \n",
       "2           199000  "
      ]
     },
     "execution_count": 156,
     "metadata": {},
     "output_type": "execute_result"
    }
   ],
   "source": [
    "order_detail_df.head(3)"
   ]
  },
  {
   "cell_type": "code",
   "execution_count": 5,
   "metadata": {},
   "outputs": [
    {
     "data": {
      "text/html": [
       "<div>\n",
       "<style scoped>\n",
       "    .dataframe tbody tr th:only-of-type {\n",
       "        vertical-align: middle;\n",
       "    }\n",
       "\n",
       "    .dataframe tbody tr th {\n",
       "        vertical-align: top;\n",
       "    }\n",
       "\n",
       "    .dataframe thead th {\n",
       "        text-align: right;\n",
       "    }\n",
       "</style>\n",
       "<table border=\"1\" class=\"dataframe\">\n",
       "  <thead>\n",
       "    <tr style=\"text-align: right;\">\n",
       "      <th></th>\n",
       "      <th>Order ID</th>\n",
       "      <th>Ngày phát sinh</th>\n",
       "      <th>ID của user</th>\n",
       "      <th>Loại hoá đơn (9k/Xu/VIP)</th>\n",
       "      <th>Giá trị hoá đơn</th>\n",
       "      <th>order_year</th>\n",
       "      <th>order_month</th>\n",
       "      <th>order_day</th>\n",
       "      <th>order_weekday</th>\n",
       "    </tr>\n",
       "  </thead>\n",
       "  <tbody>\n",
       "    <tr>\n",
       "      <th>0</th>\n",
       "      <td>6706</td>\n",
       "      <td>2020-08-16</td>\n",
       "      <td>44822</td>\n",
       "      <td>VIP</td>\n",
       "      <td>199000</td>\n",
       "      <td>2020</td>\n",
       "      <td>08</td>\n",
       "      <td>16</td>\n",
       "      <td>Sunday</td>\n",
       "    </tr>\n",
       "    <tr>\n",
       "      <th>1</th>\n",
       "      <td>6998</td>\n",
       "      <td>2020-08-23</td>\n",
       "      <td>47128</td>\n",
       "      <td>VIP</td>\n",
       "      <td>199000</td>\n",
       "      <td>2020</td>\n",
       "      <td>08</td>\n",
       "      <td>23</td>\n",
       "      <td>Sunday</td>\n",
       "    </tr>\n",
       "    <tr>\n",
       "      <th>2</th>\n",
       "      <td>6927</td>\n",
       "      <td>2020-08-21</td>\n",
       "      <td>47134</td>\n",
       "      <td>VIP</td>\n",
       "      <td>199000</td>\n",
       "      <td>2020</td>\n",
       "      <td>08</td>\n",
       "      <td>21</td>\n",
       "      <td>Friday</td>\n",
       "    </tr>\n",
       "  </tbody>\n",
       "</table>\n",
       "</div>"
      ],
      "text/plain": [
       "  Order ID Ngày phát sinh ID của user Loại hoá đơn (9k/Xu/VIP)  \\\n",
       "0     6706     2020-08-16       44822                      VIP   \n",
       "1     6998     2020-08-23       47128                      VIP   \n",
       "2     6927     2020-08-21       47134                      VIP   \n",
       "\n",
       "   Giá trị hoá đơn order_year order_month order_day order_weekday  \n",
       "0           199000       2020          08        16        Sunday  \n",
       "1           199000       2020          08        23        Sunday  \n",
       "2           199000       2020          08        21        Friday  "
      ]
     },
     "execution_count": 5,
     "metadata": {},
     "output_type": "execute_result"
    }
   ],
   "source": [
    "##### Cắt nhỏ giá trị order_date\n",
    "\n",
    "order_detail_df['order_year'] = order_detail_df['Ngày phát sinh'].map(lambda x: x.strftime('%Y'))\n",
    "order_detail_df['order_month'] = order_detail_df['Ngày phát sinh'].map(lambda x: x.strftime('%m'))\n",
    "order_detail_df['order_day'] = order_detail_df['Ngày phát sinh'].map(lambda x: x.strftime('%d'))\n",
    "order_detail_df['order_weekday'] = order_detail_df['Ngày phát sinh'].map(lambda x: x.strftime('%A'))\n",
    "order_detail_df.head(3)"
   ]
  },
  {
   "cell_type": "markdown",
   "metadata": {},
   "source": [
    "## Xét Listenings"
   ]
  },
  {
   "cell_type": "code",
   "execution_count": 158,
   "metadata": {},
   "outputs": [
    {
     "data": {
      "text/html": [
       "<div>\n",
       "<style scoped>\n",
       "    .dataframe tbody tr th:only-of-type {\n",
       "        vertical-align: middle;\n",
       "    }\n",
       "\n",
       "    .dataframe tbody tr th {\n",
       "        vertical-align: top;\n",
       "    }\n",
       "\n",
       "    .dataframe thead th {\n",
       "        text-align: right;\n",
       "    }\n",
       "</style>\n",
       "<table border=\"1\" class=\"dataframe\">\n",
       "  <thead>\n",
       "    <tr style=\"text-align: right;\">\n",
       "      <th></th>\n",
       "      <th>Playlist ID</th>\n",
       "      <th>Tên playlist</th>\n",
       "      <th>Category tầng 1 của playlist</th>\n",
       "      <th>Category tầng 2 của playlist</th>\n",
       "      <th>Playlist là Free hay VIP</th>\n",
       "      <th>Thời lượng của playlist (phút)</th>\n",
       "      <th>Thời lượng của lượt nghe (phút)</th>\n",
       "      <th>User ID</th>\n",
       "      <th>Giờ phát sinh lượt nghe</th>\n",
       "      <th>Ngày phát sinh lượt nghe</th>\n",
       "    </tr>\n",
       "  </thead>\n",
       "  <tbody>\n",
       "    <tr>\n",
       "      <th>0</th>\n",
       "      <td>4529</td>\n",
       "      <td>Dạy Tiếng Anh Cho Trẻ Mầm Non</td>\n",
       "      <td>Podcast</td>\n",
       "      <td>Học ngoại ngữ</td>\n",
       "      <td>free</td>\n",
       "      <td>44.9</td>\n",
       "      <td>0.1</td>\n",
       "      <td>82846</td>\n",
       "      <td>06:05</td>\n",
       "      <td>2020-12-03</td>\n",
       "    </tr>\n",
       "    <tr>\n",
       "      <th>1</th>\n",
       "      <td>4577</td>\n",
       "      <td>Tư Duy Tích Cực - Bạn Là Những Gì Bạn Nghĩ (Nh...</td>\n",
       "      <td>Sách nói</td>\n",
       "      <td>Hạnh phúc</td>\n",
       "      <td>vip</td>\n",
       "      <td>79.8</td>\n",
       "      <td>15.9</td>\n",
       "      <td>56112</td>\n",
       "      <td>12:49</td>\n",
       "      <td>2020-10-30</td>\n",
       "    </tr>\n",
       "    <tr>\n",
       "      <th>2</th>\n",
       "      <td>4169</td>\n",
       "      <td>50 thiên thần của bạn: Giải phóng bản thân khỏ...</td>\n",
       "      <td>Sách nói</td>\n",
       "      <td>Tâm linh</td>\n",
       "      <td>vip</td>\n",
       "      <td>324.8</td>\n",
       "      <td>6.8</td>\n",
       "      <td>94362</td>\n",
       "      <td>00:17</td>\n",
       "      <td>2020-12-15</td>\n",
       "    </tr>\n",
       "  </tbody>\n",
       "</table>\n",
       "</div>"
      ],
      "text/plain": [
       "  Playlist ID                                       Tên playlist  \\\n",
       "0        4529                      Dạy Tiếng Anh Cho Trẻ Mầm Non   \n",
       "1        4577  Tư Duy Tích Cực - Bạn Là Những Gì Bạn Nghĩ (Nh...   \n",
       "2        4169  50 thiên thần của bạn: Giải phóng bản thân khỏ...   \n",
       "\n",
       "  Category tầng 1 của playlist Category tầng 2 của playlist  \\\n",
       "0                      Podcast                Học ngoại ngữ   \n",
       "1                     Sách nói                    Hạnh phúc   \n",
       "2                     Sách nói                     Tâm linh   \n",
       "\n",
       "  Playlist là Free hay VIP  Thời lượng của playlist (phút)  \\\n",
       "0                     free                            44.9   \n",
       "1                      vip                            79.8   \n",
       "2                      vip                           324.8   \n",
       "\n",
       "   Thời lượng của lượt nghe (phút) User ID Giờ phát sinh lượt nghe  \\\n",
       "0                              0.1   82846                   06:05   \n",
       "1                             15.9   56112                   12:49   \n",
       "2                              6.8   94362                   00:17   \n",
       "\n",
       "  Ngày phát sinh lượt nghe  \n",
       "0               2020-12-03  \n",
       "1               2020-10-30  \n",
       "2               2020-12-15  "
      ]
     },
     "execution_count": 158,
     "metadata": {},
     "output_type": "execute_result"
    }
   ],
   "source": [
    "listening_detail_df.head(3)"
   ]
  },
  {
   "cell_type": "markdown",
   "metadata": {},
   "source": [
    "## Summary Listenings and Orders"
   ]
  },
  {
   "cell_type": "code",
   "execution_count": null,
   "metadata": {},
   "outputs": [],
   "source": [
    "## Tạo order_summary_df và listening_summary_df để chứa dữ liệu thống kê về orders và listenings\n",
    "## Tạo user_cluster_df để chứa dữ liệu về user_cluster"
   ]
  },
  {
   "cell_type": "code",
   "execution_count": 6,
   "metadata": {},
   "outputs": [
    {
     "data": {
      "text/html": [
       "<div>\n",
       "<style scoped>\n",
       "    .dataframe tbody tr th:only-of-type {\n",
       "        vertical-align: middle;\n",
       "    }\n",
       "\n",
       "    .dataframe tbody tr th {\n",
       "        vertical-align: top;\n",
       "    }\n",
       "\n",
       "    .dataframe thead th {\n",
       "        text-align: right;\n",
       "    }\n",
       "</style>\n",
       "<table border=\"1\" class=\"dataframe\">\n",
       "  <thead>\n",
       "    <tr style=\"text-align: right;\">\n",
       "      <th></th>\n",
       "      <th>User_ID</th>\n",
       "      <th>min_purchase_date</th>\n",
       "      <th>max_purchase_date</th>\n",
       "      <th>order_cnt</th>\n",
       "      <th>revenue</th>\n",
       "    </tr>\n",
       "  </thead>\n",
       "  <tbody>\n",
       "    <tr>\n",
       "      <th>0</th>\n",
       "      <td>40843</td>\n",
       "      <td>2020-09-15</td>\n",
       "      <td>2020-10-21</td>\n",
       "      <td>3</td>\n",
       "      <td>27000</td>\n",
       "    </tr>\n",
       "    <tr>\n",
       "      <th>1</th>\n",
       "      <td>40861</td>\n",
       "      <td>2020-09-09</td>\n",
       "      <td>2020-09-09</td>\n",
       "      <td>1</td>\n",
       "      <td>199000</td>\n",
       "    </tr>\n",
       "    <tr>\n",
       "      <th>2</th>\n",
       "      <td>41003</td>\n",
       "      <td>2020-10-27</td>\n",
       "      <td>2020-10-27</td>\n",
       "      <td>1</td>\n",
       "      <td>599000</td>\n",
       "    </tr>\n",
       "  </tbody>\n",
       "</table>\n",
       "</div>"
      ],
      "text/plain": [
       "  User_ID min_purchase_date max_purchase_date  order_cnt  revenue\n",
       "0   40843        2020-09-15        2020-10-21          3    27000\n",
       "1   40861        2020-09-09        2020-09-09          1   199000\n",
       "2   41003        2020-10-27        2020-10-27          1   599000"
      ]
     },
     "execution_count": 6,
     "metadata": {},
     "output_type": "execute_result"
    }
   ],
   "source": [
    "order_summary_df = order_detail_df.groupby('ID của user').agg(\n",
    "                    {'Ngày phát sinh': ['min', 'max', 'count'],\n",
    "                     'Giá trị hoá đơn': 'sum',\n",
    "                    }\n",
    "                    ).reset_index()\n",
    "order_summary_df.columns = ['User_ID','min_purchase_date','max_purchase_date','order_cnt','revenue']\n",
    "\n",
    "order_summary_df.head(3)"
   ]
  },
  {
   "cell_type": "code",
   "execution_count": 7,
   "metadata": {
    "scrolled": true
   },
   "outputs": [
    {
     "data": {
      "text/html": [
       "<div>\n",
       "<style scoped>\n",
       "    .dataframe tbody tr th:only-of-type {\n",
       "        vertical-align: middle;\n",
       "    }\n",
       "\n",
       "    .dataframe tbody tr th {\n",
       "        vertical-align: top;\n",
       "    }\n",
       "\n",
       "    .dataframe thead th {\n",
       "        text-align: right;\n",
       "    }\n",
       "</style>\n",
       "<table border=\"1\" class=\"dataframe\">\n",
       "  <thead>\n",
       "    <tr style=\"text-align: right;\">\n",
       "      <th></th>\n",
       "      <th>User_ID</th>\n",
       "      <th>first_listen_date</th>\n",
       "      <th>last_listen_date</th>\n",
       "      <th>avg_duration_per_listen</th>\n",
       "      <th>std_avg_duration_per_listen</th>\n",
       "      <th>listen_cnt</th>\n",
       "      <th>total_listen_minute</th>\n",
       "    </tr>\n",
       "  </thead>\n",
       "  <tbody>\n",
       "    <tr>\n",
       "      <th>0</th>\n",
       "      <td>40834</td>\n",
       "      <td>2020-07-08</td>\n",
       "      <td>2020-07-08</td>\n",
       "      <td>4.350000</td>\n",
       "      <td>6.010408</td>\n",
       "      <td>2</td>\n",
       "      <td>8.7</td>\n",
       "    </tr>\n",
       "    <tr>\n",
       "      <th>1</th>\n",
       "      <td>40835</td>\n",
       "      <td>2020-09-02</td>\n",
       "      <td>2020-10-07</td>\n",
       "      <td>13.760000</td>\n",
       "      <td>11.251578</td>\n",
       "      <td>5</td>\n",
       "      <td>68.8</td>\n",
       "    </tr>\n",
       "    <tr>\n",
       "      <th>2</th>\n",
       "      <td>40839</td>\n",
       "      <td>2020-07-21</td>\n",
       "      <td>2020-10-11</td>\n",
       "      <td>18.408333</td>\n",
       "      <td>12.992909</td>\n",
       "      <td>60</td>\n",
       "      <td>1104.5</td>\n",
       "    </tr>\n",
       "  </tbody>\n",
       "</table>\n",
       "</div>"
      ],
      "text/plain": [
       "  User_ID first_listen_date last_listen_date  avg_duration_per_listen  \\\n",
       "0   40834        2020-07-08       2020-07-08                 4.350000   \n",
       "1   40835        2020-09-02       2020-10-07                13.760000   \n",
       "2   40839        2020-07-21       2020-10-11                18.408333   \n",
       "\n",
       "   std_avg_duration_per_listen  listen_cnt  total_listen_minute  \n",
       "0                     6.010408           2                  8.7  \n",
       "1                    11.251578           5                 68.8  \n",
       "2                    12.992909          60               1104.5  "
      ]
     },
     "execution_count": 7,
     "metadata": {},
     "output_type": "execute_result"
    }
   ],
   "source": [
    "listening_summary_df = listening_detail_df.groupby('User ID').agg(\n",
    "                    {\"Ngày phát sinh lượt nghe\":['min','max'],\n",
    "                     \"Thời lượng của lượt nghe (phút)\":[\"mean\",\"std\",'count','sum']\n",
    "                    }\n",
    "                ).reset_index()\n",
    "listening_summary_df.columns = ['User_ID','first_listen_date','last_listen_date','avg_duration_per_listen','std_avg_duration_per_listen','listen_cnt','total_listen_minute']\n",
    "listening_summary_df.head(3)"
   ]
  },
  {
   "cell_type": "code",
   "execution_count": 9,
   "metadata": {},
   "outputs": [
    {
     "data": {
      "text/plain": [
       "27458"
      ]
     },
     "execution_count": 9,
     "metadata": {},
     "output_type": "execute_result"
    }
   ],
   "source": [
    "# Lấy user_id từ 2 bảng order_summary_df và listening_summary_df gộp vào 1 bảng\n",
    "user_cluster_df= pd.DataFrame(pd.concat(objs=[listening_summary_df['User_ID'],order_summary_df['User_ID']]).drop_duplicates().reset_index(drop=True))\n",
    "user_cluster_df.columns = [\"User_ID\"]\n",
    "user_cluster_df.shape[0]"
   ]
  },
  {
   "cell_type": "markdown",
   "metadata": {},
   "source": [
    "### Nhận xét về dữ liệu:"
   ]
  },
  {
   "cell_type": "code",
   "execution_count": 162,
   "metadata": {},
   "outputs": [
    {
     "data": {
      "text/plain": [
       "0"
      ]
     },
     "execution_count": 162,
     "metadata": {},
     "output_type": "execute_result"
    }
   ],
   "source": [
    "da = listening_summary_df.join(order_summary_df[[\"User_ID\",\"revenue\"]].set_index(\"User_ID\"),on=\"User_ID\",how=\"outer\")\n",
    "da.loc[da[\"revenue\"] <= 0.0].shape[0]"
   ]
  },
  {
   "cell_type": "code",
   "execution_count": 163,
   "metadata": {},
   "outputs": [
    {
     "data": {
      "text/plain": [
       "93"
      ]
     },
     "execution_count": 163,
     "metadata": {},
     "output_type": "execute_result"
    }
   ],
   "source": [
    "t = da.loc[da['revenue'].isnull()]\n",
    "t[t['total_listen_minute'] == 0.0].shape[0]"
   ]
  },
  {
   "cell_type": "markdown",
   "metadata": {},
   "source": [
    "#### Summary:\n",
    "1. Ta chỉ xét những user đã có giao dịch hoặc những user đã sử dụng app (đã nghe sách): khoảng 27k users\n",
    "2. Trong đó, có:\n",
    "    * Những users đã thực hiện giao dịch đều có tổng giá trị giao dịch > 0.0\n",
    "    * 1% số lượng PAY users đã giao dịch(order) nhưng chưa nghe (nolisten) (chưa bấm nút nghe của bất kì playlist nào): 275 users\n",
    "    * 8.6% PAY users đã giao dịch và đã nghe (2363 users)\n",
    "    * Còn lại 90.4% FREE users đã nghe và CHƯA giao dịch (24820 users), trong đó có 93  free user có tổng thời gian nghe là 0.0 phút -chưa trải nghiệm playlist nào ()"
   ]
  },
  {
   "cell_type": "markdown",
   "metadata": {},
   "source": [
    "# CLUSTERING"
   ]
  },
  {
   "cell_type": "code",
   "execution_count": 10,
   "metadata": {},
   "outputs": [],
   "source": [
    "# for Ebowl\n",
    "def find_sse(df, max_k):\n",
    "    sse = {}\n",
    "    for k in range(1, max_k):\n",
    "        kmeans = KMeans(n_clusters=k, max_iter=1000)\n",
    "        kmeans.fit(df)\n",
    "        df['clusters'] = kmeans.labels_\n",
    "        sse[k] = kmeans.inertia_\n",
    "    return sse\n",
    "   \n",
    "## function for ordering cluster numbers\n",
    "def order_cluster(cluster_field_name, target_field_name, df, ascending):\n",
    "    new_cluster_field_name = 'new_' + cluster_field_name\n",
    "    df_new = df.groupby(cluster_field_name)[target_field_name].mean().reset_index()\n",
    "    df_new = df_new.sort_values(by=target_field_name,ascending=ascending).reset_index(drop=True)\n",
    "    df_new['index'] = df_new.index\n",
    "    df_final = pd.merge(df,df_new[[cluster_field_name,'index']], on=cluster_field_name)\n",
    "    df_final = df_final.drop([cluster_field_name],axis=1)\n",
    "    df_final = df_final.rename(columns={\"index\":cluster_field_name})\n",
    "    return df_final"
   ]
  },
  {
   "cell_type": "markdown",
   "metadata": {},
   "source": [
    "## Calculate metrics"
   ]
  },
  {
   "cell_type": "markdown",
   "metadata": {},
   "source": [
    "### Nối các thông tin chung của user lại"
   ]
  },
  {
   "cell_type": "code",
   "execution_count": 11,
   "metadata": {},
   "outputs": [],
   "source": [
    "# user_cluster_df = user_cluster_df.join(order_summary_df.set_index(\"User_ID\"),on=\"User_ID\",how=\"outer\")\n",
    "user_cluster_df = user_cluster_df.join(listening_summary_df.set_index(\"User_ID\"),on=\"User_ID\",how=\"outer\")"
   ]
  },
  {
   "cell_type": "code",
   "execution_count": 12,
   "metadata": {},
   "outputs": [],
   "source": [
    "user_cluster_df = user_cluster_df.join(order_summary_df.set_index(\"User_ID\"),on=\"User_ID\",how=\"outer\")"
   ]
  },
  {
   "cell_type": "code",
   "execution_count": 13,
   "metadata": {},
   "outputs": [],
   "source": [
    "user_cluster_df = user_cluster_df.join(user_df[[\"User ID\",\"Ngày đăng ký tài khoản\"]].set_index(\"User ID\"),\n",
    "                                       on=\"User_ID\",how=\"inner\")"
   ]
  },
  {
   "cell_type": "code",
   "execution_count": 14,
   "metadata": {},
   "outputs": [],
   "source": [
    "user_cluster_df = user_cluster_df.rename(columns = {'Ngày đăng ký tài khoản':'signup_date'})"
   ]
  },
  {
   "cell_type": "code",
   "execution_count": 15,
   "metadata": {
    "scrolled": true
   },
   "outputs": [
    {
     "data": {
      "text/plain": [
       "free        24820\n",
       "subcribe     2638\n",
       "Name: type_user, dtype: int64"
      ]
     },
     "execution_count": 15,
     "metadata": {},
     "output_type": "execute_result"
    }
   ],
   "source": [
    "user_cluster_df[\"type_user\"] = user_cluster_df['revenue'].isnull().map(lambda x: \"free\" if x else 'subcribe')\n",
    "user_cluster_df[\"type_user\"].value_counts()"
   ]
  },
  {
   "cell_type": "markdown",
   "metadata": {},
   "source": [
    "### 1. Density: avg_duration_per_listen: thời lượng trung bình của 1 lượt nghe (theo đơn vị phút)"
   ]
  },
  {
   "cell_type": "code",
   "execution_count": 16,
   "metadata": {},
   "outputs": [
    {
     "data": {
      "text/plain": [
       "275"
      ]
     },
     "execution_count": 16,
     "metadata": {},
     "output_type": "execute_result"
    }
   ],
   "source": [
    "## Density: thời lượng tb của 1 lượt nghe: Nếu user chưa nghe thì có Density = 0\n",
    "\n",
    "# 'Density' = 'avg_duration_per_listen' nếu 'avg_duration_per_listen' != NaN, ngược lại thì bằng 0.0\n",
    "# user_cluster_df['Density'] = user_cluster_df['avg_duration_per_listen'].fillna(value = 0.0)\n",
    "user_cluster_df['Density'] = user_cluster_df['avg_duration_per_listen']\n",
    "user_cluster_df['Density'].isnull().sum()"
   ]
  },
  {
   "cell_type": "markdown",
   "metadata": {},
   "source": [
    "### 2.Recency: the distance (in days) between the lastest active day of a user and the max  the active day in data set"
   ]
  },
  {
   "cell_type": "code",
   "execution_count": 17,
   "metadata": {
    "scrolled": true
   },
   "outputs": [],
   "source": [
    "user_cluster_df['last_active_date'] = user_cluster_df[[\"max_purchase_date\",\"last_listen_date\",\"signup_date\"]].max(axis = 1)"
   ]
  },
  {
   "cell_type": "code",
   "execution_count": 18,
   "metadata": {},
   "outputs": [
    {
     "data": {
      "text/plain": [
       "0"
      ]
     },
     "execution_count": 18,
     "metadata": {},
     "output_type": "execute_result"
    }
   ],
   "source": [
    "## Recency: khoảng cách giữa lần nghe gần nhất của mỗi user đến max_listen_date trên toàn bộ tập dữ liệu\n",
    "# the lastest active day = max(the_max_purchase_date, the_last_listen_date,Ngày đăng ký tài khoản)\n",
    "## Recency càng nhỏ thì càng tốt\n",
    "\n",
    "maxActiveDay = max(user_cluster_df[\"max_purchase_date\"].max(),user_cluster_df[\"last_listen_date\"].max(),\n",
    "                      user_cluster_df[\"signup_date\"].max())\n",
    "\n",
    "user_cluster_df['last_active_date'] = user_cluster_df[[\"max_purchase_date\",\"last_listen_date\",\"signup_date\"]].max(axis = 1)\n",
    "\n",
    "user_cluster_df['Recency']=(maxActiveDay - user_cluster_df['last_active_date']).dt.days\n",
    "\n",
    "user_cluster_df['Recency'].isnull().sum()\n",
    "\n",
    "# users with 0_Recency are the most active ones"
   ]
  },
  {
   "cell_type": "markdown",
   "metadata": {},
   "source": [
    "### 3. Frequency: avg_listen_cnt_per_week: số lượt nghe tb trong 1 ngày nghe"
   ]
  },
  {
   "cell_type": "code",
   "execution_count": 39,
   "metadata": {},
   "outputs": [],
   "source": [
    "#1 Tính số tuần đã trôi qua trên hệ quy chiếu thời gian của bản thân user\n",
    "user_cluster_df['listen_week_cnt'] = user_cluster_df.apply(\n",
    "                                lambda x: 1 if x['last_listen_date'] == x[\"first_listen_date\"] \n",
    "                                            else round(( x['last_listen_date']-x[\"first_listen_date\"]).days/7 + 0.4,0), axis=1)\n",
    "\n",
    "user_cluster_df['Frequency_listenweek'] = user_cluster_df['listen_cnt']/user_cluster_df['listen_week_cnt']\n",
    "user_cluster_df['Frequency_listenweek'] = user_cluster_df['Frequency_listenweek'].fillna(value = float(0.0))\n",
    "\n",
    "# #2. Tính số tuần đã trôi qua trên hệ quy chiếu thời gian có cận trên là maxListenDate cho toàn bộ tập dữ liệu\n",
    "# # cận dưới là ngày nghe lần đầu của mỗi user\n",
    "# maxListenDate = user_cluster_df['last_listen_date'].max()\n",
    "# user_cluster_df['bias_listen_week_cnt'] = user_cluster_df[\"first_listen_date\"].map(\n",
    "#                                 lambda x: 1 if maxListenDate == x\n",
    "#                                             else round(( maxListenDate-x).days/7 + 0.4,0))"
   ]
  },
  {
   "cell_type": "code",
   "execution_count": 72,
   "metadata": {},
   "outputs": [],
   "source": [
    "#2 Tính số ngày đã trôi qua trên hệ quy chiếu thời gian của bản thân user\n",
    "user_cluster_df['listen_day_cnt'] = user_cluster_df.apply(\n",
    "                                lambda x: 1 if x['last_listen_date'] == x[\"first_listen_date\"] \n",
    "                                            else ( x['last_listen_date']-x[\"first_listen_date\"]).days, axis=1)\n",
    "\n",
    "user_cluster_df['Frequency_listenday'] = user_cluster_df['listen_cnt']/user_cluster_df['listen_day_cnt']\n",
    "user_cluster_df['Frequency_listenday'] = user_cluster_df['Frequency_listenday'].fillna(value = float(0.0))"
   ]
  },
  {
   "cell_type": "code",
   "execution_count": 73,
   "metadata": {},
   "outputs": [
    {
     "data": {
      "text/plain": [
       "0"
      ]
     },
     "execution_count": 73,
     "metadata": {},
     "output_type": "execute_result"
    }
   ],
   "source": [
    "user_cluster_df['Frequency_listenday'].isnull().sum()"
   ]
  },
  {
   "cell_type": "markdown",
   "metadata": {},
   "source": [
    "### 5. Monetary"
   ]
  },
  {
   "cell_type": "markdown",
   "metadata": {},
   "source": [
    "#### 5.1. Monetary_lifeweek: avg_spending_per_week: số tiền bỏ ra / 1 life week"
   ]
  },
  {
   "cell_type": "code",
   "execution_count": 42,
   "metadata": {},
   "outputs": [],
   "source": [
    "# Monetary: avg_spending_per_week: số tiền bỏ ra / 1 week\n",
    "# Ta lấy revenue của mỗi user chia cho life_week_cnt của user đó\n",
    "# Nếu revenue của user là NaN: Monetary = 0.0\n",
    "# Nếu revenue != 0 mà listening\n",
    "\n",
    "# Timeline của user: từ lúc signup đến lúc the_last_active_date:\n",
    "user_cluster_df['life_week_cnt']= user_cluster_df.apply(\n",
    "                                lambda x: 1 if x['last_active_date'] == x[\"signup_date\"] \n",
    "                                            else round(( x['last_active_date']-x[\"signup_date\"]).days/7 + 0.4,0), axis=1)\n",
    "\n",
    "user_cluster_df['Monetary_lifeweek'] = user_cluster_df['revenue']\n",
    "user_cluster_df['Monetary_lifeweek'] = user_cluster_df['Monetary_lifeweek'] / user_cluster_df['life_week_cnt']"
   ]
  },
  {
   "cell_type": "markdown",
   "metadata": {},
   "source": [
    "#### 5.2.Monetary_orderweek: avg_spending_per_week: số tiền bỏ ra / 1 order week"
   ]
  },
  {
   "cell_type": "code",
   "execution_count": 43,
   "metadata": {},
   "outputs": [],
   "source": [
    "# Monetary: avg_spending_per_week: số tiền bỏ ra / 1 week\n",
    "# Ta lấy revenue của mỗi user chia cho order_week_cnt của user đó\n",
    "# Nếu revenue của user là NaN: Monetary = 0.0\n",
    "# Nếu revenue != 0 mà listening\n",
    "\n",
    "# Timeline của user: từ lúc the min_purcharse_date đến lúc max_purcharse_date:\n",
    "user_cluster_df['order_week_cnt']= user_cluster_df.apply(\n",
    "                                lambda x: 1 if x[\"max_purchase_date\"] == x[\"min_purchase_date\"] \n",
    "                                            else round((x[\"max_purchase_date\"]-x[\"min_purchase_date\"]).days/7 + 0.4,0), axis=1)\n",
    "\n",
    "user_cluster_df['Monetary_orderweek'] = user_cluster_df['revenue']\n",
    "user_cluster_df['Monetary_orderweek'] = user_cluster_df['Monetary_orderweek'] / user_cluster_df['order_week_cnt']"
   ]
  },
  {
   "cell_type": "markdown",
   "metadata": {},
   "source": [
    "#### 5.3.Monetary_orderday: avg_spending_per_day: số tiền bỏ ra / 1 order day"
   ]
  },
  {
   "cell_type": "code",
   "execution_count": 87,
   "metadata": {},
   "outputs": [],
   "source": [
    "user_cluster_df['order_day_cnt']= user_cluster_df.apply(\n",
    "                                lambda x: 1 if x[\"max_purchase_date\"] == x[\"min_purchase_date\"] \n",
    "                                            else (x[\"max_purchase_date\"]-x[\"min_purchase_date\"]).days, axis=1)\n"
   ]
  },
  {
   "cell_type": "code",
   "execution_count": null,
   "metadata": {},
   "outputs": [],
   "source": [
    "user_cluster_df['Monetary_orderday'] = user_cluster_df['revenue']\n",
    "user_cluster_df['Monetary_orderday'] = user_cluster_df['Monetary_orderday'] / user_cluster_df['order_day_cnt']"
   ]
  },
  {
   "cell_type": "markdown",
   "metadata": {},
   "source": [
    "#### 5.4. Monetary: avg_spending_per_listen: số tiền bỏ ra / 1 listen"
   ]
  },
  {
   "cell_type": "code",
   "execution_count": 47,
   "metadata": {},
   "outputs": [],
   "source": [
    "# Những người đã order nhưng chưa kịp nghe: cho tổng số lần nghe là 1\n",
    "user_cluster_df['Monetary_per_listen'] = user_cluster_df['revenue']/user_cluster_df['listen_cnt'].fillna(1)"
   ]
  },
  {
   "cell_type": "code",
   "execution_count": 35,
   "metadata": {},
   "outputs": [
    {
     "data": {
      "text/plain": [
       "24820"
      ]
     },
     "execution_count": 35,
     "metadata": {},
     "output_type": "execute_result"
    }
   ],
   "source": [
    "user_cluster_df['Monetary_per_listen'].isnull().sum()"
   ]
  },
  {
   "cell_type": "code",
   "execution_count": 48,
   "metadata": {},
   "outputs": [],
   "source": [
    "# user_cluster_df.to_csv(\"data/user_cluster_df.csv\")"
   ]
  },
  {
   "cell_type": "markdown",
   "metadata": {},
   "source": [
    "### Summary\n",
    "1. Có 2 cluster cho 2 nhóm user:\n",
    "    * Nhóm Free users (type_user = 'free'): RFD\n",
    "    * Nhóm Subcribe users (type_user = 'subcribe'): RFM\n",
    "2. Giải thích các metrics:\n",
    "    * R Recency: khoảng cách tính bằng ngày từ lần active cuối cùng của user đến ngày max(active cuối cùng)\n",
    "        R càng nhỏ có nghĩa sự recency càng cao --> càng tốt\n",
    "    * F Frequency: số lượt nghe của mỗi user trong mỗi tuần (listen_cnt/listen_week_cnt)\n",
    "        F càng cao thì mức độ activeness càng lớn --> càng tốt\n",
    "        Nếu user chưa nghe lần nào thì Frequency = 0\n",
    "    * M Monetary: trung bình chi phí cho mỗi lượt nghe (revenue/listen_cnt)\n",
    "        M càng cao thì càng tốt về mặc lợi nhuận\n",
    "    * D Density: thời lượng trung bình trong mỗi lượt nghe (total_listen_time / listen_cnt)\n",
    "        D càng cao --> user càng enjoy app"
   ]
  },
  {
   "cell_type": "markdown",
   "metadata": {},
   "source": [
    "## NORMALIZE Density - Recency - Frequency - Monetary"
   ]
  },
  {
   "cell_type": "code",
   "execution_count": 53,
   "metadata": {},
   "outputs": [
    {
     "data": {
      "text/plain": [
       "free        24820\n",
       "subcribe     2638\n",
       "Name: type_user, dtype: int64"
      ]
     },
     "execution_count": 53,
     "metadata": {},
     "output_type": "execute_result"
    }
   ],
   "source": [
    "user_cluster_df[\"type_user\"].value_counts()"
   ]
  },
  {
   "cell_type": "markdown",
   "metadata": {},
   "source": [
    "# CLUSTERING"
   ]
  },
  {
   "cell_type": "markdown",
   "metadata": {},
   "source": [
    "## 1.Subcribers: RFM CLUSTERING (recency - frequency - monetary)"
   ]
  },
  {
   "cell_type": "markdown",
   "metadata": {},
   "source": [
    "1. frequency: số lần nghe trong 1 ngày\n",
    "2. monetary: số tiền trả trong 1 ngày"
   ]
  },
  {
   "cell_type": "code",
   "execution_count": 97,
   "metadata": {},
   "outputs": [],
   "source": [
    "# subcribe_cluster_df chứa dữ liệu subcriber segment\n",
    "cols= [\"User_ID\",'type_user','Recency','Frequency_listenday','Monetary_orderweek']\n",
    "subcribe_cluster_df = user_cluster_df.loc[user_cluster_df['type_user']=='subcribe',cols]\n",
    "subcribe_cluster_df = subcribe_cluster_df.rename(columns={\"Monetary_orderweek\": \"Monetary\",\"Frequency_listenday\":\"Frequency\"})"
   ]
  },
  {
   "cell_type": "code",
   "execution_count": 92,
   "metadata": {},
   "outputs": [],
   "source": [
    "# free_cluster_df chứa dữ liệu free user segment\n",
    "cols= [\"User_ID\",'type_user','Recency','Frequency_listenday','Density']\n",
    "free_cluster_df = user_cluster_df.loc[user_cluster_df['type_user']=='free',cols]\n",
    "free_cluster_df = free_cluster_df.rename(columns={\"Frequency_listenday\":\"Frequency\"})"
   ]
  },
  {
   "cell_type": "code",
   "execution_count": 56,
   "metadata": {},
   "outputs": [
    {
     "data": {
      "text/plain": [
       "(2638, 24820)"
      ]
     },
     "execution_count": 56,
     "metadata": {},
     "output_type": "execute_result"
    }
   ],
   "source": [
    "subcribe_cluster_df.shape[0],free_cluster_df.shape[0]"
   ]
  },
  {
   "cell_type": "markdown",
   "metadata": {},
   "source": [
    "### 1. Normalize: MinMaxScale"
   ]
  },
  {
   "cell_type": "code",
   "execution_count": 256,
   "metadata": {},
   "outputs": [],
   "source": [
    "# from sklearn.preprocessing import MinMaxScaler\n",
    "from sklearn.cluster import KMeans"
   ]
  },
  {
   "cell_type": "code",
   "execution_count": 66,
   "metadata": {},
   "outputs": [],
   "source": [
    "def min_max_scale(df,scale_cols):\n",
    "    for col in scale_cols:\n",
    "        min_val = df[col].min()\n",
    "        max_val = df[col].max()\n",
    "        distance = max_val - min_val\n",
    "        df['scaled'+str(col)] = (df[col]-min_val)/distance\n",
    "    return df\n",
    "\n",
    "def run_kmean_clustering(df,cluster_cols,k_cluster,k_iter = 1000):\n",
    "    kmeans = KMeans(n_clusters=k_cluster, max_iter = k_iter )\n",
    "    kmeans.fit(df[cluster_cols])\n",
    "    prefix = cluster_cols[0]\n",
    "    df[str(prefix)+\"Cluster\"]= kmeans.predict((df[cluster_cols]))\n",
    "    return df"
   ]
  },
  {
   "cell_type": "code",
   "execution_count": 57,
   "metadata": {},
   "outputs": [
    {
     "data": {
      "text/html": [
       "<div>\n",
       "<style scoped>\n",
       "    .dataframe tbody tr th:only-of-type {\n",
       "        vertical-align: middle;\n",
       "    }\n",
       "\n",
       "    .dataframe tbody tr th {\n",
       "        vertical-align: top;\n",
       "    }\n",
       "\n",
       "    .dataframe thead th {\n",
       "        text-align: right;\n",
       "    }\n",
       "</style>\n",
       "<table border=\"1\" class=\"dataframe\">\n",
       "  <thead>\n",
       "    <tr style=\"text-align: right;\">\n",
       "      <th></th>\n",
       "      <th>Recency</th>\n",
       "      <th>Frequency</th>\n",
       "      <th>Monetary</th>\n",
       "    </tr>\n",
       "  </thead>\n",
       "  <tbody>\n",
       "    <tr>\n",
       "      <th>count</th>\n",
       "      <td>2638.000000</td>\n",
       "      <td>2638.00000</td>\n",
       "      <td>2638.000000</td>\n",
       "    </tr>\n",
       "    <tr>\n",
       "      <th>mean</th>\n",
       "      <td>27.904473</td>\n",
       "      <td>13.46189</td>\n",
       "      <td>213652.095394</td>\n",
       "    </tr>\n",
       "    <tr>\n",
       "      <th>std</th>\n",
       "      <td>35.420439</td>\n",
       "      <td>14.92269</td>\n",
       "      <td>211079.180955</td>\n",
       "    </tr>\n",
       "    <tr>\n",
       "      <th>min</th>\n",
       "      <td>0.000000</td>\n",
       "      <td>0.00000</td>\n",
       "      <td>152.542373</td>\n",
       "    </tr>\n",
       "    <tr>\n",
       "      <th>25%</th>\n",
       "      <td>2.000000</td>\n",
       "      <td>3.50000</td>\n",
       "      <td>9000.000000</td>\n",
       "    </tr>\n",
       "    <tr>\n",
       "      <th>50%</th>\n",
       "      <td>11.000000</td>\n",
       "      <td>9.00000</td>\n",
       "      <td>199000.000000</td>\n",
       "    </tr>\n",
       "    <tr>\n",
       "      <th>75%</th>\n",
       "      <td>41.000000</td>\n",
       "      <td>18.34478</td>\n",
       "      <td>276000.000000</td>\n",
       "    </tr>\n",
       "    <tr>\n",
       "      <th>max</th>\n",
       "      <td>168.000000</td>\n",
       "      <td>172.00000</td>\n",
       "      <td>1000000.000000</td>\n",
       "    </tr>\n",
       "  </tbody>\n",
       "</table>\n",
       "</div>"
      ],
      "text/plain": [
       "           Recency   Frequency        Monetary\n",
       "count  2638.000000  2638.00000     2638.000000\n",
       "mean     27.904473    13.46189   213652.095394\n",
       "std      35.420439    14.92269   211079.180955\n",
       "min       0.000000     0.00000      152.542373\n",
       "25%       2.000000     3.50000     9000.000000\n",
       "50%      11.000000     9.00000   199000.000000\n",
       "75%      41.000000    18.34478   276000.000000\n",
       "max     168.000000   172.00000  1000000.000000"
      ]
     },
     "execution_count": 57,
     "metadata": {},
     "output_type": "execute_result"
    }
   ],
   "source": [
    "subcribe_cluster_df.describe()"
   ]
  },
  {
   "cell_type": "code",
   "execution_count": 60,
   "metadata": {},
   "outputs": [],
   "source": [
    "# subcribe_cluster_df = min_max_scale(subcribe_cluster_df,[\"Recency\",\"Frequency\",\"Monetary\"])\n",
    "# subcribe_cluster_df[[\"scaledRecency\",\"scaledFrequency\",\"scaledMonetary\"]].describe()"
   ]
  },
  {
   "cell_type": "markdown",
   "metadata": {},
   "source": [
    "### Recency"
   ]
  },
  {
   "cell_type": "markdown",
   "metadata": {},
   "source": [
    "#### 1. Plot R"
   ]
  },
  {
   "cell_type": "code",
   "execution_count": 61,
   "metadata": {},
   "outputs": [
    {
     "data": {
      "text/plain": [
       "count    2638.000000\n",
       "mean       27.904473\n",
       "std        35.420439\n",
       "min         0.000000\n",
       "25%         2.000000\n",
       "50%        11.000000\n",
       "75%        41.000000\n",
       "max       168.000000\n",
       "Name: Recency, dtype: float64"
      ]
     },
     "execution_count": 61,
     "metadata": {},
     "output_type": "execute_result"
    }
   ],
   "source": [
    "subcribe_cluster_df['Recency'].describe()"
   ]
  },
  {
   "cell_type": "code",
   "execution_count": 63,
   "metadata": {},
   "outputs": [
    {
     "data": {
      "image/png": "[encoded data removed]",
      "text/plain": [
       "<Figure size 432x288 with 1 Axes>"
      ]
     },
     "metadata": {
      "needs_background": "light"
     },
     "output_type": "display_data"
    }
   ],
   "source": [
    "sns.histplot(data=subcribe_cluster_df,x='Recency');"
   ]
  },
  {
   "cell_type": "markdown",
   "metadata": {},
   "source": [
    "#### 2. Determine K for Recency"
   ]
  },
  {
   "cell_type": "code",
   "execution_count": 64,
   "metadata": {},
   "outputs": [
    {
     "data": {
      "image/png": "[encoded data removed]",
      "text/plain": [
       "<Figure size 432x288 with 1 Axes>"
      ]
     },
     "metadata": {
      "needs_background": "light"
     },
     "output_type": "display_data"
    }
   ],
   "source": [
    "## Elbow Method to determine K\n",
    "sse = find_sse(subcribe_cluster_df.loc[:,['Recency']], max_k = 10) \n",
    "\n",
    "plt.figure()\n",
    "plt.plot(list(sse.keys()),list(sse.values()))\n",
    "plt.xlabel(\"Number of clusters\")\n",
    "plt.show() \n",
    "\n",
    "# # Optimal R_K=3\n",
    "# ## Choose the k of Recency_clusters = 3\n",
    "# ## 1st: 'active', 2st: 'sleep', 3rd: 'hibernate'"
   ]
  },
  {
   "cell_type": "markdown",
   "metadata": {},
   "source": [
    "#### 3. Recency Clustering"
   ]
  },
  {
   "cell_type": "code",
   "execution_count": 98,
   "metadata": {
    "scrolled": false
   },
   "outputs": [
    {
     "data": {
      "text/html": [
       "<div>\n",
       "<style scoped>\n",
       "    .dataframe tbody tr th:only-of-type {\n",
       "        vertical-align: middle;\n",
       "    }\n",
       "\n",
       "    .dataframe tbody tr th {\n",
       "        vertical-align: top;\n",
       "    }\n",
       "\n",
       "    .dataframe thead th {\n",
       "        text-align: right;\n",
       "    }\n",
       "</style>\n",
       "<table border=\"1\" class=\"dataframe\">\n",
       "  <thead>\n",
       "    <tr style=\"text-align: right;\">\n",
       "      <th></th>\n",
       "      <th>count</th>\n",
       "      <th>mean</th>\n",
       "      <th>std</th>\n",
       "      <th>min</th>\n",
       "      <th>25%</th>\n",
       "      <th>50%</th>\n",
       "      <th>75%</th>\n",
       "      <th>max</th>\n",
       "    </tr>\n",
       "    <tr>\n",
       "      <th>RecencyCluster</th>\n",
       "      <th></th>\n",
       "      <th></th>\n",
       "      <th></th>\n",
       "      <th></th>\n",
       "      <th></th>\n",
       "      <th></th>\n",
       "      <th></th>\n",
       "      <th></th>\n",
       "    </tr>\n",
       "  </thead>\n",
       "  <tbody>\n",
       "    <tr>\n",
       "      <th>0</th>\n",
       "      <td>355.0</td>\n",
       "      <td>103.484507</td>\n",
       "      <td>18.468837</td>\n",
       "      <td>75.0</td>\n",
       "      <td>88.5</td>\n",
       "      <td>104.0</td>\n",
       "      <td>116.0</td>\n",
       "      <td>168.0</td>\n",
       "    </tr>\n",
       "    <tr>\n",
       "      <th>1</th>\n",
       "      <td>549.0</td>\n",
       "      <td>46.256831</td>\n",
       "      <td>13.535624</td>\n",
       "      <td>27.0</td>\n",
       "      <td>35.0</td>\n",
       "      <td>43.0</td>\n",
       "      <td>57.0</td>\n",
       "      <td>74.0</td>\n",
       "    </tr>\n",
       "    <tr>\n",
       "      <th>2</th>\n",
       "      <td>1734.0</td>\n",
       "      <td>6.620531</td>\n",
       "      <td>7.164231</td>\n",
       "      <td>0.0</td>\n",
       "      <td>1.0</td>\n",
       "      <td>4.0</td>\n",
       "      <td>11.0</td>\n",
       "      <td>26.0</td>\n",
       "    </tr>\n",
       "  </tbody>\n",
       "</table>\n",
       "</div>"
      ],
      "text/plain": [
       "                 count        mean        std   min   25%    50%    75%    max\n",
       "RecencyCluster                                                                \n",
       "0                355.0  103.484507  18.468837  75.0  88.5  104.0  116.0  168.0\n",
       "1                549.0   46.256831  13.535624  27.0  35.0   43.0   57.0   74.0\n",
       "2               1734.0    6.620531   7.164231   0.0   1.0    4.0   11.0   26.0"
      ]
     },
     "execution_count": 98,
     "metadata": {},
     "output_type": "execute_result"
    }
   ],
   "source": [
    "# ## RecencyCluster_k = 3\n",
    "k_clus = 3\n",
    "subcribe_cluster_df = run_kmean_clustering(subcribe_cluster_df,[\"Recency\"],k_cluster=k_clus)\n",
    "\n",
    "## Sắp theo thứ tự R càng thấp thì Cluster càng cao\n",
    "subcribe_cluster_df = order_cluster('RecencyCluster', 'Recency',subcribe_cluster_df,False)\n",
    "subcribe_cluster_df.groupby(\"RecencyCluster\")['Recency'].describe()\n",
    "\n",
    "# ## see details of each cluster - Recency"
   ]
  },
  {
   "cell_type": "markdown",
   "metadata": {},
   "source": [
    "#### 4.Summary: Recency chia làm 3 nhóm:\n",
    "1. Nhóm 0: 'hibernate': lần cuối cùng cách > 3 tháng\n",
    "2. Nhóm 1: 'sleep': lần cuối cùng cách 1.5 tháng (từ 1 - 2 tháng)chưa dùng app\n",
    "3. Nhóm 2: 'active': có dùng app trong khoảng 1 tuần (trong vòng nửa tháng)\n"
   ]
  },
  {
   "cell_type": "markdown",
   "metadata": {},
   "source": [
    "### Frequency - số lần nghe trong 1 ngày"
   ]
  },
  {
   "cell_type": "markdown",
   "metadata": {},
   "source": [
    "#### 1. Plot F"
   ]
  },
  {
   "cell_type": "code",
   "execution_count": 76,
   "metadata": {},
   "outputs": [
    {
     "data": {
      "text/plain": [
       "count    2638.000000\n",
       "mean        3.019317\n",
       "std         4.141072\n",
       "min         0.000000\n",
       "25%         0.728039\n",
       "50%         1.832364\n",
       "75%         3.797917\n",
       "max        61.000000\n",
       "Name: Frequency, dtype: float64"
      ]
     },
     "execution_count": 76,
     "metadata": {},
     "output_type": "execute_result"
    }
   ],
   "source": [
    "subcribe_cluster_df[\"Frequency\"].describe()"
   ]
  },
  {
   "cell_type": "code",
   "execution_count": 78,
   "metadata": {},
   "outputs": [
    {
     "data": {
      "image/png": "[encoded data removed]",
      "text/plain": [
       "<Figure size 432x288 with 1 Axes>"
      ]
     },
     "metadata": {
      "needs_background": "light"
     },
     "output_type": "display_data"
    }
   ],
   "source": [
    "sns.histplot(data=subcribe_cluster_df,x='Frequency');"
   ]
  },
  {
   "cell_type": "markdown",
   "metadata": {},
   "source": [
    "#### 2. Determine K for Frequency"
   ]
  },
  {
   "cell_type": "code",
   "execution_count": 80,
   "metadata": {},
   "outputs": [
    {
     "data": {
      "image/png": "[encoded data removed]",
      "text/plain": [
       "<Figure size 432x288 with 1 Axes>"
      ]
     },
     "metadata": {
      "needs_background": "light"
     },
     "output_type": "display_data"
    }
   ],
   "source": [
    "## Elbow Method to determine K\n",
    "\n",
    "sse = find_sse(subcribe_cluster_df.loc[:,['Frequency']], max_k = 10) \n",
    "\n",
    "plt.figure()\n",
    "plt.plot(list(sse.keys()),list(sse.values()))\n",
    "plt.xlabel(\"Number of clusters\")\n",
    "plt.show() \n",
    "\n",
    "# k_optimal  = 4"
   ]
  },
  {
   "cell_type": "markdown",
   "metadata": {},
   "source": [
    "#### 3. Frequency Clustering"
   ]
  },
  {
   "cell_type": "code",
   "execution_count": 99,
   "metadata": {},
   "outputs": [
    {
     "data": {
      "text/html": [
       "<div>\n",
       "<style scoped>\n",
       "    .dataframe tbody tr th:only-of-type {\n",
       "        vertical-align: middle;\n",
       "    }\n",
       "\n",
       "    .dataframe tbody tr th {\n",
       "        vertical-align: top;\n",
       "    }\n",
       "\n",
       "    .dataframe thead th {\n",
       "        text-align: right;\n",
       "    }\n",
       "</style>\n",
       "<table border=\"1\" class=\"dataframe\">\n",
       "  <thead>\n",
       "    <tr style=\"text-align: right;\">\n",
       "      <th></th>\n",
       "      <th>count</th>\n",
       "      <th>mean</th>\n",
       "      <th>std</th>\n",
       "      <th>min</th>\n",
       "      <th>25%</th>\n",
       "      <th>50%</th>\n",
       "      <th>75%</th>\n",
       "      <th>max</th>\n",
       "    </tr>\n",
       "    <tr>\n",
       "      <th>FrequencyCluster</th>\n",
       "      <th></th>\n",
       "      <th></th>\n",
       "      <th></th>\n",
       "      <th></th>\n",
       "      <th></th>\n",
       "      <th></th>\n",
       "      <th></th>\n",
       "      <th></th>\n",
       "    </tr>\n",
       "  </thead>\n",
       "  <tbody>\n",
       "    <tr>\n",
       "      <th>0</th>\n",
       "      <td>1886.0</td>\n",
       "      <td>1.264637</td>\n",
       "      <td>0.952291</td>\n",
       "      <td>0.000000</td>\n",
       "      <td>0.464605</td>\n",
       "      <td>1.130199</td>\n",
       "      <td>2.000000</td>\n",
       "      <td>3.322581</td>\n",
       "    </tr>\n",
       "    <tr>\n",
       "      <th>1</th>\n",
       "      <td>597.0</td>\n",
       "      <td>5.369083</td>\n",
       "      <td>1.584635</td>\n",
       "      <td>3.326531</td>\n",
       "      <td>4.000000</td>\n",
       "      <td>5.000000</td>\n",
       "      <td>6.500000</td>\n",
       "      <td>9.153846</td>\n",
       "    </tr>\n",
       "    <tr>\n",
       "      <th>2</th>\n",
       "      <td>138.0</td>\n",
       "      <td>13.076160</td>\n",
       "      <td>3.523275</td>\n",
       "      <td>9.250000</td>\n",
       "      <td>10.333333</td>\n",
       "      <td>11.802972</td>\n",
       "      <td>14.095238</td>\n",
       "      <td>23.000000</td>\n",
       "    </tr>\n",
       "    <tr>\n",
       "      <th>3</th>\n",
       "      <td>17.0</td>\n",
       "      <td>33.529412</td>\n",
       "      <td>9.449654</td>\n",
       "      <td>24.000000</td>\n",
       "      <td>27.500000</td>\n",
       "      <td>29.000000</td>\n",
       "      <td>36.000000</td>\n",
       "      <td>61.000000</td>\n",
       "    </tr>\n",
       "  </tbody>\n",
       "</table>\n",
       "</div>"
      ],
      "text/plain": [
       "                   count       mean       std        min        25%  \\\n",
       "FrequencyCluster                                                      \n",
       "0                 1886.0   1.264637  0.952291   0.000000   0.464605   \n",
       "1                  597.0   5.369083  1.584635   3.326531   4.000000   \n",
       "2                  138.0  13.076160  3.523275   9.250000  10.333333   \n",
       "3                   17.0  33.529412  9.449654  24.000000  27.500000   \n",
       "\n",
       "                        50%        75%        max  \n",
       "FrequencyCluster                                   \n",
       "0                  1.130199   2.000000   3.322581  \n",
       "1                  5.000000   6.500000   9.153846  \n",
       "2                 11.802972  14.095238  23.000000  \n",
       "3                 29.000000  36.000000  61.000000  "
      ]
     },
     "execution_count": 99,
     "metadata": {},
     "output_type": "execute_result"
    }
   ],
   "source": [
    "# ## RecencyCluster_k = 4\n",
    "k_clus = 4\n",
    "subcribe_cluster_df = run_kmean_clustering(subcribe_cluster_df,[\"Frequency\"],k_cluster=k_clus)\n",
    "\n",
    "## Sắp theo thứ tự R càng thấp thì Cluster càng cao\n",
    "subcribe_cluster_df = order_cluster('FrequencyCluster', 'Frequency',subcribe_cluster_df,True)\n",
    "subcribe_cluster_df.groupby(\"FrequencyCluster\")['Frequency'].describe()\n",
    "\n",
    "# ## see details of each cluster - Frequency"
   ]
  },
  {
   "cell_type": "markdown",
   "metadata": {},
   "source": [
    "#### 4.Summary: Frequency chia làm 4 nhóm:\n",
    "1. Nhóm 0: ít dùng : mỗi ngày khoảng 0-2 lần\n",
    "2. Nhóm 1: dùng tương đối: mỗi ngày khoảng 5-7 lần\n",
    "3. Nhóm 2: Hay dùng: mỗi ngày khoảng 10-15 lần\n",
    "4. Nhóm 3: Rất hay dùng: mỗi ngày khoảng >20 lần"
   ]
  },
  {
   "cell_type": "markdown",
   "metadata": {},
   "source": [
    "### Monetary - số tiền cho 1  order_day"
   ]
  },
  {
   "cell_type": "markdown",
   "metadata": {},
   "source": [
    "#### 1. Plot M"
   ]
  },
  {
   "cell_type": "code",
   "execution_count": 82,
   "metadata": {},
   "outputs": [
    {
     "data": {
      "text/plain": [
       "count       2638.000000\n",
       "mean      213652.095394\n",
       "std       211079.180955\n",
       "min          152.542373\n",
       "25%         9000.000000\n",
       "50%       199000.000000\n",
       "75%       276000.000000\n",
       "max      1000000.000000\n",
       "Name: Monetary, dtype: float64"
      ]
     },
     "execution_count": 82,
     "metadata": {},
     "output_type": "execute_result"
    }
   ],
   "source": [
    "subcribe_cluster_df[\"Monetary\"].describe()"
   ]
  },
  {
   "cell_type": "code",
   "execution_count": 84,
   "metadata": {
    "scrolled": true
   },
   "outputs": [
    {
     "data": {
      "image/png": "[encoded data removed]",
      "text/plain": [
       "<Figure size 432x288 with 1 Axes>"
      ]
     },
     "metadata": {
      "needs_background": "light"
     },
     "output_type": "display_data"
    }
   ],
   "source": [
    "sns.histplot(data=subcribe_cluster_df,x='Monetary');"
   ]
  },
  {
   "cell_type": "markdown",
   "metadata": {},
   "source": [
    "#### 2. Determine K for Monerary"
   ]
  },
  {
   "cell_type": "code",
   "execution_count": 85,
   "metadata": {},
   "outputs": [
    {
     "data": {
      "image/png": "[encoded data removed]",
      "text/plain": [
       "<Figure size 432x288 with 1 Axes>"
      ]
     },
     "metadata": {
      "needs_background": "light"
     },
     "output_type": "display_data"
    }
   ],
   "source": [
    "## Elbow Method to determine K\n",
    "\n",
    "sse = find_sse(subcribe_cluster_df.loc[:,['Monetary']], max_k = 10) \n",
    "\n",
    "plt.figure()\n",
    "plt.plot(list(sse.keys()),list(sse.values()))\n",
    "plt.xlabel(\"Number of clusters\")\n",
    "plt.show() \n",
    "\n",
    "# k_optimal  = 3"
   ]
  },
  {
   "cell_type": "markdown",
   "metadata": {},
   "source": [
    "#### 3. Monerary Clustering"
   ]
  },
  {
   "cell_type": "code",
   "execution_count": 100,
   "metadata": {},
   "outputs": [
    {
     "data": {
      "text/html": [
       "<div>\n",
       "<style scoped>\n",
       "    .dataframe tbody tr th:only-of-type {\n",
       "        vertical-align: middle;\n",
       "    }\n",
       "\n",
       "    .dataframe tbody tr th {\n",
       "        vertical-align: top;\n",
       "    }\n",
       "\n",
       "    .dataframe thead th {\n",
       "        text-align: right;\n",
       "    }\n",
       "</style>\n",
       "<table border=\"1\" class=\"dataframe\">\n",
       "  <thead>\n",
       "    <tr style=\"text-align: right;\">\n",
       "      <th></th>\n",
       "      <th>count</th>\n",
       "      <th>mean</th>\n",
       "      <th>std</th>\n",
       "      <th>min</th>\n",
       "      <th>25%</th>\n",
       "      <th>50%</th>\n",
       "      <th>75%</th>\n",
       "      <th>max</th>\n",
       "    </tr>\n",
       "    <tr>\n",
       "      <th>MonetaryCluster</th>\n",
       "      <th></th>\n",
       "      <th></th>\n",
       "      <th></th>\n",
       "      <th></th>\n",
       "      <th></th>\n",
       "      <th></th>\n",
       "      <th></th>\n",
       "      <th></th>\n",
       "    </tr>\n",
       "  </thead>\n",
       "  <tbody>\n",
       "    <tr>\n",
       "      <th>0</th>\n",
       "      <td>864.0</td>\n",
       "      <td>2.358037e+04</td>\n",
       "      <td>22792.780201</td>\n",
       "      <td>1058.823529</td>\n",
       "      <td>9000.0</td>\n",
       "      <td>9000.0</td>\n",
       "      <td>2.842857e+04</td>\n",
       "      <td>1.096667e+05</td>\n",
       "    </tr>\n",
       "    <tr>\n",
       "      <th>1</th>\n",
       "      <td>1169.0</td>\n",
       "      <td>1.989414e+05</td>\n",
       "      <td>43163.077340</td>\n",
       "      <td>113000.000000</td>\n",
       "      <td>168000.0</td>\n",
       "      <td>199000.0</td>\n",
       "      <td>1.990000e+05</td>\n",
       "      <td>3.740000e+05</td>\n",
       "    </tr>\n",
       "    <tr>\n",
       "      <th>2</th>\n",
       "      <td>585.0</td>\n",
       "      <td>5.595840e+05</td>\n",
       "      <td>62195.665528</td>\n",
       "      <td>390000.000000</td>\n",
       "      <td>499000.0</td>\n",
       "      <td>599000.0</td>\n",
       "      <td>5.990000e+05</td>\n",
       "      <td>7.710000e+05</td>\n",
       "    </tr>\n",
       "    <tr>\n",
       "      <th>3</th>\n",
       "      <td>20.0</td>\n",
       "      <td>1.008300e+06</td>\n",
       "      <td>130653.458874</td>\n",
       "      <td>920000.000000</td>\n",
       "      <td>920000.0</td>\n",
       "      <td>920000.0</td>\n",
       "      <td>1.198000e+06</td>\n",
       "      <td>1.207000e+06</td>\n",
       "    </tr>\n",
       "  </tbody>\n",
       "</table>\n",
       "</div>"
      ],
      "text/plain": [
       "                  count          mean            std            min       25%  \\\n",
       "MonetaryCluster                                                                 \n",
       "0                 864.0  2.358037e+04   22792.780201    1058.823529    9000.0   \n",
       "1                1169.0  1.989414e+05   43163.077340  113000.000000  168000.0   \n",
       "2                 585.0  5.595840e+05   62195.665528  390000.000000  499000.0   \n",
       "3                  20.0  1.008300e+06  130653.458874  920000.000000  920000.0   \n",
       "\n",
       "                      50%           75%           max  \n",
       "MonetaryCluster                                        \n",
       "0                  9000.0  2.842857e+04  1.096667e+05  \n",
       "1                199000.0  1.990000e+05  3.740000e+05  \n",
       "2                599000.0  5.990000e+05  7.710000e+05  \n",
       "3                920000.0  1.198000e+06  1.207000e+06  "
      ]
     },
     "execution_count": 100,
     "metadata": {},
     "output_type": "execute_result"
    }
   ],
   "source": [
    "# ## MonetaryCluster_k = 3\n",
    "k_clus = 4\n",
    "subcribe_cluster_df = run_kmean_clustering(subcribe_cluster_df,[\"Monetary\"],k_cluster=k_clus)\n",
    "\n",
    "## Sắp theo thứ tự R càng thấp thì Cluster càng cao\n",
    "subcribe_cluster_df = order_cluster('MonetaryCluster', 'Monetary',subcribe_cluster_df,True)\n",
    "subcribe_cluster_df.groupby(\"MonetaryCluster\")['Monetary'].describe()\n",
    "\n",
    "# ## see details of each cluster - Money"
   ]
  },
  {
   "cell_type": "markdown",
   "metadata": {},
   "source": [
    "#### 4.Summary: Monetary chia làm 3 nhóm:\n",
    "1. Nhóm 0: Giá trị thấp: trung bình trả 23k cho mỗi tuần theo order (0->50k)chủ yếu mua gói 9k đề dùng thử \n",
    "2. Nhóm 1: Giá trị TB: trung bình trả 190k cho mỗi tuần theo order (120k - 390k)\n",
    "3. Nhóm 2: Giá trị cao: trung bình trả gần 600k cho mỗi tuần theo order\n",
    "4. Nhóm 3: Giá trị rất cao: trung bình trả gần 1tr cho mỗi tuần theo order"
   ]
  },
  {
   "cell_type": "markdown",
   "metadata": {},
   "source": [
    "### OverallCluster:\n",
    "1. R: 3\n",
    "2. F: 4\n",
    "3. M: 4 (0,1, 2+3)"
   ]
  },
  {
   "cell_type": "code",
   "execution_count": 109,
   "metadata": {},
   "outputs": [],
   "source": [
    "subcribe_cluster_df[\"ClusterCode\"] = subcribe_cluster_df[\"RecencyCluster\"].astype(\"string\")+subcribe_cluster_df[\"FrequencyCluster\"].astype(\"string\")+subcribe_cluster_df[\"MonetaryCluster\"].astype(\"string\")"
   ]
  },
  {
   "cell_type": "code",
   "execution_count": 112,
   "metadata": {
    "collapsed": true
   },
   "outputs": [
    {
     "data": {
      "text/plain": [
       "201    517\n",
       "200    343\n",
       "202    293\n",
       "211    218\n",
       "101    201\n",
       "100    164\n",
       "000    146\n",
       "212    131\n",
       "210    114\n",
       "001     91\n",
       "102     76\n",
       "221     57\n",
       "002     37\n",
       "010     33\n",
       "111     33\n",
       "110     32\n",
       "222     22\n",
       "011     21\n",
       "220     17\n",
       "203     11\n",
       "021     11\n",
       "121     11\n",
       "112      9\n",
       "122      6\n",
       "020      6\n",
       "231      6\n",
       "012      5\n",
       "120      5\n",
       "103      4\n",
       "003      3\n",
       "130      3\n",
       "131      3\n",
       "232      3\n",
       "022      2\n",
       "213      1\n",
       "132      1\n",
       "230      1\n",
       "123      1\n",
       "Name: ClusterCode, dtype: Int64"
      ]
     },
     "execution_count": 112,
     "metadata": {},
     "output_type": "execute_result"
    }
   ],
   "source": [
    "subcribe_cluster_df[\"ClusterCode\"].value_counts()"
   ]
  },
  {
   "cell_type": "markdown",
   "metadata": {},
   "source": [
    "## 2.Free users: RFD CLUSTERING (recency - frequency - Denstity)"
   ]
  },
  {
   "cell_type": "markdown",
   "metadata": {},
   "source": [
    "### Normalize"
   ]
  },
  {
   "cell_type": "markdown",
   "metadata": {},
   "source": [
    "### 1. Recency"
   ]
  },
  {
   "cell_type": "markdown",
   "metadata": {},
   "source": [
    "#### 1. Plot R"
   ]
  },
  {
   "cell_type": "code",
   "execution_count": 114,
   "metadata": {
    "scrolled": true
   },
   "outputs": [
    {
     "data": {
      "text/plain": [
       "count    24820.000000\n",
       "mean        47.762248\n",
       "std         41.860943\n",
       "min          0.000000\n",
       "25%         13.000000\n",
       "50%         38.000000\n",
       "75%         70.000000\n",
       "max        183.000000\n",
       "Name: Recency, dtype: float64"
      ]
     },
     "execution_count": 114,
     "metadata": {},
     "output_type": "execute_result"
    }
   ],
   "source": [
    "free_cluster_df[\"Recency\"].describe()"
   ]
  },
  {
   "cell_type": "code",
   "execution_count": 116,
   "metadata": {},
   "outputs": [
    {
     "data": {
      "image/png": "[encoded data removed]",
      "text/plain": [
       "<Figure size 432x288 with 1 Axes>"
      ]
     },
     "metadata": {
      "needs_background": "light"
     },
     "output_type": "display_data"
    }
   ],
   "source": [
    "sns.histplot(data=free_cluster_df,x='Recency');"
   ]
  },
  {
   "cell_type": "markdown",
   "metadata": {},
   "source": [
    "#### 2. Determine K for Recency"
   ]
  },
  {
   "cell_type": "code",
   "execution_count": 118,
   "metadata": {},
   "outputs": [
    {
     "data": {
      "image/png": "[encoded data removed]",
      "text/plain": [
       "<Figure size 432x288 with 1 Axes>"
      ]
     },
     "metadata": {
      "needs_background": "light"
     },
     "output_type": "display_data"
    }
   ],
   "source": [
    "## Elbow Method to determine K\n",
    "\n",
    "sse = find_sse(free_cluster_df.loc[:,['Frequency']], max_k = 10) \n",
    "\n",
    "plt.figure()\n",
    "plt.plot(list(sse.keys()),list(sse.values()))\n",
    "plt.xlabel(\"Number of clusters\")\n",
    "plt.show() \n",
    "\n",
    "# k_optimal  = 5"
   ]
  },
  {
   "cell_type": "markdown",
   "metadata": {},
   "source": [
    "#### 3. Recency Clustering"
   ]
  },
  {
   "cell_type": "code",
   "execution_count": 121,
   "metadata": {},
   "outputs": [
    {
     "data": {
      "text/html": [
       "<div>\n",
       "<style scoped>\n",
       "    .dataframe tbody tr th:only-of-type {\n",
       "        vertical-align: middle;\n",
       "    }\n",
       "\n",
       "    .dataframe tbody tr th {\n",
       "        vertical-align: top;\n",
       "    }\n",
       "\n",
       "    .dataframe thead th {\n",
       "        text-align: right;\n",
       "    }\n",
       "</style>\n",
       "<table border=\"1\" class=\"dataframe\">\n",
       "  <thead>\n",
       "    <tr style=\"text-align: right;\">\n",
       "      <th></th>\n",
       "      <th>count</th>\n",
       "      <th>mean</th>\n",
       "      <th>std</th>\n",
       "      <th>min</th>\n",
       "      <th>25%</th>\n",
       "      <th>50%</th>\n",
       "      <th>75%</th>\n",
       "      <th>max</th>\n",
       "    </tr>\n",
       "    <tr>\n",
       "      <th>RecencyCluster</th>\n",
       "      <th></th>\n",
       "      <th></th>\n",
       "      <th></th>\n",
       "      <th></th>\n",
       "      <th></th>\n",
       "      <th></th>\n",
       "      <th></th>\n",
       "      <th></th>\n",
       "    </tr>\n",
       "  </thead>\n",
       "  <tbody>\n",
       "    <tr>\n",
       "      <th>0</th>\n",
       "      <td>4278.0</td>\n",
       "      <td>122.253156</td>\n",
       "      <td>20.667247</td>\n",
       "      <td>90.0</td>\n",
       "      <td>106.0</td>\n",
       "      <td>122.0</td>\n",
       "      <td>134.0</td>\n",
       "      <td>183.0</td>\n",
       "    </tr>\n",
       "    <tr>\n",
       "      <th>1</th>\n",
       "      <td>8706.0</td>\n",
       "      <td>57.672754</td>\n",
       "      <td>14.737881</td>\n",
       "      <td>36.0</td>\n",
       "      <td>45.0</td>\n",
       "      <td>56.0</td>\n",
       "      <td>68.0</td>\n",
       "      <td>89.0</td>\n",
       "    </tr>\n",
       "    <tr>\n",
       "      <th>2</th>\n",
       "      <td>11836.0</td>\n",
       "      <td>13.548581</td>\n",
       "      <td>10.582826</td>\n",
       "      <td>0.0</td>\n",
       "      <td>4.0</td>\n",
       "      <td>12.0</td>\n",
       "      <td>22.0</td>\n",
       "      <td>35.0</td>\n",
       "    </tr>\n",
       "  </tbody>\n",
       "</table>\n",
       "</div>"
      ],
      "text/plain": [
       "                  count        mean        std   min    25%    50%    75%  \\\n",
       "RecencyCluster                                                              \n",
       "0                4278.0  122.253156  20.667247  90.0  106.0  122.0  134.0   \n",
       "1                8706.0   57.672754  14.737881  36.0   45.0   56.0   68.0   \n",
       "2               11836.0   13.548581  10.582826   0.0    4.0   12.0   22.0   \n",
       "\n",
       "                  max  \n",
       "RecencyCluster         \n",
       "0               183.0  \n",
       "1                89.0  \n",
       "2                35.0  "
      ]
     },
     "execution_count": 121,
     "metadata": {},
     "output_type": "execute_result"
    }
   ],
   "source": [
    "# ## RecencyCluster_k = 3\n",
    "k_clus = 3\n",
    "free_cluster_df = run_kmean_clustering(free_cluster_df,[\"Recency\"],k_cluster=k_clus)\n",
    "\n",
    "## Sắp theo thứ tự R càng thấp thì Cluster càng cao\n",
    "free_cluster_df = order_cluster('RecencyCluster', 'Recency',free_cluster_df,False)\n",
    "free_cluster_df.groupby(\"RecencyCluster\")['Recency'].describe()\n",
    "\n",
    "# ## see details of each cluster - Frequency"
   ]
  },
  {
   "cell_type": "markdown",
   "metadata": {},
   "source": [
    "#### 4.Summary: Recency chia làm 3 nhóm:\n",
    "1. Nhóm 0: 'hibernate':  > 4 tháng //khoảng 3 tháng (từ 3-4 tháng) chưa dùng app lại\n",
    "2. Nhóm 1: 'sleep': khoảng 2 tháng //khoảng 1.5 tháng trở lại (từ 1 - 2 tháng)chưa dùng app\n",
    "3. Nhóm 2: 'active': khoảng 1 tháng //có dùng app trong khoảng 1 tháng (nửa tháng) trở lại đây"
   ]
  },
  {
   "cell_type": "markdown",
   "metadata": {},
   "source": [
    "### 2 Frequency - số lần nghe trong 1 tuần"
   ]
  },
  {
   "cell_type": "markdown",
   "metadata": {},
   "source": [
    "#### 1. Plot F"
   ]
  },
  {
   "cell_type": "code",
   "execution_count": 122,
   "metadata": {},
   "outputs": [
    {
     "data": {
      "text/plain": [
       "count    24820.000000\n",
       "mean         4.024753\n",
       "std          6.976705\n",
       "min          0.016667\n",
       "25%          1.000000\n",
       "50%          2.000000\n",
       "75%          4.868750\n",
       "max        463.000000\n",
       "Name: Frequency, dtype: float64"
      ]
     },
     "execution_count": 122,
     "metadata": {},
     "output_type": "execute_result"
    }
   ],
   "source": [
    "free_cluster_df[\"Frequency\"].describe()"
   ]
  },
  {
   "cell_type": "markdown",
   "metadata": {},
   "source": [
    "#### Nhận xét: có thể chia ra 3 cluster:\n",
    "1. Không nghe, 2. Ngày nào cũng nghe, 3. Tầng xuất nghe cao đôt biến\n",
    " * Frequency = 0, Frequency 25-80%, >80%"
   ]
  },
  {
   "cell_type": "code",
   "execution_count": 345,
   "metadata": {},
   "outputs": [
    {
     "data": {
      "text/plain": [
       "<AxesSubplot:xlabel='Frequency', ylabel='Count'>"
      ]
     },
     "execution_count": 345,
     "metadata": {},
     "output_type": "execute_result"
    },
    {
     "data": {
      "image/png": "[encoded data removed]",
      "text/plain": [
       "<Figure size 432x288 with 1 Axes>"
      ]
     },
     "metadata": {
      "needs_background": "light"
     },
     "output_type": "display_data"
    }
   ],
   "source": [
    "sns.histplot(data=free_cluster_df,x='Frequency')"
   ]
  },
  {
   "cell_type": "markdown",
   "metadata": {},
   "source": [
    "#### 2. Determine K for Frequency"
   ]
  },
  {
   "cell_type": "code",
   "execution_count": 124,
   "metadata": {},
   "outputs": [
    {
     "data": {
      "image/png": "[encoded data removed]",
      "text/plain": [
       "<Figure size 432x288 with 1 Axes>"
      ]
     },
     "metadata": {
      "needs_background": "light"
     },
     "output_type": "display_data"
    }
   ],
   "source": [
    "## Elbow Method to determine K\n",
    "\n",
    "sse = find_sse(free_cluster_df.loc[:,['Frequency']], max_k = 10) \n",
    "\n",
    "plt.figure()\n",
    "plt.plot(list(sse.keys()),list(sse.values()))\n",
    "plt.xlabel(\"Number of clusters\")\n",
    "plt.show() \n",
    "\n",
    "# k_optimal  = 4"
   ]
  },
  {
   "cell_type": "markdown",
   "metadata": {},
   "source": [
    "#### 3. Frequency Clustering"
   ]
  },
  {
   "cell_type": "code",
   "execution_count": 128,
   "metadata": {
    "scrolled": true
   },
   "outputs": [
    {
     "data": {
      "text/html": [
       "<div>\n",
       "<style scoped>\n",
       "    .dataframe tbody tr th:only-of-type {\n",
       "        vertical-align: middle;\n",
       "    }\n",
       "\n",
       "    .dataframe tbody tr th {\n",
       "        vertical-align: top;\n",
       "    }\n",
       "\n",
       "    .dataframe thead th {\n",
       "        text-align: right;\n",
       "    }\n",
       "</style>\n",
       "<table border=\"1\" class=\"dataframe\">\n",
       "  <thead>\n",
       "    <tr style=\"text-align: right;\">\n",
       "      <th></th>\n",
       "      <th>count</th>\n",
       "      <th>mean</th>\n",
       "      <th>std</th>\n",
       "      <th>min</th>\n",
       "      <th>25%</th>\n",
       "      <th>50%</th>\n",
       "      <th>75%</th>\n",
       "      <th>max</th>\n",
       "    </tr>\n",
       "    <tr>\n",
       "      <th>FrequencyCluster</th>\n",
       "      <th></th>\n",
       "      <th></th>\n",
       "      <th></th>\n",
       "      <th></th>\n",
       "      <th></th>\n",
       "      <th></th>\n",
       "      <th></th>\n",
       "      <th></th>\n",
       "    </tr>\n",
       "  </thead>\n",
       "  <tbody>\n",
       "    <tr>\n",
       "      <th>0</th>\n",
       "      <td>23551.0</td>\n",
       "      <td>2.960397</td>\n",
       "      <td>2.815551</td>\n",
       "      <td>0.016667</td>\n",
       "      <td>1.0</td>\n",
       "      <td>2.0</td>\n",
       "      <td>4.0</td>\n",
       "      <td>13.0</td>\n",
       "    </tr>\n",
       "    <tr>\n",
       "      <th>1</th>\n",
       "      <td>1267.0</td>\n",
       "      <td>23.187097</td>\n",
       "      <td>12.896546</td>\n",
       "      <td>13.193548</td>\n",
       "      <td>16.0</td>\n",
       "      <td>19.0</td>\n",
       "      <td>26.0</td>\n",
       "      <td>133.0</td>\n",
       "    </tr>\n",
       "    <tr>\n",
       "      <th>2</th>\n",
       "      <td>2.0</td>\n",
       "      <td>398.000000</td>\n",
       "      <td>91.923882</td>\n",
       "      <td>333.000000</td>\n",
       "      <td>365.5</td>\n",
       "      <td>398.0</td>\n",
       "      <td>430.5</td>\n",
       "      <td>463.0</td>\n",
       "    </tr>\n",
       "  </tbody>\n",
       "</table>\n",
       "</div>"
      ],
      "text/plain": [
       "                    count        mean        std         min    25%    50%  \\\n",
       "FrequencyCluster                                                             \n",
       "0                 23551.0    2.960397   2.815551    0.016667    1.0    2.0   \n",
       "1                  1267.0   23.187097  12.896546   13.193548   16.0   19.0   \n",
       "2                     2.0  398.000000  91.923882  333.000000  365.5  398.0   \n",
       "\n",
       "                    75%    max  \n",
       "FrequencyCluster                \n",
       "0                   4.0   13.0  \n",
       "1                  26.0  133.0  \n",
       "2                 430.5  463.0  "
      ]
     },
     "execution_count": 128,
     "metadata": {},
     "output_type": "execute_result"
    }
   ],
   "source": [
    "# ## FrequencyCluster_k = 4\n",
    "k_clus = 3 \n",
    "free_cluster_df = run_kmean_clustering(free_cluster_df,[\"Frequency\"],k_cluster=k_clus)\n",
    "\n",
    "## Sắp theo thứ tự R càng thấp thì Cluster càng cao\n",
    "free_cluster_df = order_cluster('FrequencyCluster', 'Frequency',free_cluster_df,True)\n",
    "free_cluster_df.groupby(\"FrequencyCluster\")['Frequency'].describe()\n",
    "\n",
    "# ## see details of each cluster - Frequency"
   ]
  },
  {
   "cell_type": "markdown",
   "metadata": {},
   "source": [
    "#### 4.Summary: Frequency chia làm 4 nhóm:\n",
    "1. Nhóm 0: ít dùng : dưới 0-7 lần 1 tuần (mỗi ngày nghe <= lần)\n",
    "2. Nhóm 1: Dùng mức độ tb: khoảng 35 lần 1 tuần (mỗi ngày nghe dưới 5 lần)\n",
    "3. Nhóm 2: Hay dùng: dưới 105 lần 1 tuần (mỗi ngày nghe dưới 15 lần)\n",
    "4. Nhóm 3: Rất hay dùng: khoảng 460 lần mỗi tuần (mỗi ngày nghe khoảng 70 lần trở lên)"
   ]
  },
  {
   "cell_type": "markdown",
   "metadata": {},
   "source": [
    "### 3.Density - Thời lượng cho mỗi lượt nghe (tính bằng phút)"
   ]
  },
  {
   "cell_type": "markdown",
   "metadata": {},
   "source": [
    "#### 1. Plot D"
   ]
  },
  {
   "cell_type": "code",
   "execution_count": 129,
   "metadata": {},
   "outputs": [
    {
     "data": {
      "text/plain": [
       "count    24820.000000\n",
       "mean         9.363947\n",
       "std         13.558361\n",
       "min          0.000000\n",
       "25%          1.548864\n",
       "50%          5.506039\n",
       "75%         12.426737\n",
       "max        535.300000\n",
       "Name: Density, dtype: float64"
      ]
     },
     "execution_count": 129,
     "metadata": {},
     "output_type": "execute_result"
    }
   ],
   "source": [
    "free_cluster_df[\"Density\"].describe()"
   ]
  },
  {
   "cell_type": "markdown",
   "metadata": {},
   "source": [
    "#### Nhận xét: có thể chia ra 3 cluster:\n",
    "1. Không nghe, 2. Ngày nào cũng nghe, 3. Tầng xuất nghe cao đôt biến\n",
    " * Density = 0, Frequency 25-80%, >80%"
   ]
  },
  {
   "cell_type": "code",
   "execution_count": 131,
   "metadata": {
    "scrolled": true
   },
   "outputs": [
    {
     "data": {
      "image/png": "[encoded data removed]",
      "text/plain": [
       "<Figure size 432x288 with 1 Axes>"
      ]
     },
     "metadata": {
      "needs_background": "light"
     },
     "output_type": "display_data"
    }
   ],
   "source": [
    "sns.histplot(data=free_cluster_df,x='Density');"
   ]
  },
  {
   "cell_type": "markdown",
   "metadata": {},
   "source": [
    "#### 2. Determine K for Density"
   ]
  },
  {
   "cell_type": "code",
   "execution_count": 132,
   "metadata": {},
   "outputs": [
    {
     "data": {
      "image/png": "[encoded data removed]",
      "text/plain": [
       "<Figure size 432x288 with 1 Axes>"
      ]
     },
     "metadata": {
      "needs_background": "light"
     },
     "output_type": "display_data"
    }
   ],
   "source": [
    "## Elbow Method to determine K\n",
    "\n",
    "sse = find_sse(free_cluster_df.loc[:,['Density']], max_k = 10) \n",
    "\n",
    "plt.figure()\n",
    "plt.plot(list(sse.keys()),list(sse.values()))\n",
    "plt.xlabel(\"Number of clusters\")\n",
    "plt.show() \n",
    "\n",
    "# k_optimal  = 4"
   ]
  },
  {
   "cell_type": "markdown",
   "metadata": {},
   "source": [
    "#### 3. Density Clustering"
   ]
  },
  {
   "cell_type": "code",
   "execution_count": 134,
   "metadata": {},
   "outputs": [
    {
     "data": {
      "text/html": [
       "<div>\n",
       "<style scoped>\n",
       "    .dataframe tbody tr th:only-of-type {\n",
       "        vertical-align: middle;\n",
       "    }\n",
       "\n",
       "    .dataframe tbody tr th {\n",
       "        vertical-align: top;\n",
       "    }\n",
       "\n",
       "    .dataframe thead th {\n",
       "        text-align: right;\n",
       "    }\n",
       "</style>\n",
       "<table border=\"1\" class=\"dataframe\">\n",
       "  <thead>\n",
       "    <tr style=\"text-align: right;\">\n",
       "      <th></th>\n",
       "      <th>count</th>\n",
       "      <th>mean</th>\n",
       "      <th>std</th>\n",
       "      <th>min</th>\n",
       "      <th>25%</th>\n",
       "      <th>50%</th>\n",
       "      <th>75%</th>\n",
       "      <th>max</th>\n",
       "    </tr>\n",
       "    <tr>\n",
       "      <th>DensityCluster</th>\n",
       "      <th></th>\n",
       "      <th></th>\n",
       "      <th></th>\n",
       "      <th></th>\n",
       "      <th></th>\n",
       "      <th></th>\n",
       "      <th></th>\n",
       "      <th></th>\n",
       "    </tr>\n",
       "  </thead>\n",
       "  <tbody>\n",
       "    <tr>\n",
       "      <th>0</th>\n",
       "      <td>17338.0</td>\n",
       "      <td>3.682428</td>\n",
       "      <td>3.095101</td>\n",
       "      <td>0.000000</td>\n",
       "      <td>0.950000</td>\n",
       "      <td>2.700000</td>\n",
       "      <td>6.055482</td>\n",
       "      <td>10.6500</td>\n",
       "    </tr>\n",
       "    <tr>\n",
       "      <th>1</th>\n",
       "      <td>6448.0</td>\n",
       "      <td>17.669704</td>\n",
       "      <td>5.734763</td>\n",
       "      <td>10.652778</td>\n",
       "      <td>12.943214</td>\n",
       "      <td>16.100000</td>\n",
       "      <td>21.229965</td>\n",
       "      <td>33.1375</td>\n",
       "    </tr>\n",
       "    <tr>\n",
       "      <th>2</th>\n",
       "      <td>1008.0</td>\n",
       "      <td>48.743232</td>\n",
       "      <td>16.544943</td>\n",
       "      <td>33.170833</td>\n",
       "      <td>37.338929</td>\n",
       "      <td>43.493388</td>\n",
       "      <td>54.304487</td>\n",
       "      <td>126.3000</td>\n",
       "    </tr>\n",
       "    <tr>\n",
       "      <th>3</th>\n",
       "      <td>26.0</td>\n",
       "      <td>211.530361</td>\n",
       "      <td>105.532215</td>\n",
       "      <td>133.850000</td>\n",
       "      <td>150.183333</td>\n",
       "      <td>176.816667</td>\n",
       "      <td>209.250000</td>\n",
       "      <td>535.3000</td>\n",
       "    </tr>\n",
       "  </tbody>\n",
       "</table>\n",
       "</div>"
      ],
      "text/plain": [
       "                  count        mean         std         min         25%  \\\n",
       "DensityCluster                                                            \n",
       "0               17338.0    3.682428    3.095101    0.000000    0.950000   \n",
       "1                6448.0   17.669704    5.734763   10.652778   12.943214   \n",
       "2                1008.0   48.743232   16.544943   33.170833   37.338929   \n",
       "3                  26.0  211.530361  105.532215  133.850000  150.183333   \n",
       "\n",
       "                       50%         75%       max  \n",
       "DensityCluster                                    \n",
       "0                 2.700000    6.055482   10.6500  \n",
       "1                16.100000   21.229965   33.1375  \n",
       "2                43.493388   54.304487  126.3000  \n",
       "3               176.816667  209.250000  535.3000  "
      ]
     },
     "execution_count": 134,
     "metadata": {},
     "output_type": "execute_result"
    }
   ],
   "source": [
    "# ## DensityCluster_k = 4\n",
    "k_clus = 4\n",
    "free_cluster_df = run_kmean_clustering(free_cluster_df,[\"Density\"],k_cluster=k_clus)\n",
    "\n",
    "## Sắp theo thứ tự R càng thấp thì Cluster càng cao\n",
    "free_cluster_df = order_cluster('DensityCluster', 'Density',free_cluster_df,True)\n",
    "free_cluster_df.groupby(\"DensityCluster\")['Density'].describe()\n",
    "\n",
    "# ## see details of each cluster - Frequency"
   ]
  },
  {
   "cell_type": "markdown",
   "metadata": {},
   "source": [
    "#### 4.Summary: Density chia làm 4 nhóm:\n",
    "1. Nhóm 0: mật độ thấp: trung bình khoảng 3' cho mỗi lượt nghe\n",
    "2. Nhóm 1: mật độ TB: trung bình 20' cho mỗi lượt nghe\n",
    "3. Nhóm 2: mật độ tương đối: trung bình 50' (1h) cho mỗi lượt nghe\n",
    "4. Nhóm 3: mật độ cao: trung bình 3.5h cho mỗi lượt nghe"
   ]
  },
  {
   "cell_type": "markdown",
   "metadata": {},
   "source": [
    "### OverallCluster:\n",
    "1. R: 3\n",
    "2. F: 3\n",
    "3. M: 4 (0,1, 2+3)"
   ]
  },
  {
   "cell_type": "code",
   "execution_count": 135,
   "metadata": {},
   "outputs": [],
   "source": [
    "free_cluster_df[\"ClusterCode\"] = free_cluster_df[\"RecencyCluster\"].astype(\"string\")+free_cluster_df[\"FrequencyCluster\"].astype(\"string\")+free_cluster_df[\"DensityCluster\"].astype(\"string\")"
   ]
  },
  {
   "cell_type": "code",
   "execution_count": 136,
   "metadata": {},
   "outputs": [
    {
     "data": {
      "text/plain": [
       "200    7316\n",
       "100    6169\n",
       "201    3361\n",
       "000    3058\n",
       "101    1763\n",
       "001     888\n",
       "202     521\n",
       "210     403\n",
       "102     330\n",
       "110     267\n",
       "211     204\n",
       "111     151\n",
       "010     123\n",
       "002     120\n",
       "011      81\n",
       "212      18\n",
       "112      15\n",
       "203      11\n",
       "103      10\n",
       "003       4\n",
       "012       4\n",
       "220       2\n",
       "113       1\n",
       "Name: ClusterCode, dtype: Int64"
      ]
     },
     "execution_count": 136,
     "metadata": {},
     "output_type": "execute_result"
    }
   ],
   "source": [
    "free_cluster_df[\"ClusterCode\"].value_counts()"
   ]
  },
  {
   "cell_type": "code",
   "execution_count": 139,
   "metadata": {},
   "outputs": [],
   "source": [
    "free_cluster_df.to_csv(\"data/free_cluster_df.csv\")\n",
    "subcribe_cluster_df.to_csv(\"data/subcribe_cluster_df.csv\")"
   ]
  },
  {
   "cell_type": "markdown",
   "metadata": {},
   "source": [
    "## Output dữ liệu"
   ]
  }
 ],
 "metadata": {
  "kernelspec": {
   "display_name": "Python 3",
   "language": "python",
   "name": "python3"
  },
  "language_info": {
   "codemirror_mode": {
    "name": "ipython",
    "version": 3
   },
   "file_extension": ".py",
   "mimetype": "text/x-python",
   "name": "python",
   "nbconvert_exporter": "python",
   "pygments_lexer": "ipython3",
   "version": "3.8.5"
  }
 },
 "nbformat": 4,
 "nbformat_minor": 4
}
