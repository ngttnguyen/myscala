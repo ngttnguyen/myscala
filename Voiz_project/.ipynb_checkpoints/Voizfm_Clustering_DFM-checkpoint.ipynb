{
 "cells": [
  {
   "cell_type": "code",
   "execution_count": 1,
   "metadata": {},
   "outputs": [],
   "source": [
    "import pandas as pd\n",
    "import numpy as np\n",
    "from matplotlib import pyplot as plt\n",
    "import seaborn as sns\n",
    "\n",
    "import duckdb # -> Thư viện \"giả lập\" xử lý dữ liệu bằng SQL \n",
    "from datetime import date\n",
    "from datetime import time\n",
    "from sklearn.cluster import KMeans"
   ]
  },
  {
   "cell_type": "code",
   "execution_count": 2,
   "metadata": {},
   "outputs": [],
   "source": [
    "order_detail_df = pd.read_excel(\"data/order.xlsx\", parse_dates = ['Ngày phát sinh'])\n",
    "user_df = pd.read_excel(\"data/user.xlsx\", parse_dates = ['Ngày đăng ký tài khoản'])\n",
    "listening_detail_df = pd.read_excel(\"data/listening.xlsx\")"
   ]
  },
  {
   "cell_type": "markdown",
   "metadata": {},
   "source": [
    "#### Chuyển kiểu dữ liệu"
   ]
  },
  {
   "cell_type": "code",
   "execution_count": 3,
   "metadata": {},
   "outputs": [],
   "source": [
    "# Chuyển User_ID và Order_ID sang category\n",
    "order_detail_df['Order ID'] = order_detail_df['Order ID'].astype('category')\n",
    "order_detail_df['ID của user'] = order_detail_df['ID của user'].astype('category')\n",
    "\n",
    "user_df['User ID'] = user_df['User ID'].astype('category')\n",
    "\n",
    "listening_detail_df['Playlist ID']=listening_detail_df['Playlist ID'].astype('category')\n",
    "listening_detail_df['User ID']=listening_detail_df['User ID'].astype('category')"
   ]
  },
  {
   "cell_type": "code",
   "execution_count": 4,
   "metadata": {},
   "outputs": [],
   "source": [
    "# Chuyển Ngày phát sinh lượt nghe sang kiểu dữ liệu date\n",
    "listening_detail_df[\"Ngày phát sinh lượt nghe\"] = listening_detail_df[\"Ngày phát sinh lượt nghe\"].map(\n",
    "                                        lambda x:date(int(x.split(\"-\")[2]),int(x.split(\"-\")[1]),int(x.split(\"-\")[0])))"
   ]
  },
  {
   "cell_type": "code",
   "execution_count": 5,
   "metadata": {},
   "outputs": [],
   "source": [
    "listening_detail_df[\"Ngày phát sinh lượt nghe\"] = listening_detail_df[\"Ngày phát sinh lượt nghe\"].astype(\"datetime64\")"
   ]
  },
  {
   "cell_type": "code",
   "execution_count": 6,
   "metadata": {
    "scrolled": false
   },
   "outputs": [
    {
     "data": {
      "text/html": [
       "<div>\n",
       "<style scoped>\n",
       "    .dataframe tbody tr th:only-of-type {\n",
       "        vertical-align: middle;\n",
       "    }\n",
       "\n",
       "    .dataframe tbody tr th {\n",
       "        vertical-align: top;\n",
       "    }\n",
       "\n",
       "    .dataframe thead th {\n",
       "        text-align: right;\n",
       "    }\n",
       "</style>\n",
       "<table border=\"1\" class=\"dataframe\">\n",
       "  <thead>\n",
       "    <tr style=\"text-align: right;\">\n",
       "      <th></th>\n",
       "      <th>Order ID</th>\n",
       "      <th>Ngày phát sinh</th>\n",
       "      <th>ID của user</th>\n",
       "      <th>Loại hoá đơn (9k/Xu/VIP)</th>\n",
       "      <th>Giá trị hoá đơn</th>\n",
       "    </tr>\n",
       "  </thead>\n",
       "  <tbody>\n",
       "    <tr>\n",
       "      <th>0</th>\n",
       "      <td>6706</td>\n",
       "      <td>2020-08-16</td>\n",
       "      <td>44822</td>\n",
       "      <td>VIP</td>\n",
       "      <td>199000</td>\n",
       "    </tr>\n",
       "    <tr>\n",
       "      <th>1</th>\n",
       "      <td>6998</td>\n",
       "      <td>2020-08-23</td>\n",
       "      <td>47128</td>\n",
       "      <td>VIP</td>\n",
       "      <td>199000</td>\n",
       "    </tr>\n",
       "    <tr>\n",
       "      <th>2</th>\n",
       "      <td>6927</td>\n",
       "      <td>2020-08-21</td>\n",
       "      <td>47134</td>\n",
       "      <td>VIP</td>\n",
       "      <td>199000</td>\n",
       "    </tr>\n",
       "  </tbody>\n",
       "</table>\n",
       "</div>"
      ],
      "text/plain": [
       "  Order ID Ngày phát sinh ID của user Loại hoá đơn (9k/Xu/VIP)  \\\n",
       "0     6706     2020-08-16       44822                      VIP   \n",
       "1     6998     2020-08-23       47128                      VIP   \n",
       "2     6927     2020-08-21       47134                      VIP   \n",
       "\n",
       "   Giá trị hoá đơn  \n",
       "0           199000  \n",
       "1           199000  \n",
       "2           199000  "
      ]
     },
     "execution_count": 6,
     "metadata": {},
     "output_type": "execute_result"
    }
   ],
   "source": [
    "order_detail_df.head(3)"
   ]
  },
  {
   "cell_type": "code",
   "execution_count": 7,
   "metadata": {
    "scrolled": true
   },
   "outputs": [
    {
     "data": {
      "text/html": [
       "<div>\n",
       "<style scoped>\n",
       "    .dataframe tbody tr th:only-of-type {\n",
       "        vertical-align: middle;\n",
       "    }\n",
       "\n",
       "    .dataframe tbody tr th {\n",
       "        vertical-align: top;\n",
       "    }\n",
       "\n",
       "    .dataframe thead th {\n",
       "        text-align: right;\n",
       "    }\n",
       "</style>\n",
       "<table border=\"1\" class=\"dataframe\">\n",
       "  <thead>\n",
       "    <tr style=\"text-align: right;\">\n",
       "      <th></th>\n",
       "      <th>User ID</th>\n",
       "      <th>VIP hay Free</th>\n",
       "      <th>Giới tính</th>\n",
       "      <th>Năm sinh</th>\n",
       "      <th>Việt Nam hay Nước ngoài</th>\n",
       "      <th>iOS hay Android</th>\n",
       "      <th>Ngày đăng ký tài khoản</th>\n",
       "      <th>Tổng số lượt nghe</th>\n",
       "      <th>Tổng thời lượng nghe (phút)</th>\n",
       "    </tr>\n",
       "  </thead>\n",
       "  <tbody>\n",
       "    <tr>\n",
       "      <th>0</th>\n",
       "      <td>86229</td>\n",
       "      <td>free</td>\n",
       "      <td>male</td>\n",
       "      <td>NaN</td>\n",
       "      <td>VN</td>\n",
       "      <td>android</td>\n",
       "      <td>2020-11-27</td>\n",
       "      <td>218</td>\n",
       "      <td>4151.3</td>\n",
       "    </tr>\n",
       "    <tr>\n",
       "      <th>1</th>\n",
       "      <td>48053</td>\n",
       "      <td>free</td>\n",
       "      <td>male</td>\n",
       "      <td>1995.0</td>\n",
       "      <td>VN</td>\n",
       "      <td>ios</td>\n",
       "      <td>2020-08-24</td>\n",
       "      <td>19</td>\n",
       "      <td>278.6</td>\n",
       "    </tr>\n",
       "    <tr>\n",
       "      <th>2</th>\n",
       "      <td>46340</td>\n",
       "      <td>free</td>\n",
       "      <td>male</td>\n",
       "      <td>1988.0</td>\n",
       "      <td>VN</td>\n",
       "      <td>website</td>\n",
       "      <td>2020-08-19</td>\n",
       "      <td>28</td>\n",
       "      <td>170.5</td>\n",
       "    </tr>\n",
       "  </tbody>\n",
       "</table>\n",
       "</div>"
      ],
      "text/plain": [
       "  User ID VIP hay Free Giới tính  Năm sinh Việt Nam hay Nước ngoài  \\\n",
       "0   86229         free      male       NaN                      VN   \n",
       "1   48053         free      male    1995.0                      VN   \n",
       "2   46340         free      male    1988.0                      VN   \n",
       "\n",
       "  iOS hay Android Ngày đăng ký tài khoản  Tổng số lượt nghe  \\\n",
       "0         android             2020-11-27                218   \n",
       "1             ios             2020-08-24                 19   \n",
       "2         website             2020-08-19                 28   \n",
       "\n",
       "   Tổng thời lượng nghe (phút)  \n",
       "0                       4151.3  \n",
       "1                        278.6  \n",
       "2                        170.5  "
      ]
     },
     "execution_count": 7,
     "metadata": {},
     "output_type": "execute_result"
    }
   ],
   "source": [
    "user_df.head(3)"
   ]
  },
  {
   "cell_type": "code",
   "execution_count": 8,
   "metadata": {
    "scrolled": true
   },
   "outputs": [
    {
     "data": {
      "text/html": [
       "<div>\n",
       "<style scoped>\n",
       "    .dataframe tbody tr th:only-of-type {\n",
       "        vertical-align: middle;\n",
       "    }\n",
       "\n",
       "    .dataframe tbody tr th {\n",
       "        vertical-align: top;\n",
       "    }\n",
       "\n",
       "    .dataframe thead th {\n",
       "        text-align: right;\n",
       "    }\n",
       "</style>\n",
       "<table border=\"1\" class=\"dataframe\">\n",
       "  <thead>\n",
       "    <tr style=\"text-align: right;\">\n",
       "      <th></th>\n",
       "      <th>Playlist ID</th>\n",
       "      <th>Tên playlist</th>\n",
       "      <th>Category tầng 1 của playlist</th>\n",
       "      <th>Category tầng 2 của playlist</th>\n",
       "      <th>Playlist là Free hay VIP</th>\n",
       "      <th>Thời lượng của playlist (phút)</th>\n",
       "      <th>Thời lượng của lượt nghe (phút)</th>\n",
       "      <th>User ID</th>\n",
       "      <th>Giờ phát sinh lượt nghe</th>\n",
       "      <th>Ngày phát sinh lượt nghe</th>\n",
       "    </tr>\n",
       "  </thead>\n",
       "  <tbody>\n",
       "    <tr>\n",
       "      <th>0</th>\n",
       "      <td>4529</td>\n",
       "      <td>Dạy Tiếng Anh Cho Trẻ Mầm Non</td>\n",
       "      <td>Podcast</td>\n",
       "      <td>Học ngoại ngữ</td>\n",
       "      <td>free</td>\n",
       "      <td>44.9</td>\n",
       "      <td>0.1</td>\n",
       "      <td>82846</td>\n",
       "      <td>06:05</td>\n",
       "      <td>2020-12-03</td>\n",
       "    </tr>\n",
       "    <tr>\n",
       "      <th>1</th>\n",
       "      <td>4577</td>\n",
       "      <td>Tư Duy Tích Cực - Bạn Là Những Gì Bạn Nghĩ (Nh...</td>\n",
       "      <td>Sách nói</td>\n",
       "      <td>Hạnh phúc</td>\n",
       "      <td>vip</td>\n",
       "      <td>79.8</td>\n",
       "      <td>15.9</td>\n",
       "      <td>56112</td>\n",
       "      <td>12:49</td>\n",
       "      <td>2020-10-30</td>\n",
       "    </tr>\n",
       "    <tr>\n",
       "      <th>2</th>\n",
       "      <td>4169</td>\n",
       "      <td>50 thiên thần của bạn: Giải phóng bản thân khỏ...</td>\n",
       "      <td>Sách nói</td>\n",
       "      <td>Tâm linh</td>\n",
       "      <td>vip</td>\n",
       "      <td>324.8</td>\n",
       "      <td>6.8</td>\n",
       "      <td>94362</td>\n",
       "      <td>00:17</td>\n",
       "      <td>2020-12-15</td>\n",
       "    </tr>\n",
       "  </tbody>\n",
       "</table>\n",
       "</div>"
      ],
      "text/plain": [
       "  Playlist ID                                       Tên playlist  \\\n",
       "0        4529                      Dạy Tiếng Anh Cho Trẻ Mầm Non   \n",
       "1        4577  Tư Duy Tích Cực - Bạn Là Những Gì Bạn Nghĩ (Nh...   \n",
       "2        4169  50 thiên thần của bạn: Giải phóng bản thân khỏ...   \n",
       "\n",
       "  Category tầng 1 của playlist Category tầng 2 của playlist  \\\n",
       "0                      Podcast                Học ngoại ngữ   \n",
       "1                     Sách nói                    Hạnh phúc   \n",
       "2                     Sách nói                     Tâm linh   \n",
       "\n",
       "  Playlist là Free hay VIP  Thời lượng của playlist (phút)  \\\n",
       "0                     free                            44.9   \n",
       "1                      vip                            79.8   \n",
       "2                      vip                           324.8   \n",
       "\n",
       "   Thời lượng của lượt nghe (phút) User ID Giờ phát sinh lượt nghe  \\\n",
       "0                              0.1   82846                   06:05   \n",
       "1                             15.9   56112                   12:49   \n",
       "2                              6.8   94362                   00:17   \n",
       "\n",
       "  Ngày phát sinh lượt nghe  \n",
       "0               2020-12-03  \n",
       "1               2020-10-30  \n",
       "2               2020-12-15  "
      ]
     },
     "execution_count": 8,
     "metadata": {},
     "output_type": "execute_result"
    }
   ],
   "source": [
    "listening_detail_df.head(3)"
   ]
  },
  {
   "cell_type": "code",
   "execution_count": 68,
   "metadata": {},
   "outputs": [],
   "source": [
    "# listening_detail_df.to_csv(\"data/pre_listening.csv\")"
   ]
  },
  {
   "cell_type": "code",
   "execution_count": 9,
   "metadata": {},
   "outputs": [],
   "source": [
    "# listening_detail_df.describe(include = 'all')"
   ]
  },
  {
   "cell_type": "code",
   "execution_count": 10,
   "metadata": {},
   "outputs": [],
   "source": [
    "# order_detail_df.describe(include = 'all')"
   ]
  },
  {
   "cell_type": "code",
   "execution_count": 11,
   "metadata": {},
   "outputs": [],
   "source": [
    "# user_df.describe(include = 'all')"
   ]
  },
  {
   "cell_type": "markdown",
   "metadata": {},
   "source": [
    "#### Khảo sát về sự consistence của các USER_ID trong các file"
   ]
  },
  {
   "cell_type": "code",
   "execution_count": 13,
   "metadata": {},
   "outputs": [
    {
     "name": "stdout",
     "output_type": "stream",
     "text": [
      "số lượng user trong hệ thống và những user đã order:\n",
      "66146, 2638\n",
      "số lượng user đã Không order và những user đã order mà không có trong danh sách:\n",
      "63508, 0\n",
      "số lượng user đã listen và nhưng không có trong danh sách:0\n",
      "số lượng user đã order nhưng không listen:275\n",
      "số lượng user đã listen nhưng không order:24820\n"
     ]
    }
   ],
   "source": [
    "order_userID = order_detail_df['ID của user'].unique()\n",
    "userID = user_df['User ID'].unique()\n",
    "listen_userID = listening_detail_df['User ID'].unique()\n",
    "\n",
    "un_ordered_user = [item for item in userID if item not in order_userID]\n",
    "ordered_ex_user = [item for item in order_userID if item not in userID]\n",
    "\n",
    "listen_not_in_user = [item for item in listen_userID if item not in userID]\n",
    "order_not_in_listen_user = [item for item in order_userID if item  not in listen_userID]\n",
    "listen_not_in_order_user = [item for item in listen_userID if item  not in order_userID]\n",
    "\n",
    "print(\"số lượng user trong hệ thống và những user đã order:\")\n",
    "print(str(userID.shape[0]) +', '+str(order_userID.shape[0]))\n",
    "print(\"số lượng user đã Không order và những user đã order mà không có trong danh sách:\")\n",
    "print(str(len(un_ordered_user)) +', '+str(len(ordered_ex_user)))\n",
    "print(\"số lượng user đã listen và nhưng không có trong danh sách:\" +str(len(listen_not_in_user)))\n",
    "print(\"số lượng user đã order nhưng không listen:\" +str(len(order_not_in_listen_user)))\n",
    "print(\"số lượng user đã listen nhưng không order:\" +str(len(listen_not_in_order_user)))"
   ]
  },
  {
   "cell_type": "markdown",
   "metadata": {},
   "source": [
    "##### Xem những người có order mà ko listen hay mua gì"
   ]
  },
  {
   "cell_type": "code",
   "execution_count": 15,
   "metadata": {},
   "outputs": [
    {
     "name": "stderr",
     "output_type": "stream",
     "text": [
      "<ipython-input-15-bf11b086a8e0>:2: FutureWarning: Treating datetime data as categorical rather than numeric in `.describe` is deprecated and will be removed in a future version of pandas. Specify `datetime_is_numeric=True` to silence this warning and adopt the future behavior now.\n",
      "  listen_not_in_order_user_df.describe(include = 'all')\n"
     ]
    },
    {
     "data": {
      "text/html": [
       "<div>\n",
       "<style scoped>\n",
       "    .dataframe tbody tr th:only-of-type {\n",
       "        vertical-align: middle;\n",
       "    }\n",
       "\n",
       "    .dataframe tbody tr th {\n",
       "        vertical-align: top;\n",
       "    }\n",
       "\n",
       "    .dataframe thead th {\n",
       "        text-align: right;\n",
       "    }\n",
       "</style>\n",
       "<table border=\"1\" class=\"dataframe\">\n",
       "  <thead>\n",
       "    <tr style=\"text-align: right;\">\n",
       "      <th></th>\n",
       "      <th>Order ID</th>\n",
       "      <th>Ngày phát sinh</th>\n",
       "      <th>ID của user</th>\n",
       "      <th>Loại hoá đơn (9k/Xu/VIP)</th>\n",
       "      <th>Giá trị hoá đơn</th>\n",
       "    </tr>\n",
       "  </thead>\n",
       "  <tbody>\n",
       "    <tr>\n",
       "      <th>count</th>\n",
       "      <td>330.0</td>\n",
       "      <td>330</td>\n",
       "      <td>330.0</td>\n",
       "      <td>330</td>\n",
       "      <td>330.000000</td>\n",
       "    </tr>\n",
       "    <tr>\n",
       "      <th>unique</th>\n",
       "      <td>328.0</td>\n",
       "      <td>119</td>\n",
       "      <td>275.0</td>\n",
       "      <td>3</td>\n",
       "      <td>NaN</td>\n",
       "    </tr>\n",
       "    <tr>\n",
       "      <th>top</th>\n",
       "      <td>1387.0</td>\n",
       "      <td>2020-12-29 00:00:00</td>\n",
       "      <td>94352.0</td>\n",
       "      <td>9K</td>\n",
       "      <td>NaN</td>\n",
       "    </tr>\n",
       "    <tr>\n",
       "      <th>freq</th>\n",
       "      <td>2.0</td>\n",
       "      <td>12</td>\n",
       "      <td>6.0</td>\n",
       "      <td>118</td>\n",
       "      <td>NaN</td>\n",
       "    </tr>\n",
       "    <tr>\n",
       "      <th>first</th>\n",
       "      <td>NaN</td>\n",
       "      <td>2020-07-17 00:00:00</td>\n",
       "      <td>NaN</td>\n",
       "      <td>NaN</td>\n",
       "      <td>NaN</td>\n",
       "    </tr>\n",
       "    <tr>\n",
       "      <th>last</th>\n",
       "      <td>NaN</td>\n",
       "      <td>2020-12-31 00:00:00</td>\n",
       "      <td>NaN</td>\n",
       "      <td>NaN</td>\n",
       "      <td>NaN</td>\n",
       "    </tr>\n",
       "    <tr>\n",
       "      <th>mean</th>\n",
       "      <td>NaN</td>\n",
       "      <td>NaN</td>\n",
       "      <td>NaN</td>\n",
       "      <td>NaN</td>\n",
       "      <td>148703.030303</td>\n",
       "    </tr>\n",
       "    <tr>\n",
       "      <th>std</th>\n",
       "      <td>NaN</td>\n",
       "      <td>NaN</td>\n",
       "      <td>NaN</td>\n",
       "      <td>NaN</td>\n",
       "      <td>186912.661829</td>\n",
       "    </tr>\n",
       "    <tr>\n",
       "      <th>min</th>\n",
       "      <td>NaN</td>\n",
       "      <td>NaN</td>\n",
       "      <td>NaN</td>\n",
       "      <td>NaN</td>\n",
       "      <td>9000.000000</td>\n",
       "    </tr>\n",
       "    <tr>\n",
       "      <th>25%</th>\n",
       "      <td>NaN</td>\n",
       "      <td>NaN</td>\n",
       "      <td>NaN</td>\n",
       "      <td>NaN</td>\n",
       "      <td>9000.000000</td>\n",
       "    </tr>\n",
       "    <tr>\n",
       "      <th>50%</th>\n",
       "      <td>NaN</td>\n",
       "      <td>NaN</td>\n",
       "      <td>NaN</td>\n",
       "      <td>NaN</td>\n",
       "      <td>45000.000000</td>\n",
       "    </tr>\n",
       "    <tr>\n",
       "      <th>75%</th>\n",
       "      <td>NaN</td>\n",
       "      <td>NaN</td>\n",
       "      <td>NaN</td>\n",
       "      <td>NaN</td>\n",
       "      <td>199000.000000</td>\n",
       "    </tr>\n",
       "    <tr>\n",
       "      <th>max</th>\n",
       "      <td>NaN</td>\n",
       "      <td>NaN</td>\n",
       "      <td>NaN</td>\n",
       "      <td>NaN</td>\n",
       "      <td>920000.000000</td>\n",
       "    </tr>\n",
       "  </tbody>\n",
       "</table>\n",
       "</div>"
      ],
      "text/plain": [
       "        Order ID       Ngày phát sinh  ID của user Loại hoá đơn (9k/Xu/VIP)  \\\n",
       "count      330.0                  330        330.0                      330   \n",
       "unique     328.0                  119        275.0                        3   \n",
       "top       1387.0  2020-12-29 00:00:00      94352.0                       9K   \n",
       "freq         2.0                   12          6.0                      118   \n",
       "first        NaN  2020-07-17 00:00:00          NaN                      NaN   \n",
       "last         NaN  2020-12-31 00:00:00          NaN                      NaN   \n",
       "mean         NaN                  NaN          NaN                      NaN   \n",
       "std          NaN                  NaN          NaN                      NaN   \n",
       "min          NaN                  NaN          NaN                      NaN   \n",
       "25%          NaN                  NaN          NaN                      NaN   \n",
       "50%          NaN                  NaN          NaN                      NaN   \n",
       "75%          NaN                  NaN          NaN                      NaN   \n",
       "max          NaN                  NaN          NaN                      NaN   \n",
       "\n",
       "        Giá trị hoá đơn  \n",
       "count        330.000000  \n",
       "unique              NaN  \n",
       "top                 NaN  \n",
       "freq                NaN  \n",
       "first               NaN  \n",
       "last                NaN  \n",
       "mean      148703.030303  \n",
       "std       186912.661829  \n",
       "min         9000.000000  \n",
       "25%         9000.000000  \n",
       "50%        45000.000000  \n",
       "75%       199000.000000  \n",
       "max       920000.000000  "
      ]
     },
     "execution_count": 15,
     "metadata": {},
     "output_type": "execute_result"
    }
   ],
   "source": [
    "listen_not_in_order_user_df = order_detail_df[~order_detail_df['ID của user'].isin(listening_detail_df['User ID'])]\n",
    "listen_not_in_order_user_df.describe(include = 'all')"
   ]
  },
  {
   "cell_type": "code",
   "execution_count": 16,
   "metadata": {},
   "outputs": [
    {
     "data": {
      "text/plain": [
       "9K     118\n",
       "VIP    115\n",
       "XU      97\n",
       "Name: Loại hoá đơn (9k/Xu/VIP), dtype: int64"
      ]
     },
     "execution_count": 16,
     "metadata": {},
     "output_type": "execute_result"
    }
   ],
   "source": [
    "listen_not_in_order_user_df[\"Loại hoá đơn (9k/Xu/VIP)\"].value_counts()"
   ]
  },
  {
   "cell_type": "markdown",
   "metadata": {},
   "source": [
    "## Xét ORDERs"
   ]
  },
  {
   "cell_type": "code",
   "execution_count": 17,
   "metadata": {},
   "outputs": [
    {
     "data": {
      "text/html": [
       "<div>\n",
       "<style scoped>\n",
       "    .dataframe tbody tr th:only-of-type {\n",
       "        vertical-align: middle;\n",
       "    }\n",
       "\n",
       "    .dataframe tbody tr th {\n",
       "        vertical-align: top;\n",
       "    }\n",
       "\n",
       "    .dataframe thead th {\n",
       "        text-align: right;\n",
       "    }\n",
       "</style>\n",
       "<table border=\"1\" class=\"dataframe\">\n",
       "  <thead>\n",
       "    <tr style=\"text-align: right;\">\n",
       "      <th></th>\n",
       "      <th>Order ID</th>\n",
       "      <th>Ngày phát sinh</th>\n",
       "      <th>ID của user</th>\n",
       "      <th>Loại hoá đơn (9k/Xu/VIP)</th>\n",
       "      <th>Giá trị hoá đơn</th>\n",
       "    </tr>\n",
       "  </thead>\n",
       "  <tbody>\n",
       "    <tr>\n",
       "      <th>0</th>\n",
       "      <td>6706</td>\n",
       "      <td>2020-08-16</td>\n",
       "      <td>44822</td>\n",
       "      <td>VIP</td>\n",
       "      <td>199000</td>\n",
       "    </tr>\n",
       "    <tr>\n",
       "      <th>1</th>\n",
       "      <td>6998</td>\n",
       "      <td>2020-08-23</td>\n",
       "      <td>47128</td>\n",
       "      <td>VIP</td>\n",
       "      <td>199000</td>\n",
       "    </tr>\n",
       "    <tr>\n",
       "      <th>2</th>\n",
       "      <td>6927</td>\n",
       "      <td>2020-08-21</td>\n",
       "      <td>47134</td>\n",
       "      <td>VIP</td>\n",
       "      <td>199000</td>\n",
       "    </tr>\n",
       "  </tbody>\n",
       "</table>\n",
       "</div>"
      ],
      "text/plain": [
       "  Order ID Ngày phát sinh ID của user Loại hoá đơn (9k/Xu/VIP)  \\\n",
       "0     6706     2020-08-16       44822                      VIP   \n",
       "1     6998     2020-08-23       47128                      VIP   \n",
       "2     6927     2020-08-21       47134                      VIP   \n",
       "\n",
       "   Giá trị hoá đơn  \n",
       "0           199000  \n",
       "1           199000  \n",
       "2           199000  "
      ]
     },
     "execution_count": 17,
     "metadata": {},
     "output_type": "execute_result"
    }
   ],
   "source": [
    "order_detail_df.head(3)"
   ]
  },
  {
   "cell_type": "code",
   "execution_count": 18,
   "metadata": {
    "scrolled": false
   },
   "outputs": [
    {
     "name": "stderr",
     "output_type": "stream",
     "text": [
      "<ipython-input-18-7286a38dba60>:1: FutureWarning: Treating datetime data as categorical rather than numeric in `.describe` is deprecated and will be removed in a future version of pandas. Specify `datetime_is_numeric=True` to silence this warning and adopt the future behavior now.\n",
      "  order_detail_df.describe(include = 'all')\n"
     ]
    },
    {
     "data": {
      "text/html": [
       "<div>\n",
       "<style scoped>\n",
       "    .dataframe tbody tr th:only-of-type {\n",
       "        vertical-align: middle;\n",
       "    }\n",
       "\n",
       "    .dataframe tbody tr th {\n",
       "        vertical-align: top;\n",
       "    }\n",
       "\n",
       "    .dataframe thead th {\n",
       "        text-align: right;\n",
       "    }\n",
       "</style>\n",
       "<table border=\"1\" class=\"dataframe\">\n",
       "  <thead>\n",
       "    <tr style=\"text-align: right;\">\n",
       "      <th></th>\n",
       "      <th>Order ID</th>\n",
       "      <th>Ngày phát sinh</th>\n",
       "      <th>ID của user</th>\n",
       "      <th>Loại hoá đơn (9k/Xu/VIP)</th>\n",
       "      <th>Giá trị hoá đơn</th>\n",
       "    </tr>\n",
       "  </thead>\n",
       "  <tbody>\n",
       "    <tr>\n",
       "      <th>count</th>\n",
       "      <td>3575.0</td>\n",
       "      <td>3575</td>\n",
       "      <td>3575.0</td>\n",
       "      <td>3575</td>\n",
       "      <td>3575.000000</td>\n",
       "    </tr>\n",
       "    <tr>\n",
       "      <th>unique</th>\n",
       "      <td>3376.0</td>\n",
       "      <td>163</td>\n",
       "      <td>2638.0</td>\n",
       "      <td>3</td>\n",
       "      <td>NaN</td>\n",
       "    </tr>\n",
       "    <tr>\n",
       "      <th>top</th>\n",
       "      <td>1034.0</td>\n",
       "      <td>2020-12-22 00:00:00</td>\n",
       "      <td>54530.0</td>\n",
       "      <td>VIP</td>\n",
       "      <td>NaN</td>\n",
       "    </tr>\n",
       "    <tr>\n",
       "      <th>freq</th>\n",
       "      <td>2.0</td>\n",
       "      <td>63</td>\n",
       "      <td>10.0</td>\n",
       "      <td>1994</td>\n",
       "      <td>NaN</td>\n",
       "    </tr>\n",
       "    <tr>\n",
       "      <th>first</th>\n",
       "      <td>NaN</td>\n",
       "      <td>2020-07-11 00:00:00</td>\n",
       "      <td>NaN</td>\n",
       "      <td>NaN</td>\n",
       "      <td>NaN</td>\n",
       "    </tr>\n",
       "    <tr>\n",
       "      <th>last</th>\n",
       "      <td>NaN</td>\n",
       "      <td>2020-12-31 00:00:00</td>\n",
       "      <td>NaN</td>\n",
       "      <td>NaN</td>\n",
       "      <td>NaN</td>\n",
       "    </tr>\n",
       "    <tr>\n",
       "      <th>mean</th>\n",
       "      <td>NaN</td>\n",
       "      <td>NaN</td>\n",
       "      <td>NaN</td>\n",
       "      <td>NaN</td>\n",
       "      <td>200388.531469</td>\n",
       "    </tr>\n",
       "    <tr>\n",
       "      <th>std</th>\n",
       "      <td>NaN</td>\n",
       "      <td>NaN</td>\n",
       "      <td>NaN</td>\n",
       "      <td>NaN</td>\n",
       "      <td>201772.322982</td>\n",
       "    </tr>\n",
       "    <tr>\n",
       "      <th>min</th>\n",
       "      <td>NaN</td>\n",
       "      <td>NaN</td>\n",
       "      <td>NaN</td>\n",
       "      <td>NaN</td>\n",
       "      <td>6000.000000</td>\n",
       "    </tr>\n",
       "    <tr>\n",
       "      <th>25%</th>\n",
       "      <td>NaN</td>\n",
       "      <td>NaN</td>\n",
       "      <td>NaN</td>\n",
       "      <td>NaN</td>\n",
       "      <td>9000.000000</td>\n",
       "    </tr>\n",
       "    <tr>\n",
       "      <th>50%</th>\n",
       "      <td>NaN</td>\n",
       "      <td>NaN</td>\n",
       "      <td>NaN</td>\n",
       "      <td>NaN</td>\n",
       "      <td>199000.000000</td>\n",
       "    </tr>\n",
       "    <tr>\n",
       "      <th>75%</th>\n",
       "      <td>NaN</td>\n",
       "      <td>NaN</td>\n",
       "      <td>NaN</td>\n",
       "      <td>NaN</td>\n",
       "      <td>199000.000000</td>\n",
       "    </tr>\n",
       "    <tr>\n",
       "      <th>max</th>\n",
       "      <td>NaN</td>\n",
       "      <td>NaN</td>\n",
       "      <td>NaN</td>\n",
       "      <td>NaN</td>\n",
       "      <td>1000000.000000</td>\n",
       "    </tr>\n",
       "  </tbody>\n",
       "</table>\n",
       "</div>"
      ],
      "text/plain": [
       "        Order ID       Ngày phát sinh  ID của user Loại hoá đơn (9k/Xu/VIP)  \\\n",
       "count     3575.0                 3575       3575.0                     3575   \n",
       "unique    3376.0                  163       2638.0                        3   \n",
       "top       1034.0  2020-12-22 00:00:00      54530.0                      VIP   \n",
       "freq         2.0                   63         10.0                     1994   \n",
       "first        NaN  2020-07-11 00:00:00          NaN                      NaN   \n",
       "last         NaN  2020-12-31 00:00:00          NaN                      NaN   \n",
       "mean         NaN                  NaN          NaN                      NaN   \n",
       "std          NaN                  NaN          NaN                      NaN   \n",
       "min          NaN                  NaN          NaN                      NaN   \n",
       "25%          NaN                  NaN          NaN                      NaN   \n",
       "50%          NaN                  NaN          NaN                      NaN   \n",
       "75%          NaN                  NaN          NaN                      NaN   \n",
       "max          NaN                  NaN          NaN                      NaN   \n",
       "\n",
       "        Giá trị hoá đơn  \n",
       "count       3575.000000  \n",
       "unique              NaN  \n",
       "top                 NaN  \n",
       "freq                NaN  \n",
       "first               NaN  \n",
       "last                NaN  \n",
       "mean      200388.531469  \n",
       "std       201772.322982  \n",
       "min         6000.000000  \n",
       "25%         9000.000000  \n",
       "50%       199000.000000  \n",
       "75%       199000.000000  \n",
       "max      1000000.000000  "
      ]
     },
     "execution_count": 18,
     "metadata": {},
     "output_type": "execute_result"
    }
   ],
   "source": [
    "order_detail_df.describe(include = 'all')"
   ]
  },
  {
   "cell_type": "markdown",
   "metadata": {},
   "source": [
    "##### Cắt nhỏ giá trị order_date"
   ]
  },
  {
   "cell_type": "code",
   "execution_count": 19,
   "metadata": {},
   "outputs": [
    {
     "data": {
      "text/html": [
       "<div>\n",
       "<style scoped>\n",
       "    .dataframe tbody tr th:only-of-type {\n",
       "        vertical-align: middle;\n",
       "    }\n",
       "\n",
       "    .dataframe tbody tr th {\n",
       "        vertical-align: top;\n",
       "    }\n",
       "\n",
       "    .dataframe thead th {\n",
       "        text-align: right;\n",
       "    }\n",
       "</style>\n",
       "<table border=\"1\" class=\"dataframe\">\n",
       "  <thead>\n",
       "    <tr style=\"text-align: right;\">\n",
       "      <th></th>\n",
       "      <th>Order ID</th>\n",
       "      <th>Ngày phát sinh</th>\n",
       "      <th>ID của user</th>\n",
       "      <th>Loại hoá đơn (9k/Xu/VIP)</th>\n",
       "      <th>Giá trị hoá đơn</th>\n",
       "      <th>order_year</th>\n",
       "      <th>order_month</th>\n",
       "      <th>order_day</th>\n",
       "      <th>order_weekday</th>\n",
       "    </tr>\n",
       "  </thead>\n",
       "  <tbody>\n",
       "    <tr>\n",
       "      <th>0</th>\n",
       "      <td>6706</td>\n",
       "      <td>2020-08-16</td>\n",
       "      <td>44822</td>\n",
       "      <td>VIP</td>\n",
       "      <td>199000</td>\n",
       "      <td>2020</td>\n",
       "      <td>08</td>\n",
       "      <td>16</td>\n",
       "      <td>Sunday</td>\n",
       "    </tr>\n",
       "    <tr>\n",
       "      <th>1</th>\n",
       "      <td>6998</td>\n",
       "      <td>2020-08-23</td>\n",
       "      <td>47128</td>\n",
       "      <td>VIP</td>\n",
       "      <td>199000</td>\n",
       "      <td>2020</td>\n",
       "      <td>08</td>\n",
       "      <td>23</td>\n",
       "      <td>Sunday</td>\n",
       "    </tr>\n",
       "    <tr>\n",
       "      <th>2</th>\n",
       "      <td>6927</td>\n",
       "      <td>2020-08-21</td>\n",
       "      <td>47134</td>\n",
       "      <td>VIP</td>\n",
       "      <td>199000</td>\n",
       "      <td>2020</td>\n",
       "      <td>08</td>\n",
       "      <td>21</td>\n",
       "      <td>Friday</td>\n",
       "    </tr>\n",
       "  </tbody>\n",
       "</table>\n",
       "</div>"
      ],
      "text/plain": [
       "  Order ID Ngày phát sinh ID của user Loại hoá đơn (9k/Xu/VIP)  \\\n",
       "0     6706     2020-08-16       44822                      VIP   \n",
       "1     6998     2020-08-23       47128                      VIP   \n",
       "2     6927     2020-08-21       47134                      VIP   \n",
       "\n",
       "   Giá trị hoá đơn order_year order_month order_day order_weekday  \n",
       "0           199000       2020          08        16        Sunday  \n",
       "1           199000       2020          08        23        Sunday  \n",
       "2           199000       2020          08        21        Friday  "
      ]
     },
     "execution_count": 19,
     "metadata": {},
     "output_type": "execute_result"
    }
   ],
   "source": [
    "order_detail_df['order_year'] = order_detail_df['Ngày phát sinh'].map(lambda x: x.strftime('%Y'))\n",
    "order_detail_df['order_month'] = order_detail_df['Ngày phát sinh'].map(lambda x: x.strftime('%m'))\n",
    "order_detail_df['order_day'] = order_detail_df['Ngày phát sinh'].map(lambda x: x.strftime('%d'))\n",
    "order_detail_df['order_weekday'] = order_detail_df['Ngày phát sinh'].map(lambda x: x.strftime('%A'))\n",
    "order_detail_df.head(3)"
   ]
  },
  {
   "cell_type": "markdown",
   "metadata": {},
   "source": [
    "## Xét Listenings"
   ]
  },
  {
   "cell_type": "code",
   "execution_count": 20,
   "metadata": {},
   "outputs": [
    {
     "data": {
      "text/html": [
       "<div>\n",
       "<style scoped>\n",
       "    .dataframe tbody tr th:only-of-type {\n",
       "        vertical-align: middle;\n",
       "    }\n",
       "\n",
       "    .dataframe tbody tr th {\n",
       "        vertical-align: top;\n",
       "    }\n",
       "\n",
       "    .dataframe thead th {\n",
       "        text-align: right;\n",
       "    }\n",
       "</style>\n",
       "<table border=\"1\" class=\"dataframe\">\n",
       "  <thead>\n",
       "    <tr style=\"text-align: right;\">\n",
       "      <th></th>\n",
       "      <th>Playlist ID</th>\n",
       "      <th>Tên playlist</th>\n",
       "      <th>Category tầng 1 của playlist</th>\n",
       "      <th>Category tầng 2 của playlist</th>\n",
       "      <th>Playlist là Free hay VIP</th>\n",
       "      <th>Thời lượng của playlist (phút)</th>\n",
       "      <th>Thời lượng của lượt nghe (phút)</th>\n",
       "      <th>User ID</th>\n",
       "      <th>Giờ phát sinh lượt nghe</th>\n",
       "      <th>Ngày phát sinh lượt nghe</th>\n",
       "    </tr>\n",
       "  </thead>\n",
       "  <tbody>\n",
       "    <tr>\n",
       "      <th>0</th>\n",
       "      <td>4529</td>\n",
       "      <td>Dạy Tiếng Anh Cho Trẻ Mầm Non</td>\n",
       "      <td>Podcast</td>\n",
       "      <td>Học ngoại ngữ</td>\n",
       "      <td>free</td>\n",
       "      <td>44.9</td>\n",
       "      <td>0.1</td>\n",
       "      <td>82846</td>\n",
       "      <td>06:05</td>\n",
       "      <td>2020-12-03</td>\n",
       "    </tr>\n",
       "    <tr>\n",
       "      <th>1</th>\n",
       "      <td>4577</td>\n",
       "      <td>Tư Duy Tích Cực - Bạn Là Những Gì Bạn Nghĩ (Nh...</td>\n",
       "      <td>Sách nói</td>\n",
       "      <td>Hạnh phúc</td>\n",
       "      <td>vip</td>\n",
       "      <td>79.8</td>\n",
       "      <td>15.9</td>\n",
       "      <td>56112</td>\n",
       "      <td>12:49</td>\n",
       "      <td>2020-10-30</td>\n",
       "    </tr>\n",
       "    <tr>\n",
       "      <th>2</th>\n",
       "      <td>4169</td>\n",
       "      <td>50 thiên thần của bạn: Giải phóng bản thân khỏ...</td>\n",
       "      <td>Sách nói</td>\n",
       "      <td>Tâm linh</td>\n",
       "      <td>vip</td>\n",
       "      <td>324.8</td>\n",
       "      <td>6.8</td>\n",
       "      <td>94362</td>\n",
       "      <td>00:17</td>\n",
       "      <td>2020-12-15</td>\n",
       "    </tr>\n",
       "  </tbody>\n",
       "</table>\n",
       "</div>"
      ],
      "text/plain": [
       "  Playlist ID                                       Tên playlist  \\\n",
       "0        4529                      Dạy Tiếng Anh Cho Trẻ Mầm Non   \n",
       "1        4577  Tư Duy Tích Cực - Bạn Là Những Gì Bạn Nghĩ (Nh...   \n",
       "2        4169  50 thiên thần của bạn: Giải phóng bản thân khỏ...   \n",
       "\n",
       "  Category tầng 1 của playlist Category tầng 2 của playlist  \\\n",
       "0                      Podcast                Học ngoại ngữ   \n",
       "1                     Sách nói                    Hạnh phúc   \n",
       "2                     Sách nói                     Tâm linh   \n",
       "\n",
       "  Playlist là Free hay VIP  Thời lượng của playlist (phút)  \\\n",
       "0                     free                            44.9   \n",
       "1                      vip                            79.8   \n",
       "2                      vip                           324.8   \n",
       "\n",
       "   Thời lượng của lượt nghe (phút) User ID Giờ phát sinh lượt nghe  \\\n",
       "0                              0.1   82846                   06:05   \n",
       "1                             15.9   56112                   12:49   \n",
       "2                              6.8   94362                   00:17   \n",
       "\n",
       "  Ngày phát sinh lượt nghe  \n",
       "0               2020-12-03  \n",
       "1               2020-10-30  \n",
       "2               2020-12-15  "
      ]
     },
     "execution_count": 20,
     "metadata": {},
     "output_type": "execute_result"
    }
   ],
   "source": [
    "listening_detail_df.head(3)"
   ]
  },
  {
   "cell_type": "markdown",
   "metadata": {},
   "source": [
    "# CLUSTERING"
   ]
  },
  {
   "cell_type": "code",
   "execution_count": null,
   "metadata": {},
   "outputs": [],
   "source": [
    "## Ta đi từ bảng listenning và bảng order\n",
    "## Có 2 clustering DFM và RFM\n",
    "## D1: The listening duration / 1 listen(view)\n",
    "## D2: The listening duration / a week\n",
    "## R: The lastest active day\n",
    "\n",
    "## F: số lượng lượt nghe/1 week\n",
    "## M : số tiền bỏ ra / 1 week"
   ]
  },
  {
   "cell_type": "code",
   "execution_count": 64,
   "metadata": {},
   "outputs": [],
   "source": [
    "# for Ebowl\n",
    "def find_sse(df, max_k):\n",
    "    sse = {}\n",
    "    for k in range(1, max_k):\n",
    "        kmeans = KMeans(n_clusters=k, max_iter=1000)\n",
    "        kmeans.fit(df)\n",
    "        df['clusters'] = kmeans.labels_\n",
    "        sse[k] = kmeans.inertia_\n",
    "    return sse\n",
    "   \n",
    "## function for ordering cluster numbers\n",
    "def order_cluster(cluster_field_name, target_field_name, df, ascending):\n",
    "    new_cluster_field_name = 'new_' + cluster_field_name\n",
    "    df_new = df.groupby(cluster_field_name)[target_field_name].mean().reset_index()\n",
    "    df_new = df_new.sort_values(by=target_field_name,ascending=ascending).reset_index(drop=True)\n",
    "    df_new['index'] = df_new.index\n",
    "    df_final = pd.merge(df,df_new[[cluster_field_name,'index']], on=cluster_field_name)\n",
    "    df_final = df_final.drop([cluster_field_name],axis=1)\n",
    "    df_final = df_final.rename(columns={\"index\":cluster_field_name})\n",
    "    return df_final"
   ]
  },
  {
   "cell_type": "markdown",
   "metadata": {},
   "source": [
    "## PRE_PROCESS data"
   ]
  },
  {
   "cell_type": "code",
   "execution_count": 25,
   "metadata": {},
   "outputs": [
    {
     "data": {
      "text/html": [
       "<div>\n",
       "<style scoped>\n",
       "    .dataframe tbody tr th:only-of-type {\n",
       "        vertical-align: middle;\n",
       "    }\n",
       "\n",
       "    .dataframe tbody tr th {\n",
       "        vertical-align: top;\n",
       "    }\n",
       "\n",
       "    .dataframe thead th {\n",
       "        text-align: right;\n",
       "    }\n",
       "</style>\n",
       "<table border=\"1\" class=\"dataframe\">\n",
       "  <thead>\n",
       "    <tr style=\"text-align: right;\">\n",
       "      <th></th>\n",
       "      <th>User_ID</th>\n",
       "      <th>min_purchase_date</th>\n",
       "      <th>max_purchase_date</th>\n",
       "      <th>order_cnt</th>\n",
       "      <th>revenue</th>\n",
       "    </tr>\n",
       "  </thead>\n",
       "  <tbody>\n",
       "    <tr>\n",
       "      <th>0</th>\n",
       "      <td>40843</td>\n",
       "      <td>2020-09-15</td>\n",
       "      <td>2020-10-21</td>\n",
       "      <td>3</td>\n",
       "      <td>27000</td>\n",
       "    </tr>\n",
       "    <tr>\n",
       "      <th>1</th>\n",
       "      <td>40861</td>\n",
       "      <td>2020-09-09</td>\n",
       "      <td>2020-09-09</td>\n",
       "      <td>1</td>\n",
       "      <td>199000</td>\n",
       "    </tr>\n",
       "    <tr>\n",
       "      <th>2</th>\n",
       "      <td>41003</td>\n",
       "      <td>2020-10-27</td>\n",
       "      <td>2020-10-27</td>\n",
       "      <td>1</td>\n",
       "      <td>599000</td>\n",
       "    </tr>\n",
       "  </tbody>\n",
       "</table>\n",
       "</div>"
      ],
      "text/plain": [
       "  User_ID min_purchase_date max_purchase_date  order_cnt  revenue\n",
       "0   40843        2020-09-15        2020-10-21          3    27000\n",
       "1   40861        2020-09-09        2020-09-09          1   199000\n",
       "2   41003        2020-10-27        2020-10-27          1   599000"
      ]
     },
     "execution_count": 25,
     "metadata": {},
     "output_type": "execute_result"
    }
   ],
   "source": [
    "order_summary_df = order_detail_df.groupby('ID của user').agg(\n",
    "                    {'Ngày phát sinh': ['min', 'max', 'count'],\n",
    "                     'Giá trị hoá đơn': 'sum',\n",
    "                    }\n",
    "                    ).reset_index()\n",
    "order_summary_df.columns = ['User_ID','min_purchase_date','max_purchase_date','order_cnt','revenue']\n",
    "\n",
    "order_summary_df.head(3)"
   ]
  },
  {
   "cell_type": "code",
   "execution_count": 26,
   "metadata": {
    "scrolled": true
   },
   "outputs": [
    {
     "data": {
      "text/html": [
       "<div>\n",
       "<style scoped>\n",
       "    .dataframe tbody tr th:only-of-type {\n",
       "        vertical-align: middle;\n",
       "    }\n",
       "\n",
       "    .dataframe tbody tr th {\n",
       "        vertical-align: top;\n",
       "    }\n",
       "\n",
       "    .dataframe thead th {\n",
       "        text-align: right;\n",
       "    }\n",
       "</style>\n",
       "<table border=\"1\" class=\"dataframe\">\n",
       "  <thead>\n",
       "    <tr style=\"text-align: right;\">\n",
       "      <th></th>\n",
       "      <th>User_ID</th>\n",
       "      <th>first_listen_date</th>\n",
       "      <th>last_listen_date</th>\n",
       "      <th>listen_cnt</th>\n",
       "      <th>total_listen_minute</th>\n",
       "    </tr>\n",
       "  </thead>\n",
       "  <tbody>\n",
       "    <tr>\n",
       "      <th>0</th>\n",
       "      <td>40834</td>\n",
       "      <td>2020-07-08</td>\n",
       "      <td>2020-07-08</td>\n",
       "      <td>2</td>\n",
       "      <td>8.7</td>\n",
       "    </tr>\n",
       "    <tr>\n",
       "      <th>1</th>\n",
       "      <td>40835</td>\n",
       "      <td>2020-09-02</td>\n",
       "      <td>2020-10-07</td>\n",
       "      <td>5</td>\n",
       "      <td>68.8</td>\n",
       "    </tr>\n",
       "    <tr>\n",
       "      <th>2</th>\n",
       "      <td>40839</td>\n",
       "      <td>2020-07-21</td>\n",
       "      <td>2020-10-11</td>\n",
       "      <td>60</td>\n",
       "      <td>1104.5</td>\n",
       "    </tr>\n",
       "  </tbody>\n",
       "</table>\n",
       "</div>"
      ],
      "text/plain": [
       "  User_ID first_listen_date last_listen_date  listen_cnt  total_listen_minute\n",
       "0   40834        2020-07-08       2020-07-08           2                  8.7\n",
       "1   40835        2020-09-02       2020-10-07           5                 68.8\n",
       "2   40839        2020-07-21       2020-10-11          60               1104.5"
      ]
     },
     "execution_count": 26,
     "metadata": {},
     "output_type": "execute_result"
    }
   ],
   "source": [
    "listening_summary_df = listening_detail_df.groupby('User ID').agg(\n",
    "                    {\"Ngày phát sinh lượt nghe\":['min','max'],\n",
    "                     \"Thời lượng của lượt nghe (phút)\":['count','sum']\n",
    "                    }\n",
    "                ).reset_index()\n",
    "listening_summary_df.columns = ['User_ID','first_listen_date','last_listen_date','listen_cnt','total_listen_minute']\n",
    "listening_summary_df.head(3)"
   ]
  },
  {
   "cell_type": "code",
   "execution_count": 76,
   "metadata": {},
   "outputs": [
    {
     "data": {
      "text/plain": [
       "(66146, 13)"
      ]
     },
     "execution_count": 76,
     "metadata": {},
     "output_type": "execute_result"
    }
   ],
   "source": [
    "# Nối các thông tin vào hệ chính\n",
    "user_df = user_df.join(listening_summary_df.set_index('User_ID'),how='outer',on='User ID')\n",
    "user_df = user_df.join(order_summary_df.set_index('User_ID'),how='outer',on='User ID')\n",
    "user_df.head(3)"
   ]
  },
  {
   "cell_type": "code",
   "execution_count": 89,
   "metadata": {},
   "outputs": [],
   "source": [
    "# user_clustering_df = pd.concat(objs=[order_summary_df['User_ID'],listening_summary_df['User_ID']],axis=0,join='outer')"
   ]
  },
  {
   "cell_type": "markdown",
   "metadata": {},
   "source": [
    "## DFM CLUSTERING (duration - frequency - monetary)"
   ]
  },
  {
   "cell_type": "markdown",
   "metadata": {},
   "source": [
    "### Duration:  The listening duration / 1 listen(view)"
   ]
  },
  {
   "cell_type": "markdown",
   "metadata": {},
   "source": [
    "#### 1.CALCULATE  the average duration of a listening"
   ]
  },
  {
   "cell_type": "code",
   "execution_count": 44,
   "metadata": {},
   "outputs": [
    {
     "name": "stdout",
     "output_type": "stream",
     "text": [
      "số user có tổng thời gian nghe là 0: 93\n",
      "số user có tổng lượt nghe là 0: 0\n"
     ]
    }
   ],
   "source": [
    "print(\"số user có tổng thời gian nghe là 0: \"+str(listening_summary_df[listening_summary_df['total_listen_minute']==0.0].shape[0]))\n",
    "print(\"số user có tổng lượt nghe là 0: \"+ str(listening_summary_df[listening_summary_df['listen_cnt']==0.0].shape[0]))"
   ]
  },
  {
   "cell_type": "code",
   "execution_count": 48,
   "metadata": {},
   "outputs": [],
   "source": [
    "# Duration: listen_minute per week: thời lượng nghe trung bình của 1 lượt nghe (tính theo đơn vị phút)\n",
    "listening_summary_df[\"DRM_Duration_per_view\"] = listening_summary_df['total_listen_minute']/listening_summary_df[\"listen_cnt\"]"
   ]
  },
  {
   "cell_type": "code",
   "execution_count": 49,
   "metadata": {
    "scrolled": true
   },
   "outputs": [
    {
     "data": {
      "text/plain": [
       "count    27183.000000\n",
       "mean        10.287329\n",
       "std         14.468284\n",
       "min          0.000000\n",
       "25%          1.733333\n",
       "50%          6.330328\n",
       "75%         13.833333\n",
       "max        535.300000\n",
       "Name: DRM_Duration_per_view, dtype: float64"
      ]
     },
     "execution_count": 49,
     "metadata": {},
     "output_type": "execute_result"
    }
   ],
   "source": [
    "listening_summary_df[\"DRM_Duration_per_view\"].describe()"
   ]
  },
  {
   "cell_type": "code",
   "execution_count": 50,
   "metadata": {},
   "outputs": [
    {
     "data": {
      "text/plain": [
       "<AxesSubplot:xlabel='DRM_Duration_per_view', ylabel='Count'>"
      ]
     },
     "execution_count": 50,
     "metadata": {},
     "output_type": "execute_result"
    },
    {
     "data": {
      "image/png": "[encoded data removed]",
      "text/plain": [
       "<Figure size 432x288 with 1 Axes>"
      ]
     },
     "metadata": {
      "needs_background": "light"
     },
     "output_type": "display_data"
    }
   ],
   "source": [
    "sns.histplot(data=listening_summary_df,x='DRM_Duration_per_view')"
   ]
  },
  {
   "cell_type": "markdown",
   "metadata": {},
   "source": [
    "#### 2. Determine K"
   ]
  },
  {
   "cell_type": "markdown",
   "metadata": {},
   "source": [
    "#### 3. Duration Clustering"
   ]
  },
  {
   "cell_type": "markdown",
   "metadata": {},
   "source": [
    "#### 2.DETERMINE K"
   ]
  },
  {
   "cell_type": "code",
   "execution_count": 28,
   "metadata": {},
   "outputs": [
    {
     "data": {
      "image/png": "[encoded data removed]",
      "text/plain": [
       "<Figure size 432x288 with 1 Axes>"
      ]
     },
     "metadata": {
      "needs_background": "light"
     },
     "output_type": "display_data"
    }
   ],
   "source": [
    "## Elbow Method to determine K\n",
    "\n",
    "sse = find_sse(order_summary_df.loc[:,['Recency']], max_k = 10) \n",
    "\n",
    "plt.figure()\n",
    "plt.plot(list(sse.keys()),list(sse.values()))\n",
    "plt.xlabel(\"Number of clusters\")\n",
    "plt.show() \n",
    "\n",
    "# Optimal K=3\n",
    "## Choose the k of Recency_clusters = 3\n",
    "## 1st: 'active', 2st: 'sleep', 3rd: 'hibernate'"
   ]
  },
  {
   "cell_type": "markdown",
   "metadata": {},
   "source": [
    "#### 3.CLUSTERING"
   ]
  },
  {
   "cell_type": "code",
   "execution_count": 58,
   "metadata": {},
   "outputs": [],
   "source": [
    "## k-means = 4\n",
    "kmeans = KMeans(n_clusters=4)\n",
    "kmeans.fit(order_summary_df[['Recency']])\n",
    "order_summary_df['RecencyCluster'] = kmeans.predict(order_summary_df[['Recency']])\n",
    "\n",
    "order_summary_df = order_cluster('RecencyCluster', 'Recency',order_summary_df,False)\n",
    "\n",
    "## see details of each cluster\n",
    "order_summary_df.groupby('RecencyCluster')['Recency'].describe()\n",
    "\n",
    "## ClusterRecency: 0: ít active nhất(hibernate): active trong vòng 10 tháng,\n",
    "# 1: active trong vòng 7 tháng\n",
    "# 2: active vừa vừa (sleep): active trong vòng 3.5 tháng, \n",
    "# 3: the most active (active) - active trong vòng 1 tháng"
   ]
  },
  {
   "cell_type": "markdown",
   "metadata": {},
   "source": [
    "### Frequency - the average number of listening per week"
   ]
  },
  {
   "cell_type": "markdown",
   "metadata": {},
   "source": [
    "#### 1.CALCULATE Frequency"
   ]
  },
  {
   "cell_type": "code",
   "execution_count": 47,
   "metadata": {
    "scrolled": true
   },
   "outputs": [
    {
     "data": {
      "text/html": [
       "<div>\n",
       "<style scoped>\n",
       "    .dataframe tbody tr th:only-of-type {\n",
       "        vertical-align: middle;\n",
       "    }\n",
       "\n",
       "    .dataframe tbody tr th {\n",
       "        vertical-align: top;\n",
       "    }\n",
       "\n",
       "    .dataframe thead th {\n",
       "        text-align: right;\n",
       "    }\n",
       "</style>\n",
       "<table border=\"1\" class=\"dataframe\">\n",
       "  <thead>\n",
       "    <tr style=\"text-align: right;\">\n",
       "      <th></th>\n",
       "      <th>User_ID</th>\n",
       "      <th>first_listen_date</th>\n",
       "      <th>last_listen_date</th>\n",
       "      <th>listen_cnt</th>\n",
       "      <th>total_listen_minute</th>\n",
       "      <th>Duration_per_view</th>\n",
       "    </tr>\n",
       "  </thead>\n",
       "  <tbody>\n",
       "    <tr>\n",
       "      <th>0</th>\n",
       "      <td>40834</td>\n",
       "      <td>2020-07-08</td>\n",
       "      <td>2020-07-08</td>\n",
       "      <td>2</td>\n",
       "      <td>8.7</td>\n",
       "      <td>4.350000</td>\n",
       "    </tr>\n",
       "    <tr>\n",
       "      <th>1</th>\n",
       "      <td>40835</td>\n",
       "      <td>2020-09-02</td>\n",
       "      <td>2020-10-07</td>\n",
       "      <td>5</td>\n",
       "      <td>68.8</td>\n",
       "      <td>13.760000</td>\n",
       "    </tr>\n",
       "    <tr>\n",
       "      <th>2</th>\n",
       "      <td>40839</td>\n",
       "      <td>2020-07-21</td>\n",
       "      <td>2020-10-11</td>\n",
       "      <td>60</td>\n",
       "      <td>1104.5</td>\n",
       "      <td>18.408333</td>\n",
       "    </tr>\n",
       "  </tbody>\n",
       "</table>\n",
       "</div>"
      ],
      "text/plain": [
       "  User_ID first_listen_date last_listen_date  listen_cnt  total_listen_minute  \\\n",
       "0   40834        2020-07-08       2020-07-08           2                  8.7   \n",
       "1   40835        2020-09-02       2020-10-07           5                 68.8   \n",
       "2   40839        2020-07-21       2020-10-11          60               1104.5   \n",
       "\n",
       "   Duration_per_view  \n",
       "0           4.350000  \n",
       "1          13.760000  \n",
       "2          18.408333  "
      ]
     },
     "execution_count": 47,
     "metadata": {},
     "output_type": "execute_result"
    }
   ],
   "source": [
    "listening_summary_df.head(3)"
   ]
  },
  {
   "cell_type": "code",
   "execution_count": 53,
   "metadata": {},
   "outputs": [],
   "source": [
    "# Tính số week đã trôi qua từ lần nghe đầu tiên đến lần nghe cuối cùng max của toàn bộ tập dữ liệu\n",
    "\n",
    "maxListenDate = listening_summary_df['last_listen_date'].max()\n",
    "listening_summary_df['DRM_week_cnt'] = listening_summary_df['first_listen_date'].map(\n",
    "                                lambda x: 1 if x == maxListenDate else round((maxListenDate - x).days/7 + 0.4,0))"
   ]
  },
  {
   "cell_type": "code",
   "execution_count": 54,
   "metadata": {
    "scrolled": true
   },
   "outputs": [
    {
     "data": {
      "text/plain": [
       "(Timestamp('2020-07-01 00:00:00'), Timestamp('2020-12-31 00:00:00'))"
      ]
     },
     "execution_count": 54,
     "metadata": {},
     "output_type": "execute_result"
    }
   ],
   "source": [
    "listening_summary_df['first_listen_date'].min(),listening_summary_df['last_listen_date'].max()"
   ]
  },
  {
   "cell_type": "code",
   "execution_count": 55,
   "metadata": {},
   "outputs": [
    {
     "data": {
      "text/plain": [
       "0"
      ]
     },
     "execution_count": 55,
     "metadata": {},
     "output_type": "execute_result"
    }
   ],
   "source": [
    "listening_summary_df[listening_summary_df['DRM_week_cnt'] == 0].shape[0]"
   ]
  },
  {
   "cell_type": "code",
   "execution_count": 57,
   "metadata": {},
   "outputs": [
    {
     "data": {
      "text/plain": [
       "count    27183.000000\n",
       "mean         4.468839\n",
       "std          9.715813\n",
       "min          0.038462\n",
       "25%          0.375000\n",
       "50%          1.222222\n",
       "75%          4.142857\n",
       "max        435.000000\n",
       "Name: DRM_Frequency, dtype: float64"
      ]
     },
     "execution_count": 57,
     "metadata": {},
     "output_type": "execute_result"
    }
   ],
   "source": [
    "listening_summary_df['DRM_Frequency'] = listening_summary_df['listen_cnt']/listening_summary_df['DRM_week_cnt']\n",
    "listening_summary_df['DRM_Frequency'] .describe()"
   ]
  },
  {
   "cell_type": "code",
   "execution_count": 58,
   "metadata": {},
   "outputs": [
    {
     "data": {
      "text/plain": [
       "<AxesSubplot:xlabel='DRM_Frequency', ylabel='Count'>"
      ]
     },
     "execution_count": 58,
     "metadata": {},
     "output_type": "execute_result"
    },
    {
     "data": {
      "image/png": "[encoded data removed]",
      "text/plain": [
       "<Figure size 432x288 with 1 Axes>"
      ]
     },
     "metadata": {
      "needs_background": "light"
     },
     "output_type": "display_data"
    }
   ],
   "source": [
    "## plot a recency histogram\n",
    "sns.histplot(data=listening_summary_df,x='DRM_Frequency')"
   ]
  },
  {
   "cell_type": "markdown",
   "metadata": {},
   "source": [
    "#### 2.DETERMINE K"
   ]
  },
  {
   "cell_type": "code",
   "execution_count": 68,
   "metadata": {},
   "outputs": [
    {
     "data": {
      "image/png": "[encoded data removed]",
      "text/plain": [
       "<Figure size 432x288 with 1 Axes>"
      ]
     },
     "metadata": {
      "needs_background": "light"
     },
     "output_type": "display_data"
    }
   ],
   "source": [
    "## Elbow Method to determine K\n",
    "\n",
    "sse = find_sse(order_summary_df.loc[:,['Frequency']], max_k = 10) \n",
    "\n",
    "plt.figure()\n",
    "plt.plot(list(sse.keys()),list(sse.values()))\n",
    "plt.xlabel(\"Number of clusters\")\n",
    "plt.show() \n",
    "\n",
    "# Optimal K=4\n",
    "## Choose the k of Recency_clusters = 4\n",
    "## 1st: 'active', 2st: 'sleep', 3rd: 'hibernate'"
   ]
  },
  {
   "cell_type": "markdown",
   "metadata": {},
   "source": [
    "#### 3.CLUSTERING"
   ]
  },
  {
   "cell_type": "code",
   "execution_count": 70,
   "metadata": {},
   "outputs": [
    {
     "data": {
      "text/html": [
       "<div>\n",
       "<style scoped>\n",
       "    .dataframe tbody tr th:only-of-type {\n",
       "        vertical-align: middle;\n",
       "    }\n",
       "\n",
       "    .dataframe tbody tr th {\n",
       "        vertical-align: top;\n",
       "    }\n",
       "\n",
       "    .dataframe thead th {\n",
       "        text-align: right;\n",
       "    }\n",
       "</style>\n",
       "<table border=\"1\" class=\"dataframe\">\n",
       "  <thead>\n",
       "    <tr style=\"text-align: right;\">\n",
       "      <th></th>\n",
       "      <th>count</th>\n",
       "      <th>mean</th>\n",
       "      <th>std</th>\n",
       "      <th>min</th>\n",
       "      <th>25%</th>\n",
       "      <th>50%</th>\n",
       "      <th>75%</th>\n",
       "      <th>max</th>\n",
       "    </tr>\n",
       "    <tr>\n",
       "      <th>FrequencyCluster</th>\n",
       "      <th></th>\n",
       "      <th></th>\n",
       "      <th></th>\n",
       "      <th></th>\n",
       "      <th></th>\n",
       "      <th></th>\n",
       "      <th></th>\n",
       "      <th></th>\n",
       "    </tr>\n",
       "  </thead>\n",
       "  <tbody>\n",
       "    <tr>\n",
       "      <th>0</th>\n",
       "      <td>2032.0</td>\n",
       "      <td>1.000000</td>\n",
       "      <td>0.000000</td>\n",
       "      <td>1.0</td>\n",
       "      <td>1.0</td>\n",
       "      <td>1.0</td>\n",
       "      <td>1.0</td>\n",
       "      <td>1.0</td>\n",
       "    </tr>\n",
       "    <tr>\n",
       "      <th>1</th>\n",
       "      <td>445.0</td>\n",
       "      <td>2.000000</td>\n",
       "      <td>0.000000</td>\n",
       "      <td>2.0</td>\n",
       "      <td>2.0</td>\n",
       "      <td>2.0</td>\n",
       "      <td>2.0</td>\n",
       "      <td>2.0</td>\n",
       "    </tr>\n",
       "    <tr>\n",
       "      <th>2</th>\n",
       "      <td>138.0</td>\n",
       "      <td>3.420290</td>\n",
       "      <td>0.670675</td>\n",
       "      <td>3.0</td>\n",
       "      <td>3.0</td>\n",
       "      <td>3.0</td>\n",
       "      <td>4.0</td>\n",
       "      <td>5.0</td>\n",
       "    </tr>\n",
       "    <tr>\n",
       "      <th>3</th>\n",
       "      <td>23.0</td>\n",
       "      <td>7.869565</td>\n",
       "      <td>1.324742</td>\n",
       "      <td>6.0</td>\n",
       "      <td>6.5</td>\n",
       "      <td>8.0</td>\n",
       "      <td>9.0</td>\n",
       "      <td>10.0</td>\n",
       "    </tr>\n",
       "  </tbody>\n",
       "</table>\n",
       "</div>"
      ],
      "text/plain": [
       "                   count      mean       std  min  25%  50%  75%   max\n",
       "FrequencyCluster                                                      \n",
       "0                 2032.0  1.000000  0.000000  1.0  1.0  1.0  1.0   1.0\n",
       "1                  445.0  2.000000  0.000000  2.0  2.0  2.0  2.0   2.0\n",
       "2                  138.0  3.420290  0.670675  3.0  3.0  3.0  4.0   5.0\n",
       "3                   23.0  7.869565  1.324742  6.0  6.5  8.0  9.0  10.0"
      ]
     },
     "execution_count": 70,
     "metadata": {},
     "output_type": "execute_result"
    }
   ],
   "source": [
    "## k-means = 4\n",
    "kmeans = KMeans(n_clusters=4)\n",
    "kmeans.fit(order_summary_df[['Frequency']])\n",
    "order_summary_df['FrequencyCluster'] = kmeans.predict(order_summary_df[['Frequency']])\n",
    "\n",
    "order_summary_df = order_cluster('FrequencyCluster', 'Frequency',order_summary_df,True)\n",
    "\n",
    "## see details of each cluster\n",
    "order_summary_df.groupby('FrequencyCluster')['Frequency'].describe()\n",
    "\n",
    "## ClusterFrequent\n",
    "# 0: frequent 1 lần,\n",
    "# 1: frequent  : 2 lần, \n",
    "# 2: frequent vừa vừa : 4 lần, \n",
    "# 3: the most frequent  8 lần"
   ]
  },
  {
   "cell_type": "markdown",
   "metadata": {},
   "source": [
    "## MONETARY"
   ]
  },
  {
   "cell_type": "markdown",
   "metadata": {},
   "source": [
    "### CALCULATE  the average of money paid for a week"
   ]
  },
  {
   "cell_type": "markdown",
   "metadata": {},
   "source": [
    "### Question:\n",
    "\n",
    "1. số tiền trả cho 1 tuần: tính time window ntn: bắt đầu phát sinh lượt nghe đầu tiên đến lượt nghe\n",
    "cuối cùng? hay thời gian bắt đầu tính thời gian bắt đầu mua đến thời gian max_nghe cuối cùng"
   ]
  },
  {
   "cell_type": "code",
   "execution_count": 9,
   "metadata": {
    "scrolled": true
   },
   "outputs": [
    {
     "data": {
      "text/html": [
       "<div>\n",
       "<style scoped>\n",
       "    .dataframe tbody tr th:only-of-type {\n",
       "        vertical-align: middle;\n",
       "    }\n",
       "\n",
       "    .dataframe tbody tr th {\n",
       "        vertical-align: top;\n",
       "    }\n",
       "\n",
       "    .dataframe thead th {\n",
       "        text-align: right;\n",
       "    }\n",
       "</style>\n",
       "<table border=\"1\" class=\"dataframe\">\n",
       "  <thead>\n",
       "    <tr style=\"text-align: right;\">\n",
       "      <th></th>\n",
       "      <th>User_ID</th>\n",
       "      <th>min_purchase_date</th>\n",
       "      <th>max_purchase_date</th>\n",
       "      <th>order_cnt</th>\n",
       "      <th>revenue</th>\n",
       "    </tr>\n",
       "  </thead>\n",
       "  <tbody>\n",
       "    <tr>\n",
       "      <th>0</th>\n",
       "      <td>40843</td>\n",
       "      <td>2020-09-15</td>\n",
       "      <td>2020-10-21</td>\n",
       "      <td>3</td>\n",
       "      <td>27000</td>\n",
       "    </tr>\n",
       "    <tr>\n",
       "      <th>1</th>\n",
       "      <td>40861</td>\n",
       "      <td>2020-09-09</td>\n",
       "      <td>2020-09-09</td>\n",
       "      <td>1</td>\n",
       "      <td>199000</td>\n",
       "    </tr>\n",
       "    <tr>\n",
       "      <th>2</th>\n",
       "      <td>41003</td>\n",
       "      <td>2020-10-27</td>\n",
       "      <td>2020-10-27</td>\n",
       "      <td>1</td>\n",
       "      <td>599000</td>\n",
       "    </tr>\n",
       "  </tbody>\n",
       "</table>\n",
       "</div>"
      ],
      "text/plain": [
       "  User_ID min_purchase_date max_purchase_date  order_cnt  revenue\n",
       "0   40843        2020-09-15        2020-10-21          3    27000\n",
       "1   40861        2020-09-09        2020-09-09          1   199000\n",
       "2   41003        2020-10-27        2020-10-27          1   599000"
      ]
     },
     "execution_count": 9,
     "metadata": {},
     "output_type": "execute_result"
    }
   ],
   "source": [
    "order_summary_df.head(3)"
   ]
  },
  {
   "cell_type": "code",
   "execution_count": 59,
   "metadata": {},
   "outputs": [],
   "source": [
    "# Tính số week đã trôi qua từ lần transaction đầu tiên \n",
    "# đến ngày cuối cùng của khoảng thời gian xem xét maxPurchaseDate 31/12/2020 của cả các orders\n",
    "maxPurchaseDate = order_summary_df['max_purchase_date'].max()\n",
    "order_summary_df['DRM_order_week_cnt'] = order_summary_df['min_purchase_date'].map(\n",
    "                                lambda x: 1 if x == maxPurchaseDate else round((maxPurchaseDate - x).days/7 + 0.4,0))"
   ]
  },
  {
   "cell_type": "code",
   "execution_count": 60,
   "metadata": {},
   "outputs": [
    {
     "data": {
      "text/plain": [
       "count    2638.000000\n",
       "mean        9.799090\n",
       "std         6.192816\n",
       "min         1.000000\n",
       "25%         4.000000\n",
       "50%         9.000000\n",
       "75%        15.000000\n",
       "max        25.000000\n",
       "Name: DRM_order_week_cnt, dtype: float64"
      ]
     },
     "execution_count": 60,
     "metadata": {},
     "output_type": "execute_result"
    }
   ],
   "source": [
    "order_summary_df['DRM_order_week_cnt'].describe()"
   ]
  },
  {
   "cell_type": "code",
   "execution_count": 61,
   "metadata": {},
   "outputs": [],
   "source": [
    "# Tính Monetaty value: money spending for a week\n",
    "order_summary_df['DRM_Monetary'] = round(order_summary_df['revenue']/order_summary_df['DRM_order_week_cnt'],0)"
   ]
  },
  {
   "cell_type": "code",
   "execution_count": 62,
   "metadata": {},
   "outputs": [
    {
     "data": {
      "text/plain": [
       "count       2638.000000\n",
       "mean       58693.088704\n",
       "std       102177.540113\n",
       "min          375.000000\n",
       "25%        10474.000000\n",
       "50%        24875.000000\n",
       "75%        56000.000000\n",
       "max      1000000.000000\n",
       "Name: DRM_Monetary, dtype: float64"
      ]
     },
     "execution_count": 62,
     "metadata": {},
     "output_type": "execute_result"
    }
   ],
   "source": [
    "order_summary_df['DRM_Monetary'].describe()"
   ]
  },
  {
   "cell_type": "code",
   "execution_count": 63,
   "metadata": {},
   "outputs": [
    {
     "data": {
      "text/plain": [
       "<AxesSubplot:xlabel='DRM_Monetary', ylabel='Count'>"
      ]
     },
     "execution_count": 63,
     "metadata": {},
     "output_type": "execute_result"
    },
    {
     "data": {
      "image/png": "[encoded data removed]",
      "text/plain": [
       "<Figure size 432x288 with 1 Axes>"
      ]
     },
     "metadata": {
      "needs_background": "light"
     },
     "output_type": "display_data"
    }
   ],
   "source": [
    "## plot a recency histogram\n",
    "sns.histplot(data=order_summary_df,x='DRM_Monetary')"
   ]
  },
  {
   "cell_type": "markdown",
   "metadata": {},
   "source": [
    "### DETERMINE K"
   ]
  },
  {
   "cell_type": "markdown",
   "metadata": {},
   "source": [
    "### CLUSTERING"
   ]
  },
  {
   "cell_type": "code",
   "execution_count": null,
   "metadata": {},
   "outputs": [],
   "source": [
    "## Chạy SQL\n",
    "SQL_dim_members = '''\n",
    "-- Để comment trong SQL dùng -- tương đường với ## trong Python\n",
    "CREATE TABLE members_df AS\n",
    "SELECT \n",
    "  t1.*,\n",
    "  t2.DataCracy_role\n",
    "FROM user_df AS t1\n",
    "JOIN dtc_groups AS t2\n",
    "ON t1.name = t2.name\n",
    "'''\n",
    "\n",
    "con = duckdb.connect(database=':memory:', read_only=False) # -> Tạo DB connection\n",
    "\n",
    "# create a table\n",
    "con.execute(SQL_dim_members) # -> Chạy đoạn lệch SQL\n",
    "con.execute(\"SELECT * FROM members_df LIMIT 10\").fetch_df() # -> In 10 dòng đầu tiên của bảng members_df ra Dataframe\n",
    "\n",
    "\n",
    "\n",
    "SQL_1 = '''\n",
    "select mb.user_id, mb.real_name, DataCracy_role\n",
    "from members_df mb\n",
    "where mb.DataCracy_role like'Learner%' and \n",
    "mb.user_id not in (select t1.user_id from msg_df t1 join channel_df t2 on t1.channel_id = t2.channel_id \n",
    "                        join members_df t3 on t3.user_id = t1.user_id\n",
    "                    where t2.channel_name like 'atom-assignment_' and t1.github_link != 'NaN'\n",
    "                                            and t3.DataCracy_role like'Learner%'\n",
    ")\n",
    "\n",
    "'''\n",
    "con.execute(SQL_1).fetch_df()"
   ]
  }
 ],
 "metadata": {
  "kernelspec": {
   "display_name": "Python 3",
   "language": "python",
   "name": "python3"
  },
  "language_info": {
   "codemirror_mode": {
    "name": "ipython",
    "version": 3
   },
   "file_extension": ".py",
   "mimetype": "text/x-python",
   "name": "python",
   "nbconvert_exporter": "python",
   "pygments_lexer": "ipython3",
   "version": "3.8.5"
  }
 },
 "nbformat": 4,
 "nbformat_minor": 4
}
