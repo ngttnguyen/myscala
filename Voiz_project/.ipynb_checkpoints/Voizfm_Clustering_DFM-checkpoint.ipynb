{
 "cells": [
  {
   "cell_type": "code",
   "execution_count": 147,
   "metadata": {},
   "outputs": [],
   "source": [
    "import pandas as pd\n",
    "import numpy as np\n",
    "from matplotlib import pyplot as plt\n",
    "import seaborn as sns\n",
    "\n",
    "import duckdb # -> Thư viện \"giả lập\" xử lý dữ liệu bằng SQL \n",
    "from datetime import date\n",
    "from datetime import time\n",
    "from sklearn.cluster import KMeans"
   ]
  },
  {
   "cell_type": "code",
   "execution_count": 148,
   "metadata": {},
   "outputs": [],
   "source": [
    "order_detail_df = pd.read_excel(\"data/order.xlsx\", parse_dates = ['Ngày phát sinh'])\n",
    "user_df = pd.read_excel(\"data/user.xlsx\")\n",
    "listening_detail_df = pd.read_excel(\"data/listening.xlsx\")\n",
    "usage_df = pd.read_excel(\"data/Usage.xlsx\") "
   ]
  },
  {
   "cell_type": "markdown",
   "metadata": {},
   "source": [
    "#### Chuyển kiểu dữ liệu"
   ]
  },
  {
   "cell_type": "code",
   "execution_count": 149,
   "metadata": {},
   "outputs": [],
   "source": [
    "# Chuyển User_ID và Order_ID, Playlist ID sang category\n",
    "order_detail_df['Order ID'] = order_detail_df['Order ID'].astype('category')\n",
    "order_detail_df['ID của user'] = order_detail_df['ID của user'].astype('category')\n",
    "\n",
    "user_df['User ID'] = user_df['User ID'].astype('category')\n",
    "\n",
    "listening_detail_df['Playlist ID']=listening_detail_df['Playlist ID'].astype('category')\n",
    "listening_detail_df['User ID']=listening_detail_df['User ID'].astype('category')\n",
    "\n",
    "usage_df['User ID']=usage_df['User ID'].astype('category')\n"
   ]
  },
  {
   "cell_type": "code",
   "execution_count": 150,
   "metadata": {},
   "outputs": [],
   "source": [
    "# Chuyển Ngày phát sinh lượt nghe sang kiểu dữ liệu date\n",
    "listening_detail_df[\"Ngày phát sinh lượt nghe\"] = listening_detail_df[\"Ngày phát sinh lượt nghe\"].map(\n",
    "                                        lambda x:date(int(x.split(\"-\")[2]),int(x.split(\"-\")[1]),int(x.split(\"-\")[0])))\n",
    "listening_detail_df[\"Ngày phát sinh lượt nghe\"] = listening_detail_df[\"Ngày phát sinh lượt nghe\"].astype(\"datetime64\")\n"
   ]
  },
  {
   "cell_type": "code",
   "execution_count": 61,
   "metadata": {
    "scrolled": false
   },
   "outputs": [
    {
     "data": {
      "text/html": [
       "<div>\n",
       "<style scoped>\n",
       "    .dataframe tbody tr th:only-of-type {\n",
       "        vertical-align: middle;\n",
       "    }\n",
       "\n",
       "    .dataframe tbody tr th {\n",
       "        vertical-align: top;\n",
       "    }\n",
       "\n",
       "    .dataframe thead th {\n",
       "        text-align: right;\n",
       "    }\n",
       "</style>\n",
       "<table border=\"1\" class=\"dataframe\">\n",
       "  <thead>\n",
       "    <tr style=\"text-align: right;\">\n",
       "      <th></th>\n",
       "      <th>Order ID</th>\n",
       "      <th>Ngày phát sinh</th>\n",
       "      <th>ID của user</th>\n",
       "      <th>Loại hoá đơn (9k/Xu/VIP)</th>\n",
       "      <th>Giá trị hoá đơn</th>\n",
       "      <th>order_year</th>\n",
       "      <th>order_month</th>\n",
       "      <th>order_day</th>\n",
       "      <th>order_weekday</th>\n",
       "    </tr>\n",
       "  </thead>\n",
       "  <tbody>\n",
       "    <tr>\n",
       "      <th>0</th>\n",
       "      <td>6706</td>\n",
       "      <td>2020-08-16</td>\n",
       "      <td>44822</td>\n",
       "      <td>VIP</td>\n",
       "      <td>199000</td>\n",
       "      <td>2020</td>\n",
       "      <td>08</td>\n",
       "      <td>16</td>\n",
       "      <td>Sunday</td>\n",
       "    </tr>\n",
       "    <tr>\n",
       "      <th>1</th>\n",
       "      <td>6998</td>\n",
       "      <td>2020-08-23</td>\n",
       "      <td>47128</td>\n",
       "      <td>VIP</td>\n",
       "      <td>199000</td>\n",
       "      <td>2020</td>\n",
       "      <td>08</td>\n",
       "      <td>23</td>\n",
       "      <td>Sunday</td>\n",
       "    </tr>\n",
       "    <tr>\n",
       "      <th>2</th>\n",
       "      <td>6927</td>\n",
       "      <td>2020-08-21</td>\n",
       "      <td>47134</td>\n",
       "      <td>VIP</td>\n",
       "      <td>199000</td>\n",
       "      <td>2020</td>\n",
       "      <td>08</td>\n",
       "      <td>21</td>\n",
       "      <td>Friday</td>\n",
       "    </tr>\n",
       "  </tbody>\n",
       "</table>\n",
       "</div>"
      ],
      "text/plain": [
       "  Order ID Ngày phát sinh ID của user Loại hoá đơn (9k/Xu/VIP)  \\\n",
       "0     6706     2020-08-16       44822                      VIP   \n",
       "1     6998     2020-08-23       47128                      VIP   \n",
       "2     6927     2020-08-21       47134                      VIP   \n",
       "\n",
       "   Giá trị hoá đơn order_year order_month order_day order_weekday  \n",
       "0           199000       2020          08        16        Sunday  \n",
       "1           199000       2020          08        23        Sunday  \n",
       "2           199000       2020          08        21        Friday  "
      ]
     },
     "execution_count": 61,
     "metadata": {},
     "output_type": "execute_result"
    }
   ],
   "source": [
    "order_detail_df.head(3)"
   ]
  },
  {
   "cell_type": "code",
   "execution_count": 7,
   "metadata": {
    "scrolled": true
   },
   "outputs": [
    {
     "data": {
      "text/html": [
       "<div>\n",
       "<style scoped>\n",
       "    .dataframe tbody tr th:only-of-type {\n",
       "        vertical-align: middle;\n",
       "    }\n",
       "\n",
       "    .dataframe tbody tr th {\n",
       "        vertical-align: top;\n",
       "    }\n",
       "\n",
       "    .dataframe thead th {\n",
       "        text-align: right;\n",
       "    }\n",
       "</style>\n",
       "<table border=\"1\" class=\"dataframe\">\n",
       "  <thead>\n",
       "    <tr style=\"text-align: right;\">\n",
       "      <th></th>\n",
       "      <th>User ID</th>\n",
       "      <th>VIP hay Free</th>\n",
       "      <th>Giới tính</th>\n",
       "      <th>Năm sinh</th>\n",
       "      <th>Việt Nam hay Nước ngoài</th>\n",
       "      <th>iOS hay Android</th>\n",
       "      <th>Ngày đăng ký tài khoản</th>\n",
       "      <th>Tổng số lượt nghe</th>\n",
       "      <th>Tổng thời lượng nghe (phút)</th>\n",
       "    </tr>\n",
       "  </thead>\n",
       "  <tbody>\n",
       "    <tr>\n",
       "      <th>0</th>\n",
       "      <td>86229</td>\n",
       "      <td>free</td>\n",
       "      <td>male</td>\n",
       "      <td>NaN</td>\n",
       "      <td>VN</td>\n",
       "      <td>android</td>\n",
       "      <td>2020-11-27</td>\n",
       "      <td>218</td>\n",
       "      <td>4151.3</td>\n",
       "    </tr>\n",
       "    <tr>\n",
       "      <th>1</th>\n",
       "      <td>48053</td>\n",
       "      <td>free</td>\n",
       "      <td>male</td>\n",
       "      <td>1995.0</td>\n",
       "      <td>VN</td>\n",
       "      <td>ios</td>\n",
       "      <td>2020-08-24</td>\n",
       "      <td>19</td>\n",
       "      <td>278.6</td>\n",
       "    </tr>\n",
       "    <tr>\n",
       "      <th>2</th>\n",
       "      <td>46340</td>\n",
       "      <td>free</td>\n",
       "      <td>male</td>\n",
       "      <td>1988.0</td>\n",
       "      <td>VN</td>\n",
       "      <td>website</td>\n",
       "      <td>2020-08-19</td>\n",
       "      <td>28</td>\n",
       "      <td>170.5</td>\n",
       "    </tr>\n",
       "  </tbody>\n",
       "</table>\n",
       "</div>"
      ],
      "text/plain": [
       "  User ID VIP hay Free Giới tính  Năm sinh Việt Nam hay Nước ngoài  \\\n",
       "0   86229         free      male       NaN                      VN   \n",
       "1   48053         free      male    1995.0                      VN   \n",
       "2   46340         free      male    1988.0                      VN   \n",
       "\n",
       "  iOS hay Android Ngày đăng ký tài khoản  Tổng số lượt nghe  \\\n",
       "0         android             2020-11-27                218   \n",
       "1             ios             2020-08-24                 19   \n",
       "2         website             2020-08-19                 28   \n",
       "\n",
       "   Tổng thời lượng nghe (phút)  \n",
       "0                       4151.3  \n",
       "1                        278.6  \n",
       "2                        170.5  "
      ]
     },
     "execution_count": 7,
     "metadata": {},
     "output_type": "execute_result"
    }
   ],
   "source": [
    "user_df.head(3)"
   ]
  },
  {
   "cell_type": "code",
   "execution_count": 8,
   "metadata": {
    "scrolled": true
   },
   "outputs": [
    {
     "data": {
      "text/html": [
       "<div>\n",
       "<style scoped>\n",
       "    .dataframe tbody tr th:only-of-type {\n",
       "        vertical-align: middle;\n",
       "    }\n",
       "\n",
       "    .dataframe tbody tr th {\n",
       "        vertical-align: top;\n",
       "    }\n",
       "\n",
       "    .dataframe thead th {\n",
       "        text-align: right;\n",
       "    }\n",
       "</style>\n",
       "<table border=\"1\" class=\"dataframe\">\n",
       "  <thead>\n",
       "    <tr style=\"text-align: right;\">\n",
       "      <th></th>\n",
       "      <th>Playlist ID</th>\n",
       "      <th>Tên playlist</th>\n",
       "      <th>Category tầng 1 của playlist</th>\n",
       "      <th>Category tầng 2 của playlist</th>\n",
       "      <th>Playlist là Free hay VIP</th>\n",
       "      <th>Thời lượng của playlist (phút)</th>\n",
       "      <th>Thời lượng của lượt nghe (phút)</th>\n",
       "      <th>User ID</th>\n",
       "      <th>Giờ phát sinh lượt nghe</th>\n",
       "      <th>Ngày phát sinh lượt nghe</th>\n",
       "    </tr>\n",
       "  </thead>\n",
       "  <tbody>\n",
       "    <tr>\n",
       "      <th>0</th>\n",
       "      <td>4529</td>\n",
       "      <td>Dạy Tiếng Anh Cho Trẻ Mầm Non</td>\n",
       "      <td>Podcast</td>\n",
       "      <td>Học ngoại ngữ</td>\n",
       "      <td>free</td>\n",
       "      <td>44.9</td>\n",
       "      <td>0.1</td>\n",
       "      <td>82846</td>\n",
       "      <td>06:05</td>\n",
       "      <td>2020-12-03</td>\n",
       "    </tr>\n",
       "    <tr>\n",
       "      <th>1</th>\n",
       "      <td>4577</td>\n",
       "      <td>Tư Duy Tích Cực - Bạn Là Những Gì Bạn Nghĩ (Nh...</td>\n",
       "      <td>Sách nói</td>\n",
       "      <td>Hạnh phúc</td>\n",
       "      <td>vip</td>\n",
       "      <td>79.8</td>\n",
       "      <td>15.9</td>\n",
       "      <td>56112</td>\n",
       "      <td>12:49</td>\n",
       "      <td>2020-10-30</td>\n",
       "    </tr>\n",
       "    <tr>\n",
       "      <th>2</th>\n",
       "      <td>4169</td>\n",
       "      <td>50 thiên thần của bạn: Giải phóng bản thân khỏ...</td>\n",
       "      <td>Sách nói</td>\n",
       "      <td>Tâm linh</td>\n",
       "      <td>vip</td>\n",
       "      <td>324.8</td>\n",
       "      <td>6.8</td>\n",
       "      <td>94362</td>\n",
       "      <td>00:17</td>\n",
       "      <td>2020-12-15</td>\n",
       "    </tr>\n",
       "  </tbody>\n",
       "</table>\n",
       "</div>"
      ],
      "text/plain": [
       "  Playlist ID                                       Tên playlist  \\\n",
       "0        4529                      Dạy Tiếng Anh Cho Trẻ Mầm Non   \n",
       "1        4577  Tư Duy Tích Cực - Bạn Là Những Gì Bạn Nghĩ (Nh...   \n",
       "2        4169  50 thiên thần của bạn: Giải phóng bản thân khỏ...   \n",
       "\n",
       "  Category tầng 1 của playlist Category tầng 2 của playlist  \\\n",
       "0                      Podcast                Học ngoại ngữ   \n",
       "1                     Sách nói                    Hạnh phúc   \n",
       "2                     Sách nói                     Tâm linh   \n",
       "\n",
       "  Playlist là Free hay VIP  Thời lượng của playlist (phút)  \\\n",
       "0                     free                            44.9   \n",
       "1                      vip                            79.8   \n",
       "2                      vip                           324.8   \n",
       "\n",
       "   Thời lượng của lượt nghe (phút) User ID Giờ phát sinh lượt nghe  \\\n",
       "0                              0.1   82846                   06:05   \n",
       "1                             15.9   56112                   12:49   \n",
       "2                              6.8   94362                   00:17   \n",
       "\n",
       "  Ngày phát sinh lượt nghe  \n",
       "0               2020-12-03  \n",
       "1               2020-10-30  \n",
       "2               2020-12-15  "
      ]
     },
     "execution_count": 8,
     "metadata": {},
     "output_type": "execute_result"
    }
   ],
   "source": [
    "listening_detail_df.head(3)"
   ]
  },
  {
   "cell_type": "code",
   "execution_count": 68,
   "metadata": {},
   "outputs": [],
   "source": [
    "# listening_detail_df.to_csv(\"data/pre_listening.csv\")"
   ]
  },
  {
   "cell_type": "code",
   "execution_count": 9,
   "metadata": {},
   "outputs": [],
   "source": [
    "# listening_detail_df.describe(include = 'all')"
   ]
  },
  {
   "cell_type": "code",
   "execution_count": 10,
   "metadata": {},
   "outputs": [],
   "source": [
    "# order_detail_df.describe(include = 'all')"
   ]
  },
  {
   "cell_type": "code",
   "execution_count": 11,
   "metadata": {},
   "outputs": [],
   "source": [
    "# user_df.describe(include = 'all')"
   ]
  },
  {
   "cell_type": "markdown",
   "metadata": {},
   "source": [
    "#### Khảo sát về sự consistence của các USER_ID trong các file"
   ]
  },
  {
   "cell_type": "code",
   "execution_count": 151,
   "metadata": {},
   "outputs": [],
   "source": [
    "order_userID = order_detail_df['ID của user'].unique()\n",
    "userID = user_df['User ID'].unique()\n",
    "listen_userID = listening_detail_df['User ID'].unique()\n",
    "\n",
    "\n",
    "user_cnt = len(userID)\n",
    "order_user_cnt = len(order_userID)\n",
    "listen_user_cnt = len(listen_userID)\n",
    "\n",
    "order_nolisten_cnt = len([item for item in order_userID if item  not in listen_userID])\n",
    "listen_noorder_cnt = len([item for item in listen_userID if item  not in order_userID])\n",
    "order_listen_cnt = len([item for item in listen_userID if item  in order_userID])\n",
    "\n",
    "\n",
    "user_stat_dict = {\"user_cnt\":user_cnt,\n",
    "                \"order_user_cnt\": order_user_cnt,\n",
    "                \"listen_user_cnt\": listen_user_cnt      \n",
    "                }\n",
    "\n",
    "order_listen_stat_dict = {\"order_listen_cnt\":order_listen_cnt,\n",
    "                \"order_nolisten_cnt\": order_nolisten_cnt,\n",
    "                \"listen_noorder_cnt\": listen_noorder_cnt      \n",
    "                }"
   ]
  },
  {
   "cell_type": "code",
   "execution_count": 152,
   "metadata": {},
   "outputs": [
    {
     "data": {
      "text/plain": [
       "Text(0.5, 1.0, 'The percentage of users in orders')"
      ]
     },
     "execution_count": 152,
     "metadata": {},
     "output_type": "execute_result"
    },
    {
     "data": {
      "image/png": "[encoded data removed]",
      "text/plain": [
       "<Figure size 432x288 with 1 Axes>"
      ]
     },
     "metadata": {},
     "output_type": "display_data"
    }
   ],
   "source": [
    "data = [order_user_cnt,user_cnt - order_user_cnt]\n",
    "label = [\"order_user_cnt\",\"noorder_user_cnt\"]\n",
    "plt.pie(x= data , autopct=\"%.1f%%\", explode=[0.05]*len(data),labels=label);\n",
    "plt.title(\"The percentage of users in orders\")"
   ]
  },
  {
   "cell_type": "code",
   "execution_count": 153,
   "metadata": {},
   "outputs": [
    {
     "data": {
      "text/plain": [
       "Text(0.5, 1.0, 'The percentage of users in listening')"
      ]
     },
     "execution_count": 153,
     "metadata": {},
     "output_type": "execute_result"
    },
    {
     "data": {
      "image/png": "[encoded data removed]",
      "text/plain": [
       "<Figure size 432x288 with 1 Axes>"
      ]
     },
     "metadata": {},
     "output_type": "display_data"
    }
   ],
   "source": [
    "data = [listen_user_cnt,user_cnt - listen_user_cnt]\n",
    "label = [\"listen_user_cnt\",\"nolisten_user_cnt\"]\n",
    "plt.pie(x= data , autopct=\"%.1f%%\", explode=[0.05]*len(data),labels=label);\n",
    "plt.title(\"The percentage of users in listening\")"
   ]
  },
  {
   "cell_type": "code",
   "execution_count": 154,
   "metadata": {},
   "outputs": [
    {
     "data": {
      "text/plain": [
       "Text(0.5, 1.0, 'The percentage of users in orders and listening')"
      ]
     },
     "execution_count": 154,
     "metadata": {},
     "output_type": "execute_result"
    },
    {
     "data": {
      "image/png": "[encoded data removed]",
      "text/plain": [
       "<Figure size 432x288 with 1 Axes>"
      ]
     },
     "metadata": {},
     "output_type": "display_data"
    }
   ],
   "source": [
    "data = order_listen_stat_dict.values()\n",
    "label = order_listen_stat_dict.keys()\n",
    "plt.pie(x= data , autopct=\"%.1f%%\", explode=[0.05]*len(data),labels=label);\n",
    "plt.title(\"The percentage of users in orders and listening\")"
   ]
  },
  {
   "cell_type": "markdown",
   "metadata": {},
   "source": [
    "##### Xem những người có order mà ko listen hay mua gì"
   ]
  },
  {
   "cell_type": "code",
   "execution_count": 155,
   "metadata": {},
   "outputs": [
    {
     "data": {
      "text/plain": [
       "9K     118\n",
       "VIP    115\n",
       "XU      97\n",
       "Name: Loại hoá đơn (9k/Xu/VIP), dtype: int64"
      ]
     },
     "execution_count": 155,
     "metadata": {},
     "output_type": "execute_result"
    }
   ],
   "source": [
    "listen_not_in_order_user_df = order_detail_df[~order_detail_df['ID của user'].isin(listening_detail_df['User ID'])]\n",
    "listen_not_in_order_user_df[\"Loại hoá đơn (9k/Xu/VIP)\"].value_counts()"
   ]
  },
  {
   "cell_type": "markdown",
   "metadata": {},
   "source": [
    "## Xét ORDERs"
   ]
  },
  {
   "cell_type": "code",
   "execution_count": 156,
   "metadata": {},
   "outputs": [
    {
     "data": {
      "text/html": [
       "<div>\n",
       "<style scoped>\n",
       "    .dataframe tbody tr th:only-of-type {\n",
       "        vertical-align: middle;\n",
       "    }\n",
       "\n",
       "    .dataframe tbody tr th {\n",
       "        vertical-align: top;\n",
       "    }\n",
       "\n",
       "    .dataframe thead th {\n",
       "        text-align: right;\n",
       "    }\n",
       "</style>\n",
       "<table border=\"1\" class=\"dataframe\">\n",
       "  <thead>\n",
       "    <tr style=\"text-align: right;\">\n",
       "      <th></th>\n",
       "      <th>Order ID</th>\n",
       "      <th>Ngày phát sinh</th>\n",
       "      <th>ID của user</th>\n",
       "      <th>Loại hoá đơn (9k/Xu/VIP)</th>\n",
       "      <th>Giá trị hoá đơn</th>\n",
       "    </tr>\n",
       "  </thead>\n",
       "  <tbody>\n",
       "    <tr>\n",
       "      <th>0</th>\n",
       "      <td>6706</td>\n",
       "      <td>2020-08-16</td>\n",
       "      <td>44822</td>\n",
       "      <td>VIP</td>\n",
       "      <td>199000</td>\n",
       "    </tr>\n",
       "    <tr>\n",
       "      <th>1</th>\n",
       "      <td>6998</td>\n",
       "      <td>2020-08-23</td>\n",
       "      <td>47128</td>\n",
       "      <td>VIP</td>\n",
       "      <td>199000</td>\n",
       "    </tr>\n",
       "    <tr>\n",
       "      <th>2</th>\n",
       "      <td>6927</td>\n",
       "      <td>2020-08-21</td>\n",
       "      <td>47134</td>\n",
       "      <td>VIP</td>\n",
       "      <td>199000</td>\n",
       "    </tr>\n",
       "  </tbody>\n",
       "</table>\n",
       "</div>"
      ],
      "text/plain": [
       "  Order ID Ngày phát sinh ID của user Loại hoá đơn (9k/Xu/VIP)  \\\n",
       "0     6706     2020-08-16       44822                      VIP   \n",
       "1     6998     2020-08-23       47128                      VIP   \n",
       "2     6927     2020-08-21       47134                      VIP   \n",
       "\n",
       "   Giá trị hoá đơn  \n",
       "0           199000  \n",
       "1           199000  \n",
       "2           199000  "
      ]
     },
     "execution_count": 156,
     "metadata": {},
     "output_type": "execute_result"
    }
   ],
   "source": [
    "order_detail_df.head(3)"
   ]
  },
  {
   "cell_type": "code",
   "execution_count": 157,
   "metadata": {},
   "outputs": [
    {
     "data": {
      "text/html": [
       "<div>\n",
       "<style scoped>\n",
       "    .dataframe tbody tr th:only-of-type {\n",
       "        vertical-align: middle;\n",
       "    }\n",
       "\n",
       "    .dataframe tbody tr th {\n",
       "        vertical-align: top;\n",
       "    }\n",
       "\n",
       "    .dataframe thead th {\n",
       "        text-align: right;\n",
       "    }\n",
       "</style>\n",
       "<table border=\"1\" class=\"dataframe\">\n",
       "  <thead>\n",
       "    <tr style=\"text-align: right;\">\n",
       "      <th></th>\n",
       "      <th>Order ID</th>\n",
       "      <th>Ngày phát sinh</th>\n",
       "      <th>ID của user</th>\n",
       "      <th>Loại hoá đơn (9k/Xu/VIP)</th>\n",
       "      <th>Giá trị hoá đơn</th>\n",
       "      <th>order_year</th>\n",
       "      <th>order_month</th>\n",
       "      <th>order_day</th>\n",
       "      <th>order_weekday</th>\n",
       "    </tr>\n",
       "  </thead>\n",
       "  <tbody>\n",
       "    <tr>\n",
       "      <th>0</th>\n",
       "      <td>6706</td>\n",
       "      <td>2020-08-16</td>\n",
       "      <td>44822</td>\n",
       "      <td>VIP</td>\n",
       "      <td>199000</td>\n",
       "      <td>2020</td>\n",
       "      <td>08</td>\n",
       "      <td>16</td>\n",
       "      <td>Sunday</td>\n",
       "    </tr>\n",
       "    <tr>\n",
       "      <th>1</th>\n",
       "      <td>6998</td>\n",
       "      <td>2020-08-23</td>\n",
       "      <td>47128</td>\n",
       "      <td>VIP</td>\n",
       "      <td>199000</td>\n",
       "      <td>2020</td>\n",
       "      <td>08</td>\n",
       "      <td>23</td>\n",
       "      <td>Sunday</td>\n",
       "    </tr>\n",
       "    <tr>\n",
       "      <th>2</th>\n",
       "      <td>6927</td>\n",
       "      <td>2020-08-21</td>\n",
       "      <td>47134</td>\n",
       "      <td>VIP</td>\n",
       "      <td>199000</td>\n",
       "      <td>2020</td>\n",
       "      <td>08</td>\n",
       "      <td>21</td>\n",
       "      <td>Friday</td>\n",
       "    </tr>\n",
       "  </tbody>\n",
       "</table>\n",
       "</div>"
      ],
      "text/plain": [
       "  Order ID Ngày phát sinh ID của user Loại hoá đơn (9k/Xu/VIP)  \\\n",
       "0     6706     2020-08-16       44822                      VIP   \n",
       "1     6998     2020-08-23       47128                      VIP   \n",
       "2     6927     2020-08-21       47134                      VIP   \n",
       "\n",
       "   Giá trị hoá đơn order_year order_month order_day order_weekday  \n",
       "0           199000       2020          08        16        Sunday  \n",
       "1           199000       2020          08        23        Sunday  \n",
       "2           199000       2020          08        21        Friday  "
      ]
     },
     "execution_count": 157,
     "metadata": {},
     "output_type": "execute_result"
    }
   ],
   "source": [
    "##### Cắt nhỏ giá trị order_date\n",
    "\n",
    "order_detail_df['order_year'] = order_detail_df['Ngày phát sinh'].map(lambda x: x.strftime('%Y'))\n",
    "order_detail_df['order_month'] = order_detail_df['Ngày phát sinh'].map(lambda x: x.strftime('%m'))\n",
    "order_detail_df['order_day'] = order_detail_df['Ngày phát sinh'].map(lambda x: x.strftime('%d'))\n",
    "order_detail_df['order_weekday'] = order_detail_df['Ngày phát sinh'].map(lambda x: x.strftime('%A'))\n",
    "order_detail_df.head(3)"
   ]
  },
  {
   "cell_type": "markdown",
   "metadata": {},
   "source": [
    "## Xét Listenings"
   ]
  },
  {
   "cell_type": "code",
   "execution_count": 158,
   "metadata": {},
   "outputs": [
    {
     "data": {
      "text/html": [
       "<div>\n",
       "<style scoped>\n",
       "    .dataframe tbody tr th:only-of-type {\n",
       "        vertical-align: middle;\n",
       "    }\n",
       "\n",
       "    .dataframe tbody tr th {\n",
       "        vertical-align: top;\n",
       "    }\n",
       "\n",
       "    .dataframe thead th {\n",
       "        text-align: right;\n",
       "    }\n",
       "</style>\n",
       "<table border=\"1\" class=\"dataframe\">\n",
       "  <thead>\n",
       "    <tr style=\"text-align: right;\">\n",
       "      <th></th>\n",
       "      <th>Playlist ID</th>\n",
       "      <th>Tên playlist</th>\n",
       "      <th>Category tầng 1 của playlist</th>\n",
       "      <th>Category tầng 2 của playlist</th>\n",
       "      <th>Playlist là Free hay VIP</th>\n",
       "      <th>Thời lượng của playlist (phút)</th>\n",
       "      <th>Thời lượng của lượt nghe (phút)</th>\n",
       "      <th>User ID</th>\n",
       "      <th>Giờ phát sinh lượt nghe</th>\n",
       "      <th>Ngày phát sinh lượt nghe</th>\n",
       "    </tr>\n",
       "  </thead>\n",
       "  <tbody>\n",
       "    <tr>\n",
       "      <th>0</th>\n",
       "      <td>4529</td>\n",
       "      <td>Dạy Tiếng Anh Cho Trẻ Mầm Non</td>\n",
       "      <td>Podcast</td>\n",
       "      <td>Học ngoại ngữ</td>\n",
       "      <td>free</td>\n",
       "      <td>44.9</td>\n",
       "      <td>0.1</td>\n",
       "      <td>82846</td>\n",
       "      <td>06:05</td>\n",
       "      <td>2020-12-03</td>\n",
       "    </tr>\n",
       "    <tr>\n",
       "      <th>1</th>\n",
       "      <td>4577</td>\n",
       "      <td>Tư Duy Tích Cực - Bạn Là Những Gì Bạn Nghĩ (Nh...</td>\n",
       "      <td>Sách nói</td>\n",
       "      <td>Hạnh phúc</td>\n",
       "      <td>vip</td>\n",
       "      <td>79.8</td>\n",
       "      <td>15.9</td>\n",
       "      <td>56112</td>\n",
       "      <td>12:49</td>\n",
       "      <td>2020-10-30</td>\n",
       "    </tr>\n",
       "    <tr>\n",
       "      <th>2</th>\n",
       "      <td>4169</td>\n",
       "      <td>50 thiên thần của bạn: Giải phóng bản thân khỏ...</td>\n",
       "      <td>Sách nói</td>\n",
       "      <td>Tâm linh</td>\n",
       "      <td>vip</td>\n",
       "      <td>324.8</td>\n",
       "      <td>6.8</td>\n",
       "      <td>94362</td>\n",
       "      <td>00:17</td>\n",
       "      <td>2020-12-15</td>\n",
       "    </tr>\n",
       "  </tbody>\n",
       "</table>\n",
       "</div>"
      ],
      "text/plain": [
       "  Playlist ID                                       Tên playlist  \\\n",
       "0        4529                      Dạy Tiếng Anh Cho Trẻ Mầm Non   \n",
       "1        4577  Tư Duy Tích Cực - Bạn Là Những Gì Bạn Nghĩ (Nh...   \n",
       "2        4169  50 thiên thần của bạn: Giải phóng bản thân khỏ...   \n",
       "\n",
       "  Category tầng 1 của playlist Category tầng 2 của playlist  \\\n",
       "0                      Podcast                Học ngoại ngữ   \n",
       "1                     Sách nói                    Hạnh phúc   \n",
       "2                     Sách nói                     Tâm linh   \n",
       "\n",
       "  Playlist là Free hay VIP  Thời lượng của playlist (phút)  \\\n",
       "0                     free                            44.9   \n",
       "1                      vip                            79.8   \n",
       "2                      vip                           324.8   \n",
       "\n",
       "   Thời lượng của lượt nghe (phút) User ID Giờ phát sinh lượt nghe  \\\n",
       "0                              0.1   82846                   06:05   \n",
       "1                             15.9   56112                   12:49   \n",
       "2                              6.8   94362                   00:17   \n",
       "\n",
       "  Ngày phát sinh lượt nghe  \n",
       "0               2020-12-03  \n",
       "1               2020-10-30  \n",
       "2               2020-12-15  "
      ]
     },
     "execution_count": 158,
     "metadata": {},
     "output_type": "execute_result"
    }
   ],
   "source": [
    "listening_detail_df.head(3)"
   ]
  },
  {
   "cell_type": "markdown",
   "metadata": {},
   "source": [
    "## Summary Listenings and Orders"
   ]
  },
  {
   "cell_type": "code",
   "execution_count": null,
   "metadata": {},
   "outputs": [],
   "source": [
    "## Tạo order_summary_df và listening_summary_df để chứa dữ liệu thống kê về orders và listenings\n",
    "## Tạo user_cluster_df để chứa dữ liệu về user_cluster"
   ]
  },
  {
   "cell_type": "code",
   "execution_count": 159,
   "metadata": {},
   "outputs": [
    {
     "data": {
      "text/html": [
       "<div>\n",
       "<style scoped>\n",
       "    .dataframe tbody tr th:only-of-type {\n",
       "        vertical-align: middle;\n",
       "    }\n",
       "\n",
       "    .dataframe tbody tr th {\n",
       "        vertical-align: top;\n",
       "    }\n",
       "\n",
       "    .dataframe thead th {\n",
       "        text-align: right;\n",
       "    }\n",
       "</style>\n",
       "<table border=\"1\" class=\"dataframe\">\n",
       "  <thead>\n",
       "    <tr style=\"text-align: right;\">\n",
       "      <th></th>\n",
       "      <th>User_ID</th>\n",
       "      <th>min_purchase_date</th>\n",
       "      <th>max_purchase_date</th>\n",
       "      <th>order_cnt</th>\n",
       "      <th>revenue</th>\n",
       "    </tr>\n",
       "  </thead>\n",
       "  <tbody>\n",
       "    <tr>\n",
       "      <th>0</th>\n",
       "      <td>40843</td>\n",
       "      <td>2020-09-15</td>\n",
       "      <td>2020-10-21</td>\n",
       "      <td>3</td>\n",
       "      <td>27000</td>\n",
       "    </tr>\n",
       "    <tr>\n",
       "      <th>1</th>\n",
       "      <td>40861</td>\n",
       "      <td>2020-09-09</td>\n",
       "      <td>2020-09-09</td>\n",
       "      <td>1</td>\n",
       "      <td>199000</td>\n",
       "    </tr>\n",
       "    <tr>\n",
       "      <th>2</th>\n",
       "      <td>41003</td>\n",
       "      <td>2020-10-27</td>\n",
       "      <td>2020-10-27</td>\n",
       "      <td>1</td>\n",
       "      <td>599000</td>\n",
       "    </tr>\n",
       "  </tbody>\n",
       "</table>\n",
       "</div>"
      ],
      "text/plain": [
       "  User_ID min_purchase_date max_purchase_date  order_cnt  revenue\n",
       "0   40843        2020-09-15        2020-10-21          3    27000\n",
       "1   40861        2020-09-09        2020-09-09          1   199000\n",
       "2   41003        2020-10-27        2020-10-27          1   599000"
      ]
     },
     "execution_count": 159,
     "metadata": {},
     "output_type": "execute_result"
    }
   ],
   "source": [
    "order_summary_df = order_detail_df.groupby('ID của user').agg(\n",
    "                    {'Ngày phát sinh': ['min', 'max', 'count'],\n",
    "                     'Giá trị hoá đơn': 'sum',\n",
    "                    }\n",
    "                    ).reset_index()\n",
    "order_summary_df.columns = ['User_ID','min_purchase_date','max_purchase_date','order_cnt','revenue']\n",
    "\n",
    "order_summary_df.head(3)"
   ]
  },
  {
   "cell_type": "code",
   "execution_count": 160,
   "metadata": {
    "scrolled": true
   },
   "outputs": [
    {
     "data": {
      "text/html": [
       "<div>\n",
       "<style scoped>\n",
       "    .dataframe tbody tr th:only-of-type {\n",
       "        vertical-align: middle;\n",
       "    }\n",
       "\n",
       "    .dataframe tbody tr th {\n",
       "        vertical-align: top;\n",
       "    }\n",
       "\n",
       "    .dataframe thead th {\n",
       "        text-align: right;\n",
       "    }\n",
       "</style>\n",
       "<table border=\"1\" class=\"dataframe\">\n",
       "  <thead>\n",
       "    <tr style=\"text-align: right;\">\n",
       "      <th></th>\n",
       "      <th>User_ID</th>\n",
       "      <th>first_listen_date</th>\n",
       "      <th>last_listen_date</th>\n",
       "      <th>avg_duration_per_listen</th>\n",
       "      <th>std_avg_duration_per_listen</th>\n",
       "      <th>listen_cnt</th>\n",
       "      <th>total_listen_minute</th>\n",
       "    </tr>\n",
       "  </thead>\n",
       "  <tbody>\n",
       "    <tr>\n",
       "      <th>0</th>\n",
       "      <td>40834</td>\n",
       "      <td>2020-07-08</td>\n",
       "      <td>2020-07-08</td>\n",
       "      <td>4.350000</td>\n",
       "      <td>6.010408</td>\n",
       "      <td>2</td>\n",
       "      <td>8.7</td>\n",
       "    </tr>\n",
       "    <tr>\n",
       "      <th>1</th>\n",
       "      <td>40835</td>\n",
       "      <td>2020-09-02</td>\n",
       "      <td>2020-10-07</td>\n",
       "      <td>13.760000</td>\n",
       "      <td>11.251578</td>\n",
       "      <td>5</td>\n",
       "      <td>68.8</td>\n",
       "    </tr>\n",
       "    <tr>\n",
       "      <th>2</th>\n",
       "      <td>40839</td>\n",
       "      <td>2020-07-21</td>\n",
       "      <td>2020-10-11</td>\n",
       "      <td>18.408333</td>\n",
       "      <td>12.992909</td>\n",
       "      <td>60</td>\n",
       "      <td>1104.5</td>\n",
       "    </tr>\n",
       "  </tbody>\n",
       "</table>\n",
       "</div>"
      ],
      "text/plain": [
       "  User_ID first_listen_date last_listen_date  avg_duration_per_listen  \\\n",
       "0   40834        2020-07-08       2020-07-08                 4.350000   \n",
       "1   40835        2020-09-02       2020-10-07                13.760000   \n",
       "2   40839        2020-07-21       2020-10-11                18.408333   \n",
       "\n",
       "   std_avg_duration_per_listen  listen_cnt  total_listen_minute  \n",
       "0                     6.010408           2                  8.7  \n",
       "1                    11.251578           5                 68.8  \n",
       "2                    12.992909          60               1104.5  "
      ]
     },
     "execution_count": 160,
     "metadata": {},
     "output_type": "execute_result"
    }
   ],
   "source": [
    "listening_summary_df = listening_detail_df.groupby('User ID').agg(\n",
    "                    {\"Ngày phát sinh lượt nghe\":['min','max'],\n",
    "                     \"Thời lượng của lượt nghe (phút)\":[\"mean\",\"std\",'count','sum']\n",
    "                    }\n",
    "                ).reset_index()\n",
    "listening_summary_df.columns = ['User_ID','first_listen_date','last_listen_date','avg_duration_per_listen','std_avg_duration_per_listen','listen_cnt','total_listen_minute']\n",
    "listening_summary_df.head(3)"
   ]
  },
  {
   "cell_type": "code",
   "execution_count": 56,
   "metadata": {},
   "outputs": [
    {
     "data": {
      "text/plain": [
       "7920"
      ]
     },
     "execution_count": 56,
     "metadata": {},
     "output_type": "execute_result"
    }
   ],
   "source": [
    "df = [item for item in user_cluster_df[\"User_ID\"].unique() if item  not in usage_df[\"User ID\"].unique() ]\n",
    "len(df)"
   ]
  },
  {
   "cell_type": "code",
   "execution_count": 55,
   "metadata": {},
   "outputs": [
    {
     "data": {
      "text/plain": [
       "28344"
      ]
     },
     "execution_count": 55,
     "metadata": {},
     "output_type": "execute_result"
    }
   ],
   "source": [
    "usage_df[\"User ID\"] .shape[0]"
   ]
  },
  {
   "cell_type": "code",
   "execution_count": 161,
   "metadata": {},
   "outputs": [
    {
     "data": {
      "text/plain": [
       "27458"
      ]
     },
     "execution_count": 161,
     "metadata": {},
     "output_type": "execute_result"
    }
   ],
   "source": [
    "# Lấy user_id từ 2 bảng order_summary_df và listening_summary_df gộp vào 1 bảng\n",
    "user_cluster_df= pd.DataFrame(pd.concat(objs=[listening_summary_df['User_ID'],order_summary_df['User_ID']]).drop_duplicates().reset_index(drop=True))\n",
    "user_cluster_df.columns = [\"User_ID\"]\n",
    "user_cluster_df.shape[0]"
   ]
  },
  {
   "cell_type": "markdown",
   "metadata": {},
   "source": [
    "### Nhận xét về dữ liệu:"
   ]
  },
  {
   "cell_type": "code",
   "execution_count": 162,
   "metadata": {},
   "outputs": [
    {
     "data": {
      "text/plain": [
       "0"
      ]
     },
     "execution_count": 162,
     "metadata": {},
     "output_type": "execute_result"
    }
   ],
   "source": [
    "da = listening_summary_df.join(order_summary_df[[\"User_ID\",\"revenue\"]].set_index(\"User_ID\"),on=\"User_ID\",how=\"outer\")\n",
    "da.loc[da[\"revenue\"] <= 0.0].shape[0]"
   ]
  },
  {
   "cell_type": "code",
   "execution_count": 163,
   "metadata": {},
   "outputs": [
    {
     "data": {
      "text/plain": [
       "93"
      ]
     },
     "execution_count": 163,
     "metadata": {},
     "output_type": "execute_result"
    }
   ],
   "source": [
    "t = da.loc[da['revenue'].isnull()]\n",
    "t[t['total_listen_minute'] == 0.0].shape[0]"
   ]
  },
  {
   "cell_type": "markdown",
   "metadata": {},
   "source": [
    "#### Summary:\n",
    "1. Ta chỉ xét những user đã có giao dịch hoặc những user đã sử dụng app (đã nghe sách): khoảng 27k users\n",
    "2. Trong đó, có:\n",
    "    * Những users đã thực hiện giao dịch đều có tổng giá trị giao dịch > 0.0\n",
    "    * 1% số lượng PAY users đã giao dịch(order) nhưng chưa nghe (nolisten) (chưa bấm nút nghe của bất kì playlist nào): 275 users\n",
    "    * 8.6% PAY users đã giao dịch và đã nghe (2363 users)\n",
    "    * Còn lại 90.4% FREE users đã nghe và CHƯA giao dịch (24820 users), trong đó có 93  free user có tổng thời gian nghe là 0.0 phút -chưa trải nghiệm playlist nào ()"
   ]
  },
  {
   "cell_type": "markdown",
   "metadata": {},
   "source": [
    "# CLUSTERING"
   ]
  },
  {
   "cell_type": "code",
   "execution_count": null,
   "metadata": {},
   "outputs": [],
   "source": [
    "## Ta đi từ bảng listenning và bảng order\n",
    "# Có 2 clustering DFM và RFM\n",
    "# D1: The listening duration / 1 listen(view) # độ lệch của dữ liệu\n",
    "# D2: The listening duration / a week\n",
    "# R: The lastest active day\n",
    "\n",
    "# F: số lượng lượt nghe/1 week\n",
    "# M : số tiền bỏ ra / 1 week"
   ]
  },
  {
   "cell_type": "code",
   "execution_count": 164,
   "metadata": {},
   "outputs": [],
   "source": [
    "# for Ebowl\n",
    "def find_sse(df, max_k):\n",
    "    sse = {}\n",
    "    for k in range(1, max_k):\n",
    "        kmeans = KMeans(n_clusters=k, max_iter=1000)\n",
    "        kmeans.fit(df)\n",
    "        df['clusters'] = kmeans.labels_\n",
    "        sse[k] = kmeans.inertia_\n",
    "    return sse\n",
    "   \n",
    "## function for ordering cluster numbers\n",
    "def order_cluster(cluster_field_name, target_field_name, df, ascending):\n",
    "    new_cluster_field_name = 'new_' + cluster_field_name\n",
    "    df_new = df.groupby(cluster_field_name)[target_field_name].mean().reset_index()\n",
    "    df_new = df_new.sort_values(by=target_field_name,ascending=ascending).reset_index(drop=True)\n",
    "    df_new['index'] = df_new.index\n",
    "    df_final = pd.merge(df,df_new[[cluster_field_name,'index']], on=cluster_field_name)\n",
    "    df_final = df_final.drop([cluster_field_name],axis=1)\n",
    "    df_final = df_final.rename(columns={\"index\":cluster_field_name})\n",
    "    return df_final"
   ]
  },
  {
   "cell_type": "markdown",
   "metadata": {},
   "source": [
    "## Calculate metrics"
   ]
  },
  {
   "cell_type": "code",
   "execution_count": null,
   "metadata": {},
   "outputs": [],
   "source": [
    "# D1: avg_duration_per_listen: thời lượng trung bình của 1 lượt nghe\n",
    "# D2: std_density: độ lệch của thời lương 1 lượt nghe\n",
    "# D3: avg_listen_duration_per_week: thời lượng nghe tb trong 1 tuần\n",
    "# R: The lastest listen day: lượt nghe gần nhất\n",
    "# F: avg_listen_cnt_per_week: số lượt nghe tb trong 1 tuần\n",
    "# M : avg_spending_per_week: số tiền bỏ ra / 1 week"
   ]
  },
  {
   "cell_type": "markdown",
   "metadata": {},
   "source": [
    "### Nối các thông tin chung của user lại"
   ]
  },
  {
   "cell_type": "code",
   "execution_count": 165,
   "metadata": {},
   "outputs": [],
   "source": [
    "# user_cluster_df = user_cluster_df.join(order_summary_df.set_index(\"User_ID\"),on=\"User_ID\",how=\"outer\")\n",
    "user_cluster_df = user_cluster_df.join(listening_summary_df.set_index(\"User_ID\"),on=\"User_ID\",how=\"outer\")"
   ]
  },
  {
   "cell_type": "code",
   "execution_count": 166,
   "metadata": {},
   "outputs": [],
   "source": [
    "user_cluster_df = user_cluster_df.join(order_summary_df.set_index(\"User_ID\"),on=\"User_ID\",how=\"outer\")"
   ]
  },
  {
   "cell_type": "code",
   "execution_count": 167,
   "metadata": {},
   "outputs": [],
   "source": [
    "user_cluster_df = user_cluster_df.join(user_df[[\"User ID\",\"Ngày đăng ký tài khoản\"]].set_index(\"User ID\"),\n",
    "                                       on=\"User_ID\",how=\"inner\")"
   ]
  },
  {
   "cell_type": "code",
   "execution_count": 168,
   "metadata": {},
   "outputs": [],
   "source": [
    "user_cluster_df = user_cluster_df.rename(columns = {'Ngày đăng ký tài khoản':'signup_date'})"
   ]
  },
  {
   "cell_type": "code",
   "execution_count": 169,
   "metadata": {
    "scrolled": true
   },
   "outputs": [
    {
     "data": {
      "text/plain": [
       "free        24820\n",
       "subcribe     2638\n",
       "Name: type_user, dtype: int64"
      ]
     },
     "execution_count": 169,
     "metadata": {},
     "output_type": "execute_result"
    }
   ],
   "source": [
    "user_cluster_df[\"type_user\"] = user_cluster_df['revenue'].isnull().map(lambda x: \"free\" if x else 'subcribe')\n",
    "user_cluster_df[\"type_user\"].value_counts()"
   ]
  },
  {
   "cell_type": "markdown",
   "metadata": {},
   "source": [
    "### 1. Density: avg_duration_per_listen: thời lượng trung bình của 1 lượt nghe (theo đơn vị phút)"
   ]
  },
  {
   "cell_type": "code",
   "execution_count": 170,
   "metadata": {},
   "outputs": [
    {
     "data": {
      "text/plain": [
       "275"
      ]
     },
     "execution_count": 170,
     "metadata": {},
     "output_type": "execute_result"
    }
   ],
   "source": [
    "## Density: thời lượng tb của 1 lượt nghe: Nếu user chưa nghe thì có Density = 0\n",
    "\n",
    "# 'Density' = 'avg_duration_per_listen' nếu 'avg_duration_per_listen' != NaN, ngược lại thì bằng 0.0\n",
    "# user_cluster_df['Density'] = user_cluster_df['avg_duration_per_listen'].fillna(value = 0.0)\n",
    "user_cluster_df['Density'] = user_cluster_df['avg_duration_per_listen']\n",
    "user_cluster_df['Density'].isnull().sum()"
   ]
  },
  {
   "cell_type": "code",
   "execution_count": null,
   "metadata": {},
   "outputs": [],
   "source": [
    "# user_cluster_df[\"avg_duration_per_listen\"].isnull().sum(),user_cluster_df.shape[0]\n",
    "\n",
    "# # Có 275 user chưa nghe lần nào --> giá trị NaN"
   ]
  },
  {
   "cell_type": "code",
   "execution_count": null,
   "metadata": {},
   "outputs": [],
   "source": [
    "### 2. D2: std_ADPL: độ lệch của thời lương 1 lượt nghe"
   ]
  },
  {
   "cell_type": "code",
   "execution_count": 143,
   "metadata": {},
   "outputs": [],
   "source": [
    "# user_cluster_df[\"std_avg_duration_per_listen\"].describe()"
   ]
  },
  {
   "cell_type": "markdown",
   "metadata": {},
   "source": [
    "### 2.Recency: the distance (in days) between the lastest active day of a user and the max  the active day in data set"
   ]
  },
  {
   "cell_type": "code",
   "execution_count": 171,
   "metadata": {
    "scrolled": true
   },
   "outputs": [],
   "source": [
    "user_cluster_df['last_active_date'] = user_cluster_df[[\"max_purchase_date\",\"last_listen_date\",\"signup_date\"]].max(axis = 1)"
   ]
  },
  {
   "cell_type": "code",
   "execution_count": 172,
   "metadata": {},
   "outputs": [
    {
     "data": {
      "text/plain": [
       "0"
      ]
     },
     "execution_count": 172,
     "metadata": {},
     "output_type": "execute_result"
    }
   ],
   "source": [
    "## Recency: khoảng cách giữa lần nghe gần nhất của mỗi user đến max_listen_date trên toàn bộ tập dữ liệu\n",
    "# the lastest active day = max(the_max_purchase_date, the_last_listen_date,Ngày đăng ký tài khoản)\n",
    "## Recency càng nhỏ thì càng tốt\n",
    "\n",
    "maxActiveDay = max(user_cluster_df[\"max_purchase_date\"].max(),user_cluster_df[\"last_listen_date\"].max(),\n",
    "                      user_cluster_df[\"signup_date\"].max())\n",
    "\n",
    "user_cluster_df['last_active_date'] = user_cluster_df[[\"max_purchase_date\",\"last_listen_date\",\"signup_date\"]].max(axis = 1)\n",
    "\n",
    "user_cluster_df['Recency']=(maxActiveDay - user_cluster_df['last_active_date']).dt.days\n",
    "\n",
    "user_cluster_df['Recency'].isnull().sum()\n",
    "\n",
    "# users with 0_Recency are the most active ones"
   ]
  },
  {
   "cell_type": "markdown",
   "metadata": {},
   "source": [
    "### 3. Frequency: avg_listen_cnt_per_week: số lượt nghe tb trong 1 tuần"
   ]
  },
  {
   "cell_type": "code",
   "execution_count": 173,
   "metadata": {},
   "outputs": [],
   "source": [
    "#1 Tính số tuần đã trôi qua trên hệ quy chiếu thời gian của bản thân user\n",
    "# user_cluster_df['listen_week_cnt'] = round((user_cluster_df['last_listen_date']- user_cluster_df['first_listen_date']).dt.days/7+0.4,0)\n",
    "\n",
    "user_cluster_df['listen_week_cnt'] = user_cluster_df.apply(\n",
    "                                lambda x: 1 if x['last_listen_date'] == x[\"first_listen_date\"] \n",
    "                                            else round(( x['last_listen_date']-x[\"first_listen_date\"]).days/7 + 0.4,0), axis=1)\n",
    "#2. Tính số tuần đã trôi qua trên hệ quy chiếu thời gian có cận trên là maxListenDate cho toàn bộ tập dữ liệu\n",
    "# cận dưới là ngày nghe lần đầu của mỗi user\n",
    "maxListenDate = user_cluster_df['last_listen_date'].max()\n",
    "user_cluster_df['bias_listen_week_cnt'] = user_cluster_df[\"first_listen_date\"].map(\n",
    "                                lambda x: 1 if maxListenDate == x\n",
    "                                            else round(( maxListenDate-x).days/7 + 0.4,0))"
   ]
  },
  {
   "cell_type": "code",
   "execution_count": 174,
   "metadata": {},
   "outputs": [
    {
     "data": {
      "text/plain": [
       "listen_week_cnt    275\n",
       "dtype: int64"
      ]
     },
     "execution_count": 174,
     "metadata": {},
     "output_type": "execute_result"
    }
   ],
   "source": [
    "user_cluster_df[['listen_week_cnt']].isnull().sum()"
   ]
  },
  {
   "cell_type": "code",
   "execution_count": 175,
   "metadata": {},
   "outputs": [
    {
     "data": {
      "text/plain": [
       "0"
      ]
     },
     "execution_count": 175,
     "metadata": {},
     "output_type": "execute_result"
    }
   ],
   "source": [
    "user_cluster_df[user_cluster_df['listen_week_cnt'] == 0].shape[0]"
   ]
  },
  {
   "cell_type": "code",
   "execution_count": 176,
   "metadata": {},
   "outputs": [],
   "source": [
    "#3 Frequency: số lượt nghe tb trong 1 tuần của user:\n",
    "# Nếu user chưa nghe lần nào (listen_cnt là NaN) thì giá trị này là 0\n",
    "# còn lại thì bằng tổng số lượt nghe chia tổng số tuần đã trôi qua\n",
    "# Frequency càng lớn thì càng tốt\n",
    "\n",
    "user_cluster_df['Frequency'] = user_cluster_df['listen_cnt']/user_cluster_df['listen_week_cnt']\n",
    "user_cluster_df['Frequency'] = user_cluster_df['Frequency'].fillna(value = float(0.0))"
   ]
  },
  {
   "cell_type": "code",
   "execution_count": 177,
   "metadata": {},
   "outputs": [
    {
     "data": {
      "text/plain": [
       "0"
      ]
     },
     "execution_count": 177,
     "metadata": {},
     "output_type": "execute_result"
    }
   ],
   "source": [
    "user_cluster_df['Frequency'].isnull().sum()"
   ]
  },
  {
   "cell_type": "markdown",
   "metadata": {},
   "source": [
    "### 5. Monetary"
   ]
  },
  {
   "cell_type": "markdown",
   "metadata": {},
   "source": [
    "#### 5.1. Monetary_w: avg_spending_per_week: số tiền bỏ ra / 1 life week"
   ]
  },
  {
   "cell_type": "code",
   "execution_count": 178,
   "metadata": {},
   "outputs": [],
   "source": [
    "# Monetary: avg_spending_per_week: số tiền bỏ ra / 1 week\n",
    "# Ta lấy revenue của mỗi user chia cho life_week_cnt của user đó\n",
    "# Nếu revenue của user là NaN: Monetary = 0.0\n",
    "# Nếu revenue != 0 mà listening\n",
    "\n",
    "# Timeline của user: từ lúc signup đến lúc the_last_active_date:\n",
    "user_cluster_df['life_week_cnt']= user_cluster_df.apply(\n",
    "                                lambda x: 1 if x['last_active_date'] == x[\"signup_date\"] \n",
    "                                            else round(( x['last_active_date']-x[\"signup_date\"]).days/7 + 0.4,0), axis=1)\n",
    "\n",
    "user_cluster_df['Monetary_w'] = user_cluster_df['revenue']\n",
    "user_cluster_df['Monetary_w'] = user_cluster_df['Monetary_w'] / user_cluster_df['life_week_cnt']"
   ]
  },
  {
   "cell_type": "markdown",
   "metadata": {},
   "source": [
    "#### 5.2.Monetary_ow: avg_spending_per_week: số tiền bỏ ra / 1 order week"
   ]
  },
  {
   "cell_type": "code",
   "execution_count": 272,
   "metadata": {},
   "outputs": [],
   "source": [
    "# Monetary: avg_spending_per_week: số tiền bỏ ra / 1 week\n",
    "# Ta lấy revenue của mỗi user chia cho order_week_cnt của user đó\n",
    "# Nếu revenue của user là NaN: Monetary = 0.0\n",
    "# Nếu revenue != 0 mà listening\n",
    "\n",
    "# Timeline của user: từ lúc the min_purcharse_date đến lúc max_purcharse_date:\n",
    "user_cluster_df['order_week_cnt']= user_cluster_df.apply(\n",
    "                                lambda x: 1 if x[\"max_purchase_date\"] == x[\"min_purchase_date\"] \n",
    "                                            else round((x[\"max_purchase_date\"]-x[\"min_purchase_date\"]).days/7 + 0.4,0), axis=1)\n",
    "\n",
    "user_cluster_df['Monetary_ow'] = user_cluster_df['revenue']\n",
    "user_cluster_df['Monetary_ow'] = user_cluster_df['Monetary_ow'] / user_cluster_df['order_week_cnt']"
   ]
  },
  {
   "cell_type": "code",
   "execution_count": 273,
   "metadata": {},
   "outputs": [
    {
     "data": {
      "text/html": [
       "<div>\n",
       "<style scoped>\n",
       "    .dataframe tbody tr th:only-of-type {\n",
       "        vertical-align: middle;\n",
       "    }\n",
       "\n",
       "    .dataframe tbody tr th {\n",
       "        vertical-align: top;\n",
       "    }\n",
       "\n",
       "    .dataframe thead th {\n",
       "        text-align: right;\n",
       "    }\n",
       "</style>\n",
       "<table border=\"1\" class=\"dataframe\">\n",
       "  <thead>\n",
       "    <tr style=\"text-align: right;\">\n",
       "      <th></th>\n",
       "      <th>User_ID</th>\n",
       "      <th>first_listen_date</th>\n",
       "      <th>last_listen_date</th>\n",
       "      <th>avg_duration_per_listen</th>\n",
       "      <th>std_avg_duration_per_listen</th>\n",
       "      <th>listen_cnt</th>\n",
       "      <th>total_listen_minute</th>\n",
       "      <th>min_purchase_date</th>\n",
       "      <th>max_purchase_date</th>\n",
       "      <th>order_cnt</th>\n",
       "      <th>...</th>\n",
       "      <th>last_active_date</th>\n",
       "      <th>Recency</th>\n",
       "      <th>listen_week_cnt</th>\n",
       "      <th>bias_listen_week_cnt</th>\n",
       "      <th>Frequency</th>\n",
       "      <th>life_week_cnt</th>\n",
       "      <th>Monetary_w</th>\n",
       "      <th>Monetary_per_listen</th>\n",
       "      <th>order_week_cnt</th>\n",
       "      <th>Monetary_ow</th>\n",
       "    </tr>\n",
       "  </thead>\n",
       "  <tbody>\n",
       "    <tr>\n",
       "      <th>0</th>\n",
       "      <td>40834</td>\n",
       "      <td>2020-07-08</td>\n",
       "      <td>2020-07-08</td>\n",
       "      <td>4.350000</td>\n",
       "      <td>6.010408</td>\n",
       "      <td>2.0</td>\n",
       "      <td>8.7</td>\n",
       "      <td>NaT</td>\n",
       "      <td>NaT</td>\n",
       "      <td>NaN</td>\n",
       "      <td>...</td>\n",
       "      <td>2020-07-08</td>\n",
       "      <td>176</td>\n",
       "      <td>1.0</td>\n",
       "      <td>26.0</td>\n",
       "      <td>2.0</td>\n",
       "      <td>1.0</td>\n",
       "      <td>NaN</td>\n",
       "      <td>NaN</td>\n",
       "      <td>NaN</td>\n",
       "      <td>NaN</td>\n",
       "    </tr>\n",
       "    <tr>\n",
       "      <th>1</th>\n",
       "      <td>40835</td>\n",
       "      <td>2020-09-02</td>\n",
       "      <td>2020-10-07</td>\n",
       "      <td>13.760000</td>\n",
       "      <td>11.251578</td>\n",
       "      <td>5.0</td>\n",
       "      <td>68.8</td>\n",
       "      <td>NaT</td>\n",
       "      <td>NaT</td>\n",
       "      <td>NaN</td>\n",
       "      <td>...</td>\n",
       "      <td>2020-10-07</td>\n",
       "      <td>85</td>\n",
       "      <td>5.0</td>\n",
       "      <td>18.0</td>\n",
       "      <td>1.0</td>\n",
       "      <td>14.0</td>\n",
       "      <td>NaN</td>\n",
       "      <td>NaN</td>\n",
       "      <td>NaN</td>\n",
       "      <td>NaN</td>\n",
       "    </tr>\n",
       "    <tr>\n",
       "      <th>2</th>\n",
       "      <td>40839</td>\n",
       "      <td>2020-07-21</td>\n",
       "      <td>2020-10-11</td>\n",
       "      <td>18.408333</td>\n",
       "      <td>12.992909</td>\n",
       "      <td>60.0</td>\n",
       "      <td>1104.5</td>\n",
       "      <td>NaT</td>\n",
       "      <td>NaT</td>\n",
       "      <td>NaN</td>\n",
       "      <td>...</td>\n",
       "      <td>2020-10-11</td>\n",
       "      <td>81</td>\n",
       "      <td>12.0</td>\n",
       "      <td>24.0</td>\n",
       "      <td>5.0</td>\n",
       "      <td>15.0</td>\n",
       "      <td>NaN</td>\n",
       "      <td>NaN</td>\n",
       "      <td>NaN</td>\n",
       "      <td>NaN</td>\n",
       "    </tr>\n",
       "  </tbody>\n",
       "</table>\n",
       "<p>3 rows × 24 columns</p>\n",
       "</div>"
      ],
      "text/plain": [
       "  User_ID first_listen_date last_listen_date  avg_duration_per_listen  \\\n",
       "0   40834        2020-07-08       2020-07-08                 4.350000   \n",
       "1   40835        2020-09-02       2020-10-07                13.760000   \n",
       "2   40839        2020-07-21       2020-10-11                18.408333   \n",
       "\n",
       "   std_avg_duration_per_listen  listen_cnt  total_listen_minute  \\\n",
       "0                     6.010408         2.0                  8.7   \n",
       "1                    11.251578         5.0                 68.8   \n",
       "2                    12.992909        60.0               1104.5   \n",
       "\n",
       "  min_purchase_date max_purchase_date  order_cnt  ...  last_active_date  \\\n",
       "0               NaT               NaT        NaN  ...        2020-07-08   \n",
       "1               NaT               NaT        NaN  ...        2020-10-07   \n",
       "2               NaT               NaT        NaN  ...        2020-10-11   \n",
       "\n",
       "  Recency listen_week_cnt  bias_listen_week_cnt Frequency  life_week_cnt  \\\n",
       "0     176             1.0                  26.0       2.0            1.0   \n",
       "1      85             5.0                  18.0       1.0           14.0   \n",
       "2      81            12.0                  24.0       5.0           15.0   \n",
       "\n",
       "   Monetary_w  Monetary_per_listen  order_week_cnt  Monetary_ow  \n",
       "0         NaN                  NaN             NaN          NaN  \n",
       "1         NaN                  NaN             NaN          NaN  \n",
       "2         NaN                  NaN             NaN          NaN  \n",
       "\n",
       "[3 rows x 24 columns]"
      ]
     },
     "execution_count": 273,
     "metadata": {},
     "output_type": "execute_result"
    }
   ],
   "source": [
    "user_cluster_df.head(3)"
   ]
  },
  {
   "cell_type": "code",
   "execution_count": 274,
   "metadata": {},
   "outputs": [
    {
     "data": {
      "text/plain": [
       "24820"
      ]
     },
     "execution_count": 274,
     "metadata": {},
     "output_type": "execute_result"
    }
   ],
   "source": [
    "user_cluster_df['Monetary_ow'].isnull().sum()"
   ]
  },
  {
   "cell_type": "markdown",
   "metadata": {},
   "source": [
    "#### 5.3. Monetary: avg_spending_per_week: số tiền bỏ ra / 1 listen"
   ]
  },
  {
   "cell_type": "code",
   "execution_count": 180,
   "metadata": {},
   "outputs": [],
   "source": [
    "# Những người đã order nhưng chưa kịp nghe: cho tổng số lần nghe là 1\n",
    "user_cluster_df['Monetary_per_listen'] = user_cluster_df['revenue']/user_cluster_df['listen_cnt'].fillna(1)"
   ]
  },
  {
   "cell_type": "code",
   "execution_count": 181,
   "metadata": {},
   "outputs": [
    {
     "data": {
      "text/plain": [
       "24820"
      ]
     },
     "execution_count": 181,
     "metadata": {},
     "output_type": "execute_result"
    }
   ],
   "source": [
    "user_cluster_df['Monetary_per_listen'].isnull().sum()"
   ]
  },
  {
   "cell_type": "code",
   "execution_count": 276,
   "metadata": {},
   "outputs": [],
   "source": [
    "# user_cluster_df.to_csv(\"data/user_cluster_df.csv\")"
   ]
  },
  {
   "cell_type": "code",
   "execution_count": 275,
   "metadata": {},
   "outputs": [
    {
     "data": {
      "text/plain": [
       "Index(['User_ID', 'first_listen_date', 'last_listen_date',\n",
       "       'avg_duration_per_listen', 'std_avg_duration_per_listen', 'listen_cnt',\n",
       "       'total_listen_minute', 'min_purchase_date', 'max_purchase_date',\n",
       "       'order_cnt', 'revenue', 'signup_date', 'type_user', 'Density',\n",
       "       'last_active_date', 'Recency', 'listen_week_cnt',\n",
       "       'bias_listen_week_cnt', 'Frequency', 'life_week_cnt', 'Monetary_w',\n",
       "       'Monetary_per_listen', 'order_week_cnt', 'Monetary_ow'],\n",
       "      dtype='object')"
      ]
     },
     "execution_count": 275,
     "metadata": {},
     "output_type": "execute_result"
    }
   ],
   "source": [
    "user_cluster_df.columns"
   ]
  },
  {
   "cell_type": "markdown",
   "metadata": {},
   "source": [
    "### Summary\n",
    "1. Có 2 cluster cho 2 nhóm user:\n",
    "    * Nhóm Free users (type_user = 'free'): RFD\n",
    "    * Nhóm Subcribe users (type_user = 'subcribe'): RFM\n",
    "2. Giải thích các metrics:\n",
    "    * R Recency: khoảng cách tính bằng ngày từ lần active cuối cùng của user đến ngày max(active cuối cùng)\n",
    "        R càng nhỏ có nghĩa sự recency càng cao --> càng tốt\n",
    "    * F Frequency: số lượt nghe của mỗi user trong mỗi tuần (listen_cnt/listen_week_cnt)\n",
    "        F càng cao thì mức độ activeness càng lớn --> càng tốt\n",
    "        Nếu user chưa nghe lần nào thì Frequency = 0\n",
    "    * M Monetary: trung bình chi phí cho mỗi lượt nghe (revenue/listen_cnt)\n",
    "        M càng cao thì càng tốt về mặc lợi nhuận\n",
    "    * D Density: thời lượng trung bình trong mỗi lượt nghe (total_listen_time / listen_cnt)\n",
    "        D càng cao --> user càng enjoy app"
   ]
  },
  {
   "cell_type": "markdown",
   "metadata": {},
   "source": [
    "## NORMALIZE Density - Recency - Frequency - Monetary"
   ]
  },
  {
   "cell_type": "code",
   "execution_count": null,
   "metadata": {},
   "outputs": [],
   "source": [
    "## 1. số thứ tự, 2. quantile, 3. standard scale"
   ]
  },
  {
   "cell_type": "code",
   "execution_count": 277,
   "metadata": {},
   "outputs": [
    {
     "data": {
      "text/plain": [
       "free        24820\n",
       "subcribe     2638\n",
       "Name: type_user, dtype: int64"
      ]
     },
     "execution_count": 277,
     "metadata": {},
     "output_type": "execute_result"
    }
   ],
   "source": [
    "user_cluster_df['type_user'].value_counts()"
   ]
  },
  {
   "cell_type": "markdown",
   "metadata": {},
   "source": [
    "# CLUSTERING"
   ]
  },
  {
   "cell_type": "markdown",
   "metadata": {},
   "source": [
    "## 1.Subcribers: RFM CLUSTERING (recency - frequency - monetary)"
   ]
  },
  {
   "cell_type": "code",
   "execution_count": 278,
   "metadata": {},
   "outputs": [],
   "source": [
    "data_cluster_df = user_cluster_df.loc[user_cluster_df['type_user']=='subcribe',[\"User_ID\",'type_user','Recency','Frequency','Monetary_ow']]"
   ]
  },
  {
   "cell_type": "code",
   "execution_count": 281,
   "metadata": {},
   "outputs": [
    {
     "data": {
      "text/html": [
       "<div>\n",
       "<style scoped>\n",
       "    .dataframe tbody tr th:only-of-type {\n",
       "        vertical-align: middle;\n",
       "    }\n",
       "\n",
       "    .dataframe tbody tr th {\n",
       "        vertical-align: top;\n",
       "    }\n",
       "\n",
       "    .dataframe thead th {\n",
       "        text-align: right;\n",
       "    }\n",
       "</style>\n",
       "<table border=\"1\" class=\"dataframe\">\n",
       "  <thead>\n",
       "    <tr style=\"text-align: right;\">\n",
       "      <th></th>\n",
       "      <th>User_ID</th>\n",
       "      <th>type_user</th>\n",
       "      <th>Recency</th>\n",
       "      <th>Frequency</th>\n",
       "      <th>Monetary</th>\n",
       "    </tr>\n",
       "  </thead>\n",
       "  <tbody>\n",
       "    <tr>\n",
       "      <th>5</th>\n",
       "      <td>40843</td>\n",
       "      <td>subcribe</td>\n",
       "      <td>2</td>\n",
       "      <td>1.846154</td>\n",
       "      <td>4500.0</td>\n",
       "    </tr>\n",
       "    <tr>\n",
       "      <th>14</th>\n",
       "      <td>40861</td>\n",
       "      <td>subcribe</td>\n",
       "      <td>29</td>\n",
       "      <td>15.090909</td>\n",
       "      <td>199000.0</td>\n",
       "    </tr>\n",
       "    <tr>\n",
       "      <th>61</th>\n",
       "      <td>41003</td>\n",
       "      <td>subcribe</td>\n",
       "      <td>11</td>\n",
       "      <td>14.800000</td>\n",
       "      <td>599000.0</td>\n",
       "    </tr>\n",
       "  </tbody>\n",
       "</table>\n",
       "</div>"
      ],
      "text/plain": [
       "   User_ID type_user  Recency  Frequency  Monetary\n",
       "5    40843  subcribe        2   1.846154    4500.0\n",
       "14   40861  subcribe       29  15.090909  199000.0\n",
       "61   41003  subcribe       11  14.800000  599000.0"
      ]
     },
     "execution_count": 281,
     "metadata": {},
     "output_type": "execute_result"
    }
   ],
   "source": [
    "data_cluster_df = data_cluster_df.rename(columns={\"Monetary_ow\": \"Monetary\"})\n",
    "data_cluster_df.head(3)"
   ]
  },
  {
   "cell_type": "code",
   "execution_count": 283,
   "metadata": {},
   "outputs": [
    {
     "data": {
      "text/plain": [
       "2638"
      ]
     },
     "execution_count": 283,
     "metadata": {},
     "output_type": "execute_result"
    }
   ],
   "source": [
    "data_cluster_df.shape[0]"
   ]
  },
  {
   "cell_type": "code",
   "execution_count": 282,
   "metadata": {
    "scrolled": true
   },
   "outputs": [
    {
     "data": {
      "text/html": [
       "<div>\n",
       "<style scoped>\n",
       "    .dataframe tbody tr th:only-of-type {\n",
       "        vertical-align: middle;\n",
       "    }\n",
       "\n",
       "    .dataframe tbody tr th {\n",
       "        vertical-align: top;\n",
       "    }\n",
       "\n",
       "    .dataframe thead th {\n",
       "        text-align: right;\n",
       "    }\n",
       "</style>\n",
       "<table border=\"1\" class=\"dataframe\">\n",
       "  <thead>\n",
       "    <tr style=\"text-align: right;\">\n",
       "      <th></th>\n",
       "      <th>User_ID</th>\n",
       "      <th>type_user</th>\n",
       "      <th>Recency</th>\n",
       "      <th>Frequency</th>\n",
       "      <th>Monetary</th>\n",
       "    </tr>\n",
       "  </thead>\n",
       "  <tbody>\n",
       "    <tr>\n",
       "      <th>5</th>\n",
       "      <td>40843</td>\n",
       "      <td>subcribe</td>\n",
       "      <td>2</td>\n",
       "      <td>1.846154</td>\n",
       "      <td>4500.0</td>\n",
       "    </tr>\n",
       "    <tr>\n",
       "      <th>14</th>\n",
       "      <td>40861</td>\n",
       "      <td>subcribe</td>\n",
       "      <td>29</td>\n",
       "      <td>15.090909</td>\n",
       "      <td>199000.0</td>\n",
       "    </tr>\n",
       "    <tr>\n",
       "      <th>61</th>\n",
       "      <td>41003</td>\n",
       "      <td>subcribe</td>\n",
       "      <td>11</td>\n",
       "      <td>14.800000</td>\n",
       "      <td>599000.0</td>\n",
       "    </tr>\n",
       "  </tbody>\n",
       "</table>\n",
       "</div>"
      ],
      "text/plain": [
       "   User_ID type_user  Recency  Frequency  Monetary\n",
       "5    40843  subcribe        2   1.846154    4500.0\n",
       "14   40861  subcribe       29  15.090909  199000.0\n",
       "61   41003  subcribe       11  14.800000  599000.0"
      ]
     },
     "execution_count": 282,
     "metadata": {},
     "output_type": "execute_result"
    }
   ],
   "source": [
    "data_cluster_df.head(3)"
   ]
  },
  {
   "cell_type": "markdown",
   "metadata": {},
   "source": [
    "### 1. Normalize: MinMaxScale"
   ]
  },
  {
   "cell_type": "code",
   "execution_count": 256,
   "metadata": {},
   "outputs": [],
   "source": [
    "# from sklearn.preprocessing import MinMaxScaler\n",
    "from sklearn.cluster import KMeans"
   ]
  },
  {
   "cell_type": "code",
   "execution_count": 204,
   "metadata": {},
   "outputs": [],
   "source": [
    "def min_max_scale(df,scale_cols):\n",
    "    for col in scale_cols:\n",
    "        min_val = df[col].min()\n",
    "        max_val = df[col].max()\n",
    "        distance = max_val - min_val\n",
    "        df['scaled'+str(col)] = (df[col]-min_val)/distance\n",
    "    return df\n",
    "\n",
    "def run_kmean_clustering(df,cluster_cols,k_cluster,k_iter = 1000):\n",
    "    kmeans = KMeans(n_clusters=k_cluster, max_iter = k_iter )\n",
    "    kmeans.fit(df[cluster_cols])\n",
    "    prefix = cluster_cols[0]\n",
    "    df[str(prefix)+\"Cluster\"]= kmeans.predict((df[cluster_cols]))\n",
    "    return df"
   ]
  },
  {
   "cell_type": "code",
   "execution_count": 286,
   "metadata": {},
   "outputs": [
    {
     "data": {
      "text/html": [
       "<div>\n",
       "<style scoped>\n",
       "    .dataframe tbody tr th:only-of-type {\n",
       "        vertical-align: middle;\n",
       "    }\n",
       "\n",
       "    .dataframe tbody tr th {\n",
       "        vertical-align: top;\n",
       "    }\n",
       "\n",
       "    .dataframe thead th {\n",
       "        text-align: right;\n",
       "    }\n",
       "</style>\n",
       "<table border=\"1\" class=\"dataframe\">\n",
       "  <thead>\n",
       "    <tr style=\"text-align: right;\">\n",
       "      <th></th>\n",
       "      <th>scaledRecency</th>\n",
       "      <th>scaledFrequency</th>\n",
       "      <th>scaledMonetary</th>\n",
       "    </tr>\n",
       "  </thead>\n",
       "  <tbody>\n",
       "    <tr>\n",
       "      <th>count</th>\n",
       "      <td>2638.000000</td>\n",
       "      <td>2638.000000</td>\n",
       "      <td>2638.000000</td>\n",
       "    </tr>\n",
       "    <tr>\n",
       "      <th>mean</th>\n",
       "      <td>0.166098</td>\n",
       "      <td>0.078267</td>\n",
       "      <td>0.187870</td>\n",
       "    </tr>\n",
       "    <tr>\n",
       "      <th>std</th>\n",
       "      <td>0.210836</td>\n",
       "      <td>0.086760</td>\n",
       "      <td>0.176003</td>\n",
       "    </tr>\n",
       "    <tr>\n",
       "      <th>min</th>\n",
       "      <td>0.000000</td>\n",
       "      <td>0.000000</td>\n",
       "      <td>0.000000</td>\n",
       "    </tr>\n",
       "    <tr>\n",
       "      <th>25%</th>\n",
       "      <td>0.011905</td>\n",
       "      <td>0.020349</td>\n",
       "      <td>0.022696</td>\n",
       "    </tr>\n",
       "    <tr>\n",
       "      <th>50%</th>\n",
       "      <td>0.065476</td>\n",
       "      <td>0.052326</td>\n",
       "      <td>0.164138</td>\n",
       "    </tr>\n",
       "    <tr>\n",
       "      <th>75%</th>\n",
       "      <td>0.244048</td>\n",
       "      <td>0.106656</td>\n",
       "      <td>0.253695</td>\n",
       "    </tr>\n",
       "    <tr>\n",
       "      <th>max</th>\n",
       "      <td>1.000000</td>\n",
       "      <td>1.000000</td>\n",
       "      <td>1.000000</td>\n",
       "    </tr>\n",
       "  </tbody>\n",
       "</table>\n",
       "</div>"
      ],
      "text/plain": [
       "       scaledRecency  scaledFrequency  scaledMonetary\n",
       "count    2638.000000      2638.000000     2638.000000\n",
       "mean        0.166098         0.078267        0.187870\n",
       "std         0.210836         0.086760        0.176003\n",
       "min         0.000000         0.000000        0.000000\n",
       "25%         0.011905         0.020349        0.022696\n",
       "50%         0.065476         0.052326        0.164138\n",
       "75%         0.244048         0.106656        0.253695\n",
       "max         1.000000         1.000000        1.000000"
      ]
     },
     "execution_count": 286,
     "metadata": {},
     "output_type": "execute_result"
    }
   ],
   "source": [
    "data_cluster_df = min_max_scale(data_cluster_df,[\"Recency\",\"Frequency\",\"Monetary\"])\n",
    "data_cluster_df[[\"scaledRecency\",\"scaledFrequency\",\"scaledMonetary\"]].describe()"
   ]
  },
  {
   "cell_type": "markdown",
   "metadata": {},
   "source": [
    "### Recency"
   ]
  },
  {
   "cell_type": "markdown",
   "metadata": {},
   "source": [
    "#### 1. Plot R"
   ]
  },
  {
   "cell_type": "code",
   "execution_count": 211,
   "metadata": {},
   "outputs": [
    {
     "data": {
      "text/plain": [
       "count    2638.000000\n",
       "mean       27.904473\n",
       "std        35.420439\n",
       "min         0.000000\n",
       "25%         2.000000\n",
       "50%        11.000000\n",
       "75%        41.000000\n",
       "max       168.000000\n",
       "Name: Recency, dtype: float64"
      ]
     },
     "execution_count": 211,
     "metadata": {},
     "output_type": "execute_result"
    }
   ],
   "source": [
    "data_cluster_df['Recency'].describe()"
   ]
  },
  {
   "cell_type": "code",
   "execution_count": 214,
   "metadata": {},
   "outputs": [
    {
     "data": {
      "text/plain": [
       "<AxesSubplot:xlabel='Recency', ylabel='Count'>"
      ]
     },
     "execution_count": 214,
     "metadata": {},
     "output_type": "execute_result"
    },
    {
     "data": {
      "image/png": "[encoded data removed]",
      "text/plain": [
       "<Figure size 432x288 with 1 Axes>"
      ]
     },
     "metadata": {
      "needs_background": "light"
     },
     "output_type": "display_data"
    }
   ],
   "source": [
    "sns.histplot(data=data_cluster_df,x='Recency')"
   ]
  },
  {
   "cell_type": "markdown",
   "metadata": {},
   "source": [
    "#### 2. Determine K for Recency"
   ]
  },
  {
   "cell_type": "code",
   "execution_count": 223,
   "metadata": {
    "scrolled": true
   },
   "outputs": [
    {
     "data": {
      "text/html": [
       "<div>\n",
       "<style scoped>\n",
       "    .dataframe tbody tr th:only-of-type {\n",
       "        vertical-align: middle;\n",
       "    }\n",
       "\n",
       "    .dataframe tbody tr th {\n",
       "        vertical-align: top;\n",
       "    }\n",
       "\n",
       "    .dataframe thead th {\n",
       "        text-align: right;\n",
       "    }\n",
       "</style>\n",
       "<table border=\"1\" class=\"dataframe\">\n",
       "  <thead>\n",
       "    <tr style=\"text-align: right;\">\n",
       "      <th></th>\n",
       "      <th>User_ID</th>\n",
       "      <th>type_user</th>\n",
       "      <th>Recency</th>\n",
       "      <th>Frequency</th>\n",
       "      <th>Monetary</th>\n",
       "      <th>scaledRecency</th>\n",
       "      <th>scaledFrequency</th>\n",
       "      <th>scaledMonetary</th>\n",
       "      <th>RecencyCluster</th>\n",
       "    </tr>\n",
       "  </thead>\n",
       "  <tbody>\n",
       "    <tr>\n",
       "      <th>0</th>\n",
       "      <td>40843</td>\n",
       "      <td>subcribe</td>\n",
       "      <td>2</td>\n",
       "      <td>1.846154</td>\n",
       "      <td>562.500000</td>\n",
       "      <td>0.011905</td>\n",
       "      <td>0.010733</td>\n",
       "      <td>0.000460</td>\n",
       "      <td>2</td>\n",
       "    </tr>\n",
       "    <tr>\n",
       "      <th>1</th>\n",
       "      <td>41003</td>\n",
       "      <td>subcribe</td>\n",
       "      <td>11</td>\n",
       "      <td>14.800000</td>\n",
       "      <td>4047.297297</td>\n",
       "      <td>0.065476</td>\n",
       "      <td>0.086047</td>\n",
       "      <td>0.003369</td>\n",
       "      <td>2</td>\n",
       "    </tr>\n",
       "    <tr>\n",
       "      <th>2</th>\n",
       "      <td>41014</td>\n",
       "      <td>subcribe</td>\n",
       "      <td>25</td>\n",
       "      <td>4.954545</td>\n",
       "      <td>3651.376147</td>\n",
       "      <td>0.148810</td>\n",
       "      <td>0.028805</td>\n",
       "      <td>0.003039</td>\n",
       "      <td>2</td>\n",
       "    </tr>\n",
       "  </tbody>\n",
       "</table>\n",
       "</div>"
      ],
      "text/plain": [
       "  User_ID type_user  Recency  Frequency     Monetary  scaledRecency  \\\n",
       "0   40843  subcribe        2   1.846154   562.500000       0.011905   \n",
       "1   41003  subcribe       11  14.800000  4047.297297       0.065476   \n",
       "2   41014  subcribe       25   4.954545  3651.376147       0.148810   \n",
       "\n",
       "   scaledFrequency  scaledMonetary  RecencyCluster  \n",
       "0         0.010733        0.000460               2  \n",
       "1         0.086047        0.003369               2  \n",
       "2         0.028805        0.003039               2  "
      ]
     },
     "execution_count": 223,
     "metadata": {},
     "output_type": "execute_result"
    }
   ],
   "source": [
    "data_cluster_df.head(3)"
   ]
  },
  {
   "cell_type": "code",
   "execution_count": 224,
   "metadata": {},
   "outputs": [
    {
     "data": {
      "image/png": "[encoded data removed]",
      "text/plain": [
       "<Figure size 432x288 with 1 Axes>"
      ]
     },
     "metadata": {
      "needs_background": "light"
     },
     "output_type": "display_data"
    }
   ],
   "source": [
    "## Elbow Method to determine K\n",
    "\n",
    "sse = find_sse(data_cluster_df.loc[:,['scaledRecency']], max_k = 10) \n",
    "\n",
    "plt.figure()\n",
    "plt.plot(list(sse.keys()),list(sse.values()))\n",
    "plt.xlabel(\"Number of clusters\")\n",
    "plt.show() \n",
    "\n",
    "# # Optimal R_K=3\n",
    "# ## Choose the k of Recency_clusters = 3\n",
    "# ## 1st: 'active', 2st: 'sleep', 3rd: 'hibernate'"
   ]
  },
  {
   "cell_type": "markdown",
   "metadata": {},
   "source": [
    "#### 3. Recency Clustering"
   ]
  },
  {
   "cell_type": "code",
   "execution_count": 297,
   "metadata": {
    "scrolled": false
   },
   "outputs": [
    {
     "data": {
      "text/html": [
       "<div>\n",
       "<style scoped>\n",
       "    .dataframe tbody tr th:only-of-type {\n",
       "        vertical-align: middle;\n",
       "    }\n",
       "\n",
       "    .dataframe tbody tr th {\n",
       "        vertical-align: top;\n",
       "    }\n",
       "\n",
       "    .dataframe thead th {\n",
       "        text-align: right;\n",
       "    }\n",
       "</style>\n",
       "<table border=\"1\" class=\"dataframe\">\n",
       "  <thead>\n",
       "    <tr style=\"text-align: right;\">\n",
       "      <th></th>\n",
       "      <th>count</th>\n",
       "      <th>mean</th>\n",
       "      <th>std</th>\n",
       "      <th>min</th>\n",
       "      <th>25%</th>\n",
       "      <th>50%</th>\n",
       "      <th>75%</th>\n",
       "      <th>max</th>\n",
       "    </tr>\n",
       "    <tr>\n",
       "      <th>scaledRecencyCluster</th>\n",
       "      <th></th>\n",
       "      <th></th>\n",
       "      <th></th>\n",
       "      <th></th>\n",
       "      <th></th>\n",
       "      <th></th>\n",
       "      <th></th>\n",
       "      <th></th>\n",
       "    </tr>\n",
       "  </thead>\n",
       "  <tbody>\n",
       "    <tr>\n",
       "      <th>0</th>\n",
       "      <td>355.0</td>\n",
       "      <td>103.484507</td>\n",
       "      <td>18.468837</td>\n",
       "      <td>75.0</td>\n",
       "      <td>88.5</td>\n",
       "      <td>104.0</td>\n",
       "      <td>116.0</td>\n",
       "      <td>168.0</td>\n",
       "    </tr>\n",
       "    <tr>\n",
       "      <th>1</th>\n",
       "      <td>549.0</td>\n",
       "      <td>46.256831</td>\n",
       "      <td>13.535624</td>\n",
       "      <td>27.0</td>\n",
       "      <td>35.0</td>\n",
       "      <td>43.0</td>\n",
       "      <td>57.0</td>\n",
       "      <td>74.0</td>\n",
       "    </tr>\n",
       "    <tr>\n",
       "      <th>2</th>\n",
       "      <td>1734.0</td>\n",
       "      <td>6.620531</td>\n",
       "      <td>7.164231</td>\n",
       "      <td>0.0</td>\n",
       "      <td>1.0</td>\n",
       "      <td>4.0</td>\n",
       "      <td>11.0</td>\n",
       "      <td>26.0</td>\n",
       "    </tr>\n",
       "  </tbody>\n",
       "</table>\n",
       "</div>"
      ],
      "text/plain": [
       "                       count        mean        std   min   25%    50%    75%  \\\n",
       "scaledRecencyCluster                                                            \n",
       "0                      355.0  103.484507  18.468837  75.0  88.5  104.0  116.0   \n",
       "1                      549.0   46.256831  13.535624  27.0  35.0   43.0   57.0   \n",
       "2                     1734.0    6.620531   7.164231   0.0   1.0    4.0   11.0   \n",
       "\n",
       "                        max  \n",
       "scaledRecencyCluster         \n",
       "0                     168.0  \n",
       "1                      74.0  \n",
       "2                      26.0  "
      ]
     },
     "execution_count": 297,
     "metadata": {},
     "output_type": "execute_result"
    }
   ],
   "source": [
    "# ## RecencyCluster_k = 3\n",
    "k_clus = 3\n",
    "data_cluster_df = run_kmean_clustering(data_cluster_df,[\"scaledRecency\"],k_cluster=k_clus)\n",
    "\n",
    "## Sắp theo thứ tự R càng thấp thì Cluster càng cao\n",
    "data_cluster_df = order_cluster('scaledRecencyCluster', 'scaledRecency',data_cluster_df,False)\n",
    "data_cluster_df.groupby(\"scaledRecencyCluster\")['Recency'].describe()\n",
    "\n",
    "# ## see details of each cluster - Recency"
   ]
  },
  {
   "cell_type": "markdown",
   "metadata": {},
   "source": [
    "#### 4.Summary: Recency chia làm 3 nhóm:\n",
    "1. Nhóm 0: 'hibernate': khoảng 3 tháng (từ 3-4 tháng) chưa dùng app lại\n",
    "2. Nhóm 1: 'sleep': khoảng 1.5 tháng trở lại (từ 1 - 2 tháng)chưa dùng app\n",
    "3. Nhóm 2: 'active': có dùng app trong khoảng 1 tuần (nửa tháng) trở lại đây\n"
   ]
  },
  {
   "cell_type": "markdown",
   "metadata": {},
   "source": [
    "### Frequency - số lần nghe trong 1 tuần"
   ]
  },
  {
   "cell_type": "markdown",
   "metadata": {},
   "source": [
    "#### 1. Plot F"
   ]
  },
  {
   "cell_type": "code",
   "execution_count": 231,
   "metadata": {},
   "outputs": [
    {
     "data": {
      "text/plain": [
       "count    2638.00000\n",
       "mean       13.46189\n",
       "std        14.92269\n",
       "min         0.00000\n",
       "25%         3.50000\n",
       "50%         9.00000\n",
       "75%        18.34478\n",
       "max       172.00000\n",
       "Name: Frequency, dtype: float64"
      ]
     },
     "execution_count": 231,
     "metadata": {},
     "output_type": "execute_result"
    }
   ],
   "source": [
    "data_cluster_df[\"Frequency\"].describe()"
   ]
  },
  {
   "cell_type": "code",
   "execution_count": 232,
   "metadata": {},
   "outputs": [
    {
     "data": {
      "text/plain": [
       "<AxesSubplot:xlabel='Frequency', ylabel='Count'>"
      ]
     },
     "execution_count": 232,
     "metadata": {},
     "output_type": "execute_result"
    },
    {
     "data": {
      "image/png": "[encoded data removed]",
      "text/plain": [
       "<Figure size 432x288 with 1 Axes>"
      ]
     },
     "metadata": {
      "needs_background": "light"
     },
     "output_type": "display_data"
    }
   ],
   "source": [
    "sns.histplot(data=data_cluster_df,x='Frequency')"
   ]
  },
  {
   "cell_type": "markdown",
   "metadata": {},
   "source": [
    "#### 2. Determine K for Frequency"
   ]
  },
  {
   "cell_type": "code",
   "execution_count": 244,
   "metadata": {},
   "outputs": [
    {
     "data": {
      "image/png": "[encoded data removed]",
      "text/plain": [
       "<Figure size 432x288 with 1 Axes>"
      ]
     },
     "metadata": {
      "needs_background": "light"
     },
     "output_type": "display_data"
    }
   ],
   "source": [
    "## Elbow Method to determine K\n",
    "\n",
    "sse = find_sse(data_cluster_df.loc[:,['scaledFrequency']], max_k = 10) \n",
    "\n",
    "plt.figure()\n",
    "plt.plot(list(sse.keys()),list(sse.values()))\n",
    "plt.xlabel(\"Number of clusters\")\n",
    "plt.show() \n",
    "\n",
    "# k_optimal  = 4"
   ]
  },
  {
   "cell_type": "markdown",
   "metadata": {},
   "source": [
    "#### 3. Frequency Clustering"
   ]
  },
  {
   "cell_type": "code",
   "execution_count": 296,
   "metadata": {},
   "outputs": [
    {
     "data": {
      "text/html": [
       "<div>\n",
       "<style scoped>\n",
       "    .dataframe tbody tr th:only-of-type {\n",
       "        vertical-align: middle;\n",
       "    }\n",
       "\n",
       "    .dataframe tbody tr th {\n",
       "        vertical-align: top;\n",
       "    }\n",
       "\n",
       "    .dataframe thead th {\n",
       "        text-align: right;\n",
       "    }\n",
       "</style>\n",
       "<table border=\"1\" class=\"dataframe\">\n",
       "  <thead>\n",
       "    <tr style=\"text-align: right;\">\n",
       "      <th></th>\n",
       "      <th>count</th>\n",
       "      <th>mean</th>\n",
       "      <th>std</th>\n",
       "      <th>min</th>\n",
       "      <th>25%</th>\n",
       "      <th>50%</th>\n",
       "      <th>75%</th>\n",
       "      <th>max</th>\n",
       "    </tr>\n",
       "    <tr>\n",
       "      <th>scaledFrequencyCluster</th>\n",
       "      <th></th>\n",
       "      <th></th>\n",
       "      <th></th>\n",
       "      <th></th>\n",
       "      <th></th>\n",
       "      <th></th>\n",
       "      <th></th>\n",
       "      <th></th>\n",
       "    </tr>\n",
       "  </thead>\n",
       "  <tbody>\n",
       "    <tr>\n",
       "      <th>0</th>\n",
       "      <td>1433.0</td>\n",
       "      <td>4.138513</td>\n",
       "      <td>3.170107</td>\n",
       "      <td>0.000000</td>\n",
       "      <td>1.100000</td>\n",
       "      <td>4.000000</td>\n",
       "      <td>6.750000</td>\n",
       "      <td>10.142857</td>\n",
       "    </tr>\n",
       "    <tr>\n",
       "      <th>1</th>\n",
       "      <td>812.0</td>\n",
       "      <td>16.234410</td>\n",
       "      <td>4.240668</td>\n",
       "      <td>10.200000</td>\n",
       "      <td>12.592857</td>\n",
       "      <td>15.460526</td>\n",
       "      <td>19.666667</td>\n",
       "      <td>25.611111</td>\n",
       "    </tr>\n",
       "    <tr>\n",
       "      <th>2</th>\n",
       "      <td>318.0</td>\n",
       "      <td>35.105726</td>\n",
       "      <td>7.242643</td>\n",
       "      <td>25.750000</td>\n",
       "      <td>29.000000</td>\n",
       "      <td>34.000000</td>\n",
       "      <td>39.459790</td>\n",
       "      <td>52.333333</td>\n",
       "    </tr>\n",
       "    <tr>\n",
       "      <th>3</th>\n",
       "      <td>75.0</td>\n",
       "      <td>69.813520</td>\n",
       "      <td>17.889741</td>\n",
       "      <td>54.142857</td>\n",
       "      <td>59.000000</td>\n",
       "      <td>65.333333</td>\n",
       "      <td>74.020833</td>\n",
       "      <td>172.000000</td>\n",
       "    </tr>\n",
       "  </tbody>\n",
       "</table>\n",
       "</div>"
      ],
      "text/plain": [
       "                         count       mean        std        min        25%  \\\n",
       "scaledFrequencyCluster                                                       \n",
       "0                       1433.0   4.138513   3.170107   0.000000   1.100000   \n",
       "1                        812.0  16.234410   4.240668  10.200000  12.592857   \n",
       "2                        318.0  35.105726   7.242643  25.750000  29.000000   \n",
       "3                         75.0  69.813520  17.889741  54.142857  59.000000   \n",
       "\n",
       "                              50%        75%         max  \n",
       "scaledFrequencyCluster                                    \n",
       "0                        4.000000   6.750000   10.142857  \n",
       "1                       15.460526  19.666667   25.611111  \n",
       "2                       34.000000  39.459790   52.333333  \n",
       "3                       65.333333  74.020833  172.000000  "
      ]
     },
     "execution_count": 296,
     "metadata": {},
     "output_type": "execute_result"
    }
   ],
   "source": [
    "# ## RecencyCluster_k = 4\n",
    "k_clus = 4\n",
    "data_cluster_df = run_kmean_clustering(data_cluster_df,[\"scaledFrequency\"],k_cluster=k_clus)\n",
    "\n",
    "## Sắp theo thứ tự R càng thấp thì Cluster càng cao\n",
    "data_cluster_df = order_cluster('scaledFrequencyCluster', 'scaledFrequency',data_cluster_df,True)\n",
    "data_cluster_df.groupby(\"scaledFrequencyCluster\")['Frequency'].describe()\n",
    "\n",
    "# ## see details of each cluster - Frequency"
   ]
  },
  {
   "cell_type": "markdown",
   "metadata": {},
   "source": [
    "#### 4.Summary: Frequency chia làm 4 nhóm:\n",
    "1. Nhóm 0: ít dùng : dưới 0-7 lần 1 tuần (mỗi ngày nghe dưới 1 lần)\n",
    "2. Nhóm 1: Dùng mức độ tb: khoảng 14 - 21 lần 1 tuần (mỗi ngày nghe dưới 3 lần)\n",
    "3. Nhóm 2: Hay dùng: khoảng 35 lần 1 tuần (mỗi ngày nghe dưới 6 lần)\n",
    "4. Nhóm 3: Rất hay dùng: khoảng 70 lần mỗi tuần (mỗi ngày nghe khoảng 10 lần trở lên)"
   ]
  },
  {
   "cell_type": "markdown",
   "metadata": {},
   "source": [
    "### Monetary - số tiền cho 1 tuần order_nghe"
   ]
  },
  {
   "cell_type": "markdown",
   "metadata": {},
   "source": [
    "#### 1. Plot M"
   ]
  },
  {
   "cell_type": "code",
   "execution_count": 288,
   "metadata": {},
   "outputs": [
    {
     "data": {
      "text/plain": [
       "count    2.638000e+03\n",
       "mean     2.276189e+05\n",
       "std      2.122489e+05\n",
       "min      1.058824e+03\n",
       "25%      2.842857e+04\n",
       "50%      1.990000e+05\n",
       "75%      3.070000e+05\n",
       "max      1.207000e+06\n",
       "Name: Monetary, dtype: float64"
      ]
     },
     "execution_count": 288,
     "metadata": {},
     "output_type": "execute_result"
    }
   ],
   "source": [
    "data_cluster_df[\"Monetary\"].describe()"
   ]
  },
  {
   "cell_type": "code",
   "execution_count": 289,
   "metadata": {
    "scrolled": true
   },
   "outputs": [
    {
     "data": {
      "text/plain": [
       "<AxesSubplot:xlabel='Monetary', ylabel='Count'>"
      ]
     },
     "execution_count": 289,
     "metadata": {},
     "output_type": "execute_result"
    },
    {
     "data": {
      "image/png": "[encoded data removed]",
      "text/plain": [
       "<Figure size 432x288 with 1 Axes>"
      ]
     },
     "metadata": {
      "needs_background": "light"
     },
     "output_type": "display_data"
    }
   ],
   "source": [
    "sns.histplot(data=data_cluster_df,x='Monetary')"
   ]
  },
  {
   "cell_type": "markdown",
   "metadata": {},
   "source": [
    "#### 2. Determine K for Monerary"
   ]
  },
  {
   "cell_type": "code",
   "execution_count": 290,
   "metadata": {},
   "outputs": [
    {
     "data": {
      "image/png": "[encoded data removed]",
      "text/plain": [
       "<Figure size 432x288 with 1 Axes>"
      ]
     },
     "metadata": {
      "needs_background": "light"
     },
     "output_type": "display_data"
    }
   ],
   "source": [
    "## Elbow Method to determine K\n",
    "\n",
    "sse = find_sse(data_cluster_df.loc[:,['scaledMonetary']], max_k = 10) \n",
    "\n",
    "plt.figure()\n",
    "plt.plot(list(sse.keys()),list(sse.values()))\n",
    "plt.xlabel(\"Number of clusters\")\n",
    "plt.show() \n",
    "\n",
    "# k_optimal  = 3"
   ]
  },
  {
   "cell_type": "markdown",
   "metadata": {},
   "source": [
    "#### 3. Monerary Clustering"
   ]
  },
  {
   "cell_type": "code",
   "execution_count": 291,
   "metadata": {},
   "outputs": [
    {
     "data": {
      "text/html": [
       "<div>\n",
       "<style scoped>\n",
       "    .dataframe tbody tr th:only-of-type {\n",
       "        vertical-align: middle;\n",
       "    }\n",
       "\n",
       "    .dataframe tbody tr th {\n",
       "        vertical-align: top;\n",
       "    }\n",
       "\n",
       "    .dataframe thead th {\n",
       "        text-align: right;\n",
       "    }\n",
       "</style>\n",
       "<table border=\"1\" class=\"dataframe\">\n",
       "  <thead>\n",
       "    <tr style=\"text-align: right;\">\n",
       "      <th></th>\n",
       "      <th>count</th>\n",
       "      <th>mean</th>\n",
       "      <th>std</th>\n",
       "      <th>min</th>\n",
       "      <th>25%</th>\n",
       "      <th>50%</th>\n",
       "      <th>75%</th>\n",
       "      <th>max</th>\n",
       "    </tr>\n",
       "    <tr>\n",
       "      <th>scaledMonetaryCluster</th>\n",
       "      <th></th>\n",
       "      <th></th>\n",
       "      <th></th>\n",
       "      <th></th>\n",
       "      <th></th>\n",
       "      <th></th>\n",
       "      <th></th>\n",
       "      <th></th>\n",
       "    </tr>\n",
       "  </thead>\n",
       "  <tbody>\n",
       "    <tr>\n",
       "      <th>0</th>\n",
       "      <td>864.0</td>\n",
       "      <td>23580.373181</td>\n",
       "      <td>22792.780201</td>\n",
       "      <td>1058.823529</td>\n",
       "      <td>9000.0</td>\n",
       "      <td>9000.0</td>\n",
       "      <td>28428.571429</td>\n",
       "      <td>1.096667e+05</td>\n",
       "    </tr>\n",
       "    <tr>\n",
       "      <th>1</th>\n",
       "      <td>1169.0</td>\n",
       "      <td>198941.379146</td>\n",
       "      <td>43163.077340</td>\n",
       "      <td>113000.000000</td>\n",
       "      <td>168000.0</td>\n",
       "      <td>199000.0</td>\n",
       "      <td>199000.000000</td>\n",
       "      <td>3.740000e+05</td>\n",
       "    </tr>\n",
       "    <tr>\n",
       "      <th>2</th>\n",
       "      <td>605.0</td>\n",
       "      <td>574417.630854</td>\n",
       "      <td>103556.161786</td>\n",
       "      <td>390000.000000</td>\n",
       "      <td>499000.0</td>\n",
       "      <td>599000.0</td>\n",
       "      <td>599000.000000</td>\n",
       "      <td>1.207000e+06</td>\n",
       "    </tr>\n",
       "  </tbody>\n",
       "</table>\n",
       "</div>"
      ],
      "text/plain": [
       "                        count           mean            std            min  \\\n",
       "scaledMonetaryCluster                                                        \n",
       "0                       864.0   23580.373181   22792.780201    1058.823529   \n",
       "1                      1169.0  198941.379146   43163.077340  113000.000000   \n",
       "2                       605.0  574417.630854  103556.161786  390000.000000   \n",
       "\n",
       "                            25%       50%            75%           max  \n",
       "scaledMonetaryCluster                                                   \n",
       "0                        9000.0    9000.0   28428.571429  1.096667e+05  \n",
       "1                      168000.0  199000.0  199000.000000  3.740000e+05  \n",
       "2                      499000.0  599000.0  599000.000000  1.207000e+06  "
      ]
     },
     "execution_count": 291,
     "metadata": {},
     "output_type": "execute_result"
    }
   ],
   "source": [
    "# ## MonetaryCluster_k = 3\n",
    "k_clus = 3\n",
    "data_cluster_df = run_kmean_clustering(data_cluster_df,[\"scaledMonetary\"],k_cluster=k_clus)\n",
    "\n",
    "## Sắp theo thứ tự R càng thấp thì Cluster càng cao\n",
    "data_cluster_df = order_cluster('scaledMonetaryCluster', 'scaledMonetary',data_cluster_df,True)\n",
    "data_cluster_df.groupby(\"scaledMonetaryCluster\")['Monetary'].describe()\n",
    "\n",
    "# ## see details of each cluster - Frequency"
   ]
  },
  {
   "cell_type": "markdown",
   "metadata": {},
   "source": [
    "#### 4.Summary: Monerary chia làm 3 nhóm:\n",
    "1. Nhóm 0: Giá trị thấp: trung bình trả 23k cho mỗi tuần theo order (0->50k)chủ yếu mua gói 9k đề dùng thử \n",
    "2. Nhóm 1: Giá trị TB: trung bình trả 190k cho mỗi tuần theo order (120k - 390k)\n",
    "3. Nhóm 2: Giá trị cao: trung bình trả gần 600k cho mỗi tuần theo order (>390k)"
   ]
  },
  {
   "cell_type": "code",
   "execution_count": 306,
   "metadata": {},
   "outputs": [
    {
     "data": {
      "text/plain": [
       "Index(['User_ID', 'type_user', 'Recency', 'Frequency', 'Monetary',\n",
       "       'scaledRecency', 'scaledFrequency', 'scaledMonetary',\n",
       "       'scaledMonetaryCluster', 'scaledFrequencyCluster',\n",
       "       'scaledRecencyCluster'],\n",
       "      dtype='object')"
      ]
     },
     "execution_count": 306,
     "metadata": {},
     "output_type": "execute_result"
    }
   ],
   "source": [
    "data_cluster_df.columns"
   ]
  },
  {
   "cell_type": "code",
   "execution_count": 317,
   "metadata": {},
   "outputs": [],
   "source": [
    "user_semgment_data = data_cluster_df[['User_ID', 'type_user', 'Recency', 'Frequency', 'Monetary',\n",
    "       'scaledMonetaryCluster', 'scaledFrequencyCluster',\n",
    "       'scaledRecencyCluster']].copy()"
   ]
  },
  {
   "cell_type": "code",
   "execution_count": null,
   "metadata": {},
   "outputs": [],
   "source": [
    "user_semgment_data.rename(columns={'scaledMonetaryCluster':'ValueCluster', 'scaledFrequencyCluster':\"FrequencyCluster\",\n",
    "       'scaledRecencyCluster':\"RecencyCluster\",})"
   ]
  },
  {
   "cell_type": "markdown",
   "metadata": {},
   "source": [
    "## 2.Free users: RFD CLUSTERING (recency - frequency - Denstity)"
   ]
  },
  {
   "cell_type": "markdown",
   "metadata": {},
   "source": [
    "### Normalize"
   ]
  },
  {
   "cell_type": "code",
   "execution_count": 330,
   "metadata": {},
   "outputs": [],
   "source": [
    "free_cluster_df = user_cluster_df.loc[user_cluster_df['type_user']=='free',[\"User_ID\",'type_user','Recency','Frequency','Density']]\n"
   ]
  },
  {
   "cell_type": "code",
   "execution_count": 331,
   "metadata": {},
   "outputs": [
    {
     "data": {
      "text/html": [
       "<div>\n",
       "<style scoped>\n",
       "    .dataframe tbody tr th:only-of-type {\n",
       "        vertical-align: middle;\n",
       "    }\n",
       "\n",
       "    .dataframe tbody tr th {\n",
       "        vertical-align: top;\n",
       "    }\n",
       "\n",
       "    .dataframe thead th {\n",
       "        text-align: right;\n",
       "    }\n",
       "</style>\n",
       "<table border=\"1\" class=\"dataframe\">\n",
       "  <thead>\n",
       "    <tr style=\"text-align: right;\">\n",
       "      <th></th>\n",
       "      <th>scaledRecency</th>\n",
       "      <th>scaledFrequency</th>\n",
       "      <th>scaledDensity</th>\n",
       "    </tr>\n",
       "  </thead>\n",
       "  <tbody>\n",
       "    <tr>\n",
       "      <th>count</th>\n",
       "      <td>24820.000000</td>\n",
       "      <td>24820.000000</td>\n",
       "      <td>24820.000000</td>\n",
       "    </tr>\n",
       "    <tr>\n",
       "      <th>mean</th>\n",
       "      <td>0.260996</td>\n",
       "      <td>0.014872</td>\n",
       "      <td>0.017493</td>\n",
       "    </tr>\n",
       "    <tr>\n",
       "      <th>std</th>\n",
       "      <td>0.228748</td>\n",
       "      <td>0.023865</td>\n",
       "      <td>0.025329</td>\n",
       "    </tr>\n",
       "    <tr>\n",
       "      <th>min</th>\n",
       "      <td>0.000000</td>\n",
       "      <td>0.000000</td>\n",
       "      <td>0.000000</td>\n",
       "    </tr>\n",
       "    <tr>\n",
       "      <th>25%</th>\n",
       "      <td>0.071038</td>\n",
       "      <td>0.003097</td>\n",
       "      <td>0.002893</td>\n",
       "    </tr>\n",
       "    <tr>\n",
       "      <th>50%</th>\n",
       "      <td>0.207650</td>\n",
       "      <td>0.007196</td>\n",
       "      <td>0.010286</td>\n",
       "    </tr>\n",
       "    <tr>\n",
       "      <th>75%</th>\n",
       "      <td>0.382514</td>\n",
       "      <td>0.017854</td>\n",
       "      <td>0.023215</td>\n",
       "    </tr>\n",
       "    <tr>\n",
       "      <th>max</th>\n",
       "      <td>1.000000</td>\n",
       "      <td>1.000000</td>\n",
       "      <td>1.000000</td>\n",
       "    </tr>\n",
       "  </tbody>\n",
       "</table>\n",
       "</div>"
      ],
      "text/plain": [
       "       scaledRecency  scaledFrequency  scaledDensity\n",
       "count   24820.000000     24820.000000   24820.000000\n",
       "mean        0.260996         0.014872       0.017493\n",
       "std         0.228748         0.023865       0.025329\n",
       "min         0.000000         0.000000       0.000000\n",
       "25%         0.071038         0.003097       0.002893\n",
       "50%         0.207650         0.007196       0.010286\n",
       "75%         0.382514         0.017854       0.023215\n",
       "max         1.000000         1.000000       1.000000"
      ]
     },
     "execution_count": 331,
     "metadata": {},
     "output_type": "execute_result"
    }
   ],
   "source": [
    "free_cluster_df = min_max_scale(free_cluster_df,[\"Recency\",\"Frequency\",\"Density\"])\n",
    "free_cluster_df[[\"scaledRecency\",\"scaledFrequency\",\"scaledDensity\"]].describe()"
   ]
  },
  {
   "cell_type": "markdown",
   "metadata": {},
   "source": [
    "### 1. Recency"
   ]
  },
  {
   "cell_type": "markdown",
   "metadata": {},
   "source": [
    "#### 1. Plot R"
   ]
  },
  {
   "cell_type": "code",
   "execution_count": 332,
   "metadata": {},
   "outputs": [
    {
     "data": {
      "text/plain": [
       "count    24820.000000\n",
       "mean        47.762248\n",
       "std         41.860943\n",
       "min          0.000000\n",
       "25%         13.000000\n",
       "50%         38.000000\n",
       "75%         70.000000\n",
       "max        183.000000\n",
       "Name: Recency, dtype: float64"
      ]
     },
     "execution_count": 332,
     "metadata": {},
     "output_type": "execute_result"
    }
   ],
   "source": [
    "free_cluster_df[\"Recency\"].describe()"
   ]
  },
  {
   "cell_type": "code",
   "execution_count": 333,
   "metadata": {},
   "outputs": [
    {
     "data": {
      "text/plain": [
       "<AxesSubplot:xlabel='Recency', ylabel='Count'>"
      ]
     },
     "execution_count": 333,
     "metadata": {},
     "output_type": "execute_result"
    },
    {
     "data": {
      "image/png": "[encoded data removed]",
      "text/plain": [
       "<Figure size 432x288 with 1 Axes>"
      ]
     },
     "metadata": {
      "needs_background": "light"
     },
     "output_type": "display_data"
    }
   ],
   "source": [
    "sns.histplot(data=free_cluster_df,x='Recency')"
   ]
  },
  {
   "cell_type": "markdown",
   "metadata": {},
   "source": [
    "#### 2. Determine K for Recency"
   ]
  },
  {
   "cell_type": "code",
   "execution_count": 334,
   "metadata": {},
   "outputs": [
    {
     "data": {
      "image/png": "[encoded data removed]",
      "text/plain": [
       "<Figure size 432x288 with 1 Axes>"
      ]
     },
     "metadata": {
      "needs_background": "light"
     },
     "output_type": "display_data"
    }
   ],
   "source": [
    "## Elbow Method to determine K\n",
    "\n",
    "sse = find_sse(free_cluster_df.loc[:,['scaledFrequency']], max_k = 10) \n",
    "\n",
    "plt.figure()\n",
    "plt.plot(list(sse.keys()),list(sse.values()))\n",
    "plt.xlabel(\"Number of clusters\")\n",
    "plt.show() \n",
    "\n",
    "# k_optimal  = 5"
   ]
  },
  {
   "cell_type": "markdown",
   "metadata": {},
   "source": [
    "#### 3. Recency Clustering"
   ]
  },
  {
   "cell_type": "code",
   "execution_count": 343,
   "metadata": {},
   "outputs": [
    {
     "data": {
      "text/html": [
       "<div>\n",
       "<style scoped>\n",
       "    .dataframe tbody tr th:only-of-type {\n",
       "        vertical-align: middle;\n",
       "    }\n",
       "\n",
       "    .dataframe tbody tr th {\n",
       "        vertical-align: top;\n",
       "    }\n",
       "\n",
       "    .dataframe thead th {\n",
       "        text-align: right;\n",
       "    }\n",
       "</style>\n",
       "<table border=\"1\" class=\"dataframe\">\n",
       "  <thead>\n",
       "    <tr style=\"text-align: right;\">\n",
       "      <th></th>\n",
       "      <th>count</th>\n",
       "      <th>mean</th>\n",
       "      <th>std</th>\n",
       "      <th>min</th>\n",
       "      <th>25%</th>\n",
       "      <th>50%</th>\n",
       "      <th>75%</th>\n",
       "      <th>max</th>\n",
       "    </tr>\n",
       "    <tr>\n",
       "      <th>scaledRecencyCluster</th>\n",
       "      <th></th>\n",
       "      <th></th>\n",
       "      <th></th>\n",
       "      <th></th>\n",
       "      <th></th>\n",
       "      <th></th>\n",
       "      <th></th>\n",
       "      <th></th>\n",
       "    </tr>\n",
       "  </thead>\n",
       "  <tbody>\n",
       "    <tr>\n",
       "      <th>0</th>\n",
       "      <td>3248.0</td>\n",
       "      <td>130.182574</td>\n",
       "      <td>17.167527</td>\n",
       "      <td>106.0</td>\n",
       "      <td>117.00</td>\n",
       "      <td>127.0</td>\n",
       "      <td>138.0</td>\n",
       "      <td>183.0</td>\n",
       "    </tr>\n",
       "    <tr>\n",
       "      <th>1</th>\n",
       "      <td>3864.0</td>\n",
       "      <td>81.246118</td>\n",
       "      <td>11.853809</td>\n",
       "      <td>64.0</td>\n",
       "      <td>70.75</td>\n",
       "      <td>80.0</td>\n",
       "      <td>91.0</td>\n",
       "      <td>105.0</td>\n",
       "    </tr>\n",
       "    <tr>\n",
       "      <th>2</th>\n",
       "      <td>7318.0</td>\n",
       "      <td>45.750205</td>\n",
       "      <td>10.088276</td>\n",
       "      <td>29.0</td>\n",
       "      <td>37.00</td>\n",
       "      <td>45.0</td>\n",
       "      <td>55.0</td>\n",
       "      <td>63.0</td>\n",
       "    </tr>\n",
       "    <tr>\n",
       "      <th>3</th>\n",
       "      <td>10390.0</td>\n",
       "      <td>10.961598</td>\n",
       "      <td>8.496276</td>\n",
       "      <td>0.0</td>\n",
       "      <td>3.00</td>\n",
       "      <td>10.0</td>\n",
       "      <td>18.0</td>\n",
       "      <td>28.0</td>\n",
       "    </tr>\n",
       "  </tbody>\n",
       "</table>\n",
       "</div>"
      ],
      "text/plain": [
       "                        count        mean        std    min     25%    50%  \\\n",
       "scaledRecencyCluster                                                         \n",
       "0                      3248.0  130.182574  17.167527  106.0  117.00  127.0   \n",
       "1                      3864.0   81.246118  11.853809   64.0   70.75   80.0   \n",
       "2                      7318.0   45.750205  10.088276   29.0   37.00   45.0   \n",
       "3                     10390.0   10.961598   8.496276    0.0    3.00   10.0   \n",
       "\n",
       "                        75%    max  \n",
       "scaledRecencyCluster                \n",
       "0                     138.0  183.0  \n",
       "1                      91.0  105.0  \n",
       "2                      55.0   63.0  \n",
       "3                      18.0   28.0  "
      ]
     },
     "execution_count": 343,
     "metadata": {},
     "output_type": "execute_result"
    }
   ],
   "source": [
    "# ## RecencyCluster_k = 4\n",
    "k_clus = 4\n",
    "free_cluster_df = run_kmean_clustering(free_cluster_df,[\"scaledRecency\"],k_cluster=k_clus)\n",
    "\n",
    "## Sắp theo thứ tự R càng thấp thì Cluster càng cao\n",
    "free_cluster_df = order_cluster('scaledRecencyCluster', 'scaledRecency',free_cluster_df,False)\n",
    "free_cluster_df.groupby(\"scaledRecencyCluster\")['Recency'].describe()\n",
    "\n",
    "# ## see details of each cluster - Frequency"
   ]
  },
  {
   "cell_type": "markdown",
   "metadata": {},
   "source": [
    "#### 4.Summary: Recency chia làm 3 nhóm:"
   ]
  },
  {
   "cell_type": "markdown",
   "metadata": {},
   "source": [
    "### 2 Frequency - số lần nghe trong 1 tuần"
   ]
  },
  {
   "cell_type": "markdown",
   "metadata": {},
   "source": [
    "#### 1. Plot F"
   ]
  },
  {
   "cell_type": "code",
   "execution_count": 344,
   "metadata": {},
   "outputs": [
    {
     "data": {
      "text/plain": [
       "count    24820.000000\n",
       "mean         9.181469\n",
       "std         14.555155\n",
       "min          0.111111\n",
       "25%          2.000000\n",
       "50%          4.500000\n",
       "75%         11.000000\n",
       "max        610.000000\n",
       "Name: Frequency, dtype: float64"
      ]
     },
     "execution_count": 344,
     "metadata": {},
     "output_type": "execute_result"
    }
   ],
   "source": [
    "free_cluster_df[\"Frequency\"].describe()"
   ]
  },
  {
   "cell_type": "code",
   "execution_count": 345,
   "metadata": {},
   "outputs": [
    {
     "data": {
      "text/plain": [
       "<AxesSubplot:xlabel='Frequency', ylabel='Count'>"
      ]
     },
     "execution_count": 345,
     "metadata": {},
     "output_type": "execute_result"
    },
    {
     "data": {
      "image/png": "[encoded data removed]",
      "text/plain": [
       "<Figure size 432x288 with 1 Axes>"
      ]
     },
     "metadata": {
      "needs_background": "light"
     },
     "output_type": "display_data"
    }
   ],
   "source": [
    "sns.histplot(data=free_cluster_df,x='Frequency')"
   ]
  },
  {
   "cell_type": "markdown",
   "metadata": {},
   "source": [
    "#### 2. Determine K for Frequency"
   ]
  },
  {
   "cell_type": "code",
   "execution_count": 346,
   "metadata": {},
   "outputs": [
    {
     "data": {
      "image/png": "[encoded data removed]",
      "text/plain": [
       "<Figure size 432x288 with 1 Axes>"
      ]
     },
     "metadata": {
      "needs_background": "light"
     },
     "output_type": "display_data"
    }
   ],
   "source": [
    "## Elbow Method to determine K\n",
    "\n",
    "sse = find_sse(free_cluster_df.loc[:,['scaledFrequency']], max_k = 10) \n",
    "\n",
    "plt.figure()\n",
    "plt.plot(list(sse.keys()),list(sse.values()))\n",
    "plt.xlabel(\"Number of clusters\")\n",
    "plt.show() \n",
    "\n",
    "# k_optimal  = 4"
   ]
  },
  {
   "cell_type": "markdown",
   "metadata": {},
   "source": [
    "#### 3. Frequency Clustering"
   ]
  },
  {
   "cell_type": "code",
   "execution_count": 347,
   "metadata": {},
   "outputs": [
    {
     "data": {
      "text/html": [
       "<div>\n",
       "<style scoped>\n",
       "    .dataframe tbody tr th:only-of-type {\n",
       "        vertical-align: middle;\n",
       "    }\n",
       "\n",
       "    .dataframe tbody tr th {\n",
       "        vertical-align: top;\n",
       "    }\n",
       "\n",
       "    .dataframe thead th {\n",
       "        text-align: right;\n",
       "    }\n",
       "</style>\n",
       "<table border=\"1\" class=\"dataframe\">\n",
       "  <thead>\n",
       "    <tr style=\"text-align: right;\">\n",
       "      <th></th>\n",
       "      <th>count</th>\n",
       "      <th>mean</th>\n",
       "      <th>std</th>\n",
       "      <th>min</th>\n",
       "      <th>25%</th>\n",
       "      <th>50%</th>\n",
       "      <th>75%</th>\n",
       "      <th>max</th>\n",
       "    </tr>\n",
       "    <tr>\n",
       "      <th>scaledFrequencyCluster</th>\n",
       "      <th></th>\n",
       "      <th></th>\n",
       "      <th></th>\n",
       "      <th></th>\n",
       "      <th></th>\n",
       "      <th></th>\n",
       "      <th></th>\n",
       "      <th></th>\n",
       "    </tr>\n",
       "  </thead>\n",
       "  <tbody>\n",
       "    <tr>\n",
       "      <th>0</th>\n",
       "      <td>20379.0</td>\n",
       "      <td>4.535312</td>\n",
       "      <td>3.644625</td>\n",
       "      <td>0.111111</td>\n",
       "      <td>1.666667</td>\n",
       "      <td>3.00</td>\n",
       "      <td>7.00</td>\n",
       "      <td>14.857143</td>\n",
       "    </tr>\n",
       "    <tr>\n",
       "      <th>1</th>\n",
       "      <td>4019.0</td>\n",
       "      <td>25.205797</td>\n",
       "      <td>9.154285</td>\n",
       "      <td>14.888889</td>\n",
       "      <td>18.000000</td>\n",
       "      <td>22.25</td>\n",
       "      <td>31.00</td>\n",
       "      <td>51.000000</td>\n",
       "    </tr>\n",
       "    <tr>\n",
       "      <th>2</th>\n",
       "      <td>418.0</td>\n",
       "      <td>77.310608</td>\n",
       "      <td>30.399520</td>\n",
       "      <td>51.333333</td>\n",
       "      <td>57.525000</td>\n",
       "      <td>67.00</td>\n",
       "      <td>86.00</td>\n",
       "      <td>256.000000</td>\n",
       "    </tr>\n",
       "    <tr>\n",
       "      <th>3</th>\n",
       "      <td>4.0</td>\n",
       "      <td>460.250000</td>\n",
       "      <td>114.400976</td>\n",
       "      <td>333.000000</td>\n",
       "      <td>409.500000</td>\n",
       "      <td>449.00</td>\n",
       "      <td>499.75</td>\n",
       "      <td>610.000000</td>\n",
       "    </tr>\n",
       "  </tbody>\n",
       "</table>\n",
       "</div>"
      ],
      "text/plain": [
       "                          count        mean         std         min  \\\n",
       "scaledFrequencyCluster                                                \n",
       "0                       20379.0    4.535312    3.644625    0.111111   \n",
       "1                        4019.0   25.205797    9.154285   14.888889   \n",
       "2                         418.0   77.310608   30.399520   51.333333   \n",
       "3                           4.0  460.250000  114.400976  333.000000   \n",
       "\n",
       "                               25%     50%     75%         max  \n",
       "scaledFrequencyCluster                                          \n",
       "0                         1.666667    3.00    7.00   14.857143  \n",
       "1                        18.000000   22.25   31.00   51.000000  \n",
       "2                        57.525000   67.00   86.00  256.000000  \n",
       "3                       409.500000  449.00  499.75  610.000000  "
      ]
     },
     "execution_count": 347,
     "metadata": {},
     "output_type": "execute_result"
    }
   ],
   "source": [
    "# ## RecencyCluster_k = 4\n",
    "k_clus = 4\n",
    "free_cluster_df = run_kmean_clustering(free_cluster_df,[\"scaledFrequency\"],k_cluster=k_clus)\n",
    "\n",
    "## Sắp theo thứ tự R càng thấp thì Cluster càng cao\n",
    "free_cluster_df = order_cluster('scaledFrequencyCluster', 'scaledFrequency',free_cluster_df,True)\n",
    "free_cluster_df.groupby(\"scaledFrequencyCluster\")['Frequency'].describe()\n",
    "\n",
    "# ## see details of each cluster - Frequency"
   ]
  },
  {
   "cell_type": "markdown",
   "metadata": {},
   "source": [
    "#### 4.Summary: Frequency chia làm 4 nhóm:\n",
    "1. Nhóm 0: ít dùng : dưới 0-7 lần 1 tuần (mỗi ngày nghe dưới 1 lần)\n",
    "2. Nhóm 1: Dùng mức độ tb: khoảng 14 - 21 lần 1 tuần (mỗi ngày nghe dưới 3 lần)\n",
    "3. Nhóm 2: Hay dùng: khoảng 35 lần 1 tuần (mỗi ngày nghe dưới 6 lần)\n",
    "4. Nhóm 3: Rất hay dùng: khoảng 70 lần mỗi tuần (mỗi ngày nghe khoảng 10 lần trở lên)"
   ]
  },
  {
   "cell_type": "markdown",
   "metadata": {},
   "source": [
    "### 3.Density - Thời lượng cho mỗi lượt nghe (tính bằng phút)"
   ]
  },
  {
   "cell_type": "markdown",
   "metadata": {},
   "source": [
    "#### 1. Plot D"
   ]
  },
  {
   "cell_type": "code",
   "execution_count": 350,
   "metadata": {},
   "outputs": [
    {
     "data": {
      "text/plain": [
       "count    24820.000000\n",
       "mean         9.363947\n",
       "std         13.558361\n",
       "min          0.000000\n",
       "25%          1.548864\n",
       "50%          5.506039\n",
       "75%         12.426737\n",
       "max        535.300000\n",
       "Name: Density, dtype: float64"
      ]
     },
     "execution_count": 350,
     "metadata": {},
     "output_type": "execute_result"
    }
   ],
   "source": [
    "free_cluster_df[\"Density\"].describe()"
   ]
  },
  {
   "cell_type": "code",
   "execution_count": 351,
   "metadata": {
    "scrolled": true
   },
   "outputs": [
    {
     "data": {
      "text/plain": [
       "<AxesSubplot:xlabel='Density', ylabel='Count'>"
      ]
     },
     "execution_count": 351,
     "metadata": {},
     "output_type": "execute_result"
    },
    {
     "data": {
      "image/png": "[encoded data removed]",
      "text/plain": [
       "<Figure size 432x288 with 1 Axes>"
      ]
     },
     "metadata": {
      "needs_background": "light"
     },
     "output_type": "display_data"
    }
   ],
   "source": [
    "sns.histplot(data=free_cluster_df,x='Density')"
   ]
  },
  {
   "cell_type": "markdown",
   "metadata": {},
   "source": [
    "#### 2. Determine K for Monerary"
   ]
  },
  {
   "cell_type": "code",
   "execution_count": 352,
   "metadata": {},
   "outputs": [
    {
     "data": {
      "image/png": "[encoded data removed]",
      "text/plain": [
       "<Figure size 432x288 with 1 Axes>"
      ]
     },
     "metadata": {
      "needs_background": "light"
     },
     "output_type": "display_data"
    }
   ],
   "source": [
    "## Elbow Method to determine K\n",
    "\n",
    "sse = find_sse(free_cluster_df.loc[:,['scaledDensity']], max_k = 10) \n",
    "\n",
    "plt.figure()\n",
    "plt.plot(list(sse.keys()),list(sse.values()))\n",
    "plt.xlabel(\"Number of clusters\")\n",
    "plt.show() \n",
    "\n",
    "# k_optimal  = 4"
   ]
  },
  {
   "cell_type": "markdown",
   "metadata": {},
   "source": [
    "#### 3. Density Clustering"
   ]
  },
  {
   "cell_type": "code",
   "execution_count": 353,
   "metadata": {},
   "outputs": [
    {
     "data": {
      "text/html": [
       "<div>\n",
       "<style scoped>\n",
       "    .dataframe tbody tr th:only-of-type {\n",
       "        vertical-align: middle;\n",
       "    }\n",
       "\n",
       "    .dataframe tbody tr th {\n",
       "        vertical-align: top;\n",
       "    }\n",
       "\n",
       "    .dataframe thead th {\n",
       "        text-align: right;\n",
       "    }\n",
       "</style>\n",
       "<table border=\"1\" class=\"dataframe\">\n",
       "  <thead>\n",
       "    <tr style=\"text-align: right;\">\n",
       "      <th></th>\n",
       "      <th>count</th>\n",
       "      <th>mean</th>\n",
       "      <th>std</th>\n",
       "      <th>min</th>\n",
       "      <th>25%</th>\n",
       "      <th>50%</th>\n",
       "      <th>75%</th>\n",
       "      <th>max</th>\n",
       "    </tr>\n",
       "    <tr>\n",
       "      <th>scaledDensityCluster</th>\n",
       "      <th></th>\n",
       "      <th></th>\n",
       "      <th></th>\n",
       "      <th></th>\n",
       "      <th></th>\n",
       "      <th></th>\n",
       "      <th></th>\n",
       "      <th></th>\n",
       "    </tr>\n",
       "  </thead>\n",
       "  <tbody>\n",
       "    <tr>\n",
       "      <th>0</th>\n",
       "      <td>17357.0</td>\n",
       "      <td>3.690072</td>\n",
       "      <td>3.102012</td>\n",
       "      <td>0.000000</td>\n",
       "      <td>0.950000</td>\n",
       "      <td>2.711111</td>\n",
       "      <td>6.066667</td>\n",
       "      <td>10.676471</td>\n",
       "    </tr>\n",
       "    <tr>\n",
       "      <th>1</th>\n",
       "      <td>6431.0</td>\n",
       "      <td>17.695225</td>\n",
       "      <td>5.736177</td>\n",
       "      <td>10.678652</td>\n",
       "      <td>12.963393</td>\n",
       "      <td>16.105650</td>\n",
       "      <td>21.261230</td>\n",
       "      <td>33.206250</td>\n",
       "    </tr>\n",
       "    <tr>\n",
       "      <th>2</th>\n",
       "      <td>1006.0</td>\n",
       "      <td>48.774155</td>\n",
       "      <td>16.546826</td>\n",
       "      <td>33.255172</td>\n",
       "      <td>37.397443</td>\n",
       "      <td>43.518011</td>\n",
       "      <td>54.313462</td>\n",
       "      <td>126.300000</td>\n",
       "    </tr>\n",
       "    <tr>\n",
       "      <th>3</th>\n",
       "      <td>26.0</td>\n",
       "      <td>211.530361</td>\n",
       "      <td>105.532215</td>\n",
       "      <td>133.850000</td>\n",
       "      <td>150.183333</td>\n",
       "      <td>176.816667</td>\n",
       "      <td>209.250000</td>\n",
       "      <td>535.300000</td>\n",
       "    </tr>\n",
       "  </tbody>\n",
       "</table>\n",
       "</div>"
      ],
      "text/plain": [
       "                        count        mean         std         min         25%  \\\n",
       "scaledDensityCluster                                                            \n",
       "0                     17357.0    3.690072    3.102012    0.000000    0.950000   \n",
       "1                      6431.0   17.695225    5.736177   10.678652   12.963393   \n",
       "2                      1006.0   48.774155   16.546826   33.255172   37.397443   \n",
       "3                        26.0  211.530361  105.532215  133.850000  150.183333   \n",
       "\n",
       "                             50%         75%         max  \n",
       "scaledDensityCluster                                      \n",
       "0                       2.711111    6.066667   10.676471  \n",
       "1                      16.105650   21.261230   33.206250  \n",
       "2                      43.518011   54.313462  126.300000  \n",
       "3                     176.816667  209.250000  535.300000  "
      ]
     },
     "execution_count": 353,
     "metadata": {},
     "output_type": "execute_result"
    }
   ],
   "source": [
    "# ## DensityCluster_k = 3\n",
    "k_clus = 4\n",
    "free_cluster_df = run_kmean_clustering(free_cluster_df,[\"scaledDensity\"],k_cluster=k_clus)\n",
    "\n",
    "## Sắp theo thứ tự R càng thấp thì Cluster càng cao\n",
    "free_cluster_df = order_cluster('scaledDensityCluster', 'scaledDensity',free_cluster_df,True)\n",
    "free_cluster_df.groupby(\"scaledDensityCluster\")['Density'].describe()\n",
    "\n",
    "# ## see details of each cluster - Frequency"
   ]
  },
  {
   "cell_type": "markdown",
   "metadata": {},
   "source": [
    "#### 4.Summary: Density chia làm 4 nhóm:\n",
    "1. Nhóm 0: Giá trị thấp: trung bình trả 23k cho mỗi tuần theo order (0->50k)chủ yếu mua gói 9k đề dùng thử \n",
    "2. Nhóm 1: Giá trị TB: trung bình trả 190k cho mỗi tuần theo order (120k - 390k)\n",
    "3. Nhóm 2: Giá trị cao: trung bình trả gần 600k cho mỗi tuần theo order (>390k)"
   ]
  },
  {
   "cell_type": "markdown",
   "metadata": {},
   "source": [
    "## Output dữ liệu"
   ]
  },
  {
   "cell_type": "code",
   "execution_count": 370,
   "metadata": {},
   "outputs": [],
   "source": [
    "free_cluster_df = free_cluster_df.rename(columns={'scaledRecencyCluster':'RecencyCluster','scaledFrequencyCluster':'FrequencyCluster',\n",
    "       'scaledDensityCluster':'DensityCluster'})"
   ]
  },
  {
   "cell_type": "code",
   "execution_count": 364,
   "metadata": {},
   "outputs": [],
   "source": [
    "data_cluster_df = data_cluster_df.rename(columns={'scaledRecencyCluster':'RecencyCluster','scaledFrequencyCluster':'FrequencyCluster',\n",
    "       'scaledMonetaryCluster':'MonetaryCluster'})"
   ]
  },
  {
   "cell_type": "code",
   "execution_count": 369,
   "metadata": {},
   "outputs": [
    {
     "data": {
      "text/plain": [
       "Index(['User_ID', 'type_user', 'Recency', 'Frequency', 'Density',\n",
       "       'scaledRecency', 'scaledFrequency', 'scaledDensity', 'RecencyCluster',\n",
       "       'FrequencyCluster', 'DensityCluster'],\n",
       "      dtype='object')"
      ]
     },
     "execution_count": 369,
     "metadata": {},
     "output_type": "execute_result"
    }
   ],
   "source": [
    "free_cluster_df.columns"
   ]
  },
  {
   "cell_type": "code",
   "execution_count": 373,
   "metadata": {},
   "outputs": [],
   "source": [
    "cols=['User_ID', 'type_user', 'Recency', 'Frequency', 'RecencyCluster','FrequencyCluster']\n",
    "user_segment_data = pd.DataFrame(pd.concat(objs=[free_cluster_df[cols],data_cluster_df[cols]]).reset_index(drop=True))"
   ]
  },
  {
   "cell_type": "code",
   "execution_count": 375,
   "metadata": {},
   "outputs": [
    {
     "data": {
      "text/plain": [
       "27458"
      ]
     },
     "execution_count": 375,
     "metadata": {},
     "output_type": "execute_result"
    }
   ],
   "source": [
    "user_segment_data.shape[0]"
   ]
  },
  {
   "cell_type": "code",
   "execution_count": null,
   "metadata": {},
   "outputs": [],
   "source": [
    "user_cluster_df= pd.DataFrame(pd.concat(objs=[listening_summary_df['User_ID'],order_summary_df['User_ID']]).drop_duplicates().reset_index(drop=True))"
   ]
  }
 ],
 "metadata": {
  "kernelspec": {
   "display_name": "Python 3",
   "language": "python",
   "name": "python3"
  },
  "language_info": {
   "codemirror_mode": {
    "name": "ipython",
    "version": 3
   },
   "file_extension": ".py",
   "mimetype": "text/x-python",
   "name": "python",
   "nbconvert_exporter": "python",
   "pygments_lexer": "ipython3",
   "version": "3.8.5"
  }
 },
 "nbformat": 4,
 "nbformat_minor": 4
}
