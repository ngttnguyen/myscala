{
 "cells": [
  {
   "cell_type": "code",
   "execution_count": 1,
   "metadata": {},
   "outputs": [],
   "source": [
    "import pandas as pd\n",
    "import numpy as np\n",
    "from matplotlib import pyplot as plt\n",
    "import seaborn as sns\n",
    "\n",
    "import duckdb # -> Thư viện \"giả lập\" xử lý dữ liệu bằng SQL \n",
    "from datetime import date\n",
    "from datetime import time\n",
    "from sklearn.cluster import KMeans"
   ]
  },
  {
   "cell_type": "code",
   "execution_count": 2,
   "metadata": {},
   "outputs": [],
   "source": [
    "order_detail_df = pd.read_excel(\"data/order.xlsx\", parse_dates = ['Ngày phát sinh'])\n",
    "user_df = pd.read_excel(\"data/user.xlsx\", parse_dates = ['Ngày đăng ký tài khoản'])\n",
    "listening_detail_df = pd.read_excel(\"data/listening.xlsx\")"
   ]
  },
  {
   "cell_type": "markdown",
   "metadata": {},
   "source": [
    "#### Chuyển kiểu dữ liệu"
   ]
  },
  {
   "cell_type": "code",
   "execution_count": 3,
   "metadata": {},
   "outputs": [],
   "source": [
    "# Chuyển User_ID và Order_ID, Playlist ID sang category\n",
    "order_detail_df['Order ID'] = order_detail_df['Order ID'].astype('category')\n",
    "order_detail_df['ID của user'] = order_detail_df['ID của user'].astype('category')\n",
    "\n",
    "user_df['User ID'] = user_df['User ID'].astype('category')\n",
    "\n",
    "listening_detail_df['Playlist ID']=listening_detail_df['Playlist ID'].astype('category')\n",
    "listening_detail_df['User ID']=listening_detail_df['User ID'].astype('category')"
   ]
  },
  {
   "cell_type": "code",
   "execution_count": 4,
   "metadata": {},
   "outputs": [],
   "source": [
    "# Chuyển Ngày phát sinh lượt nghe sang kiểu dữ liệu date\n",
    "listening_detail_df[\"Ngày phát sinh lượt nghe\"] = listening_detail_df[\"Ngày phát sinh lượt nghe\"].map(\n",
    "                                        lambda x:date(int(x.split(\"-\")[2]),int(x.split(\"-\")[1]),int(x.split(\"-\")[0])))\n",
    "listening_detail_df[\"Ngày phát sinh lượt nghe\"] = listening_detail_df[\"Ngày phát sinh lượt nghe\"].astype(\"datetime64\")"
   ]
  },
  {
   "cell_type": "code",
   "execution_count": 6,
   "metadata": {
    "scrolled": false
   },
   "outputs": [
    {
     "data": {
      "text/html": [
       "<div>\n",
       "<style scoped>\n",
       "    .dataframe tbody tr th:only-of-type {\n",
       "        vertical-align: middle;\n",
       "    }\n",
       "\n",
       "    .dataframe tbody tr th {\n",
       "        vertical-align: top;\n",
       "    }\n",
       "\n",
       "    .dataframe thead th {\n",
       "        text-align: right;\n",
       "    }\n",
       "</style>\n",
       "<table border=\"1\" class=\"dataframe\">\n",
       "  <thead>\n",
       "    <tr style=\"text-align: right;\">\n",
       "      <th></th>\n",
       "      <th>Order ID</th>\n",
       "      <th>Ngày phát sinh</th>\n",
       "      <th>ID của user</th>\n",
       "      <th>Loại hoá đơn (9k/Xu/VIP)</th>\n",
       "      <th>Giá trị hoá đơn</th>\n",
       "    </tr>\n",
       "  </thead>\n",
       "  <tbody>\n",
       "    <tr>\n",
       "      <th>0</th>\n",
       "      <td>6706</td>\n",
       "      <td>2020-08-16</td>\n",
       "      <td>44822</td>\n",
       "      <td>VIP</td>\n",
       "      <td>199000</td>\n",
       "    </tr>\n",
       "    <tr>\n",
       "      <th>1</th>\n",
       "      <td>6998</td>\n",
       "      <td>2020-08-23</td>\n",
       "      <td>47128</td>\n",
       "      <td>VIP</td>\n",
       "      <td>199000</td>\n",
       "    </tr>\n",
       "    <tr>\n",
       "      <th>2</th>\n",
       "      <td>6927</td>\n",
       "      <td>2020-08-21</td>\n",
       "      <td>47134</td>\n",
       "      <td>VIP</td>\n",
       "      <td>199000</td>\n",
       "    </tr>\n",
       "  </tbody>\n",
       "</table>\n",
       "</div>"
      ],
      "text/plain": [
       "  Order ID Ngày phát sinh ID của user Loại hoá đơn (9k/Xu/VIP)  \\\n",
       "0     6706     2020-08-16       44822                      VIP   \n",
       "1     6998     2020-08-23       47128                      VIP   \n",
       "2     6927     2020-08-21       47134                      VIP   \n",
       "\n",
       "   Giá trị hoá đơn  \n",
       "0           199000  \n",
       "1           199000  \n",
       "2           199000  "
      ]
     },
     "execution_count": 6,
     "metadata": {},
     "output_type": "execute_result"
    }
   ],
   "source": [
    "order_detail_df.head(3)"
   ]
  },
  {
   "cell_type": "code",
   "execution_count": 7,
   "metadata": {
    "scrolled": true
   },
   "outputs": [
    {
     "data": {
      "text/html": [
       "<div>\n",
       "<style scoped>\n",
       "    .dataframe tbody tr th:only-of-type {\n",
       "        vertical-align: middle;\n",
       "    }\n",
       "\n",
       "    .dataframe tbody tr th {\n",
       "        vertical-align: top;\n",
       "    }\n",
       "\n",
       "    .dataframe thead th {\n",
       "        text-align: right;\n",
       "    }\n",
       "</style>\n",
       "<table border=\"1\" class=\"dataframe\">\n",
       "  <thead>\n",
       "    <tr style=\"text-align: right;\">\n",
       "      <th></th>\n",
       "      <th>User ID</th>\n",
       "      <th>VIP hay Free</th>\n",
       "      <th>Giới tính</th>\n",
       "      <th>Năm sinh</th>\n",
       "      <th>Việt Nam hay Nước ngoài</th>\n",
       "      <th>iOS hay Android</th>\n",
       "      <th>Ngày đăng ký tài khoản</th>\n",
       "      <th>Tổng số lượt nghe</th>\n",
       "      <th>Tổng thời lượng nghe (phút)</th>\n",
       "    </tr>\n",
       "  </thead>\n",
       "  <tbody>\n",
       "    <tr>\n",
       "      <th>0</th>\n",
       "      <td>86229</td>\n",
       "      <td>free</td>\n",
       "      <td>male</td>\n",
       "      <td>NaN</td>\n",
       "      <td>VN</td>\n",
       "      <td>android</td>\n",
       "      <td>2020-11-27</td>\n",
       "      <td>218</td>\n",
       "      <td>4151.3</td>\n",
       "    </tr>\n",
       "    <tr>\n",
       "      <th>1</th>\n",
       "      <td>48053</td>\n",
       "      <td>free</td>\n",
       "      <td>male</td>\n",
       "      <td>1995.0</td>\n",
       "      <td>VN</td>\n",
       "      <td>ios</td>\n",
       "      <td>2020-08-24</td>\n",
       "      <td>19</td>\n",
       "      <td>278.6</td>\n",
       "    </tr>\n",
       "    <tr>\n",
       "      <th>2</th>\n",
       "      <td>46340</td>\n",
       "      <td>free</td>\n",
       "      <td>male</td>\n",
       "      <td>1988.0</td>\n",
       "      <td>VN</td>\n",
       "      <td>website</td>\n",
       "      <td>2020-08-19</td>\n",
       "      <td>28</td>\n",
       "      <td>170.5</td>\n",
       "    </tr>\n",
       "  </tbody>\n",
       "</table>\n",
       "</div>"
      ],
      "text/plain": [
       "  User ID VIP hay Free Giới tính  Năm sinh Việt Nam hay Nước ngoài  \\\n",
       "0   86229         free      male       NaN                      VN   \n",
       "1   48053         free      male    1995.0                      VN   \n",
       "2   46340         free      male    1988.0                      VN   \n",
       "\n",
       "  iOS hay Android Ngày đăng ký tài khoản  Tổng số lượt nghe  \\\n",
       "0         android             2020-11-27                218   \n",
       "1             ios             2020-08-24                 19   \n",
       "2         website             2020-08-19                 28   \n",
       "\n",
       "   Tổng thời lượng nghe (phút)  \n",
       "0                       4151.3  \n",
       "1                        278.6  \n",
       "2                        170.5  "
      ]
     },
     "execution_count": 7,
     "metadata": {},
     "output_type": "execute_result"
    }
   ],
   "source": [
    "user_df.head(3)"
   ]
  },
  {
   "cell_type": "code",
   "execution_count": 8,
   "metadata": {
    "scrolled": true
   },
   "outputs": [
    {
     "data": {
      "text/html": [
       "<div>\n",
       "<style scoped>\n",
       "    .dataframe tbody tr th:only-of-type {\n",
       "        vertical-align: middle;\n",
       "    }\n",
       "\n",
       "    .dataframe tbody tr th {\n",
       "        vertical-align: top;\n",
       "    }\n",
       "\n",
       "    .dataframe thead th {\n",
       "        text-align: right;\n",
       "    }\n",
       "</style>\n",
       "<table border=\"1\" class=\"dataframe\">\n",
       "  <thead>\n",
       "    <tr style=\"text-align: right;\">\n",
       "      <th></th>\n",
       "      <th>Playlist ID</th>\n",
       "      <th>Tên playlist</th>\n",
       "      <th>Category tầng 1 của playlist</th>\n",
       "      <th>Category tầng 2 của playlist</th>\n",
       "      <th>Playlist là Free hay VIP</th>\n",
       "      <th>Thời lượng của playlist (phút)</th>\n",
       "      <th>Thời lượng của lượt nghe (phút)</th>\n",
       "      <th>User ID</th>\n",
       "      <th>Giờ phát sinh lượt nghe</th>\n",
       "      <th>Ngày phát sinh lượt nghe</th>\n",
       "    </tr>\n",
       "  </thead>\n",
       "  <tbody>\n",
       "    <tr>\n",
       "      <th>0</th>\n",
       "      <td>4529</td>\n",
       "      <td>Dạy Tiếng Anh Cho Trẻ Mầm Non</td>\n",
       "      <td>Podcast</td>\n",
       "      <td>Học ngoại ngữ</td>\n",
       "      <td>free</td>\n",
       "      <td>44.9</td>\n",
       "      <td>0.1</td>\n",
       "      <td>82846</td>\n",
       "      <td>06:05</td>\n",
       "      <td>2020-12-03</td>\n",
       "    </tr>\n",
       "    <tr>\n",
       "      <th>1</th>\n",
       "      <td>4577</td>\n",
       "      <td>Tư Duy Tích Cực - Bạn Là Những Gì Bạn Nghĩ (Nh...</td>\n",
       "      <td>Sách nói</td>\n",
       "      <td>Hạnh phúc</td>\n",
       "      <td>vip</td>\n",
       "      <td>79.8</td>\n",
       "      <td>15.9</td>\n",
       "      <td>56112</td>\n",
       "      <td>12:49</td>\n",
       "      <td>2020-10-30</td>\n",
       "    </tr>\n",
       "    <tr>\n",
       "      <th>2</th>\n",
       "      <td>4169</td>\n",
       "      <td>50 thiên thần của bạn: Giải phóng bản thân khỏ...</td>\n",
       "      <td>Sách nói</td>\n",
       "      <td>Tâm linh</td>\n",
       "      <td>vip</td>\n",
       "      <td>324.8</td>\n",
       "      <td>6.8</td>\n",
       "      <td>94362</td>\n",
       "      <td>00:17</td>\n",
       "      <td>2020-12-15</td>\n",
       "    </tr>\n",
       "  </tbody>\n",
       "</table>\n",
       "</div>"
      ],
      "text/plain": [
       "  Playlist ID                                       Tên playlist  \\\n",
       "0        4529                      Dạy Tiếng Anh Cho Trẻ Mầm Non   \n",
       "1        4577  Tư Duy Tích Cực - Bạn Là Những Gì Bạn Nghĩ (Nh...   \n",
       "2        4169  50 thiên thần của bạn: Giải phóng bản thân khỏ...   \n",
       "\n",
       "  Category tầng 1 của playlist Category tầng 2 của playlist  \\\n",
       "0                      Podcast                Học ngoại ngữ   \n",
       "1                     Sách nói                    Hạnh phúc   \n",
       "2                     Sách nói                     Tâm linh   \n",
       "\n",
       "  Playlist là Free hay VIP  Thời lượng của playlist (phút)  \\\n",
       "0                     free                            44.9   \n",
       "1                      vip                            79.8   \n",
       "2                      vip                           324.8   \n",
       "\n",
       "   Thời lượng của lượt nghe (phút) User ID Giờ phát sinh lượt nghe  \\\n",
       "0                              0.1   82846                   06:05   \n",
       "1                             15.9   56112                   12:49   \n",
       "2                              6.8   94362                   00:17   \n",
       "\n",
       "  Ngày phát sinh lượt nghe  \n",
       "0               2020-12-03  \n",
       "1               2020-10-30  \n",
       "2               2020-12-15  "
      ]
     },
     "execution_count": 8,
     "metadata": {},
     "output_type": "execute_result"
    }
   ],
   "source": [
    "listening_detail_df.head(3)"
   ]
  },
  {
   "cell_type": "code",
   "execution_count": 68,
   "metadata": {},
   "outputs": [],
   "source": [
    "# listening_detail_df.to_csv(\"data/pre_listening.csv\")"
   ]
  },
  {
   "cell_type": "code",
   "execution_count": 9,
   "metadata": {},
   "outputs": [],
   "source": [
    "# listening_detail_df.describe(include = 'all')"
   ]
  },
  {
   "cell_type": "code",
   "execution_count": 10,
   "metadata": {},
   "outputs": [],
   "source": [
    "# order_detail_df.describe(include = 'all')"
   ]
  },
  {
   "cell_type": "code",
   "execution_count": 11,
   "metadata": {},
   "outputs": [],
   "source": [
    "# user_df.describe(include = 'all')"
   ]
  },
  {
   "cell_type": "markdown",
   "metadata": {},
   "source": [
    "#### Khảo sát về sự consistence của các USER_ID trong các file"
   ]
  },
  {
   "cell_type": "code",
   "execution_count": 24,
   "metadata": {},
   "outputs": [],
   "source": [
    "order_userID = order_detail_df['ID của user'].unique()\n",
    "userID = user_df['User ID'].unique()\n",
    "listen_userID = listening_detail_df['User ID'].unique()\n",
    "\n",
    "\n",
    "user_cnt = len(userID)\n",
    "order_user_cnt = len(order_userID)\n",
    "listen_user_cnt = len(listen_userID)\n",
    "\n",
    "order_nolisten_cnt = len([item for item in order_userID if item  not in listen_userID])\n",
    "listen_noorder_cnt = len([item for item in listen_userID if item  not in order_userID])\n",
    "order_listen_cnt = len([item for item in listen_userID if item  in order_userID])\n",
    "\n",
    "\n",
    "user_stat_dict = {\"user_cnt\":user_cnt,\n",
    "                \"order_user_cnt\": order_user_cnt,\n",
    "                \"listen_user_cnt\": listen_user_cnt      \n",
    "                }\n",
    "\n",
    "order_listen_stat_dict = {\"order_listen_cnt\":order_listen_cnt,\n",
    "                \"order_nolisten_cnt\": order_nolisten_cnt,\n",
    "                \"listen_noorder_cnt\": listen_noorder_cnt      \n",
    "                }"
   ]
  },
  {
   "cell_type": "code",
   "execution_count": 26,
   "metadata": {},
   "outputs": [
    {
     "data": {
      "text/plain": [
       "Text(0.5, 1.0, 'The percentage of users in orders')"
      ]
     },
     "execution_count": 26,
     "metadata": {},
     "output_type": "execute_result"
    },
    {
     "data": {
      "image/png": "[encoded data removed]",
      "text/plain": [
       "<Figure size 432x288 with 1 Axes>"
      ]
     },
     "metadata": {},
     "output_type": "display_data"
    }
   ],
   "source": [
    "data = [order_user_cnt,user_cnt - order_user_cnt]\n",
    "label = [\"order_user_cnt\",\"noorder_user_cnt\"]\n",
    "plt.pie(x= data , autopct=\"%.1f%%\", explode=[0.05]*len(data),labels=label);\n",
    "plt.title(\"The percentage of users in orders\")"
   ]
  },
  {
   "cell_type": "code",
   "execution_count": 27,
   "metadata": {},
   "outputs": [
    {
     "data": {
      "text/plain": [
       "Text(0.5, 1.0, 'The percentage of users in listening')"
      ]
     },
     "execution_count": 27,
     "metadata": {},
     "output_type": "execute_result"
    },
    {
     "data": {
      "image/png": "[encoded data removed]",
      "text/plain": [
       "<Figure size 432x288 with 1 Axes>"
      ]
     },
     "metadata": {},
     "output_type": "display_data"
    }
   ],
   "source": [
    "data = [listen_user_cnt,user_cnt - listen_user_cnt]\n",
    "label = [\"listen_user_cnt\",\"nolisten_user_cnt\"]\n",
    "plt.pie(x= data , autopct=\"%.1f%%\", explode=[0.05]*len(data),labels=label);\n",
    "plt.title(\"The percentage of users in listening\")"
   ]
  },
  {
   "cell_type": "code",
   "execution_count": 28,
   "metadata": {},
   "outputs": [
    {
     "data": {
      "text/plain": [
       "Text(0.5, 1.0, 'The percentage of users in orders and listening')"
      ]
     },
     "execution_count": 28,
     "metadata": {},
     "output_type": "execute_result"
    },
    {
     "data": {
      "image/png": "[encoded data removed]",
      "text/plain": [
       "<Figure size 432x288 with 1 Axes>"
      ]
     },
     "metadata": {},
     "output_type": "display_data"
    }
   ],
   "source": [
    "data = order_listen_stat_dict.values()\n",
    "label = order_listen_stat_dict.keys()\n",
    "plt.pie(x= data , autopct=\"%.1f%%\", explode=[0.05]*len(data),labels=label);\n",
    "plt.title(\"The percentage of users in orders and listening\")"
   ]
  },
  {
   "cell_type": "markdown",
   "metadata": {},
   "source": [
    "##### Xem những người có order mà ko listen hay mua gì"
   ]
  },
  {
   "cell_type": "code",
   "execution_count": 29,
   "metadata": {},
   "outputs": [
    {
     "data": {
      "text/plain": [
       "9K     118\n",
       "VIP    115\n",
       "XU      97\n",
       "Name: Loại hoá đơn (9k/Xu/VIP), dtype: int64"
      ]
     },
     "execution_count": 29,
     "metadata": {},
     "output_type": "execute_result"
    }
   ],
   "source": [
    "listen_not_in_order_user_df = order_detail_df[~order_detail_df['ID của user'].isin(listening_detail_df['User ID'])]\n",
    "listen_not_in_order_user_df[\"Loại hoá đơn (9k/Xu/VIP)\"].value_counts()"
   ]
  },
  {
   "cell_type": "code",
   "execution_count": 16,
   "metadata": {},
   "outputs": [
    {
     "data": {
      "text/plain": [
       "9K     118\n",
       "VIP    115\n",
       "XU      97\n",
       "Name: Loại hoá đơn (9k/Xu/VIP), dtype: int64"
      ]
     },
     "execution_count": 16,
     "metadata": {},
     "output_type": "execute_result"
    }
   ],
   "source": [
    "listen_not_in_order_user_df[\"Loại hoá đơn (9k/Xu/VIP)\"].value_counts()"
   ]
  },
  {
   "cell_type": "markdown",
   "metadata": {},
   "source": [
    "## Xét ORDERs"
   ]
  },
  {
   "cell_type": "code",
   "execution_count": 17,
   "metadata": {},
   "outputs": [
    {
     "data": {
      "text/html": [
       "<div>\n",
       "<style scoped>\n",
       "    .dataframe tbody tr th:only-of-type {\n",
       "        vertical-align: middle;\n",
       "    }\n",
       "\n",
       "    .dataframe tbody tr th {\n",
       "        vertical-align: top;\n",
       "    }\n",
       "\n",
       "    .dataframe thead th {\n",
       "        text-align: right;\n",
       "    }\n",
       "</style>\n",
       "<table border=\"1\" class=\"dataframe\">\n",
       "  <thead>\n",
       "    <tr style=\"text-align: right;\">\n",
       "      <th></th>\n",
       "      <th>Order ID</th>\n",
       "      <th>Ngày phát sinh</th>\n",
       "      <th>ID của user</th>\n",
       "      <th>Loại hoá đơn (9k/Xu/VIP)</th>\n",
       "      <th>Giá trị hoá đơn</th>\n",
       "    </tr>\n",
       "  </thead>\n",
       "  <tbody>\n",
       "    <tr>\n",
       "      <th>0</th>\n",
       "      <td>6706</td>\n",
       "      <td>2020-08-16</td>\n",
       "      <td>44822</td>\n",
       "      <td>VIP</td>\n",
       "      <td>199000</td>\n",
       "    </tr>\n",
       "    <tr>\n",
       "      <th>1</th>\n",
       "      <td>6998</td>\n",
       "      <td>2020-08-23</td>\n",
       "      <td>47128</td>\n",
       "      <td>VIP</td>\n",
       "      <td>199000</td>\n",
       "    </tr>\n",
       "    <tr>\n",
       "      <th>2</th>\n",
       "      <td>6927</td>\n",
       "      <td>2020-08-21</td>\n",
       "      <td>47134</td>\n",
       "      <td>VIP</td>\n",
       "      <td>199000</td>\n",
       "    </tr>\n",
       "  </tbody>\n",
       "</table>\n",
       "</div>"
      ],
      "text/plain": [
       "  Order ID Ngày phát sinh ID của user Loại hoá đơn (9k/Xu/VIP)  \\\n",
       "0     6706     2020-08-16       44822                      VIP   \n",
       "1     6998     2020-08-23       47128                      VIP   \n",
       "2     6927     2020-08-21       47134                      VIP   \n",
       "\n",
       "   Giá trị hoá đơn  \n",
       "0           199000  \n",
       "1           199000  \n",
       "2           199000  "
      ]
     },
     "execution_count": 17,
     "metadata": {},
     "output_type": "execute_result"
    }
   ],
   "source": [
    "order_detail_df.head(3)"
   ]
  },
  {
   "cell_type": "code",
   "execution_count": 30,
   "metadata": {},
   "outputs": [
    {
     "data": {
      "text/html": [
       "<div>\n",
       "<style scoped>\n",
       "    .dataframe tbody tr th:only-of-type {\n",
       "        vertical-align: middle;\n",
       "    }\n",
       "\n",
       "    .dataframe tbody tr th {\n",
       "        vertical-align: top;\n",
       "    }\n",
       "\n",
       "    .dataframe thead th {\n",
       "        text-align: right;\n",
       "    }\n",
       "</style>\n",
       "<table border=\"1\" class=\"dataframe\">\n",
       "  <thead>\n",
       "    <tr style=\"text-align: right;\">\n",
       "      <th></th>\n",
       "      <th>Order ID</th>\n",
       "      <th>Ngày phát sinh</th>\n",
       "      <th>ID của user</th>\n",
       "      <th>Loại hoá đơn (9k/Xu/VIP)</th>\n",
       "      <th>Giá trị hoá đơn</th>\n",
       "      <th>order_year</th>\n",
       "      <th>order_month</th>\n",
       "      <th>order_day</th>\n",
       "      <th>order_weekday</th>\n",
       "    </tr>\n",
       "  </thead>\n",
       "  <tbody>\n",
       "    <tr>\n",
       "      <th>0</th>\n",
       "      <td>6706</td>\n",
       "      <td>2020-08-16</td>\n",
       "      <td>44822</td>\n",
       "      <td>VIP</td>\n",
       "      <td>199000</td>\n",
       "      <td>2020</td>\n",
       "      <td>08</td>\n",
       "      <td>16</td>\n",
       "      <td>Sunday</td>\n",
       "    </tr>\n",
       "    <tr>\n",
       "      <th>1</th>\n",
       "      <td>6998</td>\n",
       "      <td>2020-08-23</td>\n",
       "      <td>47128</td>\n",
       "      <td>VIP</td>\n",
       "      <td>199000</td>\n",
       "      <td>2020</td>\n",
       "      <td>08</td>\n",
       "      <td>23</td>\n",
       "      <td>Sunday</td>\n",
       "    </tr>\n",
       "    <tr>\n",
       "      <th>2</th>\n",
       "      <td>6927</td>\n",
       "      <td>2020-08-21</td>\n",
       "      <td>47134</td>\n",
       "      <td>VIP</td>\n",
       "      <td>199000</td>\n",
       "      <td>2020</td>\n",
       "      <td>08</td>\n",
       "      <td>21</td>\n",
       "      <td>Friday</td>\n",
       "    </tr>\n",
       "  </tbody>\n",
       "</table>\n",
       "</div>"
      ],
      "text/plain": [
       "  Order ID Ngày phát sinh ID của user Loại hoá đơn (9k/Xu/VIP)  \\\n",
       "0     6706     2020-08-16       44822                      VIP   \n",
       "1     6998     2020-08-23       47128                      VIP   \n",
       "2     6927     2020-08-21       47134                      VIP   \n",
       "\n",
       "   Giá trị hoá đơn order_year order_month order_day order_weekday  \n",
       "0           199000       2020          08        16        Sunday  \n",
       "1           199000       2020          08        23        Sunday  \n",
       "2           199000       2020          08        21        Friday  "
      ]
     },
     "execution_count": 30,
     "metadata": {},
     "output_type": "execute_result"
    }
   ],
   "source": [
    "##### Cắt nhỏ giá trị order_date\n",
    "\n",
    "order_detail_df['order_year'] = order_detail_df['Ngày phát sinh'].map(lambda x: x.strftime('%Y'))\n",
    "order_detail_df['order_month'] = order_detail_df['Ngày phát sinh'].map(lambda x: x.strftime('%m'))\n",
    "order_detail_df['order_day'] = order_detail_df['Ngày phát sinh'].map(lambda x: x.strftime('%d'))\n",
    "order_detail_df['order_weekday'] = order_detail_df['Ngày phát sinh'].map(lambda x: x.strftime('%A'))\n",
    "order_detail_df.head(3)"
   ]
  },
  {
   "cell_type": "markdown",
   "metadata": {},
   "source": [
    "## Xét Listenings"
   ]
  },
  {
   "cell_type": "code",
   "execution_count": 20,
   "metadata": {},
   "outputs": [
    {
     "data": {
      "text/html": [
       "<div>\n",
       "<style scoped>\n",
       "    .dataframe tbody tr th:only-of-type {\n",
       "        vertical-align: middle;\n",
       "    }\n",
       "\n",
       "    .dataframe tbody tr th {\n",
       "        vertical-align: top;\n",
       "    }\n",
       "\n",
       "    .dataframe thead th {\n",
       "        text-align: right;\n",
       "    }\n",
       "</style>\n",
       "<table border=\"1\" class=\"dataframe\">\n",
       "  <thead>\n",
       "    <tr style=\"text-align: right;\">\n",
       "      <th></th>\n",
       "      <th>Playlist ID</th>\n",
       "      <th>Tên playlist</th>\n",
       "      <th>Category tầng 1 của playlist</th>\n",
       "      <th>Category tầng 2 của playlist</th>\n",
       "      <th>Playlist là Free hay VIP</th>\n",
       "      <th>Thời lượng của playlist (phút)</th>\n",
       "      <th>Thời lượng của lượt nghe (phút)</th>\n",
       "      <th>User ID</th>\n",
       "      <th>Giờ phát sinh lượt nghe</th>\n",
       "      <th>Ngày phát sinh lượt nghe</th>\n",
       "    </tr>\n",
       "  </thead>\n",
       "  <tbody>\n",
       "    <tr>\n",
       "      <th>0</th>\n",
       "      <td>4529</td>\n",
       "      <td>Dạy Tiếng Anh Cho Trẻ Mầm Non</td>\n",
       "      <td>Podcast</td>\n",
       "      <td>Học ngoại ngữ</td>\n",
       "      <td>free</td>\n",
       "      <td>44.9</td>\n",
       "      <td>0.1</td>\n",
       "      <td>82846</td>\n",
       "      <td>06:05</td>\n",
       "      <td>2020-12-03</td>\n",
       "    </tr>\n",
       "    <tr>\n",
       "      <th>1</th>\n",
       "      <td>4577</td>\n",
       "      <td>Tư Duy Tích Cực - Bạn Là Những Gì Bạn Nghĩ (Nh...</td>\n",
       "      <td>Sách nói</td>\n",
       "      <td>Hạnh phúc</td>\n",
       "      <td>vip</td>\n",
       "      <td>79.8</td>\n",
       "      <td>15.9</td>\n",
       "      <td>56112</td>\n",
       "      <td>12:49</td>\n",
       "      <td>2020-10-30</td>\n",
       "    </tr>\n",
       "    <tr>\n",
       "      <th>2</th>\n",
       "      <td>4169</td>\n",
       "      <td>50 thiên thần của bạn: Giải phóng bản thân khỏ...</td>\n",
       "      <td>Sách nói</td>\n",
       "      <td>Tâm linh</td>\n",
       "      <td>vip</td>\n",
       "      <td>324.8</td>\n",
       "      <td>6.8</td>\n",
       "      <td>94362</td>\n",
       "      <td>00:17</td>\n",
       "      <td>2020-12-15</td>\n",
       "    </tr>\n",
       "  </tbody>\n",
       "</table>\n",
       "</div>"
      ],
      "text/plain": [
       "  Playlist ID                                       Tên playlist  \\\n",
       "0        4529                      Dạy Tiếng Anh Cho Trẻ Mầm Non   \n",
       "1        4577  Tư Duy Tích Cực - Bạn Là Những Gì Bạn Nghĩ (Nh...   \n",
       "2        4169  50 thiên thần của bạn: Giải phóng bản thân khỏ...   \n",
       "\n",
       "  Category tầng 1 của playlist Category tầng 2 của playlist  \\\n",
       "0                      Podcast                Học ngoại ngữ   \n",
       "1                     Sách nói                    Hạnh phúc   \n",
       "2                     Sách nói                     Tâm linh   \n",
       "\n",
       "  Playlist là Free hay VIP  Thời lượng của playlist (phút)  \\\n",
       "0                     free                            44.9   \n",
       "1                      vip                            79.8   \n",
       "2                      vip                           324.8   \n",
       "\n",
       "   Thời lượng của lượt nghe (phút) User ID Giờ phát sinh lượt nghe  \\\n",
       "0                              0.1   82846                   06:05   \n",
       "1                             15.9   56112                   12:49   \n",
       "2                              6.8   94362                   00:17   \n",
       "\n",
       "  Ngày phát sinh lượt nghe  \n",
       "0               2020-12-03  \n",
       "1               2020-10-30  \n",
       "2               2020-12-15  "
      ]
     },
     "execution_count": 20,
     "metadata": {},
     "output_type": "execute_result"
    }
   ],
   "source": [
    "listening_detail_df.head(3)"
   ]
  },
  {
   "cell_type": "markdown",
   "metadata": {},
   "source": [
    "## Summary Listenings and Orders"
   ]
  },
  {
   "cell_type": "code",
   "execution_count": null,
   "metadata": {},
   "outputs": [],
   "source": [
    "## Tạo order_summary_df và listening_summary_df để chứa dữ liệu thống kê về orders và listenings\n",
    "## Tạo user_cluster_df để chứa dữ liệu về user_cluster"
   ]
  },
  {
   "cell_type": "code",
   "execution_count": 44,
   "metadata": {},
   "outputs": [
    {
     "data": {
      "text/html": [
       "<div>\n",
       "<style scoped>\n",
       "    .dataframe tbody tr th:only-of-type {\n",
       "        vertical-align: middle;\n",
       "    }\n",
       "\n",
       "    .dataframe tbody tr th {\n",
       "        vertical-align: top;\n",
       "    }\n",
       "\n",
       "    .dataframe thead th {\n",
       "        text-align: right;\n",
       "    }\n",
       "</style>\n",
       "<table border=\"1\" class=\"dataframe\">\n",
       "  <thead>\n",
       "    <tr style=\"text-align: right;\">\n",
       "      <th></th>\n",
       "      <th>User_ID</th>\n",
       "      <th>min_purchase_date</th>\n",
       "      <th>max_purchase_date</th>\n",
       "      <th>order_cnt</th>\n",
       "      <th>revenue</th>\n",
       "    </tr>\n",
       "  </thead>\n",
       "  <tbody>\n",
       "    <tr>\n",
       "      <th>0</th>\n",
       "      <td>40843</td>\n",
       "      <td>2020-09-15</td>\n",
       "      <td>2020-10-21</td>\n",
       "      <td>3</td>\n",
       "      <td>27000</td>\n",
       "    </tr>\n",
       "    <tr>\n",
       "      <th>1</th>\n",
       "      <td>40861</td>\n",
       "      <td>2020-09-09</td>\n",
       "      <td>2020-09-09</td>\n",
       "      <td>1</td>\n",
       "      <td>199000</td>\n",
       "    </tr>\n",
       "    <tr>\n",
       "      <th>2</th>\n",
       "      <td>41003</td>\n",
       "      <td>2020-10-27</td>\n",
       "      <td>2020-10-27</td>\n",
       "      <td>1</td>\n",
       "      <td>599000</td>\n",
       "    </tr>\n",
       "  </tbody>\n",
       "</table>\n",
       "</div>"
      ],
      "text/plain": [
       "  User_ID min_purchase_date max_purchase_date  order_cnt  revenue\n",
       "0   40843        2020-09-15        2020-10-21          3    27000\n",
       "1   40861        2020-09-09        2020-09-09          1   199000\n",
       "2   41003        2020-10-27        2020-10-27          1   599000"
      ]
     },
     "execution_count": 44,
     "metadata": {},
     "output_type": "execute_result"
    }
   ],
   "source": [
    "order_summary_df = order_detail_df.groupby('ID của user').agg(\n",
    "                    {'Ngày phát sinh': ['min', 'max', 'count'],\n",
    "                     'Giá trị hoá đơn': 'sum',\n",
    "                    }\n",
    "                    ).reset_index()\n",
    "order_summary_df.columns = ['User_ID','min_purchase_date','max_purchase_date','order_cnt','revenue']\n",
    "\n",
    "order_summary_df.head(3)"
   ]
  },
  {
   "cell_type": "code",
   "execution_count": 99,
   "metadata": {},
   "outputs": [
    {
     "data": {
      "text/html": [
       "<div>\n",
       "<style scoped>\n",
       "    .dataframe tbody tr th:only-of-type {\n",
       "        vertical-align: middle;\n",
       "    }\n",
       "\n",
       "    .dataframe tbody tr th {\n",
       "        vertical-align: top;\n",
       "    }\n",
       "\n",
       "    .dataframe thead th {\n",
       "        text-align: right;\n",
       "    }\n",
       "</style>\n",
       "<table border=\"1\" class=\"dataframe\">\n",
       "  <thead>\n",
       "    <tr style=\"text-align: right;\">\n",
       "      <th></th>\n",
       "      <th>User_ID</th>\n",
       "      <th>first_listen_date</th>\n",
       "      <th>last_listen_date</th>\n",
       "      <th>avg_duration_per_listen</th>\n",
       "      <th>std_avg_duration_per_listen</th>\n",
       "      <th>listen_cnt</th>\n",
       "      <th>total_listen_minute</th>\n",
       "    </tr>\n",
       "  </thead>\n",
       "  <tbody>\n",
       "    <tr>\n",
       "      <th>0</th>\n",
       "      <td>40834</td>\n",
       "      <td>2020-07-08</td>\n",
       "      <td>2020-07-08</td>\n",
       "      <td>4.350000</td>\n",
       "      <td>6.010408</td>\n",
       "      <td>2</td>\n",
       "      <td>8.7</td>\n",
       "    </tr>\n",
       "    <tr>\n",
       "      <th>1</th>\n",
       "      <td>40835</td>\n",
       "      <td>2020-09-02</td>\n",
       "      <td>2020-10-07</td>\n",
       "      <td>13.760000</td>\n",
       "      <td>11.251578</td>\n",
       "      <td>5</td>\n",
       "      <td>68.8</td>\n",
       "    </tr>\n",
       "    <tr>\n",
       "      <th>2</th>\n",
       "      <td>40839</td>\n",
       "      <td>2020-07-21</td>\n",
       "      <td>2020-10-11</td>\n",
       "      <td>18.408333</td>\n",
       "      <td>12.992909</td>\n",
       "      <td>60</td>\n",
       "      <td>1104.5</td>\n",
       "    </tr>\n",
       "  </tbody>\n",
       "</table>\n",
       "</div>"
      ],
      "text/plain": [
       "  User_ID first_listen_date last_listen_date  avg_duration_per_listen  \\\n",
       "0   40834        2020-07-08       2020-07-08                 4.350000   \n",
       "1   40835        2020-09-02       2020-10-07                13.760000   \n",
       "2   40839        2020-07-21       2020-10-11                18.408333   \n",
       "\n",
       "   std_avg_duration_per_listen  listen_cnt  total_listen_minute  \n",
       "0                     6.010408           2                  8.7  \n",
       "1                    11.251578           5                 68.8  \n",
       "2                    12.992909          60               1104.5  "
      ]
     },
     "execution_count": 99,
     "metadata": {},
     "output_type": "execute_result"
    }
   ],
   "source": [
    "listening_summary_df = listening_detail_df.groupby('User ID').agg(\n",
    "                    {\"Ngày phát sinh lượt nghe\":['min','max'],\n",
    "                     \"Thời lượng của lượt nghe (phút)\":[\"mean\",\"std\",'count','sum']\n",
    "                    }\n",
    "                ).reset_index()\n",
    "listening_summary_df.columns = ['User_ID','first_listen_date','last_listen_date','avg_duration_per_listen','std_avg_duration_per_listen','listen_cnt','total_listen_minute']\n",
    "listening_summary_df.head(3)"
   ]
  },
  {
   "cell_type": "code",
   "execution_count": 100,
   "metadata": {},
   "outputs": [
    {
     "data": {
      "text/html": [
       "<div>\n",
       "<style scoped>\n",
       "    .dataframe tbody tr th:only-of-type {\n",
       "        vertical-align: middle;\n",
       "    }\n",
       "\n",
       "    .dataframe tbody tr th {\n",
       "        vertical-align: top;\n",
       "    }\n",
       "\n",
       "    .dataframe thead th {\n",
       "        text-align: right;\n",
       "    }\n",
       "</style>\n",
       "<table border=\"1\" class=\"dataframe\">\n",
       "  <thead>\n",
       "    <tr style=\"text-align: right;\">\n",
       "      <th></th>\n",
       "      <th>User_ID</th>\n",
       "    </tr>\n",
       "  </thead>\n",
       "  <tbody>\n",
       "    <tr>\n",
       "      <th>0</th>\n",
       "      <td>40834</td>\n",
       "    </tr>\n",
       "    <tr>\n",
       "      <th>1</th>\n",
       "      <td>40835</td>\n",
       "    </tr>\n",
       "    <tr>\n",
       "      <th>2</th>\n",
       "      <td>40839</td>\n",
       "    </tr>\n",
       "  </tbody>\n",
       "</table>\n",
       "</div>"
      ],
      "text/plain": [
       "   User_ID\n",
       "0    40834\n",
       "1    40835\n",
       "2    40839"
      ]
     },
     "execution_count": 100,
     "metadata": {},
     "output_type": "execute_result"
    }
   ],
   "source": [
    "# Lấy user_id từ 2 bảng order_summary_df và listening_summary_df gộp vào 1 bảng\n",
    "user_cluster_df= pd.DataFrame(pd.concat(objs=[listening_summary_df['User_ID'],order_summary_df['User_ID']]).drop_duplicates().reset_index(drop=True))\n",
    "user_cluster_df.columns = [\"User_ID\"]\n",
    "user_cluster_df.head(3)"
   ]
  },
  {
   "cell_type": "markdown",
   "metadata": {},
   "source": [
    "### Nhận xét về dữ liệu:"
   ]
  },
  {
   "cell_type": "code",
   "execution_count": 60,
   "metadata": {},
   "outputs": [
    {
     "data": {
      "text/plain": [
       "0"
      ]
     },
     "execution_count": 60,
     "metadata": {},
     "output_type": "execute_result"
    }
   ],
   "source": [
    "da = listening_summary_df.join(order_summary_df[[\"User_ID\",\"revenue\"]].set_index(\"User_ID\"),on=\"User_ID\",how=\"outer\")\n",
    "da.loc[da[\"revenue\"] <= 0.0].shape[0]"
   ]
  },
  {
   "cell_type": "code",
   "execution_count": 77,
   "metadata": {},
   "outputs": [
    {
     "data": {
      "text/plain": [
       "93"
      ]
     },
     "execution_count": 77,
     "metadata": {},
     "output_type": "execute_result"
    }
   ],
   "source": [
    "t = da.loc[da['revenue'].isnull()]\n",
    "t[t['total_listen_minute'] == 0.0].shape[0]"
   ]
  },
  {
   "cell_type": "markdown",
   "metadata": {},
   "source": [
    "#### Summary:\n",
    "1. Ta chỉ xét những user đã có giao dịch hoặc những user đã sử dụng app (đã nghe sách): khoảng 27k users\n",
    "2. Trong đó, có:\n",
    "    * Những users đã thực hiện giao dịch đều có tổng giá trị giao dịch > 0.0\n",
    "    * 1% số lượng PAY users đã giao dịch(order) nhưng chưa nghe (nolisten) (chưa bấm nút nghe của bất kì playlist nào): 275 users\n",
    "    * 8.6% PAY users đã giao dịch và đã nghe (2363 users)\n",
    "    * Còn lại 90.4% FREE users đã nghe và CHƯA giao dịch (24820 users), trong đó có 93  free user có tổng thời gian nghe là 0.0 phút -chưa trải nghiệm playlist nào ()"
   ]
  },
  {
   "cell_type": "markdown",
   "metadata": {},
   "source": [
    "# CLUSTERING"
   ]
  },
  {
   "cell_type": "code",
   "execution_count": null,
   "metadata": {},
   "outputs": [],
   "source": [
    "## Ta đi từ bảng listenning và bảng order\n",
    "# Có 2 clustering DFM và RFM\n",
    "# D1: The listening duration / 1 listen(view) # độ lệch của dữ liệu\n",
    "# D2: The listening duration / a week\n",
    "# R: The lastest active day\n",
    "\n",
    "# F: số lượng lượt nghe/1 week\n",
    "# M : số tiền bỏ ra / 1 week"
   ]
  },
  {
   "cell_type": "code",
   "execution_count": 78,
   "metadata": {},
   "outputs": [],
   "source": [
    "# for Ebowl\n",
    "def find_sse(df, max_k):\n",
    "    sse = {}\n",
    "    for k in range(1, max_k):\n",
    "        kmeans = KMeans(n_clusters=k, max_iter=1000)\n",
    "        kmeans.fit(df)\n",
    "        df['clusters'] = kmeans.labels_\n",
    "        sse[k] = kmeans.inertia_\n",
    "    return sse\n",
    "   \n",
    "## function for ordering cluster numbers\n",
    "def order_cluster(cluster_field_name, target_field_name, df, ascending):\n",
    "    new_cluster_field_name = 'new_' + cluster_field_name\n",
    "    df_new = df.groupby(cluster_field_name)[target_field_name].mean().reset_index()\n",
    "    df_new = df_new.sort_values(by=target_field_name,ascending=ascending).reset_index(drop=True)\n",
    "    df_new['index'] = df_new.index\n",
    "    df_final = pd.merge(df,df_new[[cluster_field_name,'index']], on=cluster_field_name)\n",
    "    df_final = df_final.drop([cluster_field_name],axis=1)\n",
    "    df_final = df_final.rename(columns={\"index\":cluster_field_name})\n",
    "    return df_final"
   ]
  },
  {
   "cell_type": "markdown",
   "metadata": {},
   "source": [
    "## Calculate metrics"
   ]
  },
  {
   "cell_type": "code",
   "execution_count": null,
   "metadata": {},
   "outputs": [],
   "source": [
    "# D1: avg_duration_per_listen: thời lượng trung bình của 1 lượt nghe\n",
    "# D2: std_density: độ lệch của thời lương 1 lượt nghe\n",
    "# D3: avg_listen_duration_per_week: thời lượng nghe tb trong 1 tuần\n",
    "# R: The lastest listen day: lượt nghe gần nhất\n",
    "# F: avg_listen_cnt_per_week: số lượt nghe tb trong 1 tuần\n",
    "# M : avg_spending_per_week: số tiền bỏ ra / 1 week"
   ]
  },
  {
   "cell_type": "code",
   "execution_count": 101,
   "metadata": {},
   "outputs": [],
   "source": [
    "# user_cluster_df = user_cluster_df.join(order_summary_df.set_index(\"User_ID\"),on=\"User_ID\",how=\"outer\")\n",
    "user_cluster_df = user_cluster_df.join(listening_summary_df.set_index(\"User_ID\"),on=\"User_ID\",how=\"outer\")"
   ]
  },
  {
   "cell_type": "code",
   "execution_count": 130,
   "metadata": {},
   "outputs": [],
   "source": [
    "user_cluster_df = user_cluster_df.join(order_summary_df.set_index(\"User_ID\"),on=\"User_ID\",how=\"outer\")"
   ]
  },
  {
   "cell_type": "code",
   "execution_count": 131,
   "metadata": {},
   "outputs": [
    {
     "data": {
      "text/html": [
       "<div>\n",
       "<style scoped>\n",
       "    .dataframe tbody tr th:only-of-type {\n",
       "        vertical-align: middle;\n",
       "    }\n",
       "\n",
       "    .dataframe tbody tr th {\n",
       "        vertical-align: top;\n",
       "    }\n",
       "\n",
       "    .dataframe thead th {\n",
       "        text-align: right;\n",
       "    }\n",
       "</style>\n",
       "<table border=\"1\" class=\"dataframe\">\n",
       "  <thead>\n",
       "    <tr style=\"text-align: right;\">\n",
       "      <th></th>\n",
       "      <th>User_ID</th>\n",
       "      <th>first_listen_date</th>\n",
       "      <th>last_listen_date</th>\n",
       "      <th>avg_duration_per_listen</th>\n",
       "      <th>std_avg_duration_per_listen</th>\n",
       "      <th>listen_cnt</th>\n",
       "      <th>total_listen_minute</th>\n",
       "      <th>listen_week_cnt</th>\n",
       "      <th>bias_listen_week_cnt</th>\n",
       "      <th>min_purchase_date</th>\n",
       "      <th>max_purchase_date</th>\n",
       "      <th>order_cnt</th>\n",
       "      <th>revenue</th>\n",
       "    </tr>\n",
       "  </thead>\n",
       "  <tbody>\n",
       "    <tr>\n",
       "      <th>0</th>\n",
       "      <td>40834</td>\n",
       "      <td>2020-07-08</td>\n",
       "      <td>2020-07-08</td>\n",
       "      <td>4.350000</td>\n",
       "      <td>6.010408</td>\n",
       "      <td>2.0</td>\n",
       "      <td>8.7</td>\n",
       "      <td>0.000000</td>\n",
       "      <td>25.142857</td>\n",
       "      <td>NaT</td>\n",
       "      <td>NaT</td>\n",
       "      <td>NaN</td>\n",
       "      <td>NaN</td>\n",
       "    </tr>\n",
       "    <tr>\n",
       "      <th>1</th>\n",
       "      <td>40835</td>\n",
       "      <td>2020-09-02</td>\n",
       "      <td>2020-10-07</td>\n",
       "      <td>13.760000</td>\n",
       "      <td>11.251578</td>\n",
       "      <td>5.0</td>\n",
       "      <td>68.8</td>\n",
       "      <td>5.000000</td>\n",
       "      <td>17.142857</td>\n",
       "      <td>NaT</td>\n",
       "      <td>NaT</td>\n",
       "      <td>NaN</td>\n",
       "      <td>NaN</td>\n",
       "    </tr>\n",
       "    <tr>\n",
       "      <th>2</th>\n",
       "      <td>40839</td>\n",
       "      <td>2020-07-21</td>\n",
       "      <td>2020-10-11</td>\n",
       "      <td>18.408333</td>\n",
       "      <td>12.992909</td>\n",
       "      <td>60.0</td>\n",
       "      <td>1104.5</td>\n",
       "      <td>11.714286</td>\n",
       "      <td>23.285714</td>\n",
       "      <td>NaT</td>\n",
       "      <td>NaT</td>\n",
       "      <td>NaN</td>\n",
       "      <td>NaN</td>\n",
       "    </tr>\n",
       "  </tbody>\n",
       "</table>\n",
       "</div>"
      ],
      "text/plain": [
       "  User_ID first_listen_date last_listen_date  avg_duration_per_listen  \\\n",
       "0   40834        2020-07-08       2020-07-08                 4.350000   \n",
       "1   40835        2020-09-02       2020-10-07                13.760000   \n",
       "2   40839        2020-07-21       2020-10-11                18.408333   \n",
       "\n",
       "   std_avg_duration_per_listen  listen_cnt  total_listen_minute  \\\n",
       "0                     6.010408         2.0                  8.7   \n",
       "1                    11.251578         5.0                 68.8   \n",
       "2                    12.992909        60.0               1104.5   \n",
       "\n",
       "   listen_week_cnt  bias_listen_week_cnt min_purchase_date max_purchase_date  \\\n",
       "0         0.000000             25.142857               NaT               NaT   \n",
       "1         5.000000             17.142857               NaT               NaT   \n",
       "2        11.714286             23.285714               NaT               NaT   \n",
       "\n",
       "   order_cnt  revenue  \n",
       "0        NaN      NaN  \n",
       "1        NaN      NaN  \n",
       "2        NaN      NaN  "
      ]
     },
     "execution_count": 131,
     "metadata": {},
     "output_type": "execute_result"
    }
   ],
   "source": [
    "user_cluster_df.head(3)"
   ]
  },
  {
   "cell_type": "markdown",
   "metadata": {},
   "source": [
    "### 1. D1: avg_duration_per_listen: thời lượng trung bình của 1 lượt nghe (theo đơn vị phút)"
   ]
  },
  {
   "cell_type": "code",
   "execution_count": 110,
   "metadata": {},
   "outputs": [
    {
     "data": {
      "text/plain": [
       "(275, 27458)"
      ]
     },
     "execution_count": 110,
     "metadata": {},
     "output_type": "execute_result"
    }
   ],
   "source": [
    "user_cluster_df[\"avg_duration_per_listen\"].isnull().sum(),user_cluster_df.shape[0]\n",
    "\n",
    "# Có 275 user chưa nghe lần nào --> giá trị NaN"
   ]
  },
  {
   "cell_type": "code",
   "execution_count": 106,
   "metadata": {},
   "outputs": [
    {
     "data": {
      "text/plain": [
       "count    27183.000000\n",
       "mean        10.287329\n",
       "std         14.468284\n",
       "min          0.000000\n",
       "25%          1.733333\n",
       "50%          6.330328\n",
       "75%         13.833333\n",
       "max        535.300000\n",
       "Name: avg_duration_per_listen, dtype: float64"
      ]
     },
     "execution_count": 106,
     "metadata": {},
     "output_type": "execute_result"
    }
   ],
   "source": [
    "user_cluster_df[\"avg_duration_per_listen\"].describe()"
   ]
  },
  {
   "cell_type": "markdown",
   "metadata": {},
   "source": [
    "### 2. D2: std_ADPL: độ lệch của thời lương 1 lượt nghe"
   ]
  },
  {
   "cell_type": "code",
   "execution_count": 111,
   "metadata": {},
   "outputs": [
    {
     "name": "stderr",
     "output_type": "stream",
     "text": [
      "<ipython-input-111-4fce917944b4>:1: FutureWarning: Treating datetime data as categorical rather than numeric in `.describe` is deprecated and will be removed in a future version of pandas. Specify `datetime_is_numeric=True` to silence this warning and adopt the future behavior now.\n",
      "  user_cluster_df[\"last_listen_date\"].describe()\n"
     ]
    },
    {
     "data": {
      "text/plain": [
       "count                   27183\n",
       "unique                    184\n",
       "top       2020-12-31 00:00:00\n",
       "freq                     1295\n",
       "first     2020-07-01 00:00:00\n",
       "last      2020-12-31 00:00:00\n",
       "Name: last_listen_date, dtype: object"
      ]
     },
     "execution_count": 111,
     "metadata": {},
     "output_type": "execute_result"
    }
   ],
   "source": [
    "user_cluster_df[\"last_listen_date\"].describe()"
   ]
  },
  {
   "cell_type": "code",
   "execution_count": 109,
   "metadata": {},
   "outputs": [
    {
     "data": {
      "text/plain": [
       "27183"
      ]
     },
     "execution_count": 109,
     "metadata": {},
     "output_type": "execute_result"
    }
   ],
   "source": [
    "listening_summary_df.shape[0]"
   ]
  },
  {
   "cell_type": "markdown",
   "metadata": {},
   "source": [
    "### 3.Recency: The lastest listen day: lượt nghe gần nhất"
   ]
  },
  {
   "cell_type": "code",
   "execution_count": 114,
   "metadata": {},
   "outputs": [
    {
     "name": "stderr",
     "output_type": "stream",
     "text": [
      "<ipython-input-114-789ff42ff4d6>:1: FutureWarning: Treating datetime data as categorical rather than numeric in `.describe` is deprecated and will be removed in a future version of pandas. Specify `datetime_is_numeric=True` to silence this warning and adopt the future behavior now.\n",
      "  user_cluster_df[\"last_listen_date\"].describe(include = \"all\")\n"
     ]
    },
    {
     "data": {
      "text/plain": [
       "count                   27183\n",
       "unique                    184\n",
       "top       2020-12-31 00:00:00\n",
       "freq                     1295\n",
       "first     2020-07-01 00:00:00\n",
       "last      2020-12-31 00:00:00\n",
       "Name: last_listen_date, dtype: object"
      ]
     },
     "execution_count": 114,
     "metadata": {},
     "output_type": "execute_result"
    }
   ],
   "source": [
    "user_cluster_df[\"last_listen_date\"].describe(include = \"all\")"
   ]
  },
  {
   "cell_type": "code",
   "execution_count": 115,
   "metadata": {},
   "outputs": [
    {
     "data": {
      "text/plain": [
       "(275, 27458)"
      ]
     },
     "execution_count": 115,
     "metadata": {},
     "output_type": "execute_result"
    }
   ],
   "source": [
    "user_cluster_df[\"last_listen_date\"].isnull().sum(),user_cluster_df.shape[0]\n",
    "\n",
    "# Có 275 user ko có last_listen_date --> giá trị NaN"
   ]
  },
  {
   "cell_type": "markdown",
   "metadata": {},
   "source": [
    "### 4. Frequency: avg_listen_cnt_per_week: số lượt nghe tb trong 1 tuần"
   ]
  },
  {
   "cell_type": "code",
   "execution_count": 121,
   "metadata": {},
   "outputs": [
    {
     "data": {
      "text/plain": [
       "10846"
      ]
     },
     "execution_count": 121,
     "metadata": {},
     "output_type": "execute_result"
    }
   ],
   "source": [
    "user_cluster_df['listen_week_cnt'] = (user_cluster_df['last_listen_date']- user_cluster_df['first_listen_date']).dt.days/7\n",
    "user_cluster_df[user_cluster_df['listen_week_cnt'] == 0.0].shape[0]\n",
    "\n",
    "# có 10846 users chỉ sử nghe trong 1 ngày nên 'listen_week_cnt' = 0"
   ]
  },
  {
   "cell_type": "code",
   "execution_count": 124,
   "metadata": {},
   "outputs": [
    {
     "data": {
      "text/plain": [
       "275"
      ]
     },
     "execution_count": 124,
     "metadata": {},
     "output_type": "execute_result"
    }
   ],
   "source": [
    "user_cluster_df['listen_week_cnt'].isnull().sum()\n",
    "\n",
    "# có 275 user có giá trị này bằng NaN --> 0"
   ]
  },
  {
   "cell_type": "code",
   "execution_count": 126,
   "metadata": {},
   "outputs": [
    {
     "data": {
      "text/plain": [
       "214"
      ]
     },
     "execution_count": 126,
     "metadata": {},
     "output_type": "execute_result"
    }
   ],
   "source": [
    "maxListenDate = user_cluster_df['last_listen_date'].max()\n",
    "user_cluster_df['bias_listen_week_cnt'] = (maxListenDate- user_cluster_df['first_listen_date']).dt.days/7\n",
    "user_cluster_df[user_cluster_df['bias_listen_week_cnt'] == 0.0].shape[0]\n",
    "\n",
    "# có 214 users vừa bắt đầu nghe ở ngày cuối cùng của tập dữ liệu nghe nên 'bias_listen_week_cnt' = 0"
   ]
  },
  {
   "cell_type": "code",
   "execution_count": 127,
   "metadata": {},
   "outputs": [
    {
     "data": {
      "text/plain": [
       "275"
      ]
     },
     "execution_count": 127,
     "metadata": {},
     "output_type": "execute_result"
    }
   ],
   "source": [
    "user_cluster_df['bias_listen_week_cnt'].isnull().sum()\n",
    "\n",
    "# có 275 user có giá trị này bằng NaN --> 0"
   ]
  },
  {
   "cell_type": "markdown",
   "metadata": {},
   "source": [
    "### 5. Monetary : avg_spending_per_week: số tiền bỏ ra / 1 week"
   ]
  },
  {
   "cell_type": "code",
   "execution_count": 132,
   "metadata": {},
   "outputs": [
    {
     "data": {
      "text/plain": [
       "Index(['User_ID', 'first_listen_date', 'last_listen_date',\n",
       "       'avg_duration_per_listen', 'std_avg_duration_per_listen', 'listen_cnt',\n",
       "       'total_listen_minute', 'listen_week_cnt', 'bias_listen_week_cnt',\n",
       "       'min_purchase_date', 'max_purchase_date', 'order_cnt', 'revenue'],\n",
       "      dtype='object')"
      ]
     },
     "execution_count": 132,
     "metadata": {},
     "output_type": "execute_result"
    }
   ],
   "source": [
    "user_cluster_df.columns"
   ]
  },
  {
   "cell_type": "code",
   "execution_count": 133,
   "metadata": {},
   "outputs": [
    {
     "data": {
      "text/plain": [
       "2148"
      ]
     },
     "execution_count": 133,
     "metadata": {},
     "output_type": "execute_result"
    }
   ],
   "source": [
    "user_cluster_df['order_week_cnt'] = (user_cluster_df['max_purchase_date']- user_cluster_df['min_purchase_date']).dt.days/7\n",
    "user_cluster_df[user_cluster_df['order_week_cnt'] == 0.0].shape[0]\n",
    "\n",
    "# có 2148 users chỉ sử nghe trong 1 ngày nên 'listen_week_cnt' = 0"
   ]
  },
  {
   "cell_type": "code",
   "execution_count": 134,
   "metadata": {},
   "outputs": [
    {
     "data": {
      "text/plain": [
       "24820"
      ]
     },
     "execution_count": 134,
     "metadata": {},
     "output_type": "execute_result"
    }
   ],
   "source": [
    "user_cluster_df['order_week_cnt'].isnull().sum()\n",
    "\n",
    "# có 24820 users ko đặt hàng"
   ]
  },
  {
   "cell_type": "code",
   "execution_count": 135,
   "metadata": {},
   "outputs": [
    {
     "data": {
      "text/plain": [
       "29"
      ]
     },
     "execution_count": 135,
     "metadata": {},
     "output_type": "execute_result"
    }
   ],
   "source": [
    "maxPurchaseDate = user_cluster_df['max_purchase_date'].max()\n",
    "user_cluster_df['bias_order_week_cnt'] = (maxListenDate- user_cluster_df['min_purchase_date']).dt.days/7\n",
    "user_cluster_df[user_cluster_df['bias_order_week_cnt'] == 0.0].shape[0]"
   ]
  },
  {
   "cell_type": "code",
   "execution_count": 136,
   "metadata": {},
   "outputs": [
    {
     "data": {
      "text/html": [
       "<div>\n",
       "<style scoped>\n",
       "    .dataframe tbody tr th:only-of-type {\n",
       "        vertical-align: middle;\n",
       "    }\n",
       "\n",
       "    .dataframe tbody tr th {\n",
       "        vertical-align: top;\n",
       "    }\n",
       "\n",
       "    .dataframe thead th {\n",
       "        text-align: right;\n",
       "    }\n",
       "</style>\n",
       "<table border=\"1\" class=\"dataframe\">\n",
       "  <thead>\n",
       "    <tr style=\"text-align: right;\">\n",
       "      <th></th>\n",
       "      <th>User_ID</th>\n",
       "      <th>first_listen_date</th>\n",
       "      <th>last_listen_date</th>\n",
       "      <th>avg_duration_per_listen</th>\n",
       "      <th>std_avg_duration_per_listen</th>\n",
       "      <th>listen_cnt</th>\n",
       "      <th>total_listen_minute</th>\n",
       "      <th>listen_week_cnt</th>\n",
       "      <th>bias_listen_week_cnt</th>\n",
       "      <th>min_purchase_date</th>\n",
       "      <th>max_purchase_date</th>\n",
       "      <th>order_cnt</th>\n",
       "      <th>revenue</th>\n",
       "      <th>order_week_cnt</th>\n",
       "      <th>bias_order_week_cnt</th>\n",
       "    </tr>\n",
       "  </thead>\n",
       "  <tbody>\n",
       "    <tr>\n",
       "      <th>0</th>\n",
       "      <td>40834</td>\n",
       "      <td>2020-07-08</td>\n",
       "      <td>2020-07-08</td>\n",
       "      <td>4.350000</td>\n",
       "      <td>6.010408</td>\n",
       "      <td>2.0</td>\n",
       "      <td>8.7</td>\n",
       "      <td>0.000000</td>\n",
       "      <td>25.142857</td>\n",
       "      <td>NaT</td>\n",
       "      <td>NaT</td>\n",
       "      <td>NaN</td>\n",
       "      <td>NaN</td>\n",
       "      <td>NaN</td>\n",
       "      <td>NaN</td>\n",
       "    </tr>\n",
       "    <tr>\n",
       "      <th>1</th>\n",
       "      <td>40835</td>\n",
       "      <td>2020-09-02</td>\n",
       "      <td>2020-10-07</td>\n",
       "      <td>13.760000</td>\n",
       "      <td>11.251578</td>\n",
       "      <td>5.0</td>\n",
       "      <td>68.8</td>\n",
       "      <td>5.000000</td>\n",
       "      <td>17.142857</td>\n",
       "      <td>NaT</td>\n",
       "      <td>NaT</td>\n",
       "      <td>NaN</td>\n",
       "      <td>NaN</td>\n",
       "      <td>NaN</td>\n",
       "      <td>NaN</td>\n",
       "    </tr>\n",
       "    <tr>\n",
       "      <th>2</th>\n",
       "      <td>40839</td>\n",
       "      <td>2020-07-21</td>\n",
       "      <td>2020-10-11</td>\n",
       "      <td>18.408333</td>\n",
       "      <td>12.992909</td>\n",
       "      <td>60.0</td>\n",
       "      <td>1104.5</td>\n",
       "      <td>11.714286</td>\n",
       "      <td>23.285714</td>\n",
       "      <td>NaT</td>\n",
       "      <td>NaT</td>\n",
       "      <td>NaN</td>\n",
       "      <td>NaN</td>\n",
       "      <td>NaN</td>\n",
       "      <td>NaN</td>\n",
       "    </tr>\n",
       "  </tbody>\n",
       "</table>\n",
       "</div>"
      ],
      "text/plain": [
       "  User_ID first_listen_date last_listen_date  avg_duration_per_listen  \\\n",
       "0   40834        2020-07-08       2020-07-08                 4.350000   \n",
       "1   40835        2020-09-02       2020-10-07                13.760000   \n",
       "2   40839        2020-07-21       2020-10-11                18.408333   \n",
       "\n",
       "   std_avg_duration_per_listen  listen_cnt  total_listen_minute  \\\n",
       "0                     6.010408         2.0                  8.7   \n",
       "1                    11.251578         5.0                 68.8   \n",
       "2                    12.992909        60.0               1104.5   \n",
       "\n",
       "   listen_week_cnt  bias_listen_week_cnt min_purchase_date max_purchase_date  \\\n",
       "0         0.000000             25.142857               NaT               NaT   \n",
       "1         5.000000             17.142857               NaT               NaT   \n",
       "2        11.714286             23.285714               NaT               NaT   \n",
       "\n",
       "   order_cnt  revenue  order_week_cnt  bias_order_week_cnt  \n",
       "0        NaN      NaN             NaN                  NaN  \n",
       "1        NaN      NaN             NaN                  NaN  \n",
       "2        NaN      NaN             NaN                  NaN  "
      ]
     },
     "execution_count": 136,
     "metadata": {},
     "output_type": "execute_result"
    }
   ],
   "source": [
    "user_cluster_df.head(3)"
   ]
  },
  {
   "cell_type": "code",
   "execution_count": null,
   "metadata": {},
   "outputs": [],
   "source": []
  },
  {
   "cell_type": "markdown",
   "metadata": {},
   "source": [
    "## DFM CLUSTERING (duration - frequency - monetary)"
   ]
  },
  {
   "cell_type": "markdown",
   "metadata": {},
   "source": [
    "### Duration:  The avg listening duration / 1 listen(view)"
   ]
  },
  {
   "cell_type": "code",
   "execution_count": null,
   "metadata": {},
   "outputs": [],
   "source": [
    "#### 1. Calculate D"
   ]
  },
  {
   "cell_type": "markdown",
   "metadata": {},
   "source": [
    "#### 2. Determine K for D"
   ]
  },
  {
   "cell_type": "code",
   "execution_count": 65,
   "metadata": {},
   "outputs": [
    {
     "data": {
      "image/png": "[encoded data removed]",
      "text/plain": [
       "<Figure size 432x288 with 1 Axes>"
      ]
     },
     "metadata": {
      "needs_background": "light"
     },
     "output_type": "display_data"
    }
   ],
   "source": [
    "# ## Elbow Method to determine K\n",
    "\n",
    "# sse = find_sse(listening_summary_df.loc[:,['DFM_Duration_per_view']], max_k = 10) \n",
    "\n",
    "# plt.figure()\n",
    "# plt.plot(list(sse.keys()),list(sse.values()))\n",
    "# plt.xlabel(\"Number of clusters\")\n",
    "# plt.show() \n",
    "\n",
    "# # Optimal K=5\n",
    "# ## Choose the k of Recency_clusters = 3\n",
    "# ## 1st: 'active', 2st: 'sleep', 3rd: 'hibernate'"
   ]
  },
  {
   "cell_type": "markdown",
   "metadata": {},
   "source": [
    "#### 3. Duration Clustering"
   ]
  },
  {
   "cell_type": "code",
   "execution_count": 126,
   "metadata": {},
   "outputs": [
    {
     "data": {
      "text/html": [
       "<div>\n",
       "<style scoped>\n",
       "    .dataframe tbody tr th:only-of-type {\n",
       "        vertical-align: middle;\n",
       "    }\n",
       "\n",
       "    .dataframe tbody tr th {\n",
       "        vertical-align: top;\n",
       "    }\n",
       "\n",
       "    .dataframe thead th {\n",
       "        text-align: right;\n",
       "    }\n",
       "</style>\n",
       "<table border=\"1\" class=\"dataframe\">\n",
       "  <thead>\n",
       "    <tr style=\"text-align: right;\">\n",
       "      <th></th>\n",
       "      <th>count</th>\n",
       "      <th>mean</th>\n",
       "      <th>std</th>\n",
       "      <th>min</th>\n",
       "      <th>25%</th>\n",
       "      <th>50%</th>\n",
       "      <th>75%</th>\n",
       "      <th>max</th>\n",
       "    </tr>\n",
       "    <tr>\n",
       "      <th>DFM_DurationCluster</th>\n",
       "      <th></th>\n",
       "      <th></th>\n",
       "      <th></th>\n",
       "      <th></th>\n",
       "      <th></th>\n",
       "      <th></th>\n",
       "      <th></th>\n",
       "      <th></th>\n",
       "    </tr>\n",
       "  </thead>\n",
       "  <tbody>\n",
       "    <tr>\n",
       "      <th>0</th>\n",
       "      <td>17148.0</td>\n",
       "      <td>3.451987</td>\n",
       "      <td>2.855969</td>\n",
       "      <td>0.000000</td>\n",
       "      <td>0.900000</td>\n",
       "      <td>2.580000</td>\n",
       "      <td>5.689708</td>\n",
       "      <td>9.747619</td>\n",
       "    </tr>\n",
       "    <tr>\n",
       "      <th>1</th>\n",
       "      <td>7973.0</td>\n",
       "      <td>16.073797</td>\n",
       "      <td>4.713608</td>\n",
       "      <td>9.750000</td>\n",
       "      <td>12.083721</td>\n",
       "      <td>15.055556</td>\n",
       "      <td>19.408333</td>\n",
       "      <td>27.354839</td>\n",
       "    </tr>\n",
       "    <tr>\n",
       "      <th>2</th>\n",
       "      <td>1897.0</td>\n",
       "      <td>38.723402</td>\n",
       "      <td>9.989065</td>\n",
       "      <td>27.358333</td>\n",
       "      <td>30.716783</td>\n",
       "      <td>35.540816</td>\n",
       "      <td>44.336364</td>\n",
       "      <td>69.500000</td>\n",
       "    </tr>\n",
       "    <tr>\n",
       "      <th>3</th>\n",
       "      <td>157.0</td>\n",
       "      <td>101.144128</td>\n",
       "      <td>33.676878</td>\n",
       "      <td>70.040000</td>\n",
       "      <td>75.842857</td>\n",
       "      <td>87.500000</td>\n",
       "      <td>115.100000</td>\n",
       "      <td>211.821739</td>\n",
       "    </tr>\n",
       "    <tr>\n",
       "      <th>4</th>\n",
       "      <td>8.0</td>\n",
       "      <td>368.937553</td>\n",
       "      <td>106.769120</td>\n",
       "      <td>245.500000</td>\n",
       "      <td>298.620833</td>\n",
       "      <td>324.405556</td>\n",
       "      <td>436.571154</td>\n",
       "      <td>535.300000</td>\n",
       "    </tr>\n",
       "  </tbody>\n",
       "</table>\n",
       "</div>"
      ],
      "text/plain": [
       "                       count        mean         std         min         25%  \\\n",
       "DFM_DurationCluster                                                            \n",
       "0                    17148.0    3.451987    2.855969    0.000000    0.900000   \n",
       "1                     7973.0   16.073797    4.713608    9.750000   12.083721   \n",
       "2                     1897.0   38.723402    9.989065   27.358333   30.716783   \n",
       "3                      157.0  101.144128   33.676878   70.040000   75.842857   \n",
       "4                        8.0  368.937553  106.769120  245.500000  298.620833   \n",
       "\n",
       "                            50%         75%         max  \n",
       "DFM_DurationCluster                                      \n",
       "0                      2.580000    5.689708    9.747619  \n",
       "1                     15.055556   19.408333   27.354839  \n",
       "2                     35.540816   44.336364   69.500000  \n",
       "3                     87.500000  115.100000  211.821739  \n",
       "4                    324.405556  436.571154  535.300000  "
      ]
     },
     "execution_count": 126,
     "metadata": {},
     "output_type": "execute_result"
    }
   ],
   "source": [
    "# ## k-means = 5\n",
    "# kmeans = KMeans(n_clusters=5)\n",
    "# kmeans.fit(listening_summary_df[['DFM_Duration_per_view']])\n",
    "# listening_summary_df['DFM_DurationCluster'] = kmeans.predict(listening_summary_df[['DFM_Duration_per_view']])\n",
    "\n",
    "# listening_summary_df = order_cluster('DFM_DurationCluster', 'DFM_Duration_per_view',listening_summary_df,True)\n",
    "# listening_summary_df.groupby('DFM_DurationCluster')['DFM_Duration_per_view'].describe()\n",
    "\n",
    "# ## see details of each cluster - Thời lượng (phút) của 1 lượt nghe"
   ]
  },
  {
   "cell_type": "markdown",
   "metadata": {},
   "source": [
    "### Frequency - the average number of listening per week"
   ]
  },
  {
   "cell_type": "markdown",
   "metadata": {},
   "source": [
    "#### 1.CALCULATE Frequency"
   ]
  },
  {
   "cell_type": "code",
   "execution_count": 128,
   "metadata": {},
   "outputs": [
    {
     "data": {
      "text/plain": [
       "0"
      ]
     },
     "execution_count": 128,
     "metadata": {},
     "output_type": "execute_result"
    }
   ],
   "source": [
    "# # Tính số week đã trôi qua từ lần nghe đầu tiên đến lần nghe cuối cùng max của toàn bộ tập dữ liệu\n",
    "\n",
    "# maxListenDate = listening_summary_df['last_listen_date'].max()\n",
    "# listening_summary_df['DFM_week_cnt'] = listening_summary_df['first_listen_date'].map(\n",
    "#                                 lambda x: 1 if x == maxListenDate else round((maxListenDate - x).days/7 + 0.4,0))\n",
    "\n",
    "# listening_summary_df[listening_summary_df['DFM_week_cnt'] == 0].shape[0]\n",
    "\n",
    "# # Số user có DFM_Week_cnt bằng 0:"
   ]
  },
  {
   "cell_type": "code",
   "execution_count": 129,
   "metadata": {},
   "outputs": [
    {
     "data": {
      "text/plain": [
       "count    27183.000000\n",
       "mean         4.468839\n",
       "std          9.715813\n",
       "min          0.038462\n",
       "25%          0.375000\n",
       "50%          1.222222\n",
       "75%          4.142857\n",
       "max        435.000000\n",
       "Name: DFM_Frequency, dtype: float64"
      ]
     },
     "execution_count": 129,
     "metadata": {},
     "output_type": "execute_result"
    }
   ],
   "source": [
    "# listening_summary_df['DFM_Frequency'] = listening_summary_df['listen_cnt']/listening_summary_df['DFM_week_cnt']\n",
    "# listening_summary_df['DFM_Frequency'] .describe()\n",
    "\n",
    "#Chi tiết Frequency"
   ]
  },
  {
   "cell_type": "code",
   "execution_count": 73,
   "metadata": {},
   "outputs": [
    {
     "data": {
      "text/plain": [
       "<AxesSubplot:xlabel='DFM_Frequency', ylabel='Count'>"
      ]
     },
     "execution_count": 73,
     "metadata": {},
     "output_type": "execute_result"
    },
    {
     "data": {
      "image/png": "[encoded data removed]",
      "text/plain": [
       "<Figure size 432x288 with 1 Axes>"
      ]
     },
     "metadata": {
      "needs_background": "light"
     },
     "output_type": "display_data"
    }
   ],
   "source": [
    "## plot a recency histogram\n",
    "sns.histplot(data=listening_summary_df,x='DFM_Frequency')"
   ]
  },
  {
   "cell_type": "markdown",
   "metadata": {},
   "source": [
    "#### 2.DETERMINE K"
   ]
  },
  {
   "cell_type": "code",
   "execution_count": 130,
   "metadata": {},
   "outputs": [
    {
     "data": {
      "image/png": "[encoded data removed]",
      "text/plain": [
       "<Figure size 432x288 with 1 Axes>"
      ]
     },
     "metadata": {
      "needs_background": "light"
     },
     "output_type": "display_data"
    }
   ],
   "source": [
    "# ## Elbow Method to determine K\n",
    "\n",
    "# sse = find_sse(listening_summary_df.loc[:,['DFM_Frequency']], max_k = 10) \n",
    "\n",
    "# plt.figure()\n",
    "# plt.plot(list(sse.keys()),list(sse.values()))\n",
    "# plt.xlabel(\"Number of clusters\")\n",
    "# plt.show() \n",
    "\n",
    "# # Optimal K=5"
   ]
  },
  {
   "cell_type": "markdown",
   "metadata": {},
   "source": [
    "#### 3.CLUSTERING"
   ]
  },
  {
   "cell_type": "code",
   "execution_count": 131,
   "metadata": {},
   "outputs": [
    {
     "data": {
      "text/html": [
       "<div>\n",
       "<style scoped>\n",
       "    .dataframe tbody tr th:only-of-type {\n",
       "        vertical-align: middle;\n",
       "    }\n",
       "\n",
       "    .dataframe tbody tr th {\n",
       "        vertical-align: top;\n",
       "    }\n",
       "\n",
       "    .dataframe thead th {\n",
       "        text-align: right;\n",
       "    }\n",
       "</style>\n",
       "<table border=\"1\" class=\"dataframe\">\n",
       "  <thead>\n",
       "    <tr style=\"text-align: right;\">\n",
       "      <th></th>\n",
       "      <th>count</th>\n",
       "      <th>mean</th>\n",
       "      <th>std</th>\n",
       "      <th>min</th>\n",
       "      <th>25%</th>\n",
       "      <th>50%</th>\n",
       "      <th>75%</th>\n",
       "      <th>max</th>\n",
       "    </tr>\n",
       "    <tr>\n",
       "      <th>DFM_FrequencyCluster</th>\n",
       "      <th></th>\n",
       "      <th></th>\n",
       "      <th></th>\n",
       "      <th></th>\n",
       "      <th></th>\n",
       "      <th></th>\n",
       "      <th></th>\n",
       "      <th></th>\n",
       "    </tr>\n",
       "  </thead>\n",
       "  <tbody>\n",
       "    <tr>\n",
       "      <th>0</th>\n",
       "      <td>22399.0</td>\n",
       "      <td>1.473384</td>\n",
       "      <td>1.570671</td>\n",
       "      <td>0.038462</td>\n",
       "      <td>0.294118</td>\n",
       "      <td>0.875</td>\n",
       "      <td>2.040064</td>\n",
       "      <td>6.636364</td>\n",
       "    </tr>\n",
       "    <tr>\n",
       "      <th>1</th>\n",
       "      <td>3576.0</td>\n",
       "      <td>11.802424</td>\n",
       "      <td>3.976034</td>\n",
       "      <td>6.642857</td>\n",
       "      <td>8.333333</td>\n",
       "      <td>11.000</td>\n",
       "      <td>14.600000</td>\n",
       "      <td>21.210526</td>\n",
       "    </tr>\n",
       "    <tr>\n",
       "      <th>2</th>\n",
       "      <td>990.0</td>\n",
       "      <td>30.684228</td>\n",
       "      <td>7.261431</td>\n",
       "      <td>21.250000</td>\n",
       "      <td>24.600000</td>\n",
       "      <td>29.000</td>\n",
       "      <td>35.500000</td>\n",
       "      <td>49.714286</td>\n",
       "    </tr>\n",
       "    <tr>\n",
       "      <th>3</th>\n",
       "      <td>215.0</td>\n",
       "      <td>69.150140</td>\n",
       "      <td>18.374953</td>\n",
       "      <td>50.000000</td>\n",
       "      <td>55.666667</td>\n",
       "      <td>64.000</td>\n",
       "      <td>76.555556</td>\n",
       "      <td>162.000000</td>\n",
       "    </tr>\n",
       "    <tr>\n",
       "      <th>4</th>\n",
       "      <td>3.0</td>\n",
       "      <td>341.333333</td>\n",
       "      <td>89.790497</td>\n",
       "      <td>256.000000</td>\n",
       "      <td>294.500000</td>\n",
       "      <td>333.000</td>\n",
       "      <td>384.000000</td>\n",
       "      <td>435.000000</td>\n",
       "    </tr>\n",
       "  </tbody>\n",
       "</table>\n",
       "</div>"
      ],
      "text/plain": [
       "                        count        mean        std         min         25%  \\\n",
       "DFM_FrequencyCluster                                                           \n",
       "0                     22399.0    1.473384   1.570671    0.038462    0.294118   \n",
       "1                      3576.0   11.802424   3.976034    6.642857    8.333333   \n",
       "2                       990.0   30.684228   7.261431   21.250000   24.600000   \n",
       "3                       215.0   69.150140  18.374953   50.000000   55.666667   \n",
       "4                         3.0  341.333333  89.790497  256.000000  294.500000   \n",
       "\n",
       "                          50%         75%         max  \n",
       "DFM_FrequencyCluster                                   \n",
       "0                       0.875    2.040064    6.636364  \n",
       "1                      11.000   14.600000   21.210526  \n",
       "2                      29.000   35.500000   49.714286  \n",
       "3                      64.000   76.555556  162.000000  \n",
       "4                     333.000  384.000000  435.000000  "
      ]
     },
     "execution_count": 131,
     "metadata": {},
     "output_type": "execute_result"
    }
   ],
   "source": [
    "# ## k-means = 5\n",
    "# kmeans = KMeans(n_clusters=5)\n",
    "# kmeans.fit(listening_summary_df[['DFM_Frequency']])\n",
    "# listening_summary_df['DFM_FrequencyCluster'] = kmeans.predict(listening_summary_df[['DFM_Frequency']])\n",
    "\n",
    "# listening_summary_df = order_cluster('DFM_FrequencyCluster', 'DFM_Frequency',listening_summary_df,True)\n",
    "\n",
    "# ## see details of each cluster\n",
    "# listening_summary_df.groupby('DFM_FrequencyCluster')['DFM_Frequency'].describe()\n",
    "\n",
    "# ## Frequency Cluster - số lần nghe/ 1 tuần\n"
   ]
  },
  {
   "cell_type": "markdown",
   "metadata": {},
   "source": [
    "### Monetary - the average of money users spend on listening for a week "
   ]
  },
  {
   "cell_type": "markdown",
   "metadata": {},
   "source": [
    "#### Xử lý dữ liệu NaN"
   ]
  },
  {
   "cell_type": "code",
   "execution_count": 210,
   "metadata": {},
   "outputs": [
    {
     "data": {
      "text/plain": [
       "368"
      ]
     },
     "execution_count": 210,
     "metadata": {},
     "output_type": "execute_result"
    }
   ],
   "source": [
    "# # 1. DFM_Duration_per_view: NaN --> 0\n",
    "# dfm_user_df.loc[dfm_user_df[\"DFM_Duration_per_view\"].isnull(),[\"DFM_Duration_per_view\"]] = 0.0\n",
    "# dfm_user_df[dfm_user_df[\"DFM_Duration_per_view\"]== 0.0].shape[0]"
   ]
  },
  {
   "cell_type": "markdown",
   "metadata": {},
   "source": [
    "#### 1. CALCULATE  the average of money paid for a week"
   ]
  },
  {
   "cell_type": "code",
   "execution_count": null,
   "metadata": {},
   "outputs": [],
   "source": [
    "# 3. revenue:\n",
    "## 1. revenue NaN --> DFM_Monetary = 0 : Nghe miễn phí\n",
    "## 2. DFM_Duration_per_view == 0 & revenue != 0 --> DFM_Monetary = revenue : sẵn sàng trả tiền nhưng chưa nghe\n",
    "## 3. DFM_Duration_per_view != 0 & revenue != 0 --> DFM_Monetary = revenue/week_cnt sẵn sàng trả tiền và có nghe"
   ]
  },
  {
   "cell_type": "markdown",
   "metadata": {},
   "source": [
    "### DETERMINE K"
   ]
  },
  {
   "cell_type": "markdown",
   "metadata": {},
   "source": [
    "### CLUSTERING"
   ]
  }
 ],
 "metadata": {
  "kernelspec": {
   "display_name": "Python 3",
   "language": "python",
   "name": "python3"
  },
  "language_info": {
   "codemirror_mode": {
    "name": "ipython",
    "version": 3
   },
   "file_extension": ".py",
   "mimetype": "text/x-python",
   "name": "python",
   "nbconvert_exporter": "python",
   "pygments_lexer": "ipython3",
   "version": "3.8.5"
  }
 },
 "nbformat": 4,
 "nbformat_minor": 4
}
